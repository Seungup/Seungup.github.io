{
 "cells": [
  {
   "cell_type": "code",
   "execution_count": 2,
   "metadata": {},
   "outputs": [
    {
     "name": "stderr",
     "output_type": "stream",
     "text": [
      "Using TensorFlow backend.\n"
     ]
    },
    {
     "data": {
      "text/plain": [
       "(42000, 785)"
      ]
     },
     "execution_count": 2,
     "metadata": {},
     "output_type": "execute_result"
    }
   ],
   "source": [
    "import pandas as pd\n",
    "import numpy as np\n",
    "import keras\n",
    "import tensorflow as tf \n",
    "\n",
    "train_df = pd.read_csv(\"https://storage.googleapis.com/kaggle-competitions-data/kaggle/3004/train.csv?GoogleAccessId=web-data@kaggle-161607.iam.gserviceaccount.com&Expires=1527922704&Signature=ABIBMpRUAsvD97%2FpOGe0Ch7%2F3ytIrGGgLrSIRkv6Q2X5%2BRaiueFBRSRuCUdiVIqeHa4sXdD0ML37qI0ybx%2FaS5Z3NnYWj9N2c6%2B6JYzjl12ebZzrqblAPXDjBiIVSNO6ygiV4i9GBwn0cQB1cZtysQhsWUtAqPmfgnXnepmbvcmDn2kG78qFxhkNm78Opva52vigptri%2F08byHP7DTgEB6778%2FKSAwdJw5nHH8nj9M7x263mqj01ct6D0o5PLpV%2FbGSQf8kZM3q5kGT1KhaIbh%2FAtz2wAN4brFtB%2Fvznyvbuqx%2BK%2FWR%2FGSvYnQ1AaRcWwHeMCRpCmIgT2dfCq29WLQ%3D%3D\") \n",
    "test_df = pd.read_csv(\"https://storage.googleapis.com/kaggle-competitions-data/kaggle/3004/test.csv?GoogleAccessId=web-data@kaggle-161607.iam.gserviceaccount.com&Expires=1527922522&Signature=R%2BCLwbq0LUF5tZ%2BowcWPnJOTfkCo5xNB%2BxQNFoAPlsrqyM8PanUsgU3%2FcfFrMv86U6oMHsWup2vuVjD61ekG8NphsiEEFamBb3whTaA%2BdEBVdL2cscyaES4sJPAIGTU1x%2BYcsvjbGuxdFR8y6oi31Ar42pAicoW%2B0lz1HLeQeo86lksOaj3fXjRqWKWD34rqNqKt04HoYepzOgSZqI4hAFHoAyoT%2F4oC7Nx%2BakA4mJTzOCs%2BmlH4z08SsevZ%2BBnvqZGrS3NfquqxhyFONfL6lPOH8cr1%2BxiaT1E5tTqs74Zo%2BKbQLJp6so1QGNI89UFl6NiVIZFPhULeXZ7%2BatpiZw%3D%3D\")"
   ]
  },
  {
   "cell_type": "code",
   "execution_count": 35,
   "metadata": {},
   "outputs": [
    {
     "name": "stdout",
     "output_type": "stream",
     "text": [
      "hidden_layer_size: [10, 10]\n",
      "train accuracy: 91.27%, test accuracy: 88.73%\n",
      "-----------------\n",
      "hidden_layer_size: [10, 20, 10]\n",
      "train accuracy: 94.61%, test accuracy: 91.24%\n",
      "-----------------\n",
      "hidden_layer_size: [10, 80, 240, 80, 10]\n",
      "train accuracy: 96.34%, test accuracy: 92.65%\n",
      "-----------------\n",
      "hidden_layer_size: [10, 20, 40, 80, 40, 20, 10]\n",
      "train accuracy: 96.73%, test accuracy: 92.60%\n",
      "-----------------\n",
      "hidden_layer_size: [10, 20, 40, 80, 160, 80, 40, 20, 10]\n",
      "train accuracy: 96.98%, test accuracy: 93.29%\n",
      "-----------------\n",
      "hidden_layer_size: [10, 80, 240, 960, 240, 80, 10]\n",
      "train accuracy: 96.83%, test accuracy: 92.52%\n",
      "-----------------\n",
      "hidden_layer_size: [10, 80, 240, 480, 960, 480, 240, 80, 10]\n",
      "train accuracy: 93.98%, test accuracy: 90.95%\n",
      "-----------------\n"
     ]
    }
   ],
   "source": [
    "from sklearn.model_selection import train_test_split\n",
    "from sklearn.neural_network import MLPClassifier\n",
    "from sklearn.metrics import accuracy_score\n",
    "\n",
    "def print_accuracy(clf):\n",
    "    X = train_df[train_df.columns[1:]]\n",
    "    Y = train_df['label']\n",
    "    \n",
    "    x_train, x_test, y_train, y_test = train_test_split(X, Y, test_size = 0.3, random_state=42)\n",
    "    train_sample_size = len(x_train)\n",
    "    x_train = x_train[x_train.columns][:train_sample_size]\n",
    "    y_train = y_train[:train_sample_size]\n",
    "    clf.fit(x_train, y_train)\n",
    "\n",
    "    print(\"train accuracy: {:.2%}, test accuracy: {:.2%}\".format(\n",
    "        accuracy_score(y_train, clf.predict(x_train)),\n",
    "        accuracy_score(y_test, clf.predict(x_test))\n",
    "    ))\n",
    "hidden_layer_size_lst = [\n",
    "    [10, 10], \n",
    "    [10, 20, 10],\n",
    "    [10, 80, 240, 80, 10],\n",
    "    [10, 20, 40, 80, 40, 20, 10],\n",
    "    [10, 20, 40, 80, 160, 80, 40, 20, 10],\n",
    "    [10, 80, 240, 960, 240, 80, 10],\n",
    "    [10, 80, 240, 480, 960, 480, 240, 80, 10],\n",
    "]\n",
    "for h_l_s in hidden_layer_size_lst:\n",
    "    print(\"hidden_layer_size: {}\".format(h_l_s))\n",
    "    print_accuracy( MLPClassifier(hidden_layer_sizes=h_l_s, activation='relu', solver='adam') )\n",
    "    print(\"-----------------\")\n"
   ]
  },
  {
   "cell_type": "code",
   "execution_count": null,
   "metadata": {},
   "outputs": [],
   "source": []
  },
  {
   "cell_type": "code",
   "execution_count": null,
   "metadata": {},
   "outputs": [],
   "source": []
  },
  {
   "cell_type": "code",
   "execution_count": null,
   "metadata": {
    "collapsed": true
   },
   "outputs": [],
   "source": []
  }
 ],
 "metadata": {
  "kernelspec": {
   "display_name": "Python 3",
   "language": "python",
   "name": "python3"
  },
  "language_info": {
   "codemirror_mode": {
    "name": "ipython",
    "version": 3
   },
   "file_extension": ".py",
   "mimetype": "text/x-python",
   "name": "python",
   "nbconvert_exporter": "python",
   "pygments_lexer": "ipython3",
   "version": "3.6.2"
  }
 },
 "nbformat": 4,
 "nbformat_minor": 2
}
