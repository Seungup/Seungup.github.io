{
 "cells": [
  {
   "cell_type": "code",
   "execution_count": 57,
   "metadata": {},
   "outputs": [],
   "source": []
  },
  {
   "cell_type": "code",
   "execution_count": 202,
   "metadata": {},
   "outputs": [
    {
     "name": "stdout",
     "output_type": "stream",
     "text": [
      "Block  1 has been added to blockchain\n",
      "hash value: 3029fb24f4652f1273313efc67f5f3f3bb37098f88826e65a8c721c45e43c366\n",
      "Block  2 has been added to blockchain\n",
      "hash value: 915a63280f179cee42efec2242d893ada21afc9443b347c1cc4bf36406c86974\n",
      "Block  3 has been added to blockchain\n",
      "hash value: b68aaa4276c6c186530079232d0bf9696f77c3d85dd820b4b8ceeba8edb615a0\n",
      "Block  4 has been added to blockchain\n",
      "hash value: 9279d904cab4ee76809c331482af0bc2ec6f45a9c4abd93a97a51730eba058e9\n",
      "Block  5 has been added to blockchain\n",
      "hash value: a3fbf2b08008940c0b289f5e8c3a7e0febcecd63b9efc111c8fffa7dadc53790\n",
      "Block  6 has been added to blockchain\n",
      "hash value: 0269fbe3c8efaa754bd53437430c5d05f854fc3549144ceb5e936bd588b47bf4\n",
      "Block  7 has been added to blockchain\n",
      "hash value: c813b0e1a954b4cbe1ad57b2c31d7886fae29a2d55ab2e7353ef9fa52a176d5f\n",
      "Block  8 has been added to blockchain\n",
      "hash value: 03fd86284ad6dec610b396cb0de42477a55720ba0cb98ffbe69fd7bdadf7e139\n",
      "Block  9 has been added to blockchain\n",
      "hash value: a1276af00901d89f5df55d5d96cc22e32b4f7334fc5334df52d2414a8a11bb02\n",
      "Block 10 has been added to blockchain\n",
      "hash value: 4e68a1244f75d294e659d514ffbf7b150f923507747e5c7167f327f1d193ea09\n"
     ]
    }
   ],
   "source": [
    "import hashlib\n",
    "import datetime as dt \n",
    "\n",
    "class Block(object):\n",
    "    def __init__(self, index, timestamp, data, previous_hash):\n",
    "        self.index = index\n",
    "        self.timestamp = timestamp\n",
    "        self.data = data ## can be anything, this is important\n",
    "        self.previous_hash = previous_hash\n",
    "        self.hash = self.hash_block()\n",
    "    def hash_block(self):\n",
    "        ## 아래 hash 함수를 보면 이전 block의 hash를 가져와서 다시 hash함수를 만듬 \n",
    "        ## 즉, 새롭게 hash 값을 만들 때 이전 블록의 hash값을 참고해서 만들기 때문에 이를 활용해서 무결성이 확보될 수 있음\n",
    "        sha = hashlib.sha256()\n",
    "        new_str_bin = str(self.index) + str(self.timestamp) + str(self.data) + str(self.previous_hash)\n",
    "        sha.update(new_str_bin.encode())\n",
    "        return sha.hexdigest()\n",
    "\n",
    "def create_genesis_block():## 창세기 블록 만들기. \n",
    "    return Block(0, dt.datetime.now(), data='genesis block', previous_hash=\"0\")\n",
    "def next_block(last_block):\n",
    "    ## 지난번에 생성된 last_block에 이어붙일 새로운 블록을 만들어서 리턴한다.\n",
    "    return Block(index = last_block.index+1, \n",
    "                 timestamp = dt.datetime.now(), \n",
    "                 data = f\"Hey, I am block {last_block.index+1}\",\n",
    "                 previous_hash = last_block.hash)\n",
    "\n",
    "## 블록체인이기는 한데, linear 한 linked structure라고 생각해도 됨. \n",
    "## 따라서 각 주소값을 리스트에 넣어서 관리해도 편함. \n",
    "blockchain = [create_genesis_block()]\n",
    "previous_block = blockchain[-1]\n",
    "\n",
    "num_of_block_to_add = 10\n",
    "for i in range(0, num_of_block_to_add):\n",
    "    ## 이전 블록에 이어서(이전 hash 값을 이용해서 새로운 hash값을 생성) 새로운 블록을 생성 \n",
    "    block_to_add = next_block(previous_block) \n",
    "    blockchain.append(block_to_add)\n",
    "    previous_block = blockchain[-1]\n",
    "    print(f\"Block {previous_block.index:2d} has been added to blockchain\")\n",
    "    print(f\"hash value: {previous_block.hash}\")"
   ]
  },
  {
   "cell_type": "code",
   "execution_count": 201,
   "metadata": {},
   "outputs": [
    {
     "name": "stdout",
     "output_type": "stream",
     "text": [
      "Block  1 has been added to blockchain\n",
      "hash value: f3bc8a888795e90240e62378feaec8adf46a17c6cd7f29774fadda61ebcbbebe\n",
      "Block  2 has been added to blockchain\n",
      "hash value: e343cf03d9410c9e2b618a9a805d609bdb99f2cc653c2feecaa3778b92ffa9f9\n",
      "Block  3 has been added to blockchain\n",
      "hash value: 8681e49fd3a423c710ab53be558f0712fce5a9998b0d4434367e74445e910f83\n",
      "Block  4 has been added to blockchain\n",
      "hash value: 920f34f4f1233581cececac008ad9def293a0bc46774d409383b48dce1aa5eed\n",
      "Block  5 has been added to blockchain\n",
      "hash value: 7921a830f2aedcbd224af563fb9a061d0aabfe6d6d152b2aa509af60edce21b9\n",
      "Block  6 has been added to blockchain\n",
      "hash value: bbe82e9d4c0b1836df7f695bf1dd98b0ce3fc09dd256e5e4b1165303d6f30e76\n",
      "Block  7 has been added to blockchain\n",
      "hash value: 7ec2c16111ad53b6319e43693cca51a11f38ce1921d093d0dc67909b7e168f89\n",
      "Block  8 has been added to blockchain\n",
      "hash value: 79cb1e009af1c268ce7116c30d965d7df05058ce802883e8b98ddc3276e53876\n",
      "Block  9 has been added to blockchain\n",
      "hash value: 8a20852309195b697a71c25d98f03568a80fcd5e8e548f74b8e26a9a91e20707\n",
      "Block 10 has been added to blockchain\n",
      "hash value: 0b7085544ef330704b7aa4474625b63c63b435341d5a1588ebf532241299bb83\n"
     ]
    }
   ],
   "source": []
  },
  {
   "cell_type": "code",
   "execution_count": null,
   "metadata": {},
   "outputs": [],
   "source": [
    "## 지금은 block 들이 linear한 구조로 설계되어 있음. 실제로 block는 네트워크의 형태를 가질 수도 있음 \n",
    "## 만들어진 hash값이 유효하다는 것을 어떻게 증명할 수 있는가? "
   ]
  },
  {
   "cell_type": "code",
   "execution_count": 78,
   "metadata": {},
   "outputs": [
    {
     "name": "stdout",
     "output_type": "stream",
     "text": [
      "000c15d0ea8224c9649c9adee30c3030ee769b2b5f6d6594f94d446adf60396b\n",
      "848\n"
     ]
    }
   ],
   "source": [
    "x = 5\n",
    "y = 1\n",
    "while hashlib.sha256(f\"{x}{y}\".encode()).hexdigest()[:2]!='00':\n",
    "    y+=1\n",
    "print(hashlib.sha256(f\"{x}{y}\".encode()).hexdigest())\n",
    "print(y)"
   ]
  },
  {
   "cell_type": "code",
   "execution_count": 87,
   "metadata": {},
   "outputs": [
    {
     "name": "stdout",
     "output_type": "stream",
     "text": [
      "00000055a78bf6735c4a89358fab1de34104c3cb\n",
      "6132845\n"
     ]
    }
   ],
   "source": [
    "i=1\n",
    "while hashlib.sha1(f\"{i}\".encode()).hexdigest()[:6] != \"0\"*6:\n",
    "    i+=1\n",
    "print(hashlib.sha1(f\"{i}\".encode()).hexdigest())\n",
    "print(i)"
   ]
  },
  {
   "cell_type": "code",
   "execution_count": 97,
   "metadata": {},
   "outputs": [
    {
     "name": "stdout",
     "output_type": "stream",
     "text": [
      "difficulty: 1, counter: 31\n",
      "0113874c1b00d69a418cd054838f777f03e4bb663875194415e1f78b92285b6e\n",
      "====================\n",
      "difficulty: 2, counter: 44\n",
      "00e303bb0c290571a80c17288bc24f92735e4f2d31e896861668e5c34a5316ad\n",
      "====================\n",
      "difficulty: 3, counter: 2847\n",
      "000a7f13b0e01db317752808b3b2071ce50ee8b498ce743f59a8a43a4b90d557\n",
      "====================\n",
      "difficulty: 4, counter: 35380\n",
      "00005cd778f31d265b9bfbfc60a5498fcc8661e2ab70b8ab0ab7c9d7ed4850ac\n",
      "====================\n",
      "difficulty: 5, counter: 604339\n",
      "00000421b91f9a0fd93650f6a8bf0a3c50fe27c10309986fd48784c6ebbcf6f4\n",
      "====================\n",
      "difficulty: 6, counter: 18367275\n",
      "0000000eec8a2372250b1494668c1d7ee3201787e1bf4d752c3958a212db88c5\n",
      "====================\n",
      "difficulty: 7, counter: 18367275\n",
      "0000000eec8a2372250b1494668c1d7ee3201787e1bf4d752c3958a212db88c5\n",
      "====================\n"
     ]
    }
   ],
   "source": [
    "import hashlib \n",
    "\n",
    "input_str = \"frhyme@postech.ac.kr\"\n",
    "counter = 0 \n",
    "difficulty = 1 \n",
    "for difficulty in range(1, 8):\n",
    "    while hashlib.sha256(f\"{input_str}{counter}\".encode()).hexdigest()[:difficulty] != \"0\"*difficulty:\n",
    "        counter+=1\n",
    "    print(f\"difficulty: {difficulty}, counter: {counter}\")\n",
    "    print(hashlib.sha256(f\"{input_str}{counter}\".encode()).hexdigest())\n",
    "    print(\"=\"*20)"
   ]
  },
  {
   "cell_type": "code",
   "execution_count": 111,
   "metadata": {},
   "outputs": [],
   "source": [
    "target_str = \"dd\"*300000000\n",
    "hashlib.sha256(target_str.encode()).hexdigest()"
   ]
  },
  {
   "cell_type": "code",
   "execution_count": 203,
   "metadata": {},
   "outputs": [],
   "source": [
    "import networkx as nx\n",
    "import pickle"
   ]
  },
  {
   "cell_type": "code",
   "execution_count": 193,
   "metadata": {},
   "outputs": [],
   "source": [
    "g1 = nx.complete_graph(10)\n",
    "g2 = nx.complete_graph(10)"
   ]
  },
  {
   "cell_type": "code",
   "execution_count": 196,
   "metadata": {},
   "outputs": [
    {
     "data": {
      "text/plain": [
       "'d72bd988ef6a04d7188d2444d88a9221825342a68e5f681b55d08319e6f204ce'"
      ]
     },
     "execution_count": 196,
     "metadata": {},
     "output_type": "execute_result"
    }
   ],
   "source": [
    "hashlib.sha256(pickle.dumps(g1)).hexdigest()"
   ]
  },
  {
   "cell_type": "code",
   "execution_count": 197,
   "metadata": {},
   "outputs": [
    {
     "data": {
      "text/plain": [
       "'d72bd988ef6a04d7188d2444d88a9221825342a68e5f681b55d08319e6f204ce'"
      ]
     },
     "execution_count": 197,
     "metadata": {},
     "output_type": "execute_result"
    }
   ],
   "source": [
    "hashlib.sha256(pickle.dumps(g2)).hexdigest()"
   ]
  },
  {
   "cell_type": "code",
   "execution_count": 198,
   "metadata": {},
   "outputs": [],
   "source": [
    "import json"
   ]
  },
  {
   "cell_type": "code",
   "execution_count": 200,
   "metadata": {},
   "outputs": [
    {
     "data": {
      "text/plain": [
       "'[0, 1, 2, 3, 4, 5, 6, 7, 8, 9]'"
      ]
     },
     "execution_count": 200,
     "metadata": {},
     "output_type": "execute_result"
    }
   ],
   "source": [
    "str([i for i in range(0, 10)])"
   ]
  },
  {
   "cell_type": "code",
   "execution_count": 204,
   "metadata": {},
   "outputs": [
    {
     "ename": "NameError",
     "evalue": "name 'fsafkdsjfds' is not defined",
     "output_type": "error",
     "traceback": [
      "\u001b[0;31m---------------------------------------------------------------------------\u001b[0m",
      "\u001b[0;31mNameError\u001b[0m                                 Traceback (most recent call last)",
      "\u001b[0;32m<ipython-input-204-d8e012e53af2>\u001b[0m in \u001b[0;36m<module>\u001b[0;34m()\u001b[0m\n\u001b[0;32m----> 1\u001b[0;31m \u001b[0mfsafkdsjfds\u001b[0m\u001b[0;34m\u001b[0m\u001b[0m\n\u001b[0m",
      "\u001b[0;31mNameError\u001b[0m: name 'fsafkdsjfds' is not defined"
     ]
    }
   ],
   "source": [
    "fsafkdsjfds"
   ]
  },
  {
   "cell_type": "code",
   "execution_count": null,
   "metadata": {},
   "outputs": [],
   "source": []
  }
 ],
 "metadata": {
  "kernelspec": {
   "display_name": "Python 3",
   "language": "python",
   "name": "python3"
  },
  "language_info": {
   "codemirror_mode": {
    "name": "ipython",
    "version": 3
   },
   "file_extension": ".py",
   "mimetype": "text/x-python",
   "name": "python",
   "nbconvert_exporter": "python",
   "pygments_lexer": "ipython3",
   "version": "3.6.5"
  }
 },
 "nbformat": 4,
 "nbformat_minor": 2
}
