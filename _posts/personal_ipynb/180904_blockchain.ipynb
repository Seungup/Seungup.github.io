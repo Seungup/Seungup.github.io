{
 "cells": [
  {
   "cell_type": "code",
   "execution_count": 205,
   "metadata": {},
   "outputs": [
    {
     "name": "stdout",
     "output_type": "stream",
     "text": [
      "Block  1 has been added to blockchain\n",
      "hash value: 62b8e465ec1b9b6ffecf8bb444ffe0fff72cc22d31487029e91e7924990b3dfc\n",
      "Block  2 has been added to blockchain\n",
      "hash value: b0c7f542b0c4e49099277fec4dac6b3f2cc36fa97c6ebb5e514bfab2e49add87\n",
      "Block  3 has been added to blockchain\n",
      "hash value: e29e1f5bf32e3a28f81659548af80c839960b1808df688187e23736b218e2a6c\n",
      "Block  4 has been added to blockchain\n",
      "hash value: 7ed17c7946c4f0ed2da5353497e2e9ea1469f8d332dde829f0b0e92ce4e3db64\n",
      "Block  5 has been added to blockchain\n",
      "hash value: 73a35f206f0cc32e9a0e134f55007338fa2a43fa431f3b8e831c28226134a127\n",
      "Block  6 has been added to blockchain\n",
      "hash value: 6b29fe114b39ad62df3a43d21dd3b3b4571794a4ff1af6cc0536efac3720b1af\n",
      "Block  7 has been added to blockchain\n",
      "hash value: 2b50e1aa7c195220db4c12cdd9215caf361b26bc9e7243a365f27a05e0a2444b\n",
      "Block  8 has been added to blockchain\n",
      "hash value: c12fbdc5a463ae436730b41f164c59747e3770456b2c96e1b29b0b9511719512\n",
      "Block  9 has been added to blockchain\n",
      "hash value: 6600466173df28eb48f302aa5c4ee8f0ff718cbc8cc483a54adde1775c50f9cf\n",
      "Block 10 has been added to blockchain\n",
      "hash value: 658808f61da8da90bb1f2e34e5c844ef0ac605e3bcb7d8443f88a07bc96bc413\n"
     ]
    }
   ],
   "source": [
    "import hashlib\n",
    "import datetime as dt \n",
    "\n",
    "class Block(object):\n",
    "    def __init__(self, index, timestamp, data, previous_hash):\n",
    "        self.index = index\n",
    "        self.timestamp = timestamp\n",
    "        self.data = data ## can be anything, this is important\n",
    "        self.previous_hash = previous_hash\n",
    "        self.hash = self.hash_block()## 값을 넣고, init하면 자동으로 해쉬값이 만들어짐. \n",
    "    def hash_block(self):\n",
    "        ## 아래 hash 함수를 보면 이전 block의 hash를 가져와서 다시 hash함수를 만듬 \n",
    "        ## 즉, 새롭게 hash 값을 만들 때 이전 블록의 hash값을 참고해서 만들기 때문에 이를 활용해서 무결성이 확보될 수 있음\n",
    "        sha = hashlib.sha256()\n",
    "        new_str_bin = str(self.index) + str(self.timestamp) + str(self.data) + str(self.previous_hash)\n",
    "        sha.update(new_str_bin.encode())\n",
    "        return sha.hexdigest()\n",
    "\n",
    "def create_genesis_block():## 창세기 블록 만들기. \n",
    "    return Block(0, dt.datetime.now(), data='genesis block', previous_hash=\"0\")\n",
    "\n",
    "def next_block(last_block):\n",
    "    ## 지난번에 생성된 last_block에 이어붙일 새로운 블록을 만들어서 리턴한다.\n",
    "    return Block(index = last_block.index+1, \n",
    "                 timestamp = dt.datetime.now(), \n",
    "                 data = f\"Hey, I am block {last_block.index+1}\",\n",
    "                 previous_hash = last_block.hash)\n",
    "\n",
    "## 블록체인이기는 한데, linear 한 linked structure라고 생각해도 됨. \n",
    "## 따라서 각 주소값을 리스트에 넣어서 관리해도 편함. \n",
    "blockchain = [create_genesis_block()]\n",
    "previous_block = blockchain[-1]\n",
    "\n",
    "num_of_block_to_add = 10\n",
    "for i in range(0, num_of_block_to_add):\n",
    "    ## 이전 블록에 이어서(이전 hash 값을 이용해서 새로운 hash값을 생성) 새로운 블록을 생성 \n",
    "    block_to_add = next_block(previous_block) \n",
    "    blockchain.append(block_to_add)\n",
    "    previous_block = blockchain[-1]\n",
    "    print(f\"Block {previous_block.index:2d} has been added to blockchain\")\n",
    "    print(f\"hash value: {previous_block.hash}\")"
   ]
  },
  {
   "cell_type": "code",
   "execution_count": null,
   "metadata": {},
   "outputs": [],
   "source": []
  },
  {
   "cell_type": "code",
   "execution_count": null,
   "metadata": {},
   "outputs": [],
   "source": []
  },
  {
   "cell_type": "code",
   "execution_count": 216,
   "metadata": {},
   "outputs": [],
   "source": [
    "import networkx as nx "
   ]
  },
  {
   "cell_type": "code",
   "execution_count": 291,
   "metadata": {},
   "outputs": [
    {
     "data": {
      "text/plain": [
       "{0: (1.0, 3.3113692265584622e-08),\n",
       " 1: (-0.50000007450580664, 0.86602541008948009),\n",
       " 2: (-0.49999992549419331, -0.86602544320317243)}"
      ]
     },
     "execution_count": 291,
     "metadata": {},
     "output_type": "execute_result"
    }
   ],
   "source": [
    "def rescale_layout_dict(pos, scale=1):\n",
    "    \"\"\"Return a dictionary of scaled positions keyed by node \n",
    "\n",
    "    Parameters\n",
    "    ----------\n",
    "    pos : A dictionary of positions keyed by node\n",
    "\n",
    "    scale : number (default: 1)\n",
    "        The size of the resulting extent in all directions.\n",
    "\n",
    "    Returns\n",
    "    -------\n",
    "    pos : A dictionary of positions keyed by node\n",
    "\n",
    "    See Also\n",
    "    --------\n",
    "    rescale_layout\n",
    "    \"\"\"\n",
    "    if len(pos)==0:\n",
    "        ## the empty graph \n",
    "        return {}\n",
    "    ## for make it 2-dimensional array \n",
    "    ## with out converting it to list the error raised \"AttributeError: 'dict_values' object has no attribute 'shape'\"\n",
    "    pos_v = np.array(list(pos.values()))\n",
    "    pos_v = nx.rescale_layout(pos_v, scale=scale)## 넣을때는 nx를 빼고 넣을 것 \n",
    "    return {k: tuple(v) for k, v in zip(pos.keys(), pos_v)}\n",
    "G = nx.complete_graph(3)\n",
    "pos = nx.shell_layout(G)\n",
    "rescale_layout_dict(pos)"
   ]
  },
  {
   "cell_type": "code",
   "execution_count": 275,
   "metadata": {},
   "outputs": [
    {
     "name": "stdout",
     "output_type": "stream",
     "text": [
      "{0: array([  1.00000000e+00,   1.98682155e-08]), 1: array([-0.50000006,  0.86602539]), 2: array([-0.49999991, -0.86602545])}\n"
     ]
    },
    {
     "data": {
      "text/plain": [
       "{0: (1.0, 3.3113692265584622e-08),\n",
       " 1: (-0.50000007450580664, 0.86602541008948009),\n",
       " 2: (-0.49999992549419331, -0.86602544320317243)}"
      ]
     },
     "execution_count": 275,
     "metadata": {},
     "output_type": "execute_result"
    }
   ],
   "source": [
    "## for empty case \n",
    "## for \n",
    "G = nx.complete_graph(3)\n",
    "print(nx.shell_layout(G))\n",
    "rescale_layout_dict(nx.shell_layout(G))"
   ]
  },
  {
   "cell_type": "code",
   "execution_count": 224,
   "metadata": {},
   "outputs": [],
   "source": [
    "nx.bipartite_"
   ]
  },
  {
   "cell_type": "code",
   "execution_count": 293,
   "metadata": {},
   "outputs": [],
   "source": [
    "from nose.tools import assert_almost_equal, assert_equal\n",
    "import numpy as np\n",
    "\n",
    "G = nx.empty_graph()\n",
    "vpos = nx.random_layout(G, center=(1, 1))\n",
    "assert_equal(rescale_layout_dict(vpos), {})\n",
    "        "
   ]
  },
  {
   "cell_type": "code",
   "execution_count": 287,
   "metadata": {},
   "outputs": [
    {
     "data": {
      "text/plain": [
       "{0: (1.0, 3.3113692265584622e-08),\n",
       " 1: (-0.50000007450580664, 0.86602541008948009),\n",
       " 2: (-0.49999992549419331, -0.86602544320317243)}"
      ]
     },
     "execution_count": 287,
     "metadata": {},
     "output_type": "execute_result"
    }
   ],
   "source": [
    "rescale_layout_dict(nx.shell_layout(nx.complete_graph(3), center=[0, 0]))"
   ]
  },
  {
   "cell_type": "code",
   "execution_count": 288,
   "metadata": {},
   "outputs": [
    {
     "data": {
      "text/plain": [
       "{0: (1.0, 3.3113692302592054e-08),\n",
       " 1: (-0.50000007450580664, 0.86602541008948009),\n",
       " 2: (-0.49999992549419331, -0.86602544320317243)}"
      ]
     },
     "execution_count": 288,
     "metadata": {},
     "output_type": "execute_result"
    }
   ],
   "source": [
    "rescale_layout_dict(rescale_layout_dict(nx.shell_layout(nx.complete_graph(3), center=[0, 0])))"
   ]
  },
  {
   "cell_type": "code",
   "execution_count": 297,
   "metadata": {},
   "outputs": [],
   "source": [
    "def test_rescale_layout_dict():## 나중에 self넣을 것 \n",
    "    G = nx.empty_graph()\n",
    "    vpos = nx.random_layout(G, center=(1, 1))\n",
    "    assert_equal(rescale_layout_dict(vpos), {})\n",
    "\n",
    "test_rescale_layout_dict()"
   ]
  },
  {
   "cell_type": "code",
   "execution_count": null,
   "metadata": {},
   "outputs": [],
   "source": [
    "def test_bipartite_layout(self):\n",
    "    G = nx.complete_bipartite_graph(3,5)\n",
    "    top, bottom = nx.bipartite.sets(G)\n",
    "\n",
    "    vpos = nx.bipartite_layout(G, top)\n",
    "    assert_equal(len(vpos), len(G))\n",
    "\n",
    "    top_x = vpos[list(top)[0]][0]\n",
    "    bottom_x = vpos[list(bottom)[0]][0]\n",
    "    for node in top:\n",
    "        assert_equal(vpos[node][0], top_x)\n",
    "    for node in bottom:\n",
    "        assert_equal(vpos[node][0], bottom_x)\n",
    "\n",
    "    vpos = nx.bipartite_layout(G, top,\n",
    "                               align='horizontal',\n",
    "                               center=(2,2),\n",
    "                               scale=2,\n",
    "                               aspect_ratio=1)\n",
    "    assert_equal(len(vpos), len(G))\n",
    "\n",
    "    top_y = vpos[list(top)[0]][1]\n",
    "    bottom_y = vpos[list(bottom)[0]][1]\n",
    "    for node in top:\n",
    "        assert_equal(vpos[node][1], top_y)\n",
    "    for node in bottom:\n",
    "        assert_equal(vpos[node][1], bottom_y)\n",
    "\n",
    "    assert_raises(ValueError, nx.bipartite_layout, G, top, align='foo')"
   ]
  }
 ],
 "metadata": {
  "kernelspec": {
   "display_name": "Python 3",
   "language": "python",
   "name": "python3"
  },
  "language_info": {
   "codemirror_mode": {
    "name": "ipython",
    "version": 3
   },
   "file_extension": ".py",
   "mimetype": "text/x-python",
   "name": "python",
   "nbconvert_exporter": "python",
   "pygments_lexer": "ipython3",
   "version": "3.6.5"
  }
 },
 "nbformat": 4,
 "nbformat_minor": 2
}
