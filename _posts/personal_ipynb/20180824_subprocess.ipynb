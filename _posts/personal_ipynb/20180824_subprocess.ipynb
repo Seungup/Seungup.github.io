{
 "cells": [
  {
   "cell_type": "code",
   "execution_count": 1,
   "metadata": {},
   "outputs": [],
   "source": [
    "class FrequencyList(list):\n",
    "    def __init__(self, members):\n",
    "        super().__init__(members)\n",
    "    def frequency(self):\n",
    "        counts = {}\n",
    "        for item in self:\n",
    "            counts.setdefault(item, 0)\n",
    "            counts[item] += 1\n",
    "        return counts"
   ]
  },
  {
   "cell_type": "code",
   "execution_count": 6,
   "metadata": {},
   "outputs": [
    {
     "data": {
      "text/plain": [
       "['0', '1', '2', '3', '4', '5', '6', '7', '8', '9']"
      ]
     },
     "execution_count": 6,
     "metadata": {},
     "output_type": "execute_result"
    }
   ],
   "source": [
    "FrequencyList([\"{}\".format(i) for i in range(0, 10)])"
   ]
  },
  {
   "cell_type": "code",
   "execution_count": 8,
   "metadata": {},
   "outputs": [],
   "source": [
    "import subprocess"
   ]
  },
  {
   "cell_type": "code",
   "execution_count": 17,
   "metadata": {},
   "outputs": [
    {
     "name": "stdout",
     "output_type": "stream",
     "text": [
      "abc Hello world\n",
      "\n"
     ]
    }
   ],
   "source": [
    "proc = subprocess.Popen(['echo', 'abc', 'Hello world'], stdout=subprocess.PIPE)\n",
    "## echo는 linux 명령어임 따라서, 'ls'만 넘기면 관련 파일들을 쭉 읽어옴\n",
    "out, err = proc.communicate()\n",
    "print(out.decode('utf-8'))"
   ]
  },
  {
   "cell_type": "code",
   "execution_count": 46,
   "metadata": {},
   "outputs": [
    {
     "name": "stdout",
     "output_type": "stream",
     "text": [
      "Overwriting test_a.py\n"
     ]
    }
   ],
   "source": [
    "%%file test_a.py\n",
    "import numpy as np\n",
    "\n",
    "## 테스트할 함수를 만들어봄 \n",
    "def func1(s):\n",
    "    a = np.array([i for i in range(0, s)])\n",
    "    return a.mean()\n",
    "def func2(s):\n",
    "    a = [i for i in range(0, s)]\n",
    "    return sum(a)/len(a)\n",
    "\n",
    "#assert func1(s)==func2(s)\n",
    "def test_func1(benchmark):\n",
    "    benchmark(func1, 10000000)\n",
    "def test_func2(benchmark):\n",
    "    benchmark(func2, 10000000)"
   ]
  },
  {
   "cell_type": "code",
   "execution_count": 47,
   "metadata": {},
   "outputs": [
    {
     "name": "stdout",
     "output_type": "stream",
     "text": [
      "\u001b[1m============================= test session starts ==============================\u001b[0m\n",
      "platform darwin -- Python 3.6.5, pytest-3.5.1, py-1.5.3, pluggy-0.6.0\n",
      "benchmark: 3.1.1 (defaults: timer=time.perf_counter disable_gc=False min_rounds=5 min_time=0.000005 max_time=1.0 calibration_precision=10 warmup=False warmup_iterations=100000)\n",
      "rootdir: /Users/frhyme/frhyme.github.io/_posts/personal_ipynb, inifile:\n",
      "plugins: remotedata-0.2.1, openfiles-0.3.0, doctestplus-0.1.3, benchmark-3.1.1, arraydiff-0.2\n",
      "collected 2 items                                                              \u001b[0m\n",
      "\n",
      "test_a.py ..\u001b[36m                                                             [100%]\u001b[0m\n",
      "\n",
      "\n",
      "\u001b[33m---------------------------------------------------------------------------------------- benchmark: 2 tests ---------------------------------------------------------------------------------------\u001b[0m\n",
      "Name (time in ms)            Min                   Max                  Mean             StdDev                Median                 IQR            Outliers     OPS            Rounds  Iterations\n",
      "\u001b[33m---------------------------------------------------------------------------------------------------------------------------------------------------------------------------------------------------\u001b[0m\n",
      "test_func2          \u001b[32m\u001b[1m    851.5339 (1.0)    \u001b[0m\u001b[32m\u001b[1m    877.4852 (1.0)    \u001b[0m\u001b[32m\u001b[1m    863.4813 (1.0)    \u001b[0m\u001b[32m\u001b[1m  10.8602 (1.0)    \u001b[0m\u001b[32m\u001b[1m    863.2845 (1.0)    \u001b[0m\u001b[32m\u001b[1m   18.6351 (1.0)    \u001b[0m       2;0\u001b[32m\u001b[1m  1.1581 (1.0)    \u001b[0m       5           1\n",
      "test_func1          \u001b[31m\u001b[1m  1,495.4562 (1.76)   \u001b[0m\u001b[31m\u001b[1m  1,698.4523 (1.94)   \u001b[0m\u001b[31m\u001b[1m  1,559.8910 (1.81)   \u001b[0m\u001b[31m\u001b[1m  85.7477 (7.90)   \u001b[0m\u001b[31m\u001b[1m  1,509.3657 (1.75)   \u001b[0m\u001b[31m\u001b[1m  111.0139 (5.96)   \u001b[0m       1;0\u001b[31m\u001b[1m  0.6411 (0.55)   \u001b[0m       5           1\n",
      "\u001b[33m---------------------------------------------------------------------------------------------------------------------------------------------------------------------------------------------------\u001b[0m\n",
      "\n",
      "Legend:\n",
      "  Outliers: 1 Standard Deviation from Mean; 1.5 IQR (InterQuartile Range) from 1st Quartile and 3rd Quartile.\n",
      "  OPS: Operations Per Second, computed as 1 / Mean\n",
      "\u001b[32m\u001b[1m========================== 2 passed in 18.89 seconds ===========================\u001b[0m\n"
     ]
    }
   ],
   "source": [
    "!pytest test_a.py"
   ]
  },
  {
   "cell_type": "code",
   "execution_count": 59,
   "metadata": {},
   "outputs": [
    {
     "ename": "AssertionError",
     "evalue": "condition2 error",
     "output_type": "error",
     "traceback": [
      "\u001b[0;31m---------------------------------------------------------------------------\u001b[0m",
      "\u001b[0;31mAssertionError\u001b[0m                            Traceback (most recent call last)",
      "\u001b[0;32m<ipython-input-59-ded5e81cb94c>\u001b[0m in \u001b[0;36m<module>\u001b[0;34m()\u001b[0m\n\u001b[1;32m      3\u001b[0m \u001b[0;34m\u001b[0m\u001b[0m\n\u001b[1;32m      4\u001b[0m \u001b[0;32massert\u001b[0m \u001b[0mcondition1\u001b[0m\u001b[0;34m,\u001b[0m \u001b[0;34m'condition1 error'\u001b[0m\u001b[0;34m\u001b[0m\u001b[0m\n\u001b[0;32m----> 5\u001b[0;31m \u001b[0;32massert\u001b[0m \u001b[0mcondition2\u001b[0m\u001b[0;34m,\u001b[0m \u001b[0;34m'condition2 error'\u001b[0m\u001b[0;34m\u001b[0m\u001b[0m\n\u001b[0m",
      "\u001b[0;31mAssertionError\u001b[0m: condition2 error"
     ]
    }
   ],
   "source": [
    "## 주어진 조건이 True를 충족하지 못할 경우, message와 함께 에러를 발생시킴 \n",
    "condition1 = True\n",
    "condition2 = False\n",
    "\n",
    "assert condition1, 'condition1 error'\n",
    "assert condition2, 'condition2 error'"
   ]
  },
  {
   "cell_type": "code",
   "execution_count": 70,
   "metadata": {},
   "outputs": [
    {
     "ename": "AssertionError",
     "evalue": "function problem",
     "output_type": "error",
     "traceback": [
      "\u001b[0;31m---------------------------------------------------------------------------\u001b[0m",
      "\u001b[0;31mAssertionError\u001b[0m                            Traceback (most recent call last)",
      "\u001b[0;32m<ipython-input-70-66bb23f20d9a>\u001b[0m in \u001b[0;36m<module>\u001b[0;34m()\u001b[0m\n\u001b[1;32m      3\u001b[0m     \u001b[0;32mreturn\u001b[0m \u001b[0minputA\u001b[0m\u001b[0;34m+\u001b[0m\u001b[0;36m2\u001b[0m\u001b[0;34m\u001b[0m\u001b[0m\n\u001b[1;32m      4\u001b[0m \u001b[0;34m\u001b[0m\u001b[0m\n\u001b[0;32m----> 5\u001b[0;31m \u001b[0;32massert\u001b[0m \u001b[0minc\u001b[0m\u001b[0;34m(\u001b[0m\u001b[0;36m10\u001b[0m\u001b[0;34m)\u001b[0m\u001b[0;34m==\u001b[0m\u001b[0;34m(\u001b[0m\u001b[0;36m10\u001b[0m\u001b[0;34m+\u001b[0m\u001b[0;36m1\u001b[0m\u001b[0;34m)\u001b[0m\u001b[0;34m,\u001b[0m \u001b[0;34m'function problem'\u001b[0m\u001b[0;34m\u001b[0m\u001b[0m\n\u001b[0m",
      "\u001b[0;31mAssertionError\u001b[0m: function problem"
     ]
    }
   ],
   "source": [
    "def inc(inputA):\n",
    "    assert type(inputA)==int, 'not integer'\n",
    "    return inputA+2\n",
    "\n",
    "assert inc(10)==(10+1), 'function problem'"
   ]
  },
  {
   "cell_type": "code",
   "execution_count": 67,
   "metadata": {},
   "outputs": [
    {
     "data": {
      "text/plain": [
       "int"
      ]
     },
     "execution_count": 67,
     "metadata": {},
     "output_type": "execute_result"
    }
   ],
   "source": [
    "type(10)"
   ]
  },
  {
   "cell_type": "code",
   "execution_count": null,
   "metadata": {},
   "outputs": [],
   "source": []
  }
 ],
 "metadata": {
  "kernelspec": {
   "display_name": "Python 3",
   "language": "python",
   "name": "python3"
  },
  "language_info": {
   "codemirror_mode": {
    "name": "ipython",
    "version": 3
   },
   "file_extension": ".py",
   "mimetype": "text/x-python",
   "name": "python",
   "nbconvert_exporter": "python",
   "pygments_lexer": "ipython3",
   "version": "3.6.5"
  }
 },
 "nbformat": 4,
 "nbformat_minor": 2
}
