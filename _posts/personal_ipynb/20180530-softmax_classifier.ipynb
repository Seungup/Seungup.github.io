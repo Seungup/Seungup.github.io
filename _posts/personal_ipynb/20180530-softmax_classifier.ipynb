{
 "cells": [
  {
   "cell_type": "code",
   "execution_count": 6,
   "metadata": {},
   "outputs": [],
   "source": [
    "import numpy as np\n",
    "import tensorflow as tf\n",
    "\n",
    "def normal_sampling(mu1, v1, mu2, v2, nrow):\n",
    "    x = np.random.normal(mu1, v1, nrow)\n",
    "    y = np.random.normal(mu2, v2, nrow)\n",
    "    return np.vstack([x,y])\n",
    "\"\"\"\n",
    "다양한 평균과 분산에 대해서 샘플링하여 쌓아줍니다. \n",
    "np.hstack은 가로로 붙여줍니다. \n",
    "그래서 마지막에 Transpose 했습니다. \n",
    "\"\"\"\n",
    "sample_size = 500\n",
    "cluster_num = 3\n",
    "x_data = np.hstack([\n",
    "    normal_sampling(0, 1, 0, 1, sample_size),\n",
    "    normal_sampling(2, 1, 2, 1, sample_size), \n",
    "    normal_sampling(3, 1, 7, 1, sample_size),\n",
    "    normal_sampling(8, 1, 4, 1, sample_size),\n",
    "    normal_sampling(6, 1, 5, 1, sample_size),\n",
    "    normal_sampling(6, 3, 0, 1, sample_size),\n",
    "    normal_sampling(0, 3, 6, 2, sample_size)\n",
    "]).T\n",
    "y_data = []\n",
    "for i in range(0, x_data.shape[0]//sample_size):\n",
    "    y_data+=[i for j in range(0, sample_size)]\n",
    "y_data = np.array(y_data)"
   ]
  },
  {
   "cell_type": "code",
   "execution_count": 45,
   "metadata": {},
   "outputs": [
    {
     "data": {
      "text/plain": [
       "(3500, 2)"
      ]
     },
     "execution_count": 45,
     "metadata": {},
     "output_type": "execute_result"
    }
   ],
   "source": [
    "x_data.shape"
   ]
  },
  {
   "cell_type": "code",
   "execution_count": 51,
   "metadata": {},
   "outputs": [
    {
     "name": "stdout",
     "output_type": "stream",
     "text": [
      "Step:     0\tLoss: 7.286\tAcc: 13.51%\n",
      "Step:   300\tLoss: 0.750\tAcc: 79.66%\n",
      "Step:   600\tLoss: 0.669\tAcc: 81.26%\n",
      "Step:   900\tLoss: 0.634\tAcc: 81.49%\n",
      "Step:  1200\tLoss: 0.614\tAcc: 81.74%\n",
      "Step:  1500\tLoss: 0.602\tAcc: 81.89%\n",
      "Step:  1800\tLoss: 0.592\tAcc: 82.14%\n",
      "Step:  2100\tLoss: 0.586\tAcc: 82.14%\n",
      "Step:  2400\tLoss: 0.580\tAcc: 82.09%\n",
      "Step:  2700\tLoss: 0.576\tAcc: 82.09%\n",
      "Step:  3000\tLoss: 0.573\tAcc: 82.20%\n",
      "Step:  3300\tLoss: 0.570\tAcc: 82.26%\n",
      "Step:  3600\tLoss: 0.567\tAcc: 82.34%\n",
      "Step:  3900\tLoss: 0.565\tAcc: 82.20%\n",
      "Step:  4200\tLoss: 0.563\tAcc: 82.09%\n",
      "Step:  4500\tLoss: 0.561\tAcc: 82.17%\n",
      "Step:  4800\tLoss: 0.560\tAcc: 82.14%\n"
     ]
    }
   ],
   "source": [
    "nb_features = 2\n",
    "nb_classes = 7\n",
    "\n",
    "X = tf.placeholder(tf.float32, [None, nb_features])\n",
    "Y = tf.placeholder(tf.int32, [None])  # 0 ~ 6\n",
    "Y_one_hot = tf.one_hot(Y, nb_classes)\n",
    "\n",
    "W = tf.Variable(tf.random_normal([nb_features, nb_classes]), name='weight')\n",
    "b = tf.Variable(tf.random_normal([nb_classes]), name='bias')\n",
    "\"\"\"\n",
    "logit으로 계산한 각 class 에 대한 값을 softmax function에 넘겨서 계산해줌\n",
    "- exponential normalization? 같은 느낌이라고 생각하면 됨\n",
    "\"\"\"\n",
    "logits = tf.matmul(X, W) + b\n",
    "hypothesis = tf.nn.softmax(logits)\n",
    "\n",
    "# Cross entropy cost/loss\n",
    "cost_i = tf.nn.softmax_cross_entropy_with_logits(logits=logits, labels=Y_one_hot)\n",
    "cost = tf.reduce_mean(cost_i)\n",
    "optimizer = tf.train.GradientDescentOptimizer(learning_rate=0.1).minimize(cost)\n",
    "\n",
    "\"\"\"\n",
    "- tf.argmax를 하면, axis를 축으로 변화하며 가장 큰 것의 index들을 리턴함\n",
    "\"\"\"\n",
    "prediction = tf.argmax(hypothesis, 1)\n",
    "correct_prediction = tf.equal(prediction, tf.argmax(Y_one_hot, 1))\n",
    "accuracy = tf.reduce_mean(tf.cast(correct_prediction, tf.float32))\n",
    "# Launch graph\n",
    "with tf.Session() as sess:\n",
    "    sess.run(tf.global_variables_initializer())\n",
    "    \n",
    "    for step in range(5000):\n",
    "        sess.run(optimizer, feed_dict={X: x_data, Y: y_data})\n",
    "        if step % 300 == 0:\n",
    "            loss, acc = sess.run([cost, accuracy], feed_dict={X: x_data, Y: y_data})\n",
    "            print(\"Step: {:5}\\tLoss: {:.3f}\\tAcc: {:.2%}\".format(step, loss, acc))\n",
    "    # Let's see if we can predict\n",
    "    pred = sess.run(prediction, feed_dict={X: x_data})\n",
    "    # y_data: (N,1) = flatten => (N, ) matches pred.shape\n",
    "    \"\"\"\n",
    "    for p, y in zip(pred, y_data.flatten()):\n",
    "        if p != int(y):\n",
    "            print(\"[{}] Prediction: {} True Y: {}\".format(p == int(y), p, int(y)))\n",
    "    \"\"\"\n"
   ]
  },
  {
   "cell_type": "code",
   "execution_count": 37,
   "metadata": {},
   "outputs": [
    {
     "name": "stdout",
     "output_type": "stream",
     "text": [
      "(2, 3)\n",
      "[[1 2 3]\n",
      " [4 5 6]]\n"
     ]
    },
    {
     "data": {
      "text/plain": [
       "array([1, 1, 1])"
      ]
     },
     "execution_count": 37,
     "metadata": {},
     "output_type": "execute_result"
    }
   ],
   "source": [
    "\"\"\"axis 복습: 입력받은 axis만 변화하고, \n",
    "\"\"\"\n",
    "sess = tf.Session()\n",
    "a = np.array([1,2,3,4,5,6]).reshape(2, 3)\n",
    "print(a.shape)\n",
    "print(a)\n",
    "sess.run(tf.argmax(a, axis=0))# 값을 리턴하는 것이 아니라, 값의 위치를 리턴함"
   ]
  },
  {
   "cell_type": "code",
   "execution_count": 41,
   "metadata": {},
   "outputs": [
    {
     "data": {
      "text/plain": [
       "array([1, 2, 3])"
      ]
     },
     "execution_count": 41,
     "metadata": {},
     "output_type": "execute_result"
    }
   ],
   "source": [
    "np.min(a, axis=0)"
   ]
  },
  {
   "cell_type": "code",
   "execution_count": null,
   "metadata": {
    "collapsed": true
   },
   "outputs": [],
   "source": []
  }
 ],
 "metadata": {
  "kernelspec": {
   "display_name": "Python 3",
   "language": "python",
   "name": "python3"
  },
  "language_info": {
   "codemirror_mode": {
    "name": "ipython",
    "version": 3
   },
   "file_extension": ".py",
   "mimetype": "text/x-python",
   "name": "python",
   "nbconvert_exporter": "python",
   "pygments_lexer": "ipython3",
   "version": "3.6.2"
  }
 },
 "nbformat": 4,
 "nbformat_minor": 2
}
