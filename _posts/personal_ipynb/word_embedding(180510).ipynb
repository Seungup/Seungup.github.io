{
 "cells": [
  {
   "cell_type": "code",
   "execution_count": 370,
   "metadata": {},
   "outputs": [
    {
     "name": "stdout",
     "output_type": "stream",
     "text": [
      "**inflection을 사용하여 singularize를 한 경우\n",
      "systems ==> system\n",
      "events ==> event\n",
      "processes ==> process\n",
      "activities ==> activity\n",
      "\n",
      "**textblob를 활용하여 singularize를 한 경우 \n",
      "business ==> busines\n",
      "process ==> proces\n",
      "systems ==> system\n",
      "bpms ==> bpm\n",
      "events ==> event\n",
      "processes ==> process\n",
      "activities ==> activity\n",
      "systems ==> system\n"
     ]
    }
   ],
   "source": [
    "## singularize\n",
    "\n",
    "simple_sentence = \"Business Process Management systems (BPMS) are a rich source of events that document the execution of processes and activities within these systems. \"\n",
    "\n",
    "print(\"\"\"**inflection을 사용하여 singularize를 한 경우\"\"\")\n",
    "from inflection import singularize\n",
    "for w in simple_sentence.lower().split(\" \"):\n",
    "    if w != singularize(w):\n",
    "        print(\"{} ==> {}\".format(w, singularize(w)))\n",
    "print()\n",
    "print(\"\"\"**textblob를 활용하여 singularize를 한 경우 \"\"\")\n",
    "from textblob import TextBlob\n",
    "blob = TextBlob(simple_sentence.lower())\n",
    "for w in blob.words:\n",
    "    if w != w.singularize():\n",
    "        print(\"{} ==> {}\".format(w, w.singularize()))"
   ]
  },
  {
   "cell_type": "code",
   "execution_count": null,
   "metadata": {
    "collapsed": true
   },
   "outputs": [],
   "source": [
    "\"\"\"구글 스칼라에서 검색한 논문의 초록을 가져왔습니다. \n",
    "\"\"\"\n",
    "simple_text = \"\"\"\n",
    "Business Process Management systems (BPMS) are a rich source of events that document the execution of processes and activities within these systems. \n",
    "Business Process Management analytics is the family of methods and tools that can be applied to these event streams in order to support decision making in organizations. \n",
    "The analysis of process events can focus on the behavior of completed processes, evaluate currently running process instances, or focus on predicting the behavior of process instances in the future. \n",
    "This chapter provides an overview of the different methods and technologies that can be employed in each of these three areas of process analytics. \n",
    "We discuss the underlying format and types of process events as the common source of analytics information, present techniques for the aggregation and composition of these events, and outline methods that support backward- and forward-looking process analytics.\n",
    "\"\"\""
   ]
  },
  {
   "cell_type": "code",
   "execution_count": 430,
   "metadata": {},
   "outputs": [
    {
     "name": "stdout",
     "output_type": "stream",
     "text": [
      "words: ['business', 'process', 'management', 'systems', 'bpms', 'are', 'a', 'rich', 'source', 'of', 'events', 'that', 'document', 'the', 'execution', 'of', 'processes', 'and', 'activities', 'within', 'these', 'systems']\n",
      "\n",
      "noun_phrases: ['business process management systems', 'rich source']\n",
      "\n",
      "word and tags: [('business', 'NN'), ('process', 'NN'), ('management', 'NN'), ('systems', 'NNS'), ('bpms', 'NN'), ('are', 'VBP'), ('a', 'DT'), ('rich', 'JJ'), ('source', 'NN'), ('of', 'IN'), ('events', 'NNS'), ('that', 'WDT'), ('document', 'VBP'), ('the', 'DT'), ('execution', 'NN'), ('of', 'IN'), ('processes', 'NNS'), ('and', 'CC'), ('activities', 'NNS'), ('within', 'IN'), ('these', 'DT'), ('systems', 'NNS')]\n",
      "\n",
      "n grams: [WordList(['business', 'process']), WordList(['process', 'management']), WordList(['management', 'systems']), WordList(['systems', 'bpms']), WordList(['bpms', 'are']), WordList(['are', 'a']), WordList(['a', 'rich']), WordList(['rich', 'source']), WordList(['source', 'of']), WordList(['of', 'events']), WordList(['events', 'that']), WordList(['that', 'document']), WordList(['document', 'the']), WordList(['the', 'execution']), WordList(['execution', 'of']), WordList(['of', 'processes']), WordList(['processes', 'and']), WordList(['and', 'activities']), WordList(['activities', 'within']), WordList(['within', 'these']), WordList(['these', 'systems'])]\n",
      "\n"
     ]
    }
   ],
   "source": [
    "simple_sentence = \"\"\"\n",
    "Business Process Management systems (BPMS) are a rich source of events that document the execution of processes and activities within these systems. \n",
    "\"\"\"\n",
    "simple_text\n",
    "from textblob import TextBlob\n",
    "blob = TextBlob(simple_sentence).lower()\n",
    "print(\"words: {}\".format(blob.words))\n",
    "print()\n",
    "print(\"noun_phrases: {}\".format(blob.noun_phrases))\n",
    "print()\n",
    "print(\"word and tags: {}\".format(blob.tags))\n",
    "print()\n",
    "print(\"n grams: {}\".format(blob.ngrams(2)))\n",
    "print()"
   ]
  },
  {
   "cell_type": "code",
   "execution_count": 434,
   "metadata": {},
   "outputs": [
    {
     "name": "stdout",
     "output_type": "stream",
     "text": [
      "['business process management systems (bpms) are a rich source of events that document the execution of processes and activities within these systems.', 'business process management analytics is the family of methods and tools that can be applied to these event streams in order to support decision making in organizations.']\n",
      "['business', 'process', 'management', 'systems', '(', 'bpms', ')', 'are', 'a', 'rich', 'source', 'of', 'events', 'that', 'document', 'the', 'execution', 'of', 'processes', 'and', 'activities', 'within', 'these', 'systems', '.', 'business', 'process', 'management', 'analytics', 'is', 'the', 'family', 'of', 'methods', 'and', 'tools', 'that', 'can', 'be', 'applied', 'to', 'these', 'event', 'streams', 'in', 'order', 'to', 'support', 'decision', 'making', 'in', 'organizations', '.']\n",
      "[('I', 'am'), ('am', 'a'), ('a', 'boy')]\n"
     ]
    }
   ],
   "source": [
    "#from nltk.tokenize import sent_tokenize, word_tokenize\n",
    "\n",
    "\n",
    "\n",
    "import nltk.tokenize\n",
    "\n",
    "simple_text = \"\"\"\n",
    "Business Process Management systems (BPMS) are a rich source of events that document the execution of processes and activities within these systems. \n",
    "Business Process Management analytics is the family of methods and tools that can be applied to these event streams in order to support decision making in organizations. \n",
    "\"\"\".lower().strip()\n",
    "\n",
    "print(nltk.tokenize.sent_tokenize(simple_text))\n",
    "print(nltk.tokenize.word_tokenize(simple_text))\n",
    "\n",
    "\"\"\"make n grams \n",
    "\"\"\"\n",
    "from nltk import ngrams\n",
    "print(list(ngrams(nltk.tokenize.word_tokenize(\"I am a boy\"), 2)))"
   ]
  },
  {
   "cell_type": "code",
   "execution_count": 433,
   "metadata": {},
   "outputs": [
    {
     "name": "stdout",
     "output_type": "stream",
     "text": [
      "word: 'increases', stemming ==> 'increas', lemmatize ==> 'increase'\n",
      "word: 'plays', stemming ==> 'play', lemmatize ==> 'play'\n",
      "word: 'business processes', stemming ==> 'business process', lemmatize ==> 'business processes'\n",
      "word: 'business', stemming ==> 'busi', lemmatize ==> 'business'\n"
     ]
    }
   ],
   "source": [
    "\"\"\"\n",
    "둘 다 nltk.stem 아래에 있는 것을 보면 알 수 있듯이 이는 일종의 단어 가지치기 기법이다. \n",
    "lemmatize: 결과가 실제로 있는 단어.\n",
    "stemming: 결과가 실제로 없는 단어일 수 있음.\n",
    "사실 singularize가 필요없는 것이, 오히려 lemmatize를 하는 것이 더 좋을 수 있기 때문임. 하지만 복합어에 대해서는 처리를 못해줌. \n",
    "복합어일 경우에는 이를 split 한 다음 lemmatize를 먹이고 다시 합쳐주는 작업을 해야 하는 것으로 보임. \n",
    "\"\"\"\n",
    "from nltk.stem import WordNetLemmatizer, PorterStemmer\n",
    "lemmatizer = WordNetLemmatizer()\n",
    "stemmer = PorterStemmer()\n",
    "for w in ['increases', 'plays', 'business processes', 'business']:\n",
    "    print(\"word: '{}', stemming ==> '{}', lemmatize ==> '{}'\".format(w, stemmer.stem(w), \n",
    "                                                               lemmatizer.lemmatize(w)\n",
    "                                                              ))"
   ]
  },
  {
   "cell_type": "code",
   "execution_count": null,
   "metadata": {},
   "outputs": [],
   "source": []
  },
  {
   "cell_type": "code",
   "execution_count": null,
   "metadata": {
    "collapsed": true
   },
   "outputs": [],
   "source": [
    "from nltk.corpus import movie_reviews\n",
    "sentences = [list(s) for s in movie_reviews.sents()]"
   ]
  },
  {
   "cell_type": "code",
   "execution_count": 90,
   "metadata": {},
   "outputs": [
    {
     "name": "stdout",
     "output_type": "stream",
     "text": [
      "   am  am boys  are  are girl  boy  boy or  boys  boys boy  girl  he  he is  \\\n",
      "0   1        1    0         0    1       0     1         1     0   0      0   \n",
      "1   0        0    1         1    0       0     0         0     1   0      0   \n",
      "2   0        0    0         0    1       1     0         0     1   1      1   \n",
      "\n",
      "   is  is the  or  or girl  the  the boy  you  you are  \n",
      "0   0       0   0        0    0        0    0        0  \n",
      "1   0       0   0        0    0        0    1        1  \n",
      "2   1       1   1        1    1        1    0        0  \n"
     ]
    }
   ],
   "source": [
    "\"\"\"ngram_range를 넣으면 앞 뒤 window를 고려하여 확장된 형태로 제시해주지만, range가 커질 경우, 계산의 복잡도를 생각해야 함.\n",
    "늘어나는 ngram_range일 수록 일정 값 이하의 워드 gram threshold를 함께 제시해주는 것이 필요함. \n",
    "\"\"\"\n",
    "from sklearn.feature_extraction.text import CountVectorizer\n",
    "import pandas as pd\n",
    "\n",
    "def make_count_vector_df(sent_lst):\n",
    "    \"\"\"\n",
    "    관사 삭제: the a 등은 자동으로 삭제됨\n",
    "    단수 복수는?: 삭제되지 않는다. \n",
    "    비교적 간단하게 여기서 count vector를 만들 수 있기는 한데, 이정도는 나도 금방 코딩해서 만들 수 있는 정도기는 함. \n",
    "    뭐 그래도 경우에 \n",
    "    \"\"\"\n",
    "    CV_model = CountVectorizer(\n",
    "        ngram_range=(1,2), # 앞 뒤 window를 고려하여 확장된 형태로 제시해줌. phrase를 뽑아낼 수 있는 강점이 있기는 할듯. \n",
    "        min_df = 1, # document freqeuency 가 1 이상은 되는 키워드만으로 vocabulary를 구성\n",
    "        max_df = 2, # document frequency가 2 이하인 키워드만으로 vocabulary를 구성 \n",
    "        binary = False # binary이면 있다 없다 구조로 변경됨\n",
    "    )\n",
    "    cv_result = CV_model.fit_transform(sent_lst)\n",
    "    # print(\"CV_model.vocabulary_: {}\".format(CV_model.vocabulary_))\n",
    "    return pd.DataFrame(cv_result.toarray(),\n",
    "             columns = [it[0] for it in sorted(CV_model.vocabulary_.items(), key=lambda x: x[1])])\n",
    "sent_lst = [\"I am a boys, boy\", 'You are a girl', \"he is the a boy or girl\"]\n",
    "print(make_count_vector_df(sent_lst))"
   ]
  },
  {
   "cell_type": "code",
   "execution_count": 114,
   "metadata": {},
   "outputs": [
    {
     "name": "stdout",
     "output_type": "stream",
     "text": [
      "         am       boy       dog      girl\n",
      "0  0.508542  0.861037  0.000000  0.000000\n",
      "1  0.508542  0.000000  0.000000  0.861037\n",
      "2  0.508542  0.000000  0.861037  0.000000\n"
     ]
    }
   ],
   "source": [
    "from sklearn.feature_extraction.text import TfidfVectorizer\n",
    "def make_tfidf_df(sent_lst):\n",
    "    TFIDFmodel = TfidfVectorizer(\n",
    "        ngram_range=(1,1), # 앞 뒤 window를 고려하여 확장된 형태로 제시해줌. phrase를 뽑아낼 수 있는 강점이 있기는 할듯. \n",
    "        min_df = 1, # document freqeuency 가 1 이상은 되는 키워드만으로 vocabulary를 구성\n",
    "        max_df = 10, # document frequency가 2 이하인 키워드만으로 vocabulary를 구성 \n",
    "        binary = False # binary이면 있다 없다 구조로 변경됨\n",
    "    )\n",
    "    TFIDFmodel.fit(sent_lst)\n",
    "    #print(TFIDFmodel.vocabulary_)\n",
    "    return pd.DataFrame(TFIDFmodel.transform(sent_lst).toarray(),\n",
    "             columns = [it[0] for it in sorted(TFIDFmodel.vocabulary_.items(), key=lambda x: x[1])])\n",
    "sent_lst = [\"I am a boy\", \"I am a girl\", \"I am a dog\"]\n",
    "print( make_tfidf_df(sent_lst) )"
   ]
  },
  {
   "cell_type": "code",
   "execution_count": 340,
   "metadata": {},
   "outputs": [
    {
     "data": {
      "image/png": "[encoded data removed]",
      "text/plain": [
       "<matplotlib.figure.Figure at 0x1a2e840da0>"
      ]
     },
     "metadata": {},
     "output_type": "display_data"
    }
   ],
   "source": [
    "\n",
    "\"\"\"\n",
    "\"\"\"\n",
    "\n",
    "\"\"\"\n",
    "for w in model.wv.index2entity:\n",
    "    print(\"{} ==> {}\".format(w, model.wv.get_vector(w)))\n",
    "\n",
    "print(model.wv.most_similar('boy'))\n",
    "\n",
    "\n",
    "\"\"\"\n",
    "\n",
    "# using tsne and visualization \n",
    "\"\"\"\n",
    "# actor + she - actress \n",
    "print(model.wv.most_similar(positive=['actor', 'she'], negative='actress', topn=1))\n",
    "# actress + he - actor\n",
    "print(model.wv.most_similar(positive=['actress', 'he'], negative='actor', topn=1))\n",
    "\"\"\"\n",
    "from gensim.models.word2vec import Word2Vec\n",
    "import matplotlib.pyplot as plt\n",
    "\"\"\"\n",
    "3차원으로 변경하여 보여주는 것도 괜찮을 것 같은데 흠. \n",
    "\"\"\"\n",
    "f, axes = plt.subplots(2, 2, sharex=False, sharey=False)\n",
    "f.set_size_inches((16, 6)) \n",
    "for i in range(0, 2):\n",
    "    for j in range(0, 2):\n",
    "        sample_n = [1, 1000, 2000, 6000][i*2+j]\n",
    "        sent_lst = [\"I am a boy\", \"I am a girl\", \"I am a dog\"]*sample_n\n",
    "        sent_split_lst = map(lambda s: list(s.lower().split(\" \")), sent_lst)\n",
    "\n",
    "        model = Word2Vec(list(sent_split_lst), size=2, window = 3, min_count=1)\n",
    "        model.init_sims(replace=True)# 학습 완료 후, 필요없는 메모리 삭제 \n",
    "\n",
    "        for x, y, t in ((model.wv.get_vector(w)[0], model.wv.get_vector(w)[0], w) for w in model.wv.index2entity):\n",
    "            axes[i][j].scatter(x, y, cmap=plt.cm.rainbow)\n",
    "            axes[i][j].text(x+0.01, y, t, fontsize=12)\n",
    "            axes[i][j].set_title(\"sample size = {}\".format(sample_n))\n",
    "f.tight_layout()# 그냥 이걸로 다 해결되었다.\n",
    "plt.savefig('../../assets/images/markdown_img/word_embedding_subplot_20180515.svg')\n",
    "plt.show()"
   ]
  },
  {
   "cell_type": "code",
   "execution_count": null,
   "metadata": {
    "collapsed": true
   },
   "outputs": [],
   "source": [
    "# 3차원에 그림 그리기. "
   ]
  },
  {
   "cell_type": "code",
   "execution_count": 318,
   "metadata": {},
   "outputs": [
    {
     "data": {
      "text/plain": [
       "1"
      ]
     },
     "execution_count": 318,
     "metadata": {},
     "output_type": "execute_result"
    }
   ],
   "source": []
  },
  {
   "cell_type": "code",
   "execution_count": 317,
   "metadata": {},
   "outputs": [
    {
     "data": {
      "image/png": "[encoded data removed]",
      "text/plain": [
       "<matplotlib.figure.Figure at 0x1a2fc649e8>"
      ]
     },
     "metadata": {},
     "output_type": "display_data"
    }
   ],
   "source": [
    "import matplotlib.pyplot as plt\n",
    "import numpy as np \n",
    "\n",
    "f, axes = plt.subplots(1, 4, sharex=True, sharey=True)\n",
    "\"\"\"figure의 크기를 조정, 원래 하던 방식인 f.figsize=(16, 4)로는 낫 워킹. \n",
    "\"\"\"\n",
    "f.set_size_inches((16, 4)) \n",
    "for i in range(0, 4):\n",
    "    axes[i].scatter(np.random.random(30), np.random.random(30), alpha=0.7)\n",
    "    axes[i].set_title(\"axe {}\".format(i))\n",
    "plt.savefig('../../assets/images/markdown_img/pl_subplot_180515.svg')\n",
    "plt.show()"
   ]
  },
  {
   "cell_type": "code",
   "execution_count": null,
   "metadata": {
    "collapsed": true
   },
   "outputs": [],
   "source": [
    "f, axes = plt.subplots(1, 2, sharey=True)\n",
    "for \n",
    "ax1.plot(x, y)\n",
    "ax1.set_title('Sharing Y axis')\n",
    "ax2.scatter(x, y)"
   ]
  },
  {
   "cell_type": "code",
   "execution_count": 235,
   "metadata": {},
   "outputs": [
    {
     "data": {
      "image/png": "[encoded data removed]",
      "text/plain": [
       "<matplotlib.figure.Figure at 0x1a2cf955f8>"
      ]
     },
     "metadata": {},
     "output_type": "display_data"
    }
   ],
   "source": [
    "import matplotlib.pyplot as plt\n",
    "\n",
    "plt.figure(figsize=(16, 4))\n",
    "plt.margins(0.1, 0.1)\n",
    "for x in range(0, 8):\n",
    "    for y in range(0, 4):\n",
    "        plt.scatter(x, y, c='b')\n",
    "        plt.text(x+0.1, y, \"point({}, {})\".format(x, y), fontsize=10)\n",
    "plt.savefig(\"../../assets/images/markdown_img/mat_text_180515.svg\")\n",
    "        \n",
    "    "
   ]
  },
  {
   "cell_type": "code",
   "execution_count": 248,
   "metadata": {},
   "outputs": [
    {
     "data": {
      "image/png": "[encoded data removed]",
      "text/plain": [
       "<matplotlib.figure.Figure at 0x1a2e848a58>"
      ]
     },
     "metadata": {},
     "output_type": "display_data"
    }
   ],
   "source": [
    "import numpy as np\n",
    "import matplotlib.pyplot as plt\n",
    "\n",
    "fig = plt.figure(figsize=(12, 4))\n",
    "ax = fig.add_subplot(111)\n",
    "\n",
    "t = np.arange(0.0, 5.0, 0.01)\n",
    "s = np.cos(2*np.pi*t)\n",
    "line, = ax.plot(t, s, lw=2)\n",
    "\n",
    "ax.annotate('local max', xy=(2, 1), xytext=(6, 1.5),\n",
    "            arrowprops=dict(facecolor='black', shrink=0.1),\n",
    "           )\n",
    "\n",
    "ax.set_ylim(-2,2)\n",
    "plt.savefig('../../assets/images/markdown_img/plt_annotate_20180515.svg')\n",
    "plt.show()"
   ]
  },
  {
   "cell_type": "code",
   "execution_count": 106,
   "metadata": {},
   "outputs": [
    {
     "data": {
      "text/plain": [
       "122"
      ]
     },
     "execution_count": 106,
     "metadata": {},
     "output_type": "execute_result"
    }
   ],
   "source": [
    "print(\"vector of {}:\".format('man'))\n",
    "print(model.wv['man'])\n",
    "for w1, w2 in [('actor', 'actress'), ('man', 'woman')]:\n",
    "    print(\"similarity of {} and {}:\".format(w1, w2))\n",
    "    print(model.wv.similarity(w1, w2))\n",
    "\n",
    "print()\n",
    "print(model.wv.most_similar('man'))\n",
    "print()"
   ]
  },
  {
   "cell_type": "code",
   "execution_count": null,
   "metadata": {},
   "outputs": [],
   "source": []
  },
  {
   "cell_type": "code",
   "execution_count": null,
   "metadata": {
    "collapsed": true
   },
   "outputs": [],
   "source": []
  },
  {
   "cell_type": "code",
   "execution_count": null,
   "metadata": {
    "collapsed": true
   },
   "outputs": [],
   "source": []
  },
  {
   "cell_type": "code",
   "execution_count": null,
   "metadata": {},
   "outputs": [],
   "source": []
  },
  {
   "cell_type": "code",
   "execution_count": 121,
   "metadata": {},
   "outputs": [
    {
     "name": "stdout",
     "output_type": "stream",
     "text": [
      "[['plot', ':', 'two', 'teen', 'couples', 'go', 'to', 'a', 'church', 'party', ',', 'drink', 'and', 'then', 'drive', '.'], ['they', 'get', 'into', 'an', 'accident', '.'], ['one', 'of', 'the', 'guys', 'dies', ',', 'but', 'his', 'girlfriend', 'continues', 'to', 'see', 'him', 'in', 'her', 'life', ',', 'and', 'has', 'nightmares', '.'], ['what', \"'\", 's', 'the', 'deal', '?'], ['watch', 'the', 'movie', 'and', '\"', 'sorta', '\"', 'find', 'out', '.'], ['.'], ['.'], ['critique', ':', 'a', 'mind', '-', 'fuck', 'movie', 'for', 'the', 'teen', 'generation', 'that', 'touches', 'on', 'a', 'very', 'cool', 'idea', ',', 'but', 'presents', 'it', 'in', 'a', 'very', 'bad', 'package', '.'], ['which', 'is', 'what', 'makes', 'this', 'review', 'an', 'even', 'harder', 'one', 'to', 'write', ',', 'since', 'i', 'generally', 'applaud', 'films', 'which', 'attempt', 'to', 'break', 'the', 'mold', ',', 'mess', 'with', 'your', 'head', 'and', 'such', '(', 'lost', 'highway', '&', 'memento', ')', ',', 'but', 'there', 'are', 'good', 'and', 'bad', 'ways', 'of', 'making', 'all', 'types', 'of', 'films', ',', 'and', 'these', 'folks', 'just', 'didn', \"'\", 't', 'snag', 'this', 'one', 'correctly', '.'], ['they', 'seem', 'to', 'have', 'taken', 'this', 'pretty', 'neat', 'concept', ',', 'but', 'executed', 'it', 'terribly', '.']]\n",
      "vector of man:\n",
      "[-0.05991558 -0.03086592  0.01189669  0.102423    0.08505771 -0.09862742\n",
      "  0.08142797  0.02029772 -0.17479017  0.01900225  0.05792401  0.06180907\n",
      " -0.04836149 -0.10937159  0.14327788 -0.04057971 -0.1174344  -0.04258196\n",
      "  0.18731837  0.151831    0.10687945  0.08146088 -0.08685417  0.10933898\n",
      " -0.16440198  0.0373562   0.01310256  0.03336507 -0.01018305 -0.0933388\n",
      " -0.10338249  0.04603217 -0.07799796 -0.024062    0.05609193  0.0566499\n",
      "  0.0074096   0.33555806 -0.1898278  -0.11308021 -0.07655233  0.11526188\n",
      "  0.12217306  0.01184229  0.09759069 -0.11515123 -0.15305457  0.10993052\n",
      " -0.00248098  0.02767029  0.04375774 -0.00440128  0.04237483 -0.04811569\n",
      " -0.19767506 -0.10172944 -0.07304381  0.04213926  0.05408062  0.00856169\n",
      "  0.15958184  0.08053605  0.09385015 -0.1240105  -0.11469473 -0.05808977\n",
      " -0.0507145  -0.06650107 -0.06885882 -0.04288544 -0.18494043 -0.2141173\n",
      " -0.0578146  -0.03582449 -0.07636473  0.01424812  0.06276877  0.10046591\n",
      " -0.12056368  0.0165755   0.11693306  0.16448683 -0.02465955 -0.01681185\n",
      " -0.00900315 -0.01431582 -0.01640091  0.11476148 -0.07439734 -0.01545318\n",
      "  0.0801242   0.12226445  0.14416789 -0.1167293   0.03779126 -0.12788197\n",
      "  0.03959465  0.16347627 -0.1416588   0.0379013 ]\n",
      "similarity of actor and actress:\n",
      "0.88108045572\n",
      "similarity of man and woman:\n",
      "0.902238936279\n",
      "\n",
      "[('woman', 0.9022389650344849), ('girl', 0.8441144824028015), ('boy', 0.8249863386154175), ('child', 0.8178112506866455), ('killer', 0.7937303781509399), ('doctor', 0.7489098310470581), ('kid', 0.7231124639511108), ('lady', 0.7107384204864502), ('guy', 0.709437370300293), ('secret', 0.7061775326728821)]\n",
      "\n",
      "[('he', 0.3141002058982849)]\n",
      "[('she', 0.38161590695381165)]\n"
     ]
    }
   ],
   "source": [
    "from nltk.corpus import movie_reviews\n",
    "sentences = [list(s) for s in movie_reviews.sents()]\n",
    "\n",
    "print(sentences[:10])\n",
    "from gensim.models.word2vec import Word2Vec\n",
    "model = Word2Vec(sentences, size=100) \n",
    "# 여기서 사이즈는 vector의 크기를 말합니다. nn의 최종 layer size라고 생각해도 됩니다. \n",
    "# 뉴럴넷의 사이즈를 좀 깊게 만들어보고 싶은데, gensim에서 자동으로 해주는지 모르겠네요. \n",
    "model.init_sims(replace=True)# 학습 완료 후, 필요없는 메모리 삭제 \n",
    "\n",
    "print(\"vector of {}:\".format('man'))\n",
    "print(model.wv['man'])\n",
    "for w1, w2 in [('actor', 'actress'), ('man', 'woman')]:\n",
    "    print(\"similarity of {} and {}:\".format(w1, w2))\n",
    "    print(model.wv.similarity(w1, w2))\n",
    "\n",
    "print()\n",
    "print(model.wv.most_similar('man'))\n",
    "print()\n",
    "# actor + she - actress \n",
    "print(model.wv.most_similar(positive=['actor', 'she'], negative='actress', topn=1))\n",
    "# actress + he - actor\n",
    "print(model.wv.most_similar(positive=['actress', 'he'], negative='actor', topn=1))"
   ]
  },
  {
   "cell_type": "code",
   "execution_count": 247,
   "metadata": {},
   "outputs": [
    {
     "data": {
      "text/plain": [
       "0.001"
      ]
     },
     "execution_count": 247,
     "metadata": {},
     "output_type": "execute_result"
    }
   ],
   "source": [
    "model.vocabulary.sample"
   ]
  },
  {
   "cell_type": "code",
   "execution_count": 203,
   "metadata": {},
   "outputs": [
    {
     "data": {
      "text/plain": [
       "'\\nbipartite graph를 구성해서 거기서부터, similarity를 뽑아낼 수 있지 않을까? 사실 그게 일종의 워드 임베딩 아닌가. \\n원래 워드 임베딩은 개별 단어를 중심으로 하는 건데, 여기는 지금 그렇게 구성할 수 가 없을 것 같음. \\n\\nauthor kwd ==> index kwd \\nauthor kwd ==> abstrac noun or verb (or both)\\n\\n의 형태로 bipartite하게 구성할 수 있는데 이렇게 구성하여, structure equivalence를 만들 수 있지 않을까? \\n\\n아무튼 일단 워드 임베딩을 조금만 더 파서 정리는 마저 하는 것이 필요함. \\n'"
      ]
     },
     "execution_count": 203,
     "metadata": {},
     "output_type": "execute_result"
    }
   ],
   "source": [
    "\"\"\"\n",
    "bipartite graph를 구성해서 거기서부터, similarity를 뽑아낼 수 있지 않을까? 사실 그게 일종의 워드 임베딩 아닌가. \n",
    "원래 워드 임베딩은 개별 단어를 중심으로 하는 건데, 여기는 지금 그렇게 구성할 수 가 없을 것 같음. \n",
    "\n",
    "author kwd ==> index kwd \n",
    "author kwd ==> abstrac noun or verb (or both)\n",
    "\n",
    "의 형태로 bipartite하게 구성할 수 있는데 이렇게 구성하여, structure equivalence를 만들 수 있지 않을까? \n",
    "\n",
    "아무튼 일단 워드 임베딩을 조금만 더 파서 정리는 마저 하는 것이 필요함. \n",
    "\"\"\""
   ]
  },
  {
   "cell_type": "code",
   "execution_count": 199,
   "metadata": {},
   "outputs": [
    {
     "ename": "AttributeError",
     "evalue": "'list' object has no attribute 'threshold'",
     "output_type": "error",
     "traceback": [
      "\u001b[0;31m---------------------------------------------------------------------------\u001b[0m",
      "\u001b[0;31mAttributeError\u001b[0m                            Traceback (most recent call last)",
      "\u001b[0;32m<ipython-input-199-fb019c283242>\u001b[0m in \u001b[0;36m<module>\u001b[0;34m()\u001b[0m\n\u001b[1;32m      2\u001b[0m \u001b[0mss\u001b[0m \u001b[0;34m=\u001b[0m \u001b[0;34m[\u001b[0m\u001b[0;34m'I'\u001b[0m\u001b[0;34m,\u001b[0m \u001b[0;34m'am'\u001b[0m\u001b[0;34m,\u001b[0m \u001b[0;34m'a'\u001b[0m\u001b[0;34m,\u001b[0m \u001b[0;34m'good'\u001b[0m\u001b[0;34m,\u001b[0m \u001b[0;34m'boy'\u001b[0m\u001b[0;34m]\u001b[0m\u001b[0;34m\u001b[0m\u001b[0m\n\u001b[1;32m      3\u001b[0m bigram_transformer = gensim.models.phrases.Phraser([\n\u001b[0;32m----> 4\u001b[0;31m     \u001b[0mss\u001b[0m\u001b[0;34m\u001b[0m\u001b[0m\n\u001b[0m\u001b[1;32m      5\u001b[0m ])\n\u001b[1;32m      6\u001b[0m \u001b[0mlist\u001b[0m\u001b[0;34m(\u001b[0m\u001b[0mbigram_transformer\u001b[0m\u001b[0;34m[\u001b[0m\u001b[0mss\u001b[0m\u001b[0;34m]\u001b[0m\u001b[0;34m)\u001b[0m\u001b[0;34m\u001b[0m\u001b[0m\n",
      "\u001b[0;32m~/anaconda3/lib/python3.6/site-packages/gensim/models/phrases.py\u001b[0m in \u001b[0;36m__init__\u001b[0;34m(self, phrases_model)\u001b[0m\n\u001b[1;32m    570\u001b[0m \u001b[0;34m\u001b[0m\u001b[0m\n\u001b[1;32m    571\u001b[0m     \u001b[0;32mdef\u001b[0m \u001b[0m__init__\u001b[0m\u001b[0;34m(\u001b[0m\u001b[0mself\u001b[0m\u001b[0;34m,\u001b[0m \u001b[0mphrases_model\u001b[0m\u001b[0;34m)\u001b[0m\u001b[0;34m:\u001b[0m\u001b[0;34m\u001b[0m\u001b[0m\n\u001b[0;32m--> 572\u001b[0;31m         \u001b[0mself\u001b[0m\u001b[0;34m.\u001b[0m\u001b[0mthreshold\u001b[0m \u001b[0;34m=\u001b[0m \u001b[0mphrases_model\u001b[0m\u001b[0;34m.\u001b[0m\u001b[0mthreshold\u001b[0m\u001b[0;34m\u001b[0m\u001b[0m\n\u001b[0m\u001b[1;32m    573\u001b[0m         \u001b[0mself\u001b[0m\u001b[0;34m.\u001b[0m\u001b[0mmin_count\u001b[0m \u001b[0;34m=\u001b[0m \u001b[0mphrases_model\u001b[0m\u001b[0;34m.\u001b[0m\u001b[0mmin_count\u001b[0m\u001b[0;34m\u001b[0m\u001b[0m\n\u001b[1;32m    574\u001b[0m         \u001b[0mself\u001b[0m\u001b[0;34m.\u001b[0m\u001b[0mdelimiter\u001b[0m \u001b[0;34m=\u001b[0m \u001b[0mphrases_model\u001b[0m\u001b[0;34m.\u001b[0m\u001b[0mdelimiter\u001b[0m\u001b[0;34m\u001b[0m\u001b[0m\n",
      "\u001b[0;31mAttributeError\u001b[0m: 'list' object has no attribute 'threshold'"
     ]
    }
   ],
   "source": [
    "import gensim \n",
    "ss = ['I', 'am', 'a', 'good', 'boy'] \n",
    "bigram_transformer = gensim.models.phrases.Phraser([\n",
    "    ss\n",
    "])"
   ]
  },
  {
   "cell_type": "code",
   "execution_count": 96,
   "metadata": {},
   "outputs": [
    {
     "name": "stderr",
     "output_type": "stream",
     "text": [
      "/Users/frhyme/anaconda3/lib/python3.6/site-packages/ipykernel_launcher.py:5: DeprecationWarning: Call to deprecated `most_similar` (Method will be removed in 4.0.0, use self.wv.most_similar() instead).\n",
      "  \"\"\"\n"
     ]
    },
    {
     "ename": "KeyError",
     "evalue": "\"word 'small and medium enterprises' not in vocabulary\"",
     "output_type": "error",
     "traceback": [
      "\u001b[0;31m---------------------------------------------------------------------------\u001b[0m",
      "\u001b[0;31mKeyError\u001b[0m                                  Traceback (most recent call last)",
      "\u001b[0;32m<ipython-input-96-015b962efa43>\u001b[0m in \u001b[0;36m<module>\u001b[0;34m()\u001b[0m\n\u001b[1;32m      3\u001b[0m \u001b[0mmodel\u001b[0m \u001b[0;34m=\u001b[0m \u001b[0mWord2Vec\u001b[0m\u001b[0;34m(\u001b[0m\u001b[0mabs_lst\u001b[0m\u001b[0;34m)\u001b[0m\u001b[0;34m\u001b[0m\u001b[0m\n\u001b[1;32m      4\u001b[0m \u001b[0mmodel\u001b[0m\u001b[0;34m.\u001b[0m\u001b[0minit_sims\u001b[0m\u001b[0;34m(\u001b[0m\u001b[0mreplace\u001b[0m\u001b[0;34m=\u001b[0m\u001b[0;32mTrue\u001b[0m\u001b[0;34m)\u001b[0m\u001b[0;31m# 학습 완료 후, 필요없는 메모리 삭제\u001b[0m\u001b[0;34m\u001b[0m\u001b[0m\n\u001b[0;32m----> 5\u001b[0;31m \u001b[0mmodel\u001b[0m\u001b[0;34m.\u001b[0m\u001b[0mmost_similar\u001b[0m\u001b[0;34m(\u001b[0m\u001b[0;34m\"small and medium enterprises\"\u001b[0m\u001b[0;34m)\u001b[0m\u001b[0;34m\u001b[0m\u001b[0m\n\u001b[0m",
      "\u001b[0;32m~/anaconda3/lib/python3.6/site-packages/gensim/utils.py\u001b[0m in \u001b[0;36mnew_func1\u001b[0;34m(*args, **kwargs)\u001b[0m\n\u001b[1;32m   1396\u001b[0m                     \u001b[0mstacklevel\u001b[0m\u001b[0;34m=\u001b[0m\u001b[0;36m2\u001b[0m\u001b[0;34m\u001b[0m\u001b[0m\n\u001b[1;32m   1397\u001b[0m                 )\n\u001b[0;32m-> 1398\u001b[0;31m                 \u001b[0;32mreturn\u001b[0m \u001b[0mfunc\u001b[0m\u001b[0;34m(\u001b[0m\u001b[0;34m*\u001b[0m\u001b[0margs\u001b[0m\u001b[0;34m,\u001b[0m \u001b[0;34m**\u001b[0m\u001b[0mkwargs\u001b[0m\u001b[0;34m)\u001b[0m\u001b[0;34m\u001b[0m\u001b[0m\n\u001b[0m\u001b[1;32m   1399\u001b[0m \u001b[0;34m\u001b[0m\u001b[0m\n\u001b[1;32m   1400\u001b[0m             \u001b[0;32mreturn\u001b[0m \u001b[0mnew_func1\u001b[0m\u001b[0;34m\u001b[0m\u001b[0m\n",
      "\u001b[0;32m~/anaconda3/lib/python3.6/site-packages/gensim/models/base_any2vec.py\u001b[0m in \u001b[0;36mmost_similar\u001b[0;34m(self, positive, negative, topn, restrict_vocab, indexer)\u001b[0m\n\u001b[1;32m    694\u001b[0m         \u001b[0mRefer\u001b[0m \u001b[0mto\u001b[0m \u001b[0mthe\u001b[0m \u001b[0mdocumentation\u001b[0m \u001b[0;32mfor\u001b[0m\u001b[0;31m \u001b[0m\u001b[0;31m`\u001b[0m\u001b[0mgensim\u001b[0m\u001b[0;34m.\u001b[0m\u001b[0mmodels\u001b[0m\u001b[0;34m.\u001b[0m\u001b[0mkeyedvectors\u001b[0m\u001b[0;34m.\u001b[0m\u001b[0mWordEmbeddingsKeyedVectors\u001b[0m\u001b[0;34m.\u001b[0m\u001b[0mmost_similar\u001b[0m\u001b[0;31m`\u001b[0m\u001b[0;34m\u001b[0m\u001b[0m\n\u001b[1;32m    695\u001b[0m         \"\"\"\n\u001b[0;32m--> 696\u001b[0;31m         \u001b[0;32mreturn\u001b[0m \u001b[0mself\u001b[0m\u001b[0;34m.\u001b[0m\u001b[0mwv\u001b[0m\u001b[0;34m.\u001b[0m\u001b[0mmost_similar\u001b[0m\u001b[0;34m(\u001b[0m\u001b[0mpositive\u001b[0m\u001b[0;34m,\u001b[0m \u001b[0mnegative\u001b[0m\u001b[0;34m,\u001b[0m \u001b[0mtopn\u001b[0m\u001b[0;34m,\u001b[0m \u001b[0mrestrict_vocab\u001b[0m\u001b[0;34m,\u001b[0m \u001b[0mindexer\u001b[0m\u001b[0;34m)\u001b[0m\u001b[0;34m\u001b[0m\u001b[0m\n\u001b[0m\u001b[1;32m    697\u001b[0m \u001b[0;34m\u001b[0m\u001b[0m\n\u001b[1;32m    698\u001b[0m     \u001b[0;34m@\u001b[0m\u001b[0mdeprecated\u001b[0m\u001b[0;34m(\u001b[0m\u001b[0;34m\"Method will be removed in 4.0.0, use self.wv.wmdistance() instead\"\u001b[0m\u001b[0;34m)\u001b[0m\u001b[0;34m\u001b[0m\u001b[0m\n",
      "\u001b[0;32m~/anaconda3/lib/python3.6/site-packages/gensim/models/keyedvectors.py\u001b[0m in \u001b[0;36mmost_similar\u001b[0;34m(self, positive, negative, topn, restrict_vocab, indexer)\u001b[0m\n\u001b[1;32m    363\u001b[0m                 \u001b[0mmean\u001b[0m\u001b[0;34m.\u001b[0m\u001b[0mappend\u001b[0m\u001b[0;34m(\u001b[0m\u001b[0mweight\u001b[0m \u001b[0;34m*\u001b[0m \u001b[0mword\u001b[0m\u001b[0;34m)\u001b[0m\u001b[0;34m\u001b[0m\u001b[0m\n\u001b[1;32m    364\u001b[0m             \u001b[0;32melse\u001b[0m\u001b[0;34m:\u001b[0m\u001b[0;34m\u001b[0m\u001b[0m\n\u001b[0;32m--> 365\u001b[0;31m                 \u001b[0mmean\u001b[0m\u001b[0;34m.\u001b[0m\u001b[0mappend\u001b[0m\u001b[0;34m(\u001b[0m\u001b[0mweight\u001b[0m \u001b[0;34m*\u001b[0m \u001b[0mself\u001b[0m\u001b[0;34m.\u001b[0m\u001b[0mword_vec\u001b[0m\u001b[0;34m(\u001b[0m\u001b[0mword\u001b[0m\u001b[0;34m,\u001b[0m \u001b[0muse_norm\u001b[0m\u001b[0;34m=\u001b[0m\u001b[0;32mTrue\u001b[0m\u001b[0;34m)\u001b[0m\u001b[0;34m)\u001b[0m\u001b[0;34m\u001b[0m\u001b[0m\n\u001b[0m\u001b[1;32m    366\u001b[0m                 \u001b[0;32mif\u001b[0m \u001b[0mword\u001b[0m \u001b[0;32min\u001b[0m \u001b[0mself\u001b[0m\u001b[0;34m.\u001b[0m\u001b[0mvocab\u001b[0m\u001b[0;34m:\u001b[0m\u001b[0;34m\u001b[0m\u001b[0m\n\u001b[1;32m    367\u001b[0m                     \u001b[0mall_words\u001b[0m\u001b[0;34m.\u001b[0m\u001b[0madd\u001b[0m\u001b[0;34m(\u001b[0m\u001b[0mself\u001b[0m\u001b[0;34m.\u001b[0m\u001b[0mvocab\u001b[0m\u001b[0;34m[\u001b[0m\u001b[0mword\u001b[0m\u001b[0;34m]\u001b[0m\u001b[0;34m.\u001b[0m\u001b[0mindex\u001b[0m\u001b[0;34m)\u001b[0m\u001b[0;34m\u001b[0m\u001b[0m\n",
      "\u001b[0;32m~/anaconda3/lib/python3.6/site-packages/gensim/models/keyedvectors.py\u001b[0m in \u001b[0;36mword_vec\u001b[0;34m(self, word, use_norm)\u001b[0m\n\u001b[1;32m    272\u001b[0m             \u001b[0;32mreturn\u001b[0m \u001b[0mresult\u001b[0m\u001b[0;34m\u001b[0m\u001b[0m\n\u001b[1;32m    273\u001b[0m         \u001b[0;32melse\u001b[0m\u001b[0;34m:\u001b[0m\u001b[0;34m\u001b[0m\u001b[0m\n\u001b[0;32m--> 274\u001b[0;31m             \u001b[0;32mraise\u001b[0m \u001b[0mKeyError\u001b[0m\u001b[0;34m(\u001b[0m\u001b[0;34m\"word '%s' not in vocabulary\"\u001b[0m \u001b[0;34m%\u001b[0m \u001b[0mword\u001b[0m\u001b[0;34m)\u001b[0m\u001b[0;34m\u001b[0m\u001b[0m\n\u001b[0m\u001b[1;32m    275\u001b[0m \u001b[0;34m\u001b[0m\u001b[0m\n\u001b[1;32m    276\u001b[0m     \u001b[0;32mdef\u001b[0m \u001b[0mget_vector\u001b[0m\u001b[0;34m(\u001b[0m\u001b[0mself\u001b[0m\u001b[0;34m,\u001b[0m \u001b[0mword\u001b[0m\u001b[0;34m)\u001b[0m\u001b[0;34m:\u001b[0m\u001b[0;34m\u001b[0m\u001b[0m\n",
      "\u001b[0;31mKeyError\u001b[0m: \"word 'small and medium enterprises' not in vocabulary\""
     ]
    }
   ],
   "source": [
    "from gensim.models.word2vec import Word2Vec\n",
    "\n",
    "model = Word2Vec(abs_lst)\n",
    "model.init_sims(replace=True)# 학습 완료 후, 필요없는 메모리 삭제 \n",
    "#model.most_similar(\"small and medium enterprises\")"
   ]
  },
  {
   "cell_type": "code",
   "execution_count": 94,
   "metadata": {
    "collapsed": true
   },
   "outputs": [],
   "source": [
    "auth_counter = Counter(itertools.chain.from_iterable(auth_kwd_lst)).most_common()\n",
    "count1_w = list(filter(lambda x: True if x[1]==5 else False, auth_counter))"
   ]
  },
  {
   "cell_type": "code",
   "execution_count": 95,
   "metadata": {},
   "outputs": [
    {
     "name": "stdout",
     "output_type": "stream",
     "text": [
      "proximity\n",
      "[('trust,', 0.7394723892211914), ('experience,', 0.7393851280212402), ('formality', 0.7343860864639282), ('embeddedness', 0.7326754927635193), (\"owner's\", 0.72593092918396), ('human,', 0.7258467674255371), ('income,', 0.720426619052887), ('structure,', 0.7192338109016418), ('knowledge)', 0.7186062932014465), ('loyalty', 0.717450737953186)]\n",
      "\n",
      "fuzzy comprehensive evaluation\n",
      "[('prosthetics', 0.9823917150497437), ('information systems security', 0.9795824289321899), ('wastewater treatment', 0.9777668118476868), ('natural language processing', 0.9777394533157349), ('credit evaluations', 0.977641761302948), ('agile methods', 0.9775588512420654), ('power cables', 0.9772118926048279), ('cost saving', 0.9771889448165894), ('drug blood level', 0.9763650298118591), ('drug bioavailability', 0.9759867787361145)]\n",
      "\n",
      "spillovers\n",
      "[('portfolios', 0.7346036434173584), ('appropriability', 0.7307323217391968), ('cross-border', 0.7283568978309631), ('breadth', 0.7144168615341187), ('mind-set', 0.712887704372406), ('tenure', 0.7062869668006897), ('inflows', 0.701845109462738), ('reallocation', 0.6988070607185364), ('equity,', 0.6935837268829346), ('involvement.', 0.6921118497848511)]\n",
      "\n",
      "sensitivity analysis\n",
      "[('software testing', 0.992296576499939), ('data acquisition', 0.9920706748962402), ('user interfaces', 0.9906312823295593), ('computer software selection and evaluation', 0.9906026721000671), ('embedded systems', 0.9890177845954895), ('petroleum engineering', 0.9889569878578186), ('best practices', 0.9889198541641235), ('energy management systems', 0.9884681701660156), ('neural networks', 0.9881827235221863), ('computer simulation', 0.9881125092506409)]\n",
      "\n",
      "waste\n",
      "[('material', 0.7799482345581055), ('traffic', 0.7637003660202026), ('equipment', 0.7552963495254517), ('electricity', 0.7420525550842285), ('transport', 0.7340760231018066), ('raw', 0.7266721725463867), ('water', 0.723881185054779), ('air', 0.7221243381500244), ('charge', 0.7171646952629089), ('energy,', 0.7137024402618408)]\n",
      "\n",
      "technological innovation capabilities\n",
      "[('medium enterprises', 0.8217032551765442), ('wood processing', 0.7786175012588501), ('industrial enterprise', 0.7584035396575928), ('financial system', 0.7444849610328674), ('corporate social responsibilities (csr)', 0.744378387928009), ('firm size', 0.7370509505271912), ('industrial investment', 0.7339873909950256), ('business development', 0.7292322516441345), ('software and hardwares', 0.7284433245658875), ('brazil', 0.7282372117042542)]\n",
      "\n",
      "enablers\n",
      "[('drivers', 0.8133851885795593), ('barriers', 0.7590547204017639), ('facilitators', 0.7429195642471313), ('obstacles', 0.722565770149231), ('motivations', 0.6505460143089294), ('weaknesses', 0.650393009185791), ('tqm', 0.6491608619689941), ('motives', 0.6373159289360046), ('autonomy', 0.6284334659576416), ('oi', 0.6266810894012451)]\n",
      "\n",
      "vikor\n",
      "[('topsis', 0.9251444339752197), ('dematel', 0.896966278553009), ('ism', 0.8885839581489563), ('mcdm', 0.8861225247383118), ('information mining', 0.8844143152236938), ('colony', 0.8795072436332703), ('togaf', 0.8790115714073181), ('pso', 0.877009391784668), ('neuro-fuzzy', 0.8761899471282959), ('industrial electronics', 0.870215117931366)]\n",
      "\n",
      "renewable energy sources\n",
      "[('superconducting fault current limiters (sfcls)', 0.9842095375061035), ('reactive power compensation', 0.9841621518135071), ('high-temperature superconductor (hts)-cables', 0.984147846698761), ('superconducting faultcurrent limiters (sfcl)', 0.9800307750701904), ('time delay', 0.9798702001571655), ('flywheel energy storage system (fess)', 0.9796547889709473), ('superconducting magnetic energies', 0.9795759320259094), ('supercapacitor', 0.9793630242347717), ('laser treatment', 0.9785982966423035), ('petroleum reservoir evaluation', 0.9783592820167542)]\n",
      "\n",
      "energy consumption\n",
      "[('environmental pollutions', 0.9723266363143921), ('industrie 4.0', 0.9721337556838989), ('manufacturing execution system', 0.9709111452102661), ('remote monitoring', 0.9705083966255188), ('fleet operations', 0.9696674942970276), ('model and simulation', 0.9694508910179138), ('service platforms', 0.9688398241996765), ('programmable logic controllers', 0.9687053561210632), ('particle swarm optimization', 0.9684544205665588), ('industrial robotics', 0.968034565448761)]\n",
      "\n"
     ]
    },
    {
     "name": "stderr",
     "output_type": "stream",
     "text": [
      "/Users/frhyme/anaconda3/lib/python3.6/site-packages/ipykernel_launcher.py:4: DeprecationWarning: Call to deprecated `most_similar` (Method will be removed in 4.0.0, use self.wv.most_similar() instead).\n",
      "  after removing the cwd from sys.path.\n"
     ]
    }
   ],
   "source": [
    "for w in count1_w[:10]:\n",
    "    print(w[0])\n",
    "    try:\n",
    "        print(model.most_similar(w[0]))\n",
    "    except:\n",
    "        continue\n",
    "    print()"
   ]
  },
  {
   "cell_type": "code",
   "execution_count": null,
   "metadata": {
    "collapsed": true
   },
   "outputs": [],
   "source": [
    "from nltk.corpus import movie_reviews\n",
    "sentences = [list(s) for s in movie_reviews.sents()]"
   ]
  },
  {
   "cell_type": "code",
   "execution_count": 97,
   "metadata": {},
   "outputs": [
    {
     "data": {
      "text/plain": [
       "[['plot',\n",
       "  ':',\n",
       "  'two',\n",
       "  'teen',\n",
       "  'couples',\n",
       "  'go',\n",
       "  'to',\n",
       "  'a',\n",
       "  'church',\n",
       "  'party',\n",
       "  ',',\n",
       "  'drink',\n",
       "  'and',\n",
       "  'then',\n",
       "  'drive',\n",
       "  '.'],\n",
       " ['they', 'get', 'into', 'an', 'accident', '.'],\n",
       " ['one',\n",
       "  'of',\n",
       "  'the',\n",
       "  'guys',\n",
       "  'dies',\n",
       "  ',',\n",
       "  'but',\n",
       "  'his',\n",
       "  'girlfriend',\n",
       "  'continues',\n",
       "  'to',\n",
       "  'see',\n",
       "  'him',\n",
       "  'in',\n",
       "  'her',\n",
       "  'life',\n",
       "  ',',\n",
       "  'and',\n",
       "  'has',\n",
       "  'nightmares',\n",
       "  '.'],\n",
       " ['what', \"'\", 's', 'the', 'deal', '?'],\n",
       " ['watch', 'the', 'movie', 'and', '\"', 'sorta', '\"', 'find', 'out', '.'],\n",
       " ['.'],\n",
       " ['.'],\n",
       " ['critique',\n",
       "  ':',\n",
       "  'a',\n",
       "  'mind',\n",
       "  '-',\n",
       "  'fuck',\n",
       "  'movie',\n",
       "  'for',\n",
       "  'the',\n",
       "  'teen',\n",
       "  'generation',\n",
       "  'that',\n",
       "  'touches',\n",
       "  'on',\n",
       "  'a',\n",
       "  'very',\n",
       "  'cool',\n",
       "  'idea',\n",
       "  ',',\n",
       "  'but',\n",
       "  'presents',\n",
       "  'it',\n",
       "  'in',\n",
       "  'a',\n",
       "  'very',\n",
       "  'bad',\n",
       "  'package',\n",
       "  '.'],\n",
       " ['which',\n",
       "  'is',\n",
       "  'what',\n",
       "  'makes',\n",
       "  'this',\n",
       "  'review',\n",
       "  'an',\n",
       "  'even',\n",
       "  'harder',\n",
       "  'one',\n",
       "  'to',\n",
       "  'write',\n",
       "  ',',\n",
       "  'since',\n",
       "  'i',\n",
       "  'generally',\n",
       "  'applaud',\n",
       "  'films',\n",
       "  'which',\n",
       "  'attempt',\n",
       "  'to',\n",
       "  'break',\n",
       "  'the',\n",
       "  'mold',\n",
       "  ',',\n",
       "  'mess',\n",
       "  'with',\n",
       "  'your',\n",
       "  'head',\n",
       "  'and',\n",
       "  'such',\n",
       "  '(',\n",
       "  'lost',\n",
       "  'highway',\n",
       "  '&',\n",
       "  'memento',\n",
       "  ')',\n",
       "  ',',\n",
       "  'but',\n",
       "  'there',\n",
       "  'are',\n",
       "  'good',\n",
       "  'and',\n",
       "  'bad',\n",
       "  'ways',\n",
       "  'of',\n",
       "  'making',\n",
       "  'all',\n",
       "  'types',\n",
       "  'of',\n",
       "  'films',\n",
       "  ',',\n",
       "  'and',\n",
       "  'these',\n",
       "  'folks',\n",
       "  'just',\n",
       "  'didn',\n",
       "  \"'\",\n",
       "  't',\n",
       "  'snag',\n",
       "  'this',\n",
       "  'one',\n",
       "  'correctly',\n",
       "  '.'],\n",
       " ['they',\n",
       "  'seem',\n",
       "  'to',\n",
       "  'have',\n",
       "  'taken',\n",
       "  'this',\n",
       "  'pretty',\n",
       "  'neat',\n",
       "  'concept',\n",
       "  ',',\n",
       "  'but',\n",
       "  'executed',\n",
       "  'it',\n",
       "  'terribly',\n",
       "  '.']]"
      ]
     },
     "execution_count": 97,
     "metadata": {},
     "output_type": "execute_result"
    }
   ],
   "source": []
  },
  {
   "cell_type": "code",
   "execution_count": null,
   "metadata": {
    "collapsed": true
   },
   "outputs": [],
   "source": [
    "from gensim.models.word2vec import Word2Vec\n",
    "model = Word2Vec(sentences)\n",
    "model.init_sims(replace=True)# 학습 완료 후, 필요없는 메모리 삭제 "
   ]
  },
  {
   "cell_type": "code",
   "execution_count": 101,
   "metadata": {},
   "outputs": [
    {
     "ename": "RuntimeError",
     "evalue": "you must first build vocabulary before training the model",
     "output_type": "error",
     "traceback": [
      "\u001b[0;31m---------------------------------------------------------------------------\u001b[0m",
      "\u001b[0;31mRuntimeError\u001b[0m                              Traceback (most recent call last)",
      "\u001b[0;32m<ipython-input-101-5f9fcd98af16>\u001b[0m in \u001b[0;36m<module>\u001b[0;34m()\u001b[0m\n\u001b[1;32m      3\u001b[0m ]\n\u001b[1;32m      4\u001b[0m \u001b[0;32mfrom\u001b[0m \u001b[0mgensim\u001b[0m\u001b[0;34m.\u001b[0m\u001b[0mmodels\u001b[0m\u001b[0;34m.\u001b[0m\u001b[0mword2vec\u001b[0m \u001b[0;32mimport\u001b[0m \u001b[0mWord2Vec\u001b[0m\u001b[0;34m\u001b[0m\u001b[0m\n\u001b[0;32m----> 5\u001b[0;31m \u001b[0mmodel\u001b[0m \u001b[0;34m=\u001b[0m \u001b[0mWord2Vec\u001b[0m\u001b[0;34m(\u001b[0m\u001b[0msentences\u001b[0m\u001b[0;34m)\u001b[0m\u001b[0;34m\u001b[0m\u001b[0m\n\u001b[0m\u001b[1;32m      6\u001b[0m \u001b[0mmodel\u001b[0m\u001b[0;34m.\u001b[0m\u001b[0minit_sims\u001b[0m\u001b[0;34m(\u001b[0m\u001b[0mreplace\u001b[0m\u001b[0;34m=\u001b[0m\u001b[0;32mTrue\u001b[0m\u001b[0;34m)\u001b[0m\u001b[0;31m# 학습 완료 후, 필요없는 메모리 삭제\u001b[0m\u001b[0;34m\u001b[0m\u001b[0m\n\u001b[1;32m      7\u001b[0m \u001b[0mmodel\u001b[0m\u001b[0;34m.\u001b[0m\u001b[0mmost_similar\u001b[0m\u001b[0;34m(\u001b[0m\u001b[0;34m'a'\u001b[0m\u001b[0;34m)\u001b[0m\u001b[0;34m\u001b[0m\u001b[0m\n",
      "\u001b[0;32m~/anaconda3/lib/python3.6/site-packages/gensim/models/word2vec.py\u001b[0m in \u001b[0;36m__init__\u001b[0;34m(self, sentences, size, alpha, window, min_count, max_vocab_size, sample, seed, workers, min_alpha, sg, hs, negative, cbow_mean, hashfxn, iter, null_word, trim_rule, sorted_vocab, batch_words, compute_loss, callbacks)\u001b[0m\n\u001b[1;32m    525\u001b[0m             \u001b[0mbatch_words\u001b[0m\u001b[0;34m=\u001b[0m\u001b[0mbatch_words\u001b[0m\u001b[0;34m,\u001b[0m \u001b[0mtrim_rule\u001b[0m\u001b[0;34m=\u001b[0m\u001b[0mtrim_rule\u001b[0m\u001b[0;34m,\u001b[0m \u001b[0msg\u001b[0m\u001b[0;34m=\u001b[0m\u001b[0msg\u001b[0m\u001b[0;34m,\u001b[0m \u001b[0malpha\u001b[0m\u001b[0;34m=\u001b[0m\u001b[0malpha\u001b[0m\u001b[0;34m,\u001b[0m \u001b[0mwindow\u001b[0m\u001b[0;34m=\u001b[0m\u001b[0mwindow\u001b[0m\u001b[0;34m,\u001b[0m \u001b[0mseed\u001b[0m\u001b[0;34m=\u001b[0m\u001b[0mseed\u001b[0m\u001b[0;34m,\u001b[0m\u001b[0;34m\u001b[0m\u001b[0m\n\u001b[1;32m    526\u001b[0m             \u001b[0mhs\u001b[0m\u001b[0;34m=\u001b[0m\u001b[0mhs\u001b[0m\u001b[0;34m,\u001b[0m \u001b[0mnegative\u001b[0m\u001b[0;34m=\u001b[0m\u001b[0mnegative\u001b[0m\u001b[0;34m,\u001b[0m \u001b[0mcbow_mean\u001b[0m\u001b[0;34m=\u001b[0m\u001b[0mcbow_mean\u001b[0m\u001b[0;34m,\u001b[0m \u001b[0mmin_alpha\u001b[0m\u001b[0;34m=\u001b[0m\u001b[0mmin_alpha\u001b[0m\u001b[0;34m,\u001b[0m \u001b[0mcompute_loss\u001b[0m\u001b[0;34m=\u001b[0m\u001b[0mcompute_loss\u001b[0m\u001b[0;34m,\u001b[0m\u001b[0;34m\u001b[0m\u001b[0m\n\u001b[0;32m--> 527\u001b[0;31m             fast_version=FAST_VERSION)\n\u001b[0m\u001b[1;32m    528\u001b[0m \u001b[0;34m\u001b[0m\u001b[0m\n\u001b[1;32m    529\u001b[0m     \u001b[0;32mdef\u001b[0m \u001b[0m_do_train_job\u001b[0m\u001b[0;34m(\u001b[0m\u001b[0mself\u001b[0m\u001b[0;34m,\u001b[0m \u001b[0msentences\u001b[0m\u001b[0;34m,\u001b[0m \u001b[0malpha\u001b[0m\u001b[0;34m,\u001b[0m \u001b[0minits\u001b[0m\u001b[0;34m)\u001b[0m\u001b[0;34m:\u001b[0m\u001b[0;34m\u001b[0m\u001b[0m\n",
      "\u001b[0;32m~/anaconda3/lib/python3.6/site-packages/gensim/models/base_any2vec.py\u001b[0m in \u001b[0;36m__init__\u001b[0;34m(self, sentences, workers, vector_size, epochs, callbacks, batch_words, trim_rule, sg, alpha, window, seed, hs, negative, cbow_mean, min_alpha, compute_loss, fast_version, **kwargs)\u001b[0m\n\u001b[1;32m    336\u001b[0m             self.train(\n\u001b[1;32m    337\u001b[0m                 \u001b[0msentences\u001b[0m\u001b[0;34m,\u001b[0m \u001b[0mtotal_examples\u001b[0m\u001b[0;34m=\u001b[0m\u001b[0mself\u001b[0m\u001b[0;34m.\u001b[0m\u001b[0mcorpus_count\u001b[0m\u001b[0;34m,\u001b[0m \u001b[0mepochs\u001b[0m\u001b[0;34m=\u001b[0m\u001b[0mself\u001b[0m\u001b[0;34m.\u001b[0m\u001b[0mepochs\u001b[0m\u001b[0;34m,\u001b[0m \u001b[0mstart_alpha\u001b[0m\u001b[0;34m=\u001b[0m\u001b[0mself\u001b[0m\u001b[0;34m.\u001b[0m\u001b[0malpha\u001b[0m\u001b[0;34m,\u001b[0m\u001b[0;34m\u001b[0m\u001b[0m\n\u001b[0;32m--> 338\u001b[0;31m                 end_alpha=self.min_alpha, compute_loss=compute_loss)\n\u001b[0m\u001b[1;32m    339\u001b[0m         \u001b[0;32melse\u001b[0m\u001b[0;34m:\u001b[0m\u001b[0;34m\u001b[0m\u001b[0m\n\u001b[1;32m    340\u001b[0m             \u001b[0;32mif\u001b[0m \u001b[0mtrim_rule\u001b[0m \u001b[0;32mis\u001b[0m \u001b[0;32mnot\u001b[0m \u001b[0;32mNone\u001b[0m\u001b[0;34m:\u001b[0m\u001b[0;34m\u001b[0m\u001b[0m\n",
      "\u001b[0;32m~/anaconda3/lib/python3.6/site-packages/gensim/models/word2vec.py\u001b[0m in \u001b[0;36mtrain\u001b[0;34m(self, sentences, total_examples, total_words, epochs, start_alpha, end_alpha, word_count, queue_factor, report_delay, compute_loss, callbacks)\u001b[0m\n\u001b[1;32m    609\u001b[0m             \u001b[0msentences\u001b[0m\u001b[0;34m,\u001b[0m \u001b[0mtotal_examples\u001b[0m\u001b[0;34m=\u001b[0m\u001b[0mtotal_examples\u001b[0m\u001b[0;34m,\u001b[0m \u001b[0mtotal_words\u001b[0m\u001b[0;34m=\u001b[0m\u001b[0mtotal_words\u001b[0m\u001b[0;34m,\u001b[0m\u001b[0;34m\u001b[0m\u001b[0m\n\u001b[1;32m    610\u001b[0m             \u001b[0mepochs\u001b[0m\u001b[0;34m=\u001b[0m\u001b[0mepochs\u001b[0m\u001b[0;34m,\u001b[0m \u001b[0mstart_alpha\u001b[0m\u001b[0;34m=\u001b[0m\u001b[0mstart_alpha\u001b[0m\u001b[0;34m,\u001b[0m \u001b[0mend_alpha\u001b[0m\u001b[0;34m=\u001b[0m\u001b[0mend_alpha\u001b[0m\u001b[0;34m,\u001b[0m \u001b[0mword_count\u001b[0m\u001b[0;34m=\u001b[0m\u001b[0mword_count\u001b[0m\u001b[0;34m,\u001b[0m\u001b[0;34m\u001b[0m\u001b[0m\n\u001b[0;32m--> 611\u001b[0;31m             queue_factor=queue_factor, report_delay=report_delay, compute_loss=compute_loss, callbacks=callbacks)\n\u001b[0m\u001b[1;32m    612\u001b[0m \u001b[0;34m\u001b[0m\u001b[0m\n\u001b[1;32m    613\u001b[0m     \u001b[0;32mdef\u001b[0m \u001b[0mscore\u001b[0m\u001b[0;34m(\u001b[0m\u001b[0mself\u001b[0m\u001b[0;34m,\u001b[0m \u001b[0msentences\u001b[0m\u001b[0;34m,\u001b[0m \u001b[0mtotal_sentences\u001b[0m\u001b[0;34m=\u001b[0m\u001b[0mint\u001b[0m\u001b[0;34m(\u001b[0m\u001b[0;36m1e6\u001b[0m\u001b[0;34m)\u001b[0m\u001b[0;34m,\u001b[0m \u001b[0mchunksize\u001b[0m\u001b[0;34m=\u001b[0m\u001b[0;36m100\u001b[0m\u001b[0;34m,\u001b[0m \u001b[0mqueue_factor\u001b[0m\u001b[0;34m=\u001b[0m\u001b[0;36m2\u001b[0m\u001b[0;34m,\u001b[0m \u001b[0mreport_delay\u001b[0m\u001b[0;34m=\u001b[0m\u001b[0;36m1\u001b[0m\u001b[0;34m)\u001b[0m\u001b[0;34m:\u001b[0m\u001b[0;34m\u001b[0m\u001b[0m\n",
      "\u001b[0;32m~/anaconda3/lib/python3.6/site-packages/gensim/models/base_any2vec.py\u001b[0m in \u001b[0;36mtrain\u001b[0;34m(self, sentences, total_examples, total_words, epochs, start_alpha, end_alpha, word_count, queue_factor, report_delay, compute_loss, callbacks)\u001b[0m\n\u001b[1;32m    567\u001b[0m             \u001b[0msentences\u001b[0m\u001b[0;34m,\u001b[0m \u001b[0mtotal_examples\u001b[0m\u001b[0;34m=\u001b[0m\u001b[0mtotal_examples\u001b[0m\u001b[0;34m,\u001b[0m \u001b[0mtotal_words\u001b[0m\u001b[0;34m=\u001b[0m\u001b[0mtotal_words\u001b[0m\u001b[0;34m,\u001b[0m\u001b[0;34m\u001b[0m\u001b[0m\n\u001b[1;32m    568\u001b[0m             \u001b[0mepochs\u001b[0m\u001b[0;34m=\u001b[0m\u001b[0mepochs\u001b[0m\u001b[0;34m,\u001b[0m \u001b[0mstart_alpha\u001b[0m\u001b[0;34m=\u001b[0m\u001b[0mstart_alpha\u001b[0m\u001b[0;34m,\u001b[0m \u001b[0mend_alpha\u001b[0m\u001b[0;34m=\u001b[0m\u001b[0mend_alpha\u001b[0m\u001b[0;34m,\u001b[0m \u001b[0mword_count\u001b[0m\u001b[0;34m=\u001b[0m\u001b[0mword_count\u001b[0m\u001b[0;34m,\u001b[0m\u001b[0;34m\u001b[0m\u001b[0m\n\u001b[0;32m--> 569\u001b[0;31m             queue_factor=queue_factor, report_delay=report_delay, compute_loss=compute_loss, callbacks=callbacks)\n\u001b[0m\u001b[1;32m    570\u001b[0m \u001b[0;34m\u001b[0m\u001b[0m\n\u001b[1;32m    571\u001b[0m     \u001b[0;32mdef\u001b[0m \u001b[0m_get_job_params\u001b[0m\u001b[0;34m(\u001b[0m\u001b[0mself\u001b[0m\u001b[0;34m,\u001b[0m \u001b[0mcur_epoch\u001b[0m\u001b[0;34m)\u001b[0m\u001b[0;34m:\u001b[0m\u001b[0;34m\u001b[0m\u001b[0m\n",
      "\u001b[0;32m~/anaconda3/lib/python3.6/site-packages/gensim/models/base_any2vec.py\u001b[0m in \u001b[0;36mtrain\u001b[0;34m(self, data_iterable, epochs, total_examples, total_words, queue_factor, report_delay, callbacks, **kwargs)\u001b[0m\n\u001b[1;32m    239\u001b[0m             \u001b[0mepochs\u001b[0m\u001b[0;34m=\u001b[0m\u001b[0mepochs\u001b[0m\u001b[0;34m,\u001b[0m\u001b[0;34m\u001b[0m\u001b[0m\n\u001b[1;32m    240\u001b[0m             \u001b[0mtotal_examples\u001b[0m\u001b[0;34m=\u001b[0m\u001b[0mtotal_examples\u001b[0m\u001b[0;34m,\u001b[0m\u001b[0;34m\u001b[0m\u001b[0m\n\u001b[0;32m--> 241\u001b[0;31m             total_words=total_words, **kwargs)\n\u001b[0m\u001b[1;32m    242\u001b[0m \u001b[0;34m\u001b[0m\u001b[0m\n\u001b[1;32m    243\u001b[0m         \u001b[0;32mfor\u001b[0m \u001b[0mcallback\u001b[0m \u001b[0;32min\u001b[0m \u001b[0mself\u001b[0m\u001b[0;34m.\u001b[0m\u001b[0mcallbacks\u001b[0m\u001b[0;34m:\u001b[0m\u001b[0;34m\u001b[0m\u001b[0m\n",
      "\u001b[0;32m~/anaconda3/lib/python3.6/site-packages/gensim/models/base_any2vec.py\u001b[0m in \u001b[0;36m_check_training_sanity\u001b[0;34m(self, epochs, total_examples, total_words, **kwargs)\u001b[0m\n\u001b[1;32m    599\u001b[0m \u001b[0;34m\u001b[0m\u001b[0m\n\u001b[1;32m    600\u001b[0m         \u001b[0;32mif\u001b[0m \u001b[0;32mnot\u001b[0m \u001b[0mself\u001b[0m\u001b[0;34m.\u001b[0m\u001b[0mwv\u001b[0m\u001b[0;34m.\u001b[0m\u001b[0mvocab\u001b[0m\u001b[0;34m:\u001b[0m  \u001b[0;31m# should be set by `build_vocab`\u001b[0m\u001b[0;34m\u001b[0m\u001b[0m\n\u001b[0;32m--> 601\u001b[0;31m             \u001b[0;32mraise\u001b[0m \u001b[0mRuntimeError\u001b[0m\u001b[0;34m(\u001b[0m\u001b[0;34m\"you must first build vocabulary before training the model\"\u001b[0m\u001b[0;34m)\u001b[0m\u001b[0;34m\u001b[0m\u001b[0m\n\u001b[0m\u001b[1;32m    602\u001b[0m         \u001b[0;32mif\u001b[0m \u001b[0;32mnot\u001b[0m \u001b[0mlen\u001b[0m\u001b[0;34m(\u001b[0m\u001b[0mself\u001b[0m\u001b[0;34m.\u001b[0m\u001b[0mwv\u001b[0m\u001b[0;34m.\u001b[0m\u001b[0mvectors\u001b[0m\u001b[0;34m)\u001b[0m\u001b[0;34m:\u001b[0m\u001b[0;34m\u001b[0m\u001b[0m\n\u001b[1;32m    603\u001b[0m             \u001b[0;32mraise\u001b[0m \u001b[0mRuntimeError\u001b[0m\u001b[0;34m(\u001b[0m\u001b[0;34m\"you must initialize vectors before training the model\"\u001b[0m\u001b[0;34m)\u001b[0m\u001b[0;34m\u001b[0m\u001b[0m\n",
      "\u001b[0;31mRuntimeError\u001b[0m: you must first build vocabulary before training the model"
     ]
    }
   ],
   "source": [
    "sentences = [\n",
    "    [\"a\", 'is', 'not', 'b'], ['b', 'is', 'c']\n",
    "]\n",
    "from gensim.models.word2vec import Word2Vec\n",
    "model = Word2Vec(sentences)\n",
    "model.init_sims(replace=True)# 학습 완료 후, 필요없는 메모리 삭제 \n",
    "model.most_similar('a')"
   ]
  },
  {
   "cell_type": "code",
   "execution_count": null,
   "metadata": {
    "collapsed": true
   },
   "outputs": [],
   "source": []
  }
 ],
 "metadata": {
  "kernelspec": {
   "display_name": "Python 3",
   "language": "python",
   "name": "python3"
  },
  "language_info": {
   "codemirror_mode": {
    "name": "ipython",
    "version": 3
   },
   "file_extension": ".py",
   "mimetype": "text/x-python",
   "name": "python",
   "nbconvert_exporter": "python",
   "pygments_lexer": "ipython3",
   "version": "3.6.2"
  }
 },
 "nbformat": 4,
 "nbformat_minor": 2
}
