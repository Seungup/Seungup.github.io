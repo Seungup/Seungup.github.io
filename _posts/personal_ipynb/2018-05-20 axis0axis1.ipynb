{
 "cells": [
  {
   "cell_type": "code",
   "execution_count": 1,
   "metadata": {},
   "outputs": [
    {
     "data": {
      "text/plain": [
       "''"
      ]
     },
     "execution_count": 1,
     "metadata": {},
     "output_type": "execute_result"
    }
   ],
   "source": [
    "\"\"\"\n",
    "axis 0, axis 1을 공부합시다. \n",
    "np.sum np.any np.all \n",
    "\n",
    "그리고, 이게 2차원이 아닌 경우(for tensorflow )\n",
    "\"\"\"\n"
   ]
  },
  {
   "cell_type": "code",
   "execution_count": 25,
   "metadata": {},
   "outputs": [
    {
     "name": "stdout",
     "output_type": "stream",
     "text": [
      "shape: (2, 3, 5, 7)\n",
      "---\n",
      "[[[[  0   1   2   3   4   5   6]\n",
      "   [  7   8   9  10  11  12  13]\n",
      "   [ 14  15  16  17  18  19  20]\n",
      "   [ 21  22  23  24  25  26  27]\n",
      "   [ 28  29  30  31  32  33  34]]\n",
      "\n",
      "  [[ 35  36  37  38  39  40  41]\n",
      "   [ 42  43  44  45  46  47  48]\n",
      "   [ 49  50  51  52  53  54  55]\n",
      "   [ 56  57  58  59  60  61  62]\n",
      "   [ 63  64  65  66  67  68  69]]\n",
      "\n",
      "  [[ 70  71  72  73  74  75  76]\n",
      "   [ 77  78  79  80  81  82  83]\n",
      "   [ 84  85  86  87  88  89  90]\n",
      "   [ 91  92  93  94  95  96  97]\n",
      "   [ 98  99 100 101 102 103 104]]]\n",
      "\n",
      "\n",
      " [[[105 106 107 108 109 110 111]\n",
      "   [112 113 114 115 116 117 118]\n",
      "   [119 120 121 122 123 124 125]\n",
      "   [126 127 128 129 130 131 132]\n",
      "   [133 134 135 136 137 138 139]]\n",
      "\n",
      "  [[140 141 142 143 144 145 146]\n",
      "   [147 148 149 150 151 152 153]\n",
      "   [154 155 156 157 158 159 160]\n",
      "   [161 162 163 164 165 166 167]\n",
      "   [168 169 170 171 172 173 174]]\n",
      "\n",
      "  [[175 176 177 178 179 180 181]\n",
      "   [182 183 184 185 186 187 188]\n",
      "   [189 190 191 192 193 194 195]\n",
      "   [196 197 198 199 200 201 202]\n",
      "   [203 204 205 206 207 208 209]]]]\n"
     ]
    }
   ],
   "source": [
    "import numpy as np\n",
    "\n",
    "\"\"\"차원에 따른 변화를 파악하기 위해서 각 축을 소수로 만들어서 4차원의 어레이를 생성\n",
    "\"\"\"\n",
    "test_arr = np.array([i for i in range(0, 2*3*5*7)]).reshape(2,3,5,7)\n",
    "print(\"shape: {}\".format(test_arr.shape))\n",
    "print(\"---\")\n",
    "print(test_arr)\n",
    "\n"
   ]
  },
  {
   "cell_type": "code",
   "execution_count": 46,
   "metadata": {},
   "outputs": [
    {
     "name": "stdout",
     "output_type": "stream",
     "text": [
      "axis=None:\n",
      "shape: ()\n",
      "0\n",
      "---\n",
      "axis=0:\n",
      "shape: (3, 5, 7)\n",
      "[[[  0   1   2   3   4   5   6]\n",
      "  [  7   8   9  10  11  12  13]\n",
      "  [ 14  15  16  17  18  19  20]\n",
      "  [ 21  22  23  24  25  26  27]\n",
      "  [ 28  29  30  31  32  33  34]]\n",
      "\n",
      " [[ 35  36  37  38  39  40  41]\n",
      "  [ 42  43  44  45  46  47  48]\n",
      "  [ 49  50  51  52  53  54  55]\n",
      "  [ 56  57  58  59  60  61  62]\n",
      "  [ 63  64  65  66  67  68  69]]\n",
      "\n",
      " [[ 70  71  72  73  74  75  76]\n",
      "  [ 77  78  79  80  81  82  83]\n",
      "  [ 84  85  86  87  88  89  90]\n",
      "  [ 91  92  93  94  95  96  97]\n",
      "  [ 98  99 100 101 102 103 104]]]\n",
      "---\n",
      "axis=1:\n",
      "shape: (2, 5, 7)\n",
      "[[[  0   1   2   3   4   5   6]\n",
      "  [  7   8   9  10  11  12  13]\n",
      "  [ 14  15  16  17  18  19  20]\n",
      "  [ 21  22  23  24  25  26  27]\n",
      "  [ 28  29  30  31  32  33  34]]\n",
      "\n",
      " [[105 106 107 108 109 110 111]\n",
      "  [112 113 114 115 116 117 118]\n",
      "  [119 120 121 122 123 124 125]\n",
      "  [126 127 128 129 130 131 132]\n",
      "  [133 134 135 136 137 138 139]]]\n",
      "---\n",
      "axis=2:\n",
      "shape: (2, 3, 7)\n",
      "[[[  0   1   2   3   4   5   6]\n",
      "  [ 35  36  37  38  39  40  41]\n",
      "  [ 70  71  72  73  74  75  76]]\n",
      "\n",
      " [[105 106 107 108 109 110 111]\n",
      "  [140 141 142 143 144 145 146]\n",
      "  [175 176 177 178 179 180 181]]]\n",
      "---\n",
      "axis=3:\n",
      "shape: (2, 3, 5)\n",
      "[[[  0   7  14  21  28]\n",
      "  [ 35  42  49  56  63]\n",
      "  [ 70  77  84  91  98]]\n",
      "\n",
      " [[105 112 119 126 133]\n",
      "  [140 147 154 161 168]\n",
      "  [175 182 189 196 203]]]\n",
      "---\n"
     ]
    }
   ],
   "source": [
    "new_arr = np.min(test_arr, axis=None)\n",
    "print(\"axis=None:\")\n",
    "print(\"shape: {}\".format(new_arr.shape))\n",
    "print(new_arr)\n",
    "print(\"---\")\n",
    "for axis_v in range(0, len(test_arr.shape)):\n",
    "    new_arr = np.min(test_arr, axis=axis_v)\n",
    "    print(\"axis={}:\".format(axis_v))\n",
    "    print(\"shape: {}\".format(new_arr.shape))\n",
    "    print(new_arr)\n",
    "    print(\"---\")"
   ]
  },
  {
   "cell_type": "code",
   "execution_count": 50,
   "metadata": {},
   "outputs": [
    {
     "ename": "TypeError",
     "evalue": "'list' object cannot be interpreted as an integer",
     "output_type": "error",
     "traceback": [
      "\u001b[0;31m---------------------------------------------------------------------------\u001b[0m",
      "\u001b[0;31mTypeError\u001b[0m                                 Traceback (most recent call last)",
      "\u001b[0;32m<ipython-input-50-9161d164d0dc>\u001b[0m in \u001b[0;36m<module>\u001b[0;34m()\u001b[0m\n\u001b[1;32m      1\u001b[0m \u001b[0mtest_arr\u001b[0m\u001b[0;34m.\u001b[0m\u001b[0mshape\u001b[0m\u001b[0;34m\u001b[0m\u001b[0m\n\u001b[0;32m----> 2\u001b[0;31m \u001b[0mnp\u001b[0m\u001b[0;34m.\u001b[0m\u001b[0mmin\u001b[0m\u001b[0;34m(\u001b[0m\u001b[0mtest_arr\u001b[0m\u001b[0;34m,\u001b[0m \u001b[0maxis\u001b[0m\u001b[0;34m=\u001b[0m\u001b[0;34m[\u001b[0m\u001b[0;36m0\u001b[0m\u001b[0;34m,\u001b[0m\u001b[0;36m1\u001b[0m\u001b[0;34m]\u001b[0m\u001b[0;34m)\u001b[0m\u001b[0;34m\u001b[0m\u001b[0m\n\u001b[0m",
      "\u001b[0;32m~/anaconda3/lib/python3.6/site-packages/numpy/core/fromnumeric.py\u001b[0m in \u001b[0;36mamin\u001b[0;34m(a, axis, out, keepdims)\u001b[0m\n\u001b[1;32m   2370\u001b[0m \u001b[0;34m\u001b[0m\u001b[0m\n\u001b[1;32m   2371\u001b[0m     return _methods._amin(a, axis=axis,\n\u001b[0;32m-> 2372\u001b[0;31m                           out=out, **kwargs)\n\u001b[0m\u001b[1;32m   2373\u001b[0m \u001b[0;34m\u001b[0m\u001b[0m\n\u001b[1;32m   2374\u001b[0m \u001b[0;34m\u001b[0m\u001b[0m\n",
      "\u001b[0;32m~/anaconda3/lib/python3.6/site-packages/numpy/core/_methods.py\u001b[0m in \u001b[0;36m_amin\u001b[0;34m(a, axis, out, keepdims)\u001b[0m\n\u001b[1;32m     27\u001b[0m \u001b[0;34m\u001b[0m\u001b[0m\n\u001b[1;32m     28\u001b[0m \u001b[0;32mdef\u001b[0m \u001b[0m_amin\u001b[0m\u001b[0;34m(\u001b[0m\u001b[0ma\u001b[0m\u001b[0;34m,\u001b[0m \u001b[0maxis\u001b[0m\u001b[0;34m=\u001b[0m\u001b[0;32mNone\u001b[0m\u001b[0;34m,\u001b[0m \u001b[0mout\u001b[0m\u001b[0;34m=\u001b[0m\u001b[0;32mNone\u001b[0m\u001b[0;34m,\u001b[0m \u001b[0mkeepdims\u001b[0m\u001b[0;34m=\u001b[0m\u001b[0;32mFalse\u001b[0m\u001b[0;34m)\u001b[0m\u001b[0;34m:\u001b[0m\u001b[0;34m\u001b[0m\u001b[0m\n\u001b[0;32m---> 29\u001b[0;31m     \u001b[0;32mreturn\u001b[0m \u001b[0mumr_minimum\u001b[0m\u001b[0;34m(\u001b[0m\u001b[0ma\u001b[0m\u001b[0;34m,\u001b[0m \u001b[0maxis\u001b[0m\u001b[0;34m,\u001b[0m \u001b[0;32mNone\u001b[0m\u001b[0;34m,\u001b[0m \u001b[0mout\u001b[0m\u001b[0;34m,\u001b[0m \u001b[0mkeepdims\u001b[0m\u001b[0;34m)\u001b[0m\u001b[0;34m\u001b[0m\u001b[0m\n\u001b[0m\u001b[1;32m     30\u001b[0m \u001b[0;34m\u001b[0m\u001b[0m\n\u001b[1;32m     31\u001b[0m \u001b[0;32mdef\u001b[0m \u001b[0m_sum\u001b[0m\u001b[0;34m(\u001b[0m\u001b[0ma\u001b[0m\u001b[0;34m,\u001b[0m \u001b[0maxis\u001b[0m\u001b[0;34m=\u001b[0m\u001b[0;32mNone\u001b[0m\u001b[0;34m,\u001b[0m \u001b[0mdtype\u001b[0m\u001b[0;34m=\u001b[0m\u001b[0;32mNone\u001b[0m\u001b[0;34m,\u001b[0m \u001b[0mout\u001b[0m\u001b[0;34m=\u001b[0m\u001b[0;32mNone\u001b[0m\u001b[0;34m,\u001b[0m \u001b[0mkeepdims\u001b[0m\u001b[0;34m=\u001b[0m\u001b[0;32mFalse\u001b[0m\u001b[0;34m)\u001b[0m\u001b[0;34m:\u001b[0m\u001b[0;34m\u001b[0m\u001b[0m\n",
      "\u001b[0;31mTypeError\u001b[0m: 'list' object cannot be interpreted as an integer"
     ]
    }
   ],
   "source": [
    "test_arr.shape\n",
    "np.min(test_arr, axis=[0,1])"
   ]
  },
  {
   "cell_type": "code",
   "execution_count": 53,
   "metadata": {},
   "outputs": [
    {
     "name": "stdout",
     "output_type": "stream",
     "text": [
      "(2, 3, 5, 7, 11, 13, 17)\n",
      "axis=0:\n",
      "shape: (3, 5, 7, 11, 13, 17)\n",
      "---\n",
      "axis=1:\n",
      "shape: (2, 5, 7, 11, 13, 17)\n",
      "---\n",
      "axis=2:\n",
      "shape: (2, 3, 7, 11, 13, 17)\n",
      "---\n",
      "axis=3:\n",
      "shape: (2, 3, 5, 11, 13, 17)\n",
      "---\n",
      "axis=4:\n",
      "shape: (2, 3, 5, 7, 13, 17)\n",
      "---\n",
      "axis=5:\n",
      "shape: (2, 3, 5, 7, 11, 17)\n",
      "---\n",
      "axis=6:\n",
      "shape: (2, 3, 5, 7, 11, 13)\n",
      "---\n"
     ]
    }
   ],
   "source": [
    "test_arr = np.array([i for i in range(0, 2*3*5*7*11*13*17)]).reshape(2,3,5,7,11,13,17)\n",
    "print(test_arr.shape)\n",
    "\n",
    "for axis_v in range(0, len(test_arr.shape)):\n",
    "    new_arr = np.min(test_arr, axis=axis_v)\n",
    "    print(\"axis={}:\".format(axis_v))\n",
    "    print(\"shape: {}\".format(new_arr.shape))\n",
    "    print(\"---\")"
   ]
  },
  {
   "cell_type": "code",
   "execution_count": null,
   "metadata": {
    "collapsed": true
   },
   "outputs": [],
   "source": []
  }
 ],
 "metadata": {
  "kernelspec": {
   "display_name": "Python 3",
   "language": "python",
   "name": "python3"
  },
  "language_info": {
   "codemirror_mode": {
    "name": "ipython",
    "version": 3
   },
   "file_extension": ".py",
   "mimetype": "text/x-python",
   "name": "python",
   "nbconvert_exporter": "python",
   "pygments_lexer": "ipython3",
   "version": "3.6.2"
  }
 },
 "nbformat": 4,
 "nbformat_minor": 2
}
