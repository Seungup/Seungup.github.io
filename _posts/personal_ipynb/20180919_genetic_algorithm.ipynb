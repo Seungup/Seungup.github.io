{
 "cells": [
  {
   "cell_type": "code",
   "execution_count": 1,
   "metadata": {},
   "outputs": [],
   "source": [
    "## https://towardsdatascience.com/genetic-algorithm-implementation-in-python-5ab67bb124a6\n",
    "\"\"\"\n",
    "The y=target is to maximize this equation ASAP:\n",
    "    y = w1x1+w2x2+w3x3+w4x4+w5x5+6wx6\n",
    "    where (x1,x2,x3,x4,x5,x6)=(4,-2,3.5,5,-11,-4.7)\n",
    "    What are the best values for the 6 weights w1 to w6?\n",
    "    We are going to use the genetic algorithm for the best possible values after a number of generations.\n",
    "\"\"\"\n",
    "import numpy as np "
   ]
  },
  {
   "cell_type": "code",
   "execution_count": 29,
   "metadata": {},
   "outputs": [
    {
     "name": "stdout",
     "output_type": "stream",
     "text": [
      "optimal fitness in 00 generation: 16.114142824605693\n",
      "optimal fitness in 01 generation: 20.34874446758479\n",
      "optimal fitness in 02 generation: 20.34874446758479\n",
      "optimal fitness in 03 generation: 28.49241685227758\n",
      "optimal fitness in 04 generation: 30.992930681221885\n",
      "optimal fitness in 05 generation: 33.93284270330889\n",
      "optimal fitness in 06 generation: 33.93284270330889\n",
      "optimal fitness in 07 generation: 51.41840381571125\n",
      "optimal fitness in 08 generation: 69.02581331815482\n",
      "optimal fitness in 09 generation: 75.52541422895794\n"
     ]
    }
   ],
   "source": [
    "import numpy as np \n",
    "\n",
    "def calculate_fitness(solution):\n",
    "    return np.array(solution).dot(parameters)\n",
    "\n",
    "parameters = np.array([4,-2,3.5,5,-11,-4.7])\n",
    "\n",
    "## initializae solution pool \n",
    "current_solution_pool = [list(np.random.normal(0, 1, 6)) for i in range(0, 8)]\n",
    "\n",
    "for i in range(0, 10):\n",
    "    ## 현재 솔루션 중에서 가장 성과가 좋은 놈만 남기고 모두 버림 \n",
    "    new_parents = sorted(current_solution_pool, key=calculate_fitness, reverse=True)[:4]\n",
    "    print(f\"optimal fitness in {i:0>2d} generation: {calculate_fitness(new_parents[0])}\")\n",
    "    ## 간단하게 크로스오버 세팅\n",
    "    crossovers = [\n",
    "        new_parents[0][:3]+new_parents[1][3:],\n",
    "        new_parents[1][:3]+new_parents[0][3:],\n",
    "    ]\n",
    "    ## 뮤테이션 세팅 \n",
    "    mutations = [\n",
    "        list(np.array(new_parents[0])+np.random.normal(0, 1, 6)), \n",
    "        list(np.array(new_parents[0])+np.random.normal(0, 1, 6)),\n",
    "    ]\n",
    "    current_solution_pool = new_parents + crossovers + mutations \n",
    "\n"
   ]
  },
  {
   "cell_type": "code",
   "execution_count": 16,
   "metadata": {},
   "outputs": [
    {
     "data": {
      "text/plain": [
       "[2.4147265298661433,\n",
       " -0.35985077421842299,\n",
       " 1.4376348887692594,\n",
       " 0.45804418270635627,\n",
       " -0.44621515773461612,\n",
       " -0.30647230156167066]"
      ]
     },
     "execution_count": 16,
     "metadata": {},
     "output_type": "execute_result"
    }
   ],
   "source": [
    "new_parents[0][:3]+new_parents[0][3:]"
   ]
  },
  {
   "cell_type": "code",
   "execution_count": 10,
   "metadata": {},
   "outputs": [
    {
     "data": {
      "text/plain": [
       "array([-1.467966  , -1.33426385, -1.67330284])"
      ]
     },
     "execution_count": 10,
     "metadata": {},
     "output_type": "execute_result"
    }
   ],
   "source": [
    "new_parents[0][3:]"
   ]
  },
  {
   "cell_type": "code",
   "execution_count": null,
   "metadata": {},
   "outputs": [],
   "source": []
  }
 ],
 "metadata": {
  "kernelspec": {
   "display_name": "Python 3",
   "language": "python",
   "name": "python3"
  },
  "language_info": {
   "codemirror_mode": {
    "name": "ipython",
    "version": 3
   },
   "file_extension": ".py",
   "mimetype": "text/x-python",
   "name": "python",
   "nbconvert_exporter": "python",
   "pygments_lexer": "ipython3",
   "version": "3.6.5"
  }
 },
 "nbformat": 4,
 "nbformat_minor": 2
}
