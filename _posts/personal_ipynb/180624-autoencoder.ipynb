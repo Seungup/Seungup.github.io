{
 "cells": [
  {
   "cell_type": "code",
   "execution_count": 167,
   "metadata": {},
   "outputs": [
    {
     "name": "stdout",
     "output_type": "stream",
     "text": [
      "Extracting MNIST_data/train-images-idx3-ubyte.gz\n",
      "Extracting MNIST_data/train-labels-idx1-ubyte.gz\n",
      "Extracting MNIST_data/t10k-images-idx3-ubyte.gz\n",
      "Extracting MNIST_data/t10k-labels-idx1-ubyte.gz\n",
      "### autoencoder\n",
      "_________________________________________________________________\n",
      "Layer (type)                 Output Shape              Param #   \n",
      "=================================================================\n",
      "input_94 (InputLayer)        (None, 784)               0         \n",
      "_________________________________________________________________\n",
      "dense_144 (Dense)            (None, 36)                28260     \n",
      "_________________________________________________________________\n",
      "dense_145 (Dense)            (None, 784)               29008     \n",
      "=================================================================\n",
      "Total params: 57,268\n",
      "Trainable params: 57,268\n",
      "Non-trainable params: 0\n",
      "_________________________________________________________________\n",
      "### encoder\n",
      "_________________________________________________________________\n",
      "Layer (type)                 Output Shape              Param #   \n",
      "=================================================================\n",
      "input_95 (InputLayer)        (None, 784)               0         \n",
      "_________________________________________________________________\n",
      "dense_144 (Dense)            (None, 36)                28260     \n",
      "=================================================================\n",
      "Total params: 28,260\n",
      "Trainable params: 28,260\n",
      "Non-trainable params: 0\n",
      "_________________________________________________________________\n",
      "### decoder\n",
      "_________________________________________________________________\n",
      "Layer (type)                 Output Shape              Param #   \n",
      "=================================================================\n",
      "input_96 (InputLayer)        (None, 36)                0         \n",
      "_________________________________________________________________\n",
      "dense_145 (Dense)            (None, 784)               29008     \n",
      "=================================================================\n",
      "Total params: 29,008\n",
      "Trainable params: 29,008\n",
      "Non-trainable params: 0\n",
      "_________________________________________________________________\n"
     ]
    }
   ],
   "source": [
    "#### data reading \n",
    "from tensorflow.examples.tutorials.mnist import input_data\n",
    "\n",
    "mnist = input_data.read_data_sets(\"MNIST_data/\", one_hot=True)\n",
    "x_train, y_train = mnist.train.images, mnist.train.labels\n",
    "x_test, y_test = mnist.test.images, mnist.test.labels\n",
    "#############\n",
    "import numpy as np \n",
    "import matplotlib.pyplot as plt\n",
    "\n",
    "from keras.models import Sequential, Model\n",
    "from keras.layers import Input, Dense, Activation\n",
    "from keras.optimizers import Adam, SGD\n",
    "\n",
    "####################\n",
    "### autoencoder setting\n",
    "encoding_dim = 36# 데이터를 몇 차원으로 줄일 것인지\n",
    "input_img = Input(shape=(784,))\n",
    "encoded = Dense(encoding_dim, activation='relu')(input_img)\n",
    "decoded = Dense(784, activation='sigmoid')(encoded)\n",
    "autoencoder_simple = Model(input_img, decoded) # keras model은 input/output만 집어 넣음 \n",
    "print(\"### autoencoder\")\n",
    "autoencoder_simple.summary()\n",
    "\"\"\"\n",
    "- 일단 autoencoder를 만들었다. \n",
    "- autoencoder는 encoder/decoder로 구성되어 있기는 한데, 바로 가져올 수는 없고, input을 새로 만들어서 연결해주어야 함. \n",
    "    - 일단 encoder의 경우는 autoencoder와 완전히 동일하므로, 그대로 사용해도 되지만, 헷갈릴 수 있어서 똑같이 만들어줌. \n",
    "    - decoder의 경우, 우선 해당 레이어로 바로 들어가는 input이 없으므로 새로운 input을 만들어주고, \n",
    "        - 해당 input을 argument로 받아서 해당 레이어를 사용하는 식으로 연결해줌. \n",
    "        - layer의 이름이 같은 것을 보면 알 수 있듯이, 그대로 사용하는 것임\n",
    "- 이렇게 개별 레이어 끝에 argument를 넣어서 가져오는 것 레이어가 callable object이기 때문.\n",
    "\"\"\"\n",
    "####################\n",
    "### encoder setting\n",
    "input_img2 = Input(shape=(784,))\n",
    "encoder = Model(input_img2, autoencoder_simple.layers[1](input_img2))\n",
    "# encoder = Model(input_img, encoded) 와 동일 \n",
    "print(\"### encoder\")\n",
    "encoder.summary()\n",
    "####################\n",
    "### decoder setting\n",
    "encoded_input = Input(shape=(encoding_dim,))\n",
    "decoder = Model(encoded_input, autoencoder_simple.layers[2](encoded_input))\n",
    "print(\"### decoder\")\n",
    "autoencoder_simple.compile(optimizer='adadelta', loss='binary_crossentropy')\n",
    "decoder.summary()"
   ]
  },
  {
   "cell_type": "code",
   "execution_count": 170,
   "metadata": {},
   "outputs": [
    {
     "name": "stdout",
     "output_type": "stream",
     "text": [
      "Epoch 1/10\n",
      "55000/55000 [==============================] - 5s - loss: 0.1356     \n",
      "Epoch 2/10\n",
      "55000/55000 [==============================] - 5s - loss: 0.1344     \n",
      "Epoch 3/10\n",
      "55000/55000 [==============================] - 5s - loss: 0.1333     \n",
      "Epoch 4/10\n",
      "55000/55000 [==============================] - 5s - loss: 0.1322     \n",
      "Epoch 5/10\n",
      "55000/55000 [==============================] - 4s - loss: 0.1311     \n",
      "Epoch 6/10\n",
      "55000/55000 [==============================] - 4s - loss: 0.1301     \n",
      "Epoch 7/10\n",
      "55000/55000 [==============================] - 4s - loss: 0.1290     \n",
      "Epoch 8/10\n",
      "55000/55000 [==============================] - 4s - loss: 0.1280     \n",
      "Epoch 9/10\n",
      "55000/55000 [==============================] - 4s - loss: 0.1270     \n",
      "Epoch 10/10\n",
      "55000/55000 [==============================] - 4s - loss: 0.1260     \n"
     ]
    },
    {
     "data": {
      "image/png": "[encoded data removed]",
      "text/plain": [
       "<matplotlib.figure.Figure at 0xd1e581ac8>"
      ]
     },
     "metadata": {},
     "output_type": "display_data"
    }
   ],
   "source": [
    "autoencoder_simple.fit(x_train, x_train, epochs=10, batch_size=500, verbose=1)\n",
    "############\n",
    "# plotting encoded and decoded img\n",
    "def random_img_plotting(autoencoder_input, file_name):\n",
    "    # random으로 5개만 그려줍니다. \n",
    "    sel_idx = [ np.random.randint(0, len(x_train)) for i in range(0, 5)]\n",
    "    f, axes = plt.subplots(2, len(sel_idx), figsize=(10, 5))\n",
    "    for i in range(0, len(axes[0])):\n",
    "        axes[0][i].imshow(x_train[sel_idx[i], :].reshape(28, 28))\n",
    "        axes[1][i].imshow(autoencoder_simple.predict(x_train[[sel_idx[i]], :]).reshape(28, 28))\n",
    "    plt.savefig(\"../../assets/images/markdown_img/\"+file_name)\n",
    "    plt.show()\n",
    "random_img_plotting(autoencoder_simple, '180625_autoencoder_simple.svg')"
   ]
  },
  {
   "cell_type": "code",
   "execution_count": null,
   "metadata": {},
   "outputs": [],
   "source": [
    "\"\"\"\n",
    "이대로는 안되겠어서, autoencoder를 deep하게 만듭니다. \n",
    "\"\"\""
   ]
  },
  {
   "cell_type": "code",
   "execution_count": 175,
   "metadata": {},
   "outputs": [
    {
     "name": "stdout",
     "output_type": "stream",
     "text": [
      "autoencoder_deep\n",
      "_________________________________________________________________\n",
      "Layer (type)                 Output Shape              Param #   \n",
      "=================================================================\n",
      "input_107 (InputLayer)       (None, 784)               0         \n",
      "_________________________________________________________________\n",
      "dense_178 (Dense)            (None, 256)               200960    \n",
      "_________________________________________________________________\n",
      "dense_179 (Dense)            (None, 128)               32896     \n",
      "_________________________________________________________________\n",
      "dense_180 (Dense)            (None, 64)                8256      \n",
      "_________________________________________________________________\n",
      "dense_181 (Dense)            (None, 36)                2340      \n",
      "_________________________________________________________________\n",
      "dense_182 (Dense)            (None, 64)                2368      \n",
      "_________________________________________________________________\n",
      "dense_183 (Dense)            (None, 128)               8320      \n",
      "_________________________________________________________________\n",
      "dense_184 (Dense)            (None, 256)               33024     \n",
      "_________________________________________________________________\n",
      "dense_185 (Dense)            (None, 784)               201488    \n",
      "=================================================================\n",
      "Total params: 489,652\n",
      "Trainable params: 489,652\n",
      "Non-trainable params: 0\n",
      "_________________________________________________________________\n",
      "encoder_deep\n",
      "_________________________________________________________________\n",
      "Layer (type)                 Output Shape              Param #   \n",
      "=================================================================\n",
      "input_108 (InputLayer)       (None, 784)               0         \n",
      "_________________________________________________________________\n",
      "dense_178 (Dense)            (None, 256)               200960    \n",
      "_________________________________________________________________\n",
      "dense_179 (Dense)            (None, 128)               32896     \n",
      "_________________________________________________________________\n",
      "dense_180 (Dense)            (None, 64)                8256      \n",
      "_________________________________________________________________\n",
      "dense_181 (Dense)            (None, 36)                2340      \n",
      "=================================================================\n",
      "Total params: 244,452\n",
      "Trainable params: 244,452\n",
      "Non-trainable params: 0\n",
      "_________________________________________________________________\n",
      "decoder_deep\n",
      "_________________________________________________________________\n",
      "Layer (type)                 Output Shape              Param #   \n",
      "=================================================================\n",
      "input_109 (InputLayer)       (None, 36)                0         \n",
      "_________________________________________________________________\n",
      "dense_182 (Dense)            (None, 64)                2368      \n",
      "_________________________________________________________________\n",
      "dense_183 (Dense)            (None, 128)               8320      \n",
      "_________________________________________________________________\n",
      "dense_184 (Dense)            (None, 256)               33024     \n",
      "_________________________________________________________________\n",
      "dense_185 (Dense)            (None, 784)               201488    \n",
      "=================================================================\n",
      "Total params: 245,200\n",
      "Trainable params: 245,200\n",
      "Non-trainable params: 0\n",
      "_________________________________________________________________\n"
     ]
    }
   ],
   "source": [
    "########\n",
    "## autoencoder deep \n",
    "encoding_dims = 36\n",
    "\n",
    "input_img = Input(shape=(784,))\n",
    "x = Dense(256, activation='relu')(input_img)\n",
    "x = Dense(128, activation='relu')(x)\n",
    "x = Dense(64, activation='relu')(x)\n",
    "encoded = Dense(encoding_dims, activation='relu')(x)\n",
    "\n",
    "x = Dense(64, activation='relu')(encoded)\n",
    "x = Dense(128, activation='relu')(x)\n",
    "x = Dense(256, activation='relu')(x)\n",
    "decoded = Dense(784, activation='sigmoid')(x)\n",
    "\n",
    "autoencoder_deep = Model(input_img, decoded)\n",
    "autoencoder_deep.compile(optimizer='adadelta', loss='binary_crossentropy')\n",
    "#########\n",
    "## encoder\n",
    "input2 = Input(shape=(784,))\n",
    "x = autoencoder_deep.layers[1](input2)\n",
    "x = autoencoder_deep.layers[2](x)\n",
    "x = autoencoder_deep.layers[3](x)\n",
    "x = autoencoder_deep.layers[4](x)\n",
    "encoder_deep = Model(input2, x)\n",
    "\n",
    "#########\n",
    "## decoder\n",
    "encoded_input = Input(shape=(36,))\n",
    "x = autoencoder_deep.layers[5](encoded_input)\n",
    "x = autoencoder_deep.layers[6](x)\n",
    "x = autoencoder_deep.layers[7](x)\n",
    "x = autoencoder_deep.layers[8](x)\n",
    "decoder_deep = Model(encoded_input, x)\n",
    "\n",
    "print('autoencoder_deep')\n",
    "autoencoder_deep.summary()\n",
    "print(\"encoder_deep\")\n",
    "encoder_deep.summary()\n",
    "print(\"decoder_deep\")\n",
    "decoder_deep.summary()"
   ]
  },
  {
   "cell_type": "code",
   "execution_count": 178,
   "metadata": {},
   "outputs": [
    {
     "name": "stdout",
     "output_type": "stream",
     "text": [
      "Epoch 1/20\n",
      "55000/55000 [==============================] - 10s - loss: 0.2025    \n",
      "Epoch 2/20\n",
      "55000/55000 [==============================] - ETA: 0s - loss: 0.1975- E - 10s - loss: 0.1975    \n",
      "Epoch 3/20\n",
      "55000/55000 [==============================] - 10s - loss: 0.1928    \n",
      "Epoch 4/20\n",
      "55000/55000 [==============================] - 10s - loss: 0.1880    \n",
      "Epoch 5/20\n",
      "55000/55000 [==============================] - 10s - loss: 0.1840    \n",
      "Epoch 6/20\n",
      "55000/55000 [==============================] - 10s - loss: 0.1806    \n",
      "Epoch 7/20\n",
      "55000/55000 [==============================] - 10s - loss: 0.1775    \n",
      "Epoch 8/20\n",
      "55000/55000 [==============================] - 10s - loss: 0.1748    \n",
      "Epoch 9/20\n",
      "55000/55000 [==============================] - 10s - loss: 0.1717    \n",
      "Epoch 10/20\n",
      "55000/55000 [==============================] - 10s - loss: 0.1694    \n",
      "Epoch 11/20\n",
      "55000/55000 [==============================] - 9s - loss: 0.1667     \n",
      "Epoch 12/20\n",
      "55000/55000 [==============================] - 10s - loss: 0.1645    \n",
      "Epoch 13/20\n",
      "55000/55000 [==============================] - 11s - loss: 0.1622    \n",
      "Epoch 14/20\n",
      "55000/55000 [==============================] - 9s - loss: 0.1603     \n",
      "Epoch 15/20\n",
      "55000/55000 [==============================] - 10s - loss: 0.1584    \n",
      "Epoch 16/20\n",
      "55000/55000 [==============================] - 11s - loss: 0.1568    \n",
      "Epoch 17/20\n",
      "55000/55000 [==============================] - 9s - loss: 0.1552     \n",
      "Epoch 18/20\n",
      "55000/55000 [==============================] - 9s - loss: 0.1539     \n",
      "Epoch 19/20\n",
      "55000/55000 [==============================] - 10s - loss: 0.1522    \n",
      "Epoch 20/20\n",
      "55000/55000 [==============================] - 10s - loss: 0.1509    \n"
     ]
    },
    {
     "data": {
      "text/plain": [
       "<keras.callbacks.History at 0xd156a4a58>"
      ]
     },
     "execution_count": 178,
     "metadata": {},
     "output_type": "execute_result"
    }
   ],
   "source": [
    "autoencoder_deep.fit(x_train, x_train, \n",
    "                     epochs=20, batch_size=500, verbose=1, #validation_data=(x_test, x_test)\n",
    "                    )"
   ]
  },
  {
   "cell_type": "code",
   "execution_count": 189,
   "metadata": {},
   "outputs": [
    {
     "data": {
      "image/png": "[encoded data removed]",
      "text/plain": [
       "<matplotlib.figure.Figure at 0xd231ba9b0>"
      ]
     },
     "metadata": {},
     "output_type": "display_data"
    }
   ],
   "source": [
    "#### encoder, decoder 활용하기 \n",
    "\n",
    "ks = [8, 12, 3]\n",
    "f, axes = plt.subplots(3, 3, figsize=(9, 9))\n",
    "for i, k in enumerate(ks):\n",
    "    axes[i][0].imshow(x_train[[k], :].reshape(28, 28), cmap=plt.cm.gray)\n",
    "    axes[i][0].set_title('original img')\n",
    "    axes[i][0].axis('off')\n",
    "    axes[i][1].imshow(encoder_deep.predict(x_train[[k], :]).reshape(6,6), cmap=plt.cm.gray)\n",
    "    axes[i][1].set_title('encoded img')\n",
    "    axes[i][1].axis('off')\n",
    "    axes[i][2].imshow(decoder_deep.predict(encoder_deep.predict(x_train[[k], :])).reshape(28,28), \n",
    "               cmap=plt.cm.gray)\n",
    "    axes[i][2].set_title('decoded img')\n",
    "    axes[i][2].axis('off')\n",
    "plt.savefig('../../assets/images/markdown_img/180625_autoencoder_deep.svg')\n",
    "plt.show()"
   ]
  },
  {
   "cell_type": "code",
   "execution_count": null,
   "metadata": {},
   "outputs": [],
   "source": []
  },
  {
   "cell_type": "code",
   "execution_count": 190,
   "metadata": {},
   "outputs": [
    {
     "name": "stdout",
     "output_type": "stream",
     "text": [
      "_________________________________________________________________\n",
      "Layer (type)                 Output Shape              Param #   \n",
      "=================================================================\n",
      "input_110 (InputLayer)       (None, 28, 28, 1)         0         \n",
      "_________________________________________________________________\n",
      "conv2d_8 (Conv2D)            (None, 28, 28, 16)        160       \n",
      "_________________________________________________________________\n",
      "max_pooling2d_4 (MaxPooling2 (None, 14, 14, 16)        0         \n",
      "_________________________________________________________________\n",
      "conv2d_9 (Conv2D)            (None, 14, 14, 8)         1160      \n",
      "_________________________________________________________________\n",
      "max_pooling2d_5 (MaxPooling2 (None, 7, 7, 8)           0         \n",
      "_________________________________________________________________\n",
      "conv2d_10 (Conv2D)           (None, 7, 7, 8)           584       \n",
      "_________________________________________________________________\n",
      "max_pooling2d_6 (MaxPooling2 (None, 4, 4, 8)           0         \n",
      "_________________________________________________________________\n",
      "conv2d_11 (Conv2D)           (None, 4, 4, 8)           584       \n",
      "_________________________________________________________________\n",
      "up_sampling2d_4 (UpSampling2 (None, 8, 8, 8)           0         \n",
      "_________________________________________________________________\n",
      "conv2d_12 (Conv2D)           (None, 8, 8, 8)           584       \n",
      "_________________________________________________________________\n",
      "up_sampling2d_5 (UpSampling2 (None, 16, 16, 8)         0         \n",
      "_________________________________________________________________\n",
      "conv2d_13 (Conv2D)           (None, 14, 14, 16)        1168      \n",
      "_________________________________________________________________\n",
      "up_sampling2d_6 (UpSampling2 (None, 28, 28, 16)        0         \n",
      "_________________________________________________________________\n",
      "conv2d_14 (Conv2D)           (None, 28, 28, 1)         145       \n",
      "=================================================================\n",
      "Total params: 4,385\n",
      "Trainable params: 4,385\n",
      "Non-trainable params: 0\n",
      "_________________________________________________________________\n"
     ]
    }
   ],
   "source": [
    "################\n",
    "### Convolutional auto encoder \n",
    "################\n",
    "\n",
    "from keras.layers import Input, Dense, Conv2D, MaxPooling2D, UpSampling2D\n",
    "from keras.models import Model\n",
    "from keras import backend as K\n",
    "\n",
    "input_img = Input(shape=(28, 28, 1))  # adapt this if using `channels_first` image data format\n",
    "\n",
    "x = Conv2D(16, (3, 3), activation='relu', padding='same')(input_img)\n",
    "x = MaxPooling2D((2, 2), padding='same')(x)\n",
    "x = Conv2D(8, (3, 3), activation='relu', padding='same')(x)\n",
    "x = MaxPooling2D((2, 2), padding='same')(x)\n",
    "x = Conv2D(8, (3, 3), activation='relu', padding='same')(x)\n",
    "encoded = MaxPooling2D((2, 2), padding='same')(x)\n",
    "\n",
    "# at this point the representation is (4, 4, 8) i.e. 128-dimensional\n",
    "\n",
    "x = Conv2D(8, (3, 3), activation='relu', padding='same')(encoded)\n",
    "x = UpSampling2D((2, 2))(x)\n",
    "x = Conv2D(8, (3, 3), activation='relu', padding='same')(x)\n",
    "x = UpSampling2D((2, 2))(x)\n",
    "x = Conv2D(16, (3, 3), activation='relu')(x)\n",
    "x = UpSampling2D((2, 2))(x)\n",
    "decoded = Conv2D(1, (3, 3), activation='sigmoid', padding='same')(x)\n",
    "\n",
    "autoencoder_convolution = Model(input_img, decoded)\n",
    "autoencoder_convolution.compile(optimizer='adadelta', loss='binary_crossentropy')\n",
    "\n",
    "autoencoder_convolution.summary()"
   ]
  },
  {
   "cell_type": "code",
   "execution_count": 204,
   "metadata": {},
   "outputs": [
    {
     "name": "stdout",
     "output_type": "stream",
     "text": [
      "_________________________________________________________________\n",
      "Layer (type)                 Output Shape              Param #   \n",
      "=================================================================\n",
      "input_124 (InputLayer)       (None, 28, 28, 1)         0         \n",
      "_________________________________________________________________\n",
      "conv2d_8 (Conv2D)            (None, 28, 28, 16)        160       \n",
      "_________________________________________________________________\n",
      "max_pooling2d_4 (MaxPooling2 (None, 14, 14, 16)        0         \n",
      "_________________________________________________________________\n",
      "conv2d_9 (Conv2D)            (None, 14, 14, 8)         1160      \n",
      "_________________________________________________________________\n",
      "max_pooling2d_5 (MaxPooling2 (None, 7, 7, 8)           0         \n",
      "_________________________________________________________________\n",
      "conv2d_10 (Conv2D)           (None, 7, 7, 8)           584       \n",
      "_________________________________________________________________\n",
      "max_pooling2d_6 (MaxPooling2 (None, 4, 4, 8)           0         \n",
      "_________________________________________________________________\n",
      "conv2d_11 (Conv2D)           (None, 4, 4, 8)           584       \n",
      "=================================================================\n",
      "Total params: 2,488\n",
      "Trainable params: 2,488\n",
      "Non-trainable params: 0\n",
      "_________________________________________________________________\n",
      "_________________________________________________________________\n",
      "Layer (type)                 Output Shape              Param #   \n",
      "=================================================================\n",
      "input_125 (InputLayer)       (None, 4, 4, 8)           0         \n",
      "_________________________________________________________________\n",
      "up_sampling2d_4 (UpSampling2 multiple                  0         \n",
      "_________________________________________________________________\n",
      "conv2d_12 (Conv2D)           (None, 8, 8, 8)           584       \n",
      "_________________________________________________________________\n",
      "up_sampling2d_5 (UpSampling2 (None, 16, 16, 8)         0         \n",
      "_________________________________________________________________\n",
      "conv2d_13 (Conv2D)           (None, 14, 14, 16)        1168      \n",
      "_________________________________________________________________\n",
      "up_sampling2d_6 (UpSampling2 (None, 28, 28, 16)        0         \n",
      "_________________________________________________________________\n",
      "conv2d_14 (Conv2D)           (None, 28, 28, 1)         145       \n",
      "=================================================================\n",
      "Total params: 1,897\n",
      "Trainable params: 1,897\n",
      "Non-trainable params: 0\n",
      "_________________________________________________________________\n"
     ]
    }
   ],
   "source": [
    "## encoder setting \n",
    "input_convolution = Input(shape=(28, 28, 1))\n",
    "x = autoencoder_convolution.layers[1](input_convolution)\n",
    "for i in range(2, 8):\n",
    "    x = autoencoder_convolution.layers[i](x)\n",
    "encoder_convolution = Model(input_convolution, x)\n",
    "encoder_convolution.summary()\n",
    "\n",
    "## decoder setting \n",
    "encoded_input_convolution = Input(shape=(4,4,8))\n",
    "x = autoencoder_convolution.layers[8](encoded_input_convolution)\n",
    "for i in range(9, len(autoencoder_convolution.layers)):\n",
    "    x = autoencoder_convolution.layers[i](x)\n",
    "decoder_convolution = Model(encoded_input_convolution, x)\n",
    "decoder_convolution.summary()\n"
   ]
  },
  {
   "cell_type": "code",
   "execution_count": null,
   "metadata": {
    "collapsed": true
   },
   "outputs": [],
   "source": []
  },
  {
   "cell_type": "code",
   "execution_count": null,
   "metadata": {},
   "outputs": [
    {
     "name": "stdout",
     "output_type": "stream",
     "text": [
      "Epoch 1/5\n",
      "55000/55000 [==============================] - 85s - loss: 0.3501    \n",
      "Epoch 2/5\n",
      "55000/55000 [==============================] - 90s - loss: 0.2141    \n",
      "Epoch 3/5\n",
      "55000/55000 [==============================] - 95s - loss: 0.1980    \n",
      "Epoch 4/5\n",
      "53000/55000 [===========================>..] - ETA: 3s - loss: 0.1884"
     ]
    }
   ],
   "source": [
    "x_train_img = x_train.reshape(len(x_train), 28, 28, 1)\n",
    "\n",
    "autoencoder_convolution.fit(x_train_img, x_train_img, \n",
    "                            epochs=5, batch_size=500, verbose=1,\n",
    "                           )"
   ]
  },
  {
   "cell_type": "code",
   "execution_count": 209,
   "metadata": {},
   "outputs": [
    {
     "ename": "TypeError",
     "evalue": "tuple indices must be integers or slices, not tuple",
     "output_type": "error",
     "traceback": [
      "\u001b[0;31m---------------------------------------------------------------------------\u001b[0m",
      "\u001b[0;31mTypeError\u001b[0m                                 Traceback (most recent call last)",
      "\u001b[0;32m<ipython-input-209-ebc1dc3567e9>\u001b[0m in \u001b[0;36m<module>\u001b[0;34m()\u001b[0m\n\u001b[1;32m      2\u001b[0m \u001b[0mf\u001b[0m\u001b[0;34m,\u001b[0m \u001b[0maxes\u001b[0m \u001b[0;34m=\u001b[0m \u001b[0mplt\u001b[0m\u001b[0;34m.\u001b[0m\u001b[0msubplots\u001b[0m\u001b[0;34m(\u001b[0m\u001b[0;36m3\u001b[0m\u001b[0;34m,\u001b[0m \u001b[0;36m3\u001b[0m\u001b[0;34m,\u001b[0m \u001b[0mfigsize\u001b[0m\u001b[0;34m=\u001b[0m\u001b[0;34m(\u001b[0m\u001b[0;36m9\u001b[0m\u001b[0;34m,\u001b[0m \u001b[0;36m9\u001b[0m\u001b[0;34m)\u001b[0m\u001b[0;34m)\u001b[0m\u001b[0;34m\u001b[0m\u001b[0m\n\u001b[1;32m      3\u001b[0m \u001b[0;32mfor\u001b[0m \u001b[0mi\u001b[0m\u001b[0;34m,\u001b[0m \u001b[0mk\u001b[0m \u001b[0;32min\u001b[0m \u001b[0menumerate\u001b[0m\u001b[0;34m(\u001b[0m\u001b[0mks\u001b[0m\u001b[0;34m)\u001b[0m\u001b[0;34m:\u001b[0m\u001b[0;34m\u001b[0m\u001b[0m\n\u001b[0;32m----> 4\u001b[0;31m     \u001b[0maxes\u001b[0m\u001b[0;34m[\u001b[0m\u001b[0mi\u001b[0m\u001b[0;34m]\u001b[0m\u001b[0;34m[\u001b[0m\u001b[0;36m0\u001b[0m\u001b[0;34m]\u001b[0m\u001b[0;34m.\u001b[0m\u001b[0mimshow\u001b[0m\u001b[0;34m(\u001b[0m\u001b[0mx_train_img\u001b[0m\u001b[0;34m[\u001b[0m\u001b[0;34m[\u001b[0m\u001b[0mk\u001b[0m\u001b[0;34m]\u001b[0m\u001b[0;34m,\u001b[0m \u001b[0;34m:\u001b[0m\u001b[0;34m]\u001b[0m\u001b[0;34m.\u001b[0m\u001b[0mreshape\u001b[0m\u001b[0;34m(\u001b[0m\u001b[0;36m28\u001b[0m\u001b[0;34m,\u001b[0m \u001b[0;36m28\u001b[0m\u001b[0;34m)\u001b[0m\u001b[0;34m,\u001b[0m \u001b[0mcmap\u001b[0m\u001b[0;34m=\u001b[0m\u001b[0mplt\u001b[0m\u001b[0;34m.\u001b[0m\u001b[0mcm\u001b[0m\u001b[0;34m.\u001b[0m\u001b[0mgray\u001b[0m\u001b[0;34m)\u001b[0m\u001b[0;34m\u001b[0m\u001b[0m\n\u001b[0m\u001b[1;32m      5\u001b[0m     \u001b[0maxes\u001b[0m\u001b[0;34m[\u001b[0m\u001b[0mi\u001b[0m\u001b[0;34m]\u001b[0m\u001b[0;34m[\u001b[0m\u001b[0;36m0\u001b[0m\u001b[0;34m]\u001b[0m\u001b[0;34m.\u001b[0m\u001b[0mset_title\u001b[0m\u001b[0;34m(\u001b[0m\u001b[0;34m'original img'\u001b[0m\u001b[0;34m)\u001b[0m\u001b[0;34m\u001b[0m\u001b[0m\n\u001b[1;32m      6\u001b[0m     \u001b[0maxes\u001b[0m\u001b[0;34m[\u001b[0m\u001b[0mi\u001b[0m\u001b[0;34m]\u001b[0m\u001b[0;34m[\u001b[0m\u001b[0;36m0\u001b[0m\u001b[0;34m]\u001b[0m\u001b[0;34m.\u001b[0m\u001b[0maxis\u001b[0m\u001b[0;34m(\u001b[0m\u001b[0;34m'off'\u001b[0m\u001b[0;34m)\u001b[0m\u001b[0;34m\u001b[0m\u001b[0m\n",
      "\u001b[0;31mTypeError\u001b[0m: tuple indices must be integers or slices, not tuple"
     ]
    }
   ],
   "source": [
    "ks = [8, 12, 3]\n",
    "f, axes = plt.subplots(3, 3, figsize=(9, 9))\n",
    "for i, k in enumerate(ks):\n",
    "    axes[i][0].imshow(x_train_img[[k], :].reshape(28, 28), cmap=plt.cm.gray)\n",
    "    axes[i][0].set_title('original img')\n",
    "    axes[i][0].axis('off')\n",
    "    axes[i][1].imshow(encoder_convolution.predict(x_train_img[[k], :]).reshape(6,6), cmap=plt.cm.gray)\n",
    "    axes[i][1].set_title('encoded img')\n",
    "    axes[i][1].axis('off')\n",
    "    axes[i][2].imshow(decoder_convolution.predict(encoder_convolution.predict(x_train_img[[k], :])).reshape(28,28), \n",
    "               cmap=plt.cm.gray)\n",
    "    axes[i][2].set_title('decoded img')\n",
    "    axes[i][2].axis('off')\n",
    "plt.savefig('../../assets/images/markdown_img/180625_autoencoder_convolutional.svg')\n",
    "plt.show()"
   ]
  },
  {
   "cell_type": "code",
   "execution_count": null,
   "metadata": {},
   "outputs": [],
   "source": []
  },
  {
   "cell_type": "code",
   "execution_count": null,
   "metadata": {
    "collapsed": true
   },
   "outputs": [],
   "source": []
  }
 ],
 "metadata": {
  "kernelspec": {
   "display_name": "Python 3",
   "language": "python",
   "name": "python3"
  },
  "language_info": {
   "codemirror_mode": {
    "name": "ipython",
    "version": 3
   },
   "file_extension": ".py",
   "mimetype": "text/x-python",
   "name": "python",
   "nbconvert_exporter": "python",
   "pygments_lexer": "ipython3",
   "version": "3.6.2"
  }
 },
 "nbformat": 4,
 "nbformat_minor": 2
}
