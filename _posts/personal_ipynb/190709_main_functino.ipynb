{
 "cells": [
  {
   "cell_type": "code",
   "execution_count": 20,
   "metadata": {},
   "outputs": [
    {
     "data": {
      "text/plain": [
       "'\\nmain function을 써야 하는 이유. \\n'"
      ]
     },
     "execution_count": 20,
     "metadata": {},
     "output_type": "execute_result"
    }
   ],
   "source": [
    "\"\"\"\n",
    "main function을 써야 하는 이유. \n",
    "\"\"\""
   ]
  },
  {
   "cell_type": "code",
   "execution_count": null,
   "metadata": {},
   "outputs": [],
   "source": []
  },
  {
   "cell_type": "code",
   "execution_count": 54,
   "metadata": {},
   "outputs": [
    {
     "name": "stdout",
     "output_type": "stream",
     "text": [
      "function executino\n"
     ]
    }
   ],
   "source": [
    "\"\"\"\n",
    "- function은 import하면 자동으로 사용가능\n",
    "- var, class 등은 module이름과 함께 사용가능\n",
    "\"\"\"\n",
    "code = \"\"\"\n",
    "def func_a():\n",
    "    print(\"function execution\")\n",
    "class cl_a():\n",
    "    def __init__(self):\n",
    "        self.c=10\n",
    "a = 10\n",
    "\"\"\"\n",
    "f = open(\"main_test.py\", 'wb')\n",
    "f.write(code.encode())\n",
    "f.close()\n",
    "\n",
    "#open('main_test.py', 'r').read()\n",
    "\n",
    "func_a()\n"
   ]
  },
  {
   "cell_type": "code",
   "execution_count": 57,
   "metadata": {},
   "outputs": [
    {
     "ename": "AttributeError",
     "evalue": "module 'main_test' has no attribute 'cl_a'",
     "output_type": "error",
     "traceback": [
      "\u001b[0;31m---------------------------------------------------------------------------\u001b[0m",
      "\u001b[0;31mAttributeError\u001b[0m                            Traceback (most recent call last)",
      "\u001b[0;32m<ipython-input-57-d09d73783784>\u001b[0m in \u001b[0;36m<module>\u001b[0;34m()\u001b[0m\n\u001b[0;32m----> 1\u001b[0;31m \u001b[0mmain_test\u001b[0m\u001b[0;34m.\u001b[0m\u001b[0mcl_a\u001b[0m\u001b[0;34m\u001b[0m\u001b[0m\n\u001b[0m",
      "\u001b[0;31mAttributeError\u001b[0m: module 'main_test' has no attribute 'cl_a'"
     ]
    }
   ],
   "source": [
    "main_test.cl_a"
   ]
  },
  {
   "cell_type": "code",
   "execution_count": 63,
   "metadata": {},
   "outputs": [
    {
     "name": "stdout",
     "output_type": "stream",
     "text": [
      "코드파일이 실행되었습니다.\n"
     ]
    }
   ],
   "source": [
    "\n"
   ]
  },
  {
   "cell_type": "code",
   "execution_count": 2,
   "metadata": {},
   "outputs": [
    {
     "name": "stdout",
     "output_type": "stream",
     "text": [
      "====================\n",
      "코드파일이 실행되었습니다.\n"
     ]
    }
   ],
   "source": [
    "code = \"\"\"\n",
    "if __name__==\"__main__\":\n",
    "    print(\"코드파일이 실행되었습니다.\")\n",
    "\"\"\"\n",
    "f = open(\"main_test.py\", 'wb')\n",
    "f.write(code.encode())\n",
    "f.close()\n",
    "\n",
    "import main_test\n",
    "\n",
    "print(\"=\"*20)\n",
    "\n",
    "%run main_test.py"
   ]
  },
  {
   "cell_type": "code",
   "execution_count": null,
   "metadata": {},
   "outputs": [],
   "source": [
    "code = \"\"\"\n",
    "if __name__==\"__main__\":\n",
    "    print(\"코드파일이 실행되었습니다.\")\n",
    "\"\"\"\n",
    "f = open(\"main_test.py\", 'wb')\n",
    "f.write(code.encode())\n",
    "f.close()"
   ]
  },
  {
   "cell_type": "code",
   "execution_count": 12,
   "metadata": {},
   "outputs": [
    {
     "name": "stdout",
     "output_type": "stream",
     "text": [
      "test function executed\n",
      "====================\n",
      "10\n",
      "====================\n",
      "[-0.78813035 -0.15400503  1.42679214 -0.03665077 -0.02774182]\n",
      "====================\n"
     ]
    }
   ],
   "source": [
    "code = \"\"\"\n",
    "import numpy as np \n",
    "\n",
    "test_int = 10\n",
    "test_str = \"test string\"\n",
    "\n",
    "def test_func():\n",
    "    print('test function executed')\n",
    "\n",
    "class RandomNumberGen:\n",
    "    def __init__(self, size):\n",
    "        self.size = size\n",
    "    def gen_normal(self):\n",
    "        print(np.random.normal(0, 1, self.size))\n",
    "\"\"\"\n",
    "\n",
    "f = open('import_test.py', 'wb')\n",
    "f.write(code.encode())\n",
    "f.close()\n",
    "\n",
    "import import_test\n",
    "\n",
    "import_test.test_func()\n",
    "print('='*20)\n",
    "print(import_test.test_int)\n",
    "print('='*20)\n",
    "\n",
    "import_test.RandomNumberGen(5).gen_normal()\n",
    "print('='*20)"
   ]
  },
  {
   "cell_type": "code",
   "execution_count": 3,
   "metadata": {},
   "outputs": [
    {
     "name": "stdout",
     "output_type": "stream",
     "text": [
      "import code in another file\n"
     ]
    }
   ],
   "source": [
    "f = open('../../assets/import_from_another_file.py', 'wb')\n",
    "f.write(\"\"\"\n",
    "def test_func():\n",
    "    print('import code in another file')\n",
    "\"\"\".encode()), f.close()\n",
    "\n",
    "import sys\n",
    "## 상대경로를 넣으면 안되고 절대 경로만 넣어야 함 \n",
    "sys.path.append('/Users/frhyme/frhyme.github.io/assets/')\n",
    "\n",
    "import import_from_another_file\n",
    "import_from_another_file.test_func()"
   ]
  },
  {
   "cell_type": "code",
   "execution_count": 7,
   "metadata": {},
   "outputs": [
    {
     "name": "stdout",
     "output_type": "stream",
     "text": [
      "mkdir: test_folder: File exists\n"
     ]
    }
   ],
   "source": [
    "%mkdir test_folder"
   ]
  },
  {
   "cell_type": "code",
   "execution_count": 2,
   "metadata": {},
   "outputs": [
    {
     "name": "stdout",
     "output_type": "stream",
     "text": [
      "==============================\n",
      "test function executed\n",
      "==============================\n"
     ]
    }
   ],
   "source": [
    "f = open('test_folder/test_code.py', 'wb')\n",
    "f.write(\"\"\"\n",
    "def test_func():\n",
    "    print(\"=\"*30)\n",
    "    print(\"test function executed\")\n",
    "    print(\"=\"*30)\n",
    "\"\"\".encode()), f.close()\n",
    "\n",
    "## 그냥 __init__.py가 있어야 함\n",
    "f = open('test_folder/__init__.py', 'wb')\n",
    "f.close()\n",
    "\n",
    "\"\"\"\n",
    "import test_folder 로는 test_code까지 읽어들이지 못하므로 다음으로 명확하게 표현해줘야 함\n",
    "아니면 from test_folder import * 도 괜찮음 \n",
    "\"\"\"\n",
    "import test_folder.test_code\n",
    "\n",
    "test_folder.test_code.test_func()"
   ]
  },
  {
   "cell_type": "code",
   "execution_count": 1,
   "metadata": {},
   "outputs": [
    {
     "ename": "NameError",
     "evalue": "name 'sys' is not defined",
     "output_type": "error",
     "traceback": [
      "\u001b[0;31m---------------------------------------------------------------------------\u001b[0m",
      "\u001b[0;31mNameError\u001b[0m                                 Traceback (most recent call last)",
      "\u001b[0;32m<ipython-input-1-b35d1d099a2a>\u001b[0m in \u001b[0;36m<module>\u001b[0;34m()\u001b[0m\n\u001b[0;32m----> 1\u001b[0;31m \u001b[0msys\u001b[0m\u001b[0;34m.\u001b[0m\u001b[0mpath\u001b[0m\u001b[0;34m\u001b[0m\u001b[0m\n\u001b[0m",
      "\u001b[0;31mNameError\u001b[0m: name 'sys' is not defined"
     ]
    }
   ],
   "source": [
    "sys.path"
   ]
  },
  {
   "cell_type": "code",
   "execution_count": null,
   "metadata": {},
   "outputs": [],
   "source": []
  }
 ],
 "metadata": {
  "kernelspec": {
   "display_name": "Python 3",
   "language": "python",
   "name": "python3"
  },
  "language_info": {
   "codemirror_mode": {
    "name": "ipython",
    "version": 3
   },
   "file_extension": ".py",
   "mimetype": "text/x-python",
   "name": "python",
   "nbconvert_exporter": "python",
   "pygments_lexer": "ipython3",
   "version": "3.6.5"
  }
 },
 "nbformat": 4,
 "nbformat_minor": 2
}
