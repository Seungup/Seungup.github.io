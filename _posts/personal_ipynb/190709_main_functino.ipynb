{
 "cells": [
  {
   "cell_type": "code",
   "execution_count": 20,
   "metadata": {},
   "outputs": [
    {
     "data": {
      "text/plain": [
       "'\\nmain function을 써야 하는 이유. \\n'"
      ]
     },
     "execution_count": 20,
     "metadata": {},
     "output_type": "execute_result"
    }
   ],
   "source": [
    "\"\"\"\n",
    "main function을 써야 하는 이유. \n",
    "\"\"\""
   ]
  },
  {
   "cell_type": "code",
   "execution_count": null,
   "metadata": {},
   "outputs": [],
   "source": []
  },
  {
   "cell_type": "code",
   "execution_count": 54,
   "metadata": {},
   "outputs": [
    {
     "name": "stdout",
     "output_type": "stream",
     "text": [
      "function executino\n"
     ]
    }
   ],
   "source": [
    "\"\"\"\n",
    "- function은 import하면 자동으로 사용가능\n",
    "- var, class 등은 module이름과 함께 사용가능\n",
    "\"\"\"\n",
    "code = \"\"\"\n",
    "def func_a():\n",
    "    print(\"function execution\")\n",
    "class cl_a():\n",
    "    def __init__(self):\n",
    "        self.c=10\n",
    "a = 10\n",
    "\"\"\"\n",
    "f = open(\"main_test.py\", 'wb')\n",
    "f.write(code.encode())\n",
    "f.close()\n",
    "\n",
    "#open('main_test.py', 'r').read()\n",
    "\n",
    "func_a()\n"
   ]
  },
  {
   "cell_type": "code",
   "execution_count": 57,
   "metadata": {},
   "outputs": [
    {
     "ename": "AttributeError",
     "evalue": "module 'main_test' has no attribute 'cl_a'",
     "output_type": "error",
     "traceback": [
      "\u001b[0;31m---------------------------------------------------------------------------\u001b[0m",
      "\u001b[0;31mAttributeError\u001b[0m                            Traceback (most recent call last)",
      "\u001b[0;32m<ipython-input-57-d09d73783784>\u001b[0m in \u001b[0;36m<module>\u001b[0;34m()\u001b[0m\n\u001b[0;32m----> 1\u001b[0;31m \u001b[0mmain_test\u001b[0m\u001b[0;34m.\u001b[0m\u001b[0mcl_a\u001b[0m\u001b[0;34m\u001b[0m\u001b[0m\n\u001b[0m",
      "\u001b[0;31mAttributeError\u001b[0m: module 'main_test' has no attribute 'cl_a'"
     ]
    }
   ],
   "source": [
    "main_test.cl_a"
   ]
  },
  {
   "cell_type": "code",
   "execution_count": 63,
   "metadata": {},
   "outputs": [
    {
     "name": "stdout",
     "output_type": "stream",
     "text": [
      "코드파일이 실행되었습니다.\n"
     ]
    }
   ],
   "source": [
    "\n"
   ]
  },
  {
   "cell_type": "code",
   "execution_count": 1,
   "metadata": {},
   "outputs": [
    {
     "name": "stdout",
     "output_type": "stream",
     "text": [
      "코드파일이 import되었습니다. \n",
      "====================\n",
      "코드파일이 실행되었습니다.\n"
     ]
    }
   ],
   "source": [
    "code = \"\"\"\n",
    "if __name__==\"__main__\":\n",
    "    print(\"코드파일이 실행되었습니다.\")\n",
    "else:\n",
    "    print(\"코드파일이 import되었습니다. \")\n",
    "\"\"\"\n",
    "f = open(\"main_test.py\", 'wb')\n",
    "f.write(code.encode())\n",
    "f.close()\n",
    "\n",
    "import main_test\n",
    "\n",
    "print(\"=\"*20)\n",
    "\n",
    "%run main_test.py"
   ]
  },
  {
   "cell_type": "code",
   "execution_count": null,
   "metadata": {},
   "outputs": [],
   "source": []
  }
 ],
 "metadata": {
  "kernelspec": {
   "display_name": "Python 3",
   "language": "python",
   "name": "python3"
  },
  "language_info": {
   "codemirror_mode": {
    "name": "ipython",
    "version": 3
   },
   "file_extension": ".py",
   "mimetype": "text/x-python",
   "name": "python",
   "nbconvert_exporter": "python",
   "pygments_lexer": "ipython3",
   "version": "3.6.5"
  }
 },
 "nbformat": 4,
 "nbformat_minor": 2
}
