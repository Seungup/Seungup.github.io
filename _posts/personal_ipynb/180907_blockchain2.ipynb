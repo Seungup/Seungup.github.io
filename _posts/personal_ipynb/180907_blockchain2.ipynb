{
 "cells": [
  {
   "cell_type": "code",
   "execution_count": 230,
   "metadata": {},
   "outputs": [
    {
     "ename": "UnsupportedOperation",
     "evalue": "not writable",
     "output_type": "error",
     "traceback": [
      "\u001b[0;31m---------------------------------------------------------------------------\u001b[0m",
      "\u001b[0;31mUnsupportedOperation\u001b[0m                      Traceback (most recent call last)",
      "\u001b[0;32m<ipython-input-230-c32a5c87567d>\u001b[0m in \u001b[0;36m<module>\u001b[0;34m()\u001b[0m\n\u001b[1;32m    115\u001b[0m \u001b[0;34m\u001b[0m\u001b[0m\n\u001b[1;32m    116\u001b[0m \u001b[0;32mif\u001b[0m \u001b[0m__name__\u001b[0m \u001b[0;34m==\u001b[0m \u001b[0;34m'__main__'\u001b[0m\u001b[0;34m:\u001b[0m\u001b[0;34m\u001b[0m\u001b[0m\n\u001b[0;32m--> 117\u001b[0;31m     \u001b[0mapp\u001b[0m\u001b[0;34m.\u001b[0m\u001b[0mrun\u001b[0m\u001b[0;34m(\u001b[0m\u001b[0mhost\u001b[0m\u001b[0;34m=\u001b[0m\u001b[0;34m'0.0.0.0'\u001b[0m\u001b[0;34m,\u001b[0m \u001b[0mport\u001b[0m\u001b[0;34m=\u001b[0m\u001b[0;36m5000\u001b[0m\u001b[0;34m)\u001b[0m\u001b[0;34m\u001b[0m\u001b[0m\n\u001b[0m",
      "\u001b[0;32m~/anaconda3/lib/python3.6/site-packages/flask/app.py\u001b[0m in \u001b[0;36mrun\u001b[0;34m(self, host, port, debug, load_dotenv, **options)\u001b[0m\n\u001b[1;32m    936\u001b[0m         \u001b[0moptions\u001b[0m\u001b[0;34m.\u001b[0m\u001b[0msetdefault\u001b[0m\u001b[0;34m(\u001b[0m\u001b[0;34m'threaded'\u001b[0m\u001b[0;34m,\u001b[0m \u001b[0;32mTrue\u001b[0m\u001b[0;34m)\u001b[0m\u001b[0;34m\u001b[0m\u001b[0m\n\u001b[1;32m    937\u001b[0m \u001b[0;34m\u001b[0m\u001b[0m\n\u001b[0;32m--> 938\u001b[0;31m         \u001b[0mcli\u001b[0m\u001b[0;34m.\u001b[0m\u001b[0mshow_server_banner\u001b[0m\u001b[0;34m(\u001b[0m\u001b[0mself\u001b[0m\u001b[0;34m.\u001b[0m\u001b[0menv\u001b[0m\u001b[0;34m,\u001b[0m \u001b[0mself\u001b[0m\u001b[0;34m.\u001b[0m\u001b[0mdebug\u001b[0m\u001b[0;34m,\u001b[0m \u001b[0mself\u001b[0m\u001b[0;34m.\u001b[0m\u001b[0mname\u001b[0m\u001b[0;34m,\u001b[0m \u001b[0;32mFalse\u001b[0m\u001b[0;34m)\u001b[0m\u001b[0;34m\u001b[0m\u001b[0m\n\u001b[0m\u001b[1;32m    939\u001b[0m \u001b[0;34m\u001b[0m\u001b[0m\n\u001b[1;32m    940\u001b[0m         \u001b[0;32mfrom\u001b[0m \u001b[0mwerkzeug\u001b[0m\u001b[0;34m.\u001b[0m\u001b[0mserving\u001b[0m \u001b[0;32mimport\u001b[0m \u001b[0mrun_simple\u001b[0m\u001b[0;34m\u001b[0m\u001b[0m\n",
      "\u001b[0;32m~/anaconda3/lib/python3.6/site-packages/flask/cli.py\u001b[0m in \u001b[0;36mshow_server_banner\u001b[0;34m(env, debug, app_import_path, eager_loading)\u001b[0m\n\u001b[1;32m    627\u001b[0m             \u001b[0mmessage\u001b[0m \u001b[0;34m+=\u001b[0m \u001b[0;34m' (lazy loading)'\u001b[0m\u001b[0;34m\u001b[0m\u001b[0m\n\u001b[1;32m    628\u001b[0m \u001b[0;34m\u001b[0m\u001b[0m\n\u001b[0;32m--> 629\u001b[0;31m         \u001b[0mclick\u001b[0m\u001b[0;34m.\u001b[0m\u001b[0mecho\u001b[0m\u001b[0;34m(\u001b[0m\u001b[0mmessage\u001b[0m\u001b[0;34m)\u001b[0m\u001b[0;34m\u001b[0m\u001b[0m\n\u001b[0m\u001b[1;32m    630\u001b[0m \u001b[0;34m\u001b[0m\u001b[0m\n\u001b[1;32m    631\u001b[0m     \u001b[0mclick\u001b[0m\u001b[0;34m.\u001b[0m\u001b[0mecho\u001b[0m\u001b[0;34m(\u001b[0m\u001b[0;34m' * Environment: {0}'\u001b[0m\u001b[0;34m.\u001b[0m\u001b[0mformat\u001b[0m\u001b[0;34m(\u001b[0m\u001b[0menv\u001b[0m\u001b[0;34m)\u001b[0m\u001b[0;34m)\u001b[0m\u001b[0;34m\u001b[0m\u001b[0m\n",
      "\u001b[0;32m~/anaconda3/lib/python3.6/site-packages/click/utils.py\u001b[0m in \u001b[0;36mecho\u001b[0;34m(message, file, nl, err, color)\u001b[0m\n\u001b[1;32m    257\u001b[0m \u001b[0;34m\u001b[0m\u001b[0m\n\u001b[1;32m    258\u001b[0m     \u001b[0;32mif\u001b[0m \u001b[0mmessage\u001b[0m\u001b[0;34m:\u001b[0m\u001b[0;34m\u001b[0m\u001b[0m\n\u001b[0;32m--> 259\u001b[0;31m         \u001b[0mfile\u001b[0m\u001b[0;34m.\u001b[0m\u001b[0mwrite\u001b[0m\u001b[0;34m(\u001b[0m\u001b[0mmessage\u001b[0m\u001b[0;34m)\u001b[0m\u001b[0;34m\u001b[0m\u001b[0m\n\u001b[0m\u001b[1;32m    260\u001b[0m     \u001b[0mfile\u001b[0m\u001b[0;34m.\u001b[0m\u001b[0mflush\u001b[0m\u001b[0;34m(\u001b[0m\u001b[0;34m)\u001b[0m\u001b[0;34m\u001b[0m\u001b[0m\n\u001b[1;32m    261\u001b[0m \u001b[0;34m\u001b[0m\u001b[0m\n",
      "\u001b[0;31mUnsupportedOperation\u001b[0m: not writable"
     ]
    }
   ],
   "source": [
    "import hashlib\n",
    "import json\n",
    "import datetime as dt \n",
    "\n",
    "from flask import Flask, jsonify, request\n",
    "## 분산환경에서 여러 노드가 있을때 개별 node에 대해 식별키를 만들어주기 위해서 사용함\n",
    "from uuid import uuid4\n",
    "\n",
    "# bit-coin처럼 transaction 리스트를 모아서 이를 하나의 블록으로 만들어주는 블록체인 클래스를 정의합니다. \n",
    "class Blockchain(object):\n",
    "    def __init__(self):\n",
    "        ## block이 생성되면 들어가는 리스트입니다. \n",
    "        self.chain = []\n",
    "        ## 아직 새로운 블록으로 만들어지지 못한, transaction들입니다. \n",
    "        ## 새로운 블록이 만들어지면 이 리스트가 모두 새로운 블록으로 들어가게 됩니다. \n",
    "        ## 또한 개별 transaction은 어떤 형태가 되어야 할까요? json? \n",
    "        self.current_transactions = []\n",
    "        self.create_genesis_block()## 시작하면, genesis_block를 만들어야 함 \n",
    "\n",
    "    def create_genesis_block(self):\n",
    "        ## create a genesis block. why its proof is 100?? \n",
    "        self.new_block(previous_hash=1, proof=100)\n",
    "        \n",
    "    def new_block(self, proof, previous_hash=None):\n",
    "        # Creates a new Block and adds it to the chain\n",
    "        ## block에 string, list, ditionary, int 등 매우 기본적인 값들만 저장되어 있는 것을 알 수 있습니다. \n",
    "        ## 이는 이 블록체인에서 json으로 serialization하기 때문이죠. \n",
    "        ## 만약, 새로운 객체를 만들고, 제가 객체들도 포함된 형태로 블록이 생성될 경우 pickle등 다른 방법으로 serialization하는 것이 좋을 수 있습니다. \n",
    "        block = {\n",
    "            'index': len(self.chain) + 1,\n",
    "             ## timestamp의 경우 string으로 넣을 수도 있으나, UNIX time으로 넣어야 이후 후처리가 쉬움. \n",
    "            'timestamp': dt.datetime.timestamp(dt.datetime.now()),\n",
    "            'transactions': self.current_transactions.copy(),\n",
    "            'proof': proof,\n",
    "            'previous_hash': self.hash(self.chain[-1]) if previous_hash is None else previous_hash, \n",
    "        }\n",
    "        # Reset the current list of transactions\n",
    "        self.current_transactions = []\n",
    "        self.chain.append(block)\n",
    "        return block\n",
    "    \n",
    "    def new_transaction(self, sender, recipient, amount):\n",
    "        # Adds a new transaction to the list of transactions\n",
    "        # 일단, transaction은 항상 sender, recipient, amount로 표현된다는 것이 정의되어 있습니다. \n",
    "        # 각각 str, str, int로 표현되죠. \n",
    "        self.current_transactions.append({\n",
    "            'sender': sender,\n",
    "            'recipient': recipient,\n",
    "            'amount': amount,\n",
    "        })\n",
    "        ## 얘는 뭔가, 왜 last_block의 index에 1을 더하여 리턴하는가?? \n",
    "        ## 왜 거래가 추가될 block의 index를 리턴하는가?? \n",
    "        return self.last_block['index'] + 1\n",
    "    \n",
    "    @staticmethod## staticmethod는 그저 클래스 내부에 존재할 뿐이지 외부에 있는 함수처럼 작동합니다(class or class instance의 어떤 정보도 참조하지 않습니다. )\n",
    "    def hash(block):\n",
    "        # Hashes a Block\n",
    "        # 이 블록체인에서는 각각의 block이 json으로 변형되기 쉽도록, dictionary, int, string으로만 구성되어 있습니다. \n",
    "        # sort_keys=True를 넘겨주지 않아도 기본적으로 json에서 ordering이 유지됨. \n",
    "        block_json = json.dumps(block).encode()\n",
    "        return hashlib.sha256(block_json).hexdigest()\n",
    "    \n",
    "    @property## @property 데코레이터는 해당 함수를 마치 attribute처럼 접근할 수 있게 해줍니다(또한 read-only)\n",
    "    def last_block(self):\n",
    "        # Returns the last Block in the chain\n",
    "        return self.chain[-1]\n",
    "    \n",
    "    def proof_of_work(self, last_proof):\n",
    "        \"\"\"\n",
    "        간단한 Proof of work algorithm: \n",
    "        - last_proof와 어떤 값(proof)를 합쳐서 넣었을 때, 우리가 원하는 조건을 충족했는지(valid_proof)를 파악하고,\n",
    "        - 충족할때의 proof를 찾아서 리턴함. \n",
    "        \"\"\"\n",
    "        proof = 0\n",
    "        while self.valid_proof(last_proof, proof) is False:\n",
    "            proof += 1\n",
    "        return proof\n",
    "    \n",
    "    @staticmethod\n",
    "    def valid_proof(last_proof, proof):\n",
    "        \"\"\"\n",
    "        hash(last_proof, proof)의 제일 앞 네 byte가 0인지를 파악한다. \n",
    "        - last_proof는 previous block의 proof고, \n",
    "        - 이를 섞은 다음 proof of work를 찾는 놈에게 다음 block를 만들 수 있는 자격이 주어짐. \n",
    "        \"\"\"\n",
    "        guess = f'{last_proof}{proof}'.encode() ## string ==> binary \n",
    "        guess_hash = hashlib.sha256(guess).hexdigest()\n",
    "        ## 제일 앞 네 개가 0인지 파악함, 물론 보통 시간이 지나면서 이 0의 개수를 늘리는 식으로 진행함. \n",
    "        return guess_hash[:4] == \"0000\"\n",
    "    \n",
    "#######################\n",
    "# flask로 서버를 운영합니다. \n",
    "app = Flask(__name__)\n",
    "\n",
    "# node에 대한 식별자를 무작위로 만들어줍니다. 이때 uuid4를 사용함. \n",
    "# mine()에서 이 변수를 사용함. \n",
    "node_identifier = str(uuid4()).replace('-', '')\n",
    "\n",
    "# Instantiate the Blockchain\n",
    "blockchain = Blockchain()\n",
    "\n",
    "@app.route('/mine', methods=['GET'])\n",
    "def mine():\n",
    "    # mine에 성공하면, 해당 block을 유지하는데 기여했으므로 리워드를 줌\n",
    "    \n",
    "    last_block = blockchain.last_block\n",
    "    last_proof = last_block['proof']\n",
    "    proof = blockchain.proof_of_work(last_proof)\n",
    "\n",
    "    # We must receive a reward for finding the proof.\n",
    "    # The sender is \"0\" to signify that this node has mined a new coin.\n",
    "    ## where is identifier?\n",
    "    blockchain.new_transaction(\n",
    "        sender=\"0\",\n",
    "        recipient=node_identifier,\n",
    "        amount=1,\n",
    "    )\n",
    "\n",
    "    # Forge the new Block by adding it to the chain\n",
    "    previous_hash = blockchain.hash(last_block)\n",
    "    block = blockchain.new_block(proof, previous_hash)\n",
    "\n",
    "    response = {\n",
    "        'message': \"New Block Forged\",\n",
    "        'index': block['index'],\n",
    "        'transactions': block['transactions'],\n",
    "        'proof': block['proof'],\n",
    "        'previous_hash': block['previous_hash'],\n",
    "    }\n",
    "    return jsonify(response), 200\n",
    "  \n",
    "## 새로운 transaction data를 만들어줍니다. \n",
    "@app.route('/transactions/new', methods=['POST'])\n",
    "def new_transaction():\n",
    "    values = request.get_json()\n",
    "    # Check that the required fields are in the POST'ed data\n",
    "    required = ['sender', 'recipient', 'amount']\n",
    "    # transcation에는 위 세 가지 정보 sender, recipient, amount가 모두 있어야 함. \n",
    "    # 하나라도 없을 경우 에러 발생.\n",
    "    if not all(k in values for k in required):\n",
    "        return 'Missing values', 400\n",
    "    # Create a new Transaction\n",
    "    index = blockchain.new_transaction(values['sender'], values['recipient'], values['amount'])\n",
    "    response = {'message': f'Transaction will be added to Block {index}'}\n",
    "    return jsonify(response), 201\n",
    "\n",
    "## 현재 전체 blockchain을 리턴해줍니다.\n",
    "@app.route('/chain', methods=['GET'])\n",
    "def full_chain():\n",
    "    response = {\n",
    "        'chain': blockchain.chain,\n",
    "        'length': len(blockchain.chain),\n",
    "    }\n",
    "    return jsonify(response), 200\n",
    "\n",
    "if __name__ == '__main__':\n",
    "    app.run(host='0.0.0.0', port=5000)"
   ]
  },
  {
   "cell_type": "code",
   "execution_count": null,
   "metadata": {},
   "outputs": [],
   "source": []
  },
  {
   "cell_type": "code",
   "execution_count": null,
   "metadata": {},
   "outputs": [],
   "source": []
  },
  {
   "cell_type": "code",
   "execution_count": 229,
   "metadata": {},
   "outputs": [
    {
     "name": "stdout",
     "output_type": "stream",
     "text": [
      "633db812-2df2-438d-b126-7da2eec680c4\n"
     ]
    }
   ],
   "source": [
    "import uuid\n",
    "## make a random UUID\n",
    "print(uuid.uuid4())"
   ]
  },
  {
   "cell_type": "code",
   "execution_count": 275,
   "metadata": {},
   "outputs": [
    {
     "name": "stdout",
     "output_type": "stream",
     "text": [
      "ParseResult(scheme='https', netloc='localhost:5000', path='/mine', params='', query='', fragment='')\n",
      "https\n",
      "localhost:5000\n",
      "/mine\n",
      "\n",
      "\n",
      "5000\n",
      "https://localhost:5000/mine\n"
     ]
    }
   ],
   "source": [
    "from urllib.parse import urlparse\n",
    "## 아무 url이나 한번 넣어봅시다. \n",
    "a = urlparse(\"https://search.naver.com/search.naver?where=nexearch&sm=top_hty&fbm=0&ie=utf8&query=urllib\")\n",
    "a = urlparse('https://localhost:5000/mine')\n",
    "\n",
    "print(a)\n",
    "print(a.scheme)\n",
    "print(a.netloc)\n",
    "print(a.path)\n",
    "print(a.params)\n",
    "print(a.query)\n",
    "print(a.port)\n",
    "print(a.geturl())\n",
    "\n"
   ]
  },
  {
   "cell_type": "code",
   "execution_count": 294,
   "metadata": {},
   "outputs": [
    {
     "name": "stdout",
     "output_type": "stream",
     "text": [
      "url: https://docs.python.org/3/library/urllib.parse.html\n",
      "scheme: https\n",
      "netloc: docs.python.org\n",
      "relative path: /3/library/urllib.parse.html\n",
      "params: \n",
      "query: \n",
      "port: None\n",
      "==================================================\n",
      "url: https://search.naver.com/search.naver?where=nexearch&sm=top_hty&fbm=0&ie=utf8&query=urllib\n",
      "scheme: https\n",
      "netloc: search.naver.com\n",
      "relative path: /search.naver\n",
      "params: \n",
      "query: where=nexearch&sm=top_hty&fbm=0&ie=utf8&query=urllib\n",
      "port: None\n",
      "==================================================\n",
      "url: http://localhost:5000/mine\n",
      "scheme: http\n",
      "netloc: localhost:5000\n",
      "relative path: /mine\n",
      "params: \n",
      "query: \n",
      "port: 5000\n",
      "==================================================\n"
     ]
    }
   ],
   "source": [
    "from urllib.parse import urlparse\n",
    "\n",
    "test_url_lst = [\n",
    "    \"https://docs.python.org/3/library/urllib.parse.html\", \n",
    "    \"https://search.naver.com/search.naver?where=nexearch&sm=top_hty&fbm=0&ie=utf8&query=urllib\", \n",
    "    \"http://localhost:5000/mine\"\n",
    "]\n",
    "\n",
    "for test_url in test_url_lst:\n",
    "    x = urlparse(test_url)\n",
    "    print(f\"url: {x.geturl()}\")\n",
    "    print(f\"scheme: {x.scheme}\")\n",
    "    print(f\"netloc: {x.netloc}\")\n",
    "    print(f\"relative path: {x.path}\")## relative path \n",
    "    print(f\"params: {x.params}\")\n",
    "    print(f\"query: {x.query}\")\n",
    "    print(f\"port: {x.port}\")\n",
    "    print(\"=\"*50)"
   ]
  },
  {
   "cell_type": "code",
   "execution_count": 274,
   "metadata": {},
   "outputs": [
    {
     "data": {
      "text/plain": [
       "<http.client.HTTPResponse at 0x10c6147b8>"
      ]
     },
     "execution_count": 274,
     "metadata": {},
     "output_type": "execute_result"
    }
   ],
   "source": [
    "a"
   ]
  },
  {
   "cell_type": "code",
   "execution_count": null,
   "metadata": {},
   "outputs": [],
   "source": [
    "5000 \"e662143083214b28b79b33cf666e8c84\"\n",
    "5001 \"3c5c8cbdd78d45648a1eb1fd7fa4e8fd\"\n",
    "5002 \"c45f461377a14cedb820c69a0d0638ee\""
   ]
  }
 ],
 "metadata": {
  "kernelspec": {
   "display_name": "Python 3",
   "language": "python",
   "name": "python3"
  },
  "language_info": {
   "codemirror_mode": {
    "name": "ipython",
    "version": 3
   },
   "file_extension": ".py",
   "mimetype": "text/x-python",
   "name": "python",
   "nbconvert_exporter": "python",
   "pygments_lexer": "ipython3",
   "version": "3.6.5"
  }
 },
 "nbformat": 4,
 "nbformat_minor": 2
}
