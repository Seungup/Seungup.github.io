{
 "cells": [
  {
   "cell_type": "code",
   "execution_count": 301,
   "metadata": {
    "collapsed": true
   },
   "outputs": [],
   "source": [
    "\n",
    "\n",
    "\n",
    "train_url = 'https://storage.googleapis.com/kaggle-competitions-data/kaggle/3136/train.csv?GoogleAccessId=web-data@kaggle-161607.iam.gserviceaccount.com&Expires=1528004576&Signature=i3EJD%2FmW%2BVBYKZMLlyhwWg%2Bwv0A6aCeInBC1WYZkKpGNZnhdHUMFwN9NpcRYU9Bk6Rg%2BKzoaqILW5QDI63z8TathqmhgzrWk18O7B3ixLVPHdIqOfaDPyD9dm%2BCFgBP0Iy9FU1B4yWAI0GfymIXQF2fCJjHJZYG4nHOTjmFQwPW1SkBOCyWAe0itNQXBHTv8ETrf7lyiCFvJJZ%2BqDBp7lOkhFua3Fu3lyuUxfLNOdoVMaiNDL5c%2B3pVm7QfSWJyQQylRbeCTfviKDXVt1Qbh3PZ0%2BbQ2S7AENZ4YOGYURkR7z9f5lkRDzLEtqwDdsfT8jqoGtgDcqJbcTTCzq7YpYg%3D%3D'\n",
    "df = pd.read_csv(train_url)\n",
    "test_url = 'https://storage.googleapis.com/kaggle-competitions-data/kaggle/3136/test.csv?GoogleAccessId=web-data@kaggle-161607.iam.gserviceaccount.com&Expires=1528014652&Signature=Svj8okCs2qGEFUbNv3a9g3ZmNSXciO%2B3mJWdXIxcMLvTzR41Gcne%2BGStUV%2BOD6x8pZwJKMv%2BiHlFtYob%2F2eTDKt9AaHclwWB8osr6pv9h%2Bq%2Fi6JDWXsxAwb8eodlYfh3Yv4Xtp4vcknqG%2FoP3Br%2FbqxYlBMEXST4CQL%2BBysri%2BKoSzRkASg%2BR1KKgPhw0Cp0G%2BwV5OWQ67HJRLyqROUbG9ZBkjzLqOGTYSqafH1Cej8Rfr7fVHxReaYzjtNbWhGIkc%2BncnctXQh6wc7Ri1pWiTiJ3bYbRqcIrk6ZJWDesrpcebx7MbmqCARW5DXgNb36olu0SEziE5fDO5BkCpufBg%3D%3D'\n",
    "test_df = pd.read_csv(test_url)"
   ]
  },
  {
   "cell_type": "code",
   "execution_count": 9,
   "metadata": {},
   "outputs": [
    {
     "name": "stdout",
     "output_type": "stream",
     "text": [
      "Index(['PassengerId', 'Survived', 'Pclass', 'Name', 'Sex', 'Age', 'SibSp',\n",
      "       'Parch', 'Ticket', 'Fare', 'Cabin', 'Embarked'],\n",
      "      dtype='object')\n"
     ]
    }
   ],
   "source": [
    "\"\"\"\n",
    "- 그냥 슬쩍 보기에, 유용하다고 생각되는 것들은 Pclass, Sex, Age 로 나뉨. \n",
    "\"\"\"\n",
    "print(df.columns)"
   ]
  },
  {
   "cell_type": "code",
   "execution_count": 345,
   "metadata": {},
   "outputs": [
    {
     "name": "stdout",
     "output_type": "stream",
     "text": [
      "-------------------\n",
      "logisticReg\n",
      "train accuracy: 0.8338945005611672\n",
      "F1 score: 0.7784431137724551\n",
      "--------\n"
     ]
    },
    {
     "name": "stderr",
     "output_type": "stream",
     "text": [
      "/Users/frhyme/anaconda3/lib/python3.6/site-packages/sklearn/neural_network/multilayer_perceptron.py:564: ConvergenceWarning: Stochastic Optimizer: Maximum iterations (200) reached and the optimization hasn't converged yet.\n",
      "  % self.max_iter, ConvergenceWarning)\n",
      "/Users/frhyme/anaconda3/lib/python3.6/site-packages/sklearn/neural_network/multilayer_perceptron.py:564: ConvergenceWarning: Stochastic Optimizer: Maximum iterations (200) reached and the optimization hasn't converged yet.\n",
      "  % self.max_iter, ConvergenceWarning)\n",
      "/Users/frhyme/anaconda3/lib/python3.6/site-packages/sklearn/neural_network/multilayer_perceptron.py:564: ConvergenceWarning: Stochastic Optimizer: Maximum iterations (200) reached and the optimization hasn't converged yet.\n",
      "  % self.max_iter, ConvergenceWarning)\n"
     ]
    },
    {
     "name": "stdout",
     "output_type": "stream",
     "text": [
      "neural-net\n",
      "train accuracy: 0.8451178451178452\n",
      "F1 score: 0.779552715654952\n",
      "--------\n",
      "kneighborsClf\n",
      "train accuracy: 0.8451178451178452\n",
      "F1 score: 0.7759740259740259\n",
      "--------\n",
      "svc\n",
      "train accuracy: 0.8305274971941639\n",
      "F1 score: 0.7666151468315301\n",
      "--------\n",
      "randomforest\n",
      "train accuracy: 0.9270482603815937\n",
      "F1 score: 0.9042709867452136\n",
      "--------\n",
      "AdaBoostClassifier\n",
      "train accuracy: 0.8226711560044894\n",
      "F1 score: 0.7620481927710844\n",
      "--------\n",
      "GaussianNB\n",
      "train accuracy: 0.4276094276094276\n",
      "F1 score: 0.5721476510067114\n",
      "--------\n",
      "QuadraticDiscriminantAnalysis\n",
      "train accuracy: 0.7586980920314254\n",
      "F1 score: 0.7309136420525657\n",
      "--------\n"
     ]
    },
    {
     "name": "stderr",
     "output_type": "stream",
     "text": [
      "/Users/frhyme/anaconda3/lib/python3.6/site-packages/sklearn/discriminant_analysis.py:682: UserWarning: Variables are collinear\n",
      "  warnings.warn(\"Variables are collinear\")\n"
     ]
    },
    {
     "name": "stdout",
     "output_type": "stream",
     "text": [
      "GaussianProcessClassifier\n",
      "train accuracy: 0.8451178451178452\n",
      "F1 score: 0.7759740259740259\n",
      "--------\n"
     ]
    }
   ],
   "source": [
    "import pandas as pd\n",
    "import numpy as np \n",
    "import matplotlib.pyplot as plt\n",
    "\n",
    "from sklearn.preprocessing import MinMaxScaler\n",
    "\n",
    "from sklearn.model_selection import train_test_split\n",
    "from sklearn.model_selection import GridSearchCV\n",
    "\n",
    "from sklearn.linear_model import LogisticRegression, LogisticRegressionCV\n",
    "from sklearn.tree import DecisionTreeClassifier\n",
    "from sklearn.neural_network import MLPClassifier\n",
    "from sklearn.neighbors import KNeighborsClassifier\n",
    "from sklearn.svm import SVC\n",
    "from sklearn.ensemble import RandomForestClassifier, AdaBoostClassifier\n",
    "from sklearn.naive_bayes import GaussianNB\n",
    "from sklearn.discriminant_analysis import QuadraticDiscriminantAnalysis\n",
    "from sklearn.gaussian_process import GaussianProcessClassifier\n",
    "\n",
    "from sklearn.metrics import accuracy_score, f1_score, roc_auc_score\n",
    "\"\"\"\n",
    "- cabin값이 있고, 없을때의 survival rate가 0.4 정도 차이남.\n",
    "- 각각, sibling+spouse의 수, parent+child 의 수인데, 개별 class별로 차이가 발생함. \n",
    "- Age를 continuous하게 하지 않고, categorical로 처리했더니 정확도가 오르는 것을 알 수 있음. \n",
    "\"\"\"\n",
    "def preprocessingX(inputDF):\n",
    "    def find_preName(inputS):\n",
    "        inputS = inputS.lower()\n",
    "        if '.' in inputS:\n",
    "            r = inputS[inputS.find(\",\")+2:inputS.find(\".\")]\n",
    "            if r in ['mrs', 'miss', 'mr', 'master']:\n",
    "                return  r\n",
    "            else:\n",
    "                return 'none'\n",
    "        else:\n",
    "            return \"none\"\n",
    "    r = pd.get_dummies(inputDF['Pclass'], prefix='Pclass').join(\n",
    "        pd.get_dummies(inputDF['Sex'], prefix='Sex')).join(\n",
    "        pd.get_dummies(inputDF['Cabin'].isnull(), prefix='Cab')).join(\n",
    "        pd.get_dummies((inputDF['SibSp'] + inputDF['Parch']), prefix='fam')).join(\n",
    "        inputDF['Age'].fillna(inputDF['Age'].mean())//16).join(\n",
    "        inputDF['Fare'].fillna(inputDF['Fare'].mean())).join(\n",
    "        pd.get_dummies(inputDF['Name'].apply(find_preName))).join(\n",
    "        pd.get_dummies(inputDF['Embarked'], prefix='Em'))\n",
    "    r = pd.DataFrame(MinMaxScaler().fit_transform(r), columns=r.columns)\n",
    "    return r\n",
    "\n",
    "X = preprocessingX(df)\n",
    "Y = df['Survived']\n",
    "\n",
    "#train_X, test_X, train_Y, test_Y = train_test_split(X, Y, train_size=0.8, random_state=42)\n",
    "\n",
    "models = {\n",
    "    \"logisticReg\":GridSearchCV(LogisticRegression(), {'penalty':['l1', 'l2'], }),\n",
    "    #\"DecTreeClf\":DecisionTreeClassifier(),\n",
    "    \"neural-net\":GridSearchCV(MLPClassifier(), {'hidden_layer_sizes':[[10, 50, 10],\n",
    "                                                                      [16, 32, 64, 32, 16, 8, 4], \n",
    "                                                                      [10, 20, 40, 80, 160, 80, 40, 20, 10],\n",
    "                                                                      [16, 128, 16]\n",
    "                                                                     ], \n",
    "                                                'activation':['relu', 'logistic'], \n",
    "                                                'solver':['adam']\n",
    "                                               }, cv=2),\n",
    "    'kneighborsClf':GridSearchCV(KNeighborsClassifier(), {'n_neighbors':[2, 3, 5, 10]}),\n",
    "    'svc':GridSearchCV(SVC(), {'kernel':['rbf', 'poly', 'linear', 'sigmoid'], 'C':[1, 10]}),\n",
    "    'randomforest':GridSearchCV(RandomForestClassifier(), {'n_estimators':[2, 3, 5, 10, 50, 75, 100]}),\n",
    "    'AdaBoostClassifier':GridSearchCV(AdaBoostClassifier(), {'n_estimators':[2, 3, 5, 10]}),\n",
    "    'GaussianNB':GaussianNB(), \n",
    "    'QuadraticDiscriminantAnalysis': QuadraticDiscriminantAnalysis(), \n",
    "    'GaussianProcessClassifier':GaussianProcessClassifier()\n",
    "}\n",
    "\n",
    "print('-------------------')\n",
    "for k, m in models.items():\n",
    "    m.fit(train_X, train_Y)\n",
    "    print(k)\n",
    "    y_true = Y\n",
    "    y_pred = m.predict(X)\n",
    "    print(\"train accuracy: {}\".format( accuracy_score(y_true, y_pred) ))\n",
    "    print(\"F1 score: {}\".format( f1_score(y_true, y_pred)))\n",
    "    print(\"--------\")\n",
    "\n",
    "test_df['Survived'] = models['neural-net'].predict(preprocessingX(test_df))\n",
    "test_df[['PassengerId', 'Survived']].to_csv('titanic_submit.csv', index=False)"
   ]
  },
  {
   "cell_type": "code",
   "execution_count": 351,
   "metadata": {},
   "outputs": [
    {
     "name": "stdout",
     "output_type": "stream",
     "text": [
      "-------------------\n",
      "logisticReg\n",
      "train accuracy: 0.7901234567901234\n",
      "F1 score: 0.715372907153729\n",
      "--------\n"
     ]
    },
    {
     "name": "stderr",
     "output_type": "stream",
     "text": [
      "/Users/frhyme/anaconda3/lib/python3.6/site-packages/sklearn/neural_network/multilayer_perceptron.py:564: ConvergenceWarning: Stochastic Optimizer: Maximum iterations (200) reached and the optimization hasn't converged yet.\n",
      "  % self.max_iter, ConvergenceWarning)\n"
     ]
    },
    {
     "name": "stdout",
     "output_type": "stream",
     "text": [
      "neural-net\n",
      "train accuracy: 0.7946127946127947\n",
      "F1 score: 0.7180277349768875\n",
      "--------\n",
      "kneighborsClf\n",
      "train accuracy: 0.8395061728395061\n",
      "F1 score: 0.7697262479871176\n",
      "--------\n",
      "svc\n",
      "train accuracy: 0.7867564534231201\n",
      "F1 score: 0.7103658536585367\n",
      "--------\n",
      "randomforest\n",
      "train accuracy: 0.9180695847362514\n",
      "F1 score: 0.8905547226386807\n",
      "--------\n",
      "AdaBoostClassifier\n",
      "train accuracy: 0.7867564534231201\n",
      "F1 score: 0.7103658536585367\n",
      "--------\n",
      "GaussianNB\n",
      "train accuracy: 0.77665544332211\n",
      "F1 score: 0.7128427128427127\n",
      "--------\n",
      "QuadraticDiscriminantAnalysis\n",
      "train accuracy: 0.7283950617283951\n",
      "F1 score: 0.5980066445182723\n",
      "--------\n"
     ]
    },
    {
     "name": "stderr",
     "output_type": "stream",
     "text": [
      "/Users/frhyme/anaconda3/lib/python3.6/site-packages/sklearn/discriminant_analysis.py:682: UserWarning: Variables are collinear\n",
      "  warnings.warn(\"Variables are collinear\")\n"
     ]
    },
    {
     "name": "stdout",
     "output_type": "stream",
     "text": [
      "GaussianProcessClassifier\n",
      "train accuracy: 0.7957351290684624\n",
      "F1 score: 0.7147335423197492\n",
      "--------\n"
     ]
    }
   ],
   "source": [
    "import pandas as pd\n",
    "import numpy as np \n",
    "import matplotlib.pyplot as plt\n",
    "\n",
    "from sklearn.preprocessing import MinMaxScaler\n",
    "\n",
    "from sklearn.model_selection import train_test_split\n",
    "from sklearn.model_selection import GridSearchCV\n",
    "\n",
    "from sklearn.linear_model import LogisticRegression, LogisticRegressionCV\n",
    "from sklearn.tree import DecisionTreeClassifier\n",
    "from sklearn.neural_network import MLPClassifier\n",
    "from sklearn.neighbors import KNeighborsClassifier\n",
    "from sklearn.svm import SVC\n",
    "from sklearn.ensemble import RandomForestClassifier, AdaBoostClassifier\n",
    "from sklearn.naive_bayes import GaussianNB\n",
    "from sklearn.discriminant_analysis import QuadraticDiscriminantAnalysis\n",
    "from sklearn.gaussian_process import GaussianProcessClassifier\n",
    "\n",
    "from sklearn.metrics import accuracy_score, f1_score, roc_auc_score\n",
    "\"\"\"\n",
    "- cabin값이 있고, 없을때의 survival rate가 0.4 정도 차이남.\n",
    "- 각각, sibling+spouse의 수, parent+child 의 수인데, 개별 class별로 차이가 발생함. \n",
    "- Age를 continuous하게 하지 않고, categorical로 처리했더니 정확도가 오르는 것을 알 수 있음. \n",
    "\"\"\"\n",
    "def preprocessingX(inputDF):\n",
    "    def find_preName(inputS):\n",
    "        inputS = inputS.lower()\n",
    "        if '.' in inputS:\n",
    "            r = inputS[inputS.find(\",\")+2:inputS.find(\".\")]\n",
    "            if r in ['mrs', 'miss', 'mr', 'master']:\n",
    "                return  r\n",
    "            else:\n",
    "                return 'none'\n",
    "        else:\n",
    "            return \"none\"\n",
    "    r = pd.get_dummies(inputDF['Pclass'], prefix='Pclass').join(\n",
    "        pd.get_dummies(inputDF['Sex'], prefix='Sex')).join(\n",
    "        inputDF['Age'].fillna(inputDF['Age'].mean())//16).join(\n",
    "        inputDF['Fare'].fillna(inputDF['Fare'].mean()))\n",
    "    r = pd.DataFrame(MinMaxScaler().fit_transform(r), columns=r.columns)\n",
    "    return r\n",
    "\n",
    "X = preprocessingX(df)\n",
    "Y = df['Survived']\n",
    "\n",
    "#train_X, test_X, train_Y, test_Y = train_test_split(X, Y, train_size=0.8, random_state=42)\n",
    "\n",
    "models = {\n",
    "    \"logisticReg\":GridSearchCV(LogisticRegression(), {'penalty':['l1', 'l2'], }),\n",
    "    #\"DecTreeClf\":DecisionTreeClassifier(),\n",
    "    \"neural-net\":GridSearchCV(MLPClassifier(), {'hidden_layer_sizes':[[10, 50, 10],\n",
    "                                                                      [16, 32, 64, 32, 16, 8, 4], \n",
    "                                                                      [10, 20, 40, 80, 160, 80, 40, 20, 10],\n",
    "                                                                      [16, 128, 16]\n",
    "                                                                     ], \n",
    "                                                'activation':['relu', 'logistic'], \n",
    "                                                'solver':['adam']\n",
    "                                               }, cv=2),\n",
    "    'kneighborsClf':GridSearchCV(KNeighborsClassifier(), {'n_neighbors':[2, 3, 5, 10]}),\n",
    "    'svc':GridSearchCV(SVC(), {'kernel':['rbf', 'poly', 'linear', 'sigmoid'], 'C':[1, 10]}),\n",
    "    'randomforest':GridSearchCV(RandomForestClassifier(), {'n_estimators':[2, 3, 5, 10, 50, 75, 100]}),\n",
    "    'AdaBoostClassifier':GridSearchCV(AdaBoostClassifier(), {'n_estimators':[2, 3, 5, 10]}),\n",
    "    'GaussianNB':GaussianNB(), \n",
    "    'QuadraticDiscriminantAnalysis': QuadraticDiscriminantAnalysis(), \n",
    "    'GaussianProcessClassifier':GaussianProcessClassifier()\n",
    "}\n",
    "\n",
    "print('-------------------')\n",
    "for k, m in models.items():\n",
    "    m.fit(X, Y)\n",
    "    print(k)\n",
    "    y_true = Y\n",
    "    y_pred = m.predict(X)\n",
    "    print(\"train accuracy: {}\".format( accuracy_score(y_true, y_pred) ))\n",
    "    print(\"F1 score: {}\".format( f1_score(y_true, y_pred)))\n",
    "    print(\"--------\")"
   ]
  },
  {
   "cell_type": "code",
   "execution_count": 270,
   "metadata": {},
   "outputs": [
    {
     "data": {
      "text/plain": [
       "isAlone\n",
       "False    0.505650\n",
       "True     0.303538\n",
       "Name: Survived, dtype: float64"
      ]
     },
     "execution_count": 270,
     "metadata": {},
     "output_type": "execute_result"
    }
   ],
   "source": [
    "df['isAlone']=(df['SibSp'] + df['Parch']) <1\n",
    "df.groupby('isAlone')['Survived'].sum()/df.groupby('isAlone')['Survived'].count()"
   ]
  },
  {
   "cell_type": "code",
   "execution_count": 114,
   "metadata": {},
   "outputs": [
    {
     "data": {
      "text/plain": [
       "0.29985443959243085"
      ]
     },
     "execution_count": 114,
     "metadata": {},
     "output_type": "execute_result"
    }
   ],
   "source": [
    "df['Ticket'] #가격, 같은 것일줄 알았는데, 일단은 무슨 의미인지 모르겠음\n",
    "df['Fare']# 운임요금, 아마도 비싼지 적은지에 따라서 구분이 가능할듯 \n",
    "df['SibSp']# 이게 가족 뭐였던것 같은데 \n",
    "df['Parch']# 이것도 가족 뭐 였던 것 같은데 \n",
    "df[['Cabin', 'Survived']]\n",
    "df[df['Cabin'].isnull()]['Survived'].mean()"
   ]
  },
  {
   "cell_type": "code",
   "execution_count": 253,
   "metadata": {},
   "outputs": [
    {
     "data": {
      "image/png": "[encoded data removed]",
      "text/plain": [
       "<matplotlib.figure.Figure at 0x107c89a90>"
      ]
     },
     "metadata": {},
     "output_type": "display_data"
    }
   ],
   "source": [
    "def FareToCat(lst):\n",
    "    r = lst//14\n",
    "FareToCat(df['Fare'])\n",
    "df['Fare'].apply(lambda x: x//14+1 if x//14 < 5 else 5\n",
    ").hist()\n",
    "plt.show()"
   ]
  },
  {
   "cell_type": "code",
   "execution_count": 256,
   "metadata": {},
   "outputs": [
    {
     "data": {
      "image/png": "[encoded data removed]",
      "text/plain": [
       "<matplotlib.figure.Figure at 0x108761160>"
      ]
     },
     "metadata": {},
     "output_type": "display_data"
    },
    {
     "data": {
      "text/plain": [
       "FareCat\n",
       "1.0    0.254587\n",
       "2.0    0.428571\n",
       "3.0    0.412500\n",
       "4.0    0.472222\n",
       "5.0    0.580645\n",
       "6.0    0.723810\n",
       "Name: Survived, dtype: float64"
      ]
     },
     "execution_count": 256,
     "metadata": {},
     "output_type": "execute_result"
    }
   ],
   "source": [
    "df['FareCat'] = df['Fare'].apply(lambda x: x//14+1 if x//14 < 6 else 6)\n",
    "df['FareCat'].hist()\n",
    "plt.show()\n",
    "df.groupby('FareCat')['Survived'].sum()/df.groupby('FareCat')['Survived'].count()"
   ]
  },
  {
   "cell_type": "code",
   "execution_count": 221,
   "metadata": {},
   "outputs": [
    {
     "ename": "KeyError",
     "evalue": "'PreName'",
     "output_type": "error",
     "traceback": [
      "\u001b[0;31m---------------------------------------------------------------------------\u001b[0m",
      "\u001b[0;31mKeyError\u001b[0m                                  Traceback (most recent call last)",
      "\u001b[0;32m<ipython-input-221-24288da72752>\u001b[0m in \u001b[0;36m<module>\u001b[0;34m()\u001b[0m\n\u001b[0;32m----> 1\u001b[0;31m \u001b[0mdf\u001b[0m\u001b[0;34m.\u001b[0m\u001b[0mgroupby\u001b[0m\u001b[0;34m(\u001b[0m\u001b[0;34m'PreName'\u001b[0m\u001b[0;34m)\u001b[0m\u001b[0;34m[\u001b[0m\u001b[0;34m'Survived'\u001b[0m\u001b[0;34m]\u001b[0m\u001b[0;34m.\u001b[0m\u001b[0msum\u001b[0m\u001b[0;34m(\u001b[0m\u001b[0;34m)\u001b[0m\u001b[0;34m/\u001b[0m\u001b[0mdf\u001b[0m\u001b[0;34m.\u001b[0m\u001b[0mgroupby\u001b[0m\u001b[0;34m(\u001b[0m\u001b[0;34m'PreName'\u001b[0m\u001b[0;34m)\u001b[0m\u001b[0;34m[\u001b[0m\u001b[0;34m'Survived'\u001b[0m\u001b[0;34m]\u001b[0m\u001b[0;34m.\u001b[0m\u001b[0mcount\u001b[0m\u001b[0;34m(\u001b[0m\u001b[0;34m)\u001b[0m\u001b[0;34m\u001b[0m\u001b[0m\n\u001b[0m",
      "\u001b[0;32m~/anaconda3/lib/python3.6/site-packages/pandas/core/generic.py\u001b[0m in \u001b[0;36mgroupby\u001b[0;34m(self, by, axis, level, as_index, sort, group_keys, squeeze, **kwargs)\u001b[0m\n\u001b[1;32m   4414\u001b[0m         return groupby(self, by=by, axis=axis, level=level, as_index=as_index,\n\u001b[1;32m   4415\u001b[0m                        \u001b[0msort\u001b[0m\u001b[0;34m=\u001b[0m\u001b[0msort\u001b[0m\u001b[0;34m,\u001b[0m \u001b[0mgroup_keys\u001b[0m\u001b[0;34m=\u001b[0m\u001b[0mgroup_keys\u001b[0m\u001b[0;34m,\u001b[0m \u001b[0msqueeze\u001b[0m\u001b[0;34m=\u001b[0m\u001b[0msqueeze\u001b[0m\u001b[0;34m,\u001b[0m\u001b[0;34m\u001b[0m\u001b[0m\n\u001b[0;32m-> 4416\u001b[0;31m                        **kwargs)\n\u001b[0m\u001b[1;32m   4417\u001b[0m \u001b[0;34m\u001b[0m\u001b[0m\n\u001b[1;32m   4418\u001b[0m     def asfreq(self, freq, method=None, how=None, normalize=False,\n",
      "\u001b[0;32m~/anaconda3/lib/python3.6/site-packages/pandas/core/groupby.py\u001b[0m in \u001b[0;36mgroupby\u001b[0;34m(obj, by, **kwds)\u001b[0m\n\u001b[1;32m   1697\u001b[0m         \u001b[0;32mraise\u001b[0m \u001b[0mTypeError\u001b[0m\u001b[0;34m(\u001b[0m\u001b[0;34m'invalid type: %s'\u001b[0m \u001b[0;34m%\u001b[0m \u001b[0mtype\u001b[0m\u001b[0;34m(\u001b[0m\u001b[0mobj\u001b[0m\u001b[0;34m)\u001b[0m\u001b[0;34m)\u001b[0m\u001b[0;34m\u001b[0m\u001b[0m\n\u001b[1;32m   1698\u001b[0m \u001b[0;34m\u001b[0m\u001b[0m\n\u001b[0;32m-> 1699\u001b[0;31m     \u001b[0;32mreturn\u001b[0m \u001b[0mklass\u001b[0m\u001b[0;34m(\u001b[0m\u001b[0mobj\u001b[0m\u001b[0;34m,\u001b[0m \u001b[0mby\u001b[0m\u001b[0;34m,\u001b[0m \u001b[0;34m**\u001b[0m\u001b[0mkwds\u001b[0m\u001b[0;34m)\u001b[0m\u001b[0;34m\u001b[0m\u001b[0m\n\u001b[0m\u001b[1;32m   1700\u001b[0m \u001b[0;34m\u001b[0m\u001b[0m\n\u001b[1;32m   1701\u001b[0m \u001b[0;34m\u001b[0m\u001b[0m\n",
      "\u001b[0;32m~/anaconda3/lib/python3.6/site-packages/pandas/core/groupby.py\u001b[0m in \u001b[0;36m__init__\u001b[0;34m(self, obj, keys, axis, level, grouper, exclusions, selection, as_index, sort, group_keys, squeeze, **kwargs)\u001b[0m\n\u001b[1;32m    390\u001b[0m                                                     \u001b[0mlevel\u001b[0m\u001b[0;34m=\u001b[0m\u001b[0mlevel\u001b[0m\u001b[0;34m,\u001b[0m\u001b[0;34m\u001b[0m\u001b[0m\n\u001b[1;32m    391\u001b[0m                                                     \u001b[0msort\u001b[0m\u001b[0;34m=\u001b[0m\u001b[0msort\u001b[0m\u001b[0;34m,\u001b[0m\u001b[0;34m\u001b[0m\u001b[0m\n\u001b[0;32m--> 392\u001b[0;31m                                                     mutated=self.mutated)\n\u001b[0m\u001b[1;32m    393\u001b[0m \u001b[0;34m\u001b[0m\u001b[0m\n\u001b[1;32m    394\u001b[0m         \u001b[0mself\u001b[0m\u001b[0;34m.\u001b[0m\u001b[0mobj\u001b[0m \u001b[0;34m=\u001b[0m \u001b[0mobj\u001b[0m\u001b[0;34m\u001b[0m\u001b[0m\n",
      "\u001b[0;32m~/anaconda3/lib/python3.6/site-packages/pandas/core/groupby.py\u001b[0m in \u001b[0;36m_get_grouper\u001b[0;34m(obj, key, axis, level, sort, mutated)\u001b[0m\n\u001b[1;32m   2688\u001b[0m                 \u001b[0min_axis\u001b[0m\u001b[0;34m,\u001b[0m \u001b[0mname\u001b[0m\u001b[0;34m,\u001b[0m \u001b[0mlevel\u001b[0m\u001b[0;34m,\u001b[0m \u001b[0mgpr\u001b[0m \u001b[0;34m=\u001b[0m \u001b[0;32mFalse\u001b[0m\u001b[0;34m,\u001b[0m \u001b[0;32mNone\u001b[0m\u001b[0;34m,\u001b[0m \u001b[0mgpr\u001b[0m\u001b[0;34m,\u001b[0m \u001b[0;32mNone\u001b[0m\u001b[0;34m\u001b[0m\u001b[0m\n\u001b[1;32m   2689\u001b[0m             \u001b[0;32melse\u001b[0m\u001b[0;34m:\u001b[0m\u001b[0;34m\u001b[0m\u001b[0m\n\u001b[0;32m-> 2690\u001b[0;31m                 \u001b[0;32mraise\u001b[0m \u001b[0mKeyError\u001b[0m\u001b[0;34m(\u001b[0m\u001b[0mgpr\u001b[0m\u001b[0;34m)\u001b[0m\u001b[0;34m\u001b[0m\u001b[0m\n\u001b[0m\u001b[1;32m   2691\u001b[0m         \u001b[0;32melif\u001b[0m \u001b[0misinstance\u001b[0m\u001b[0;34m(\u001b[0m\u001b[0mgpr\u001b[0m\u001b[0;34m,\u001b[0m \u001b[0mGrouper\u001b[0m\u001b[0;34m)\u001b[0m \u001b[0;32mand\u001b[0m \u001b[0mgpr\u001b[0m\u001b[0;34m.\u001b[0m\u001b[0mkey\u001b[0m \u001b[0;32mis\u001b[0m \u001b[0;32mnot\u001b[0m \u001b[0;32mNone\u001b[0m\u001b[0;34m:\u001b[0m\u001b[0;34m\u001b[0m\u001b[0m\n\u001b[1;32m   2692\u001b[0m             \u001b[0;31m# Add key to exclusions\u001b[0m\u001b[0;34m\u001b[0m\u001b[0;34m\u001b[0m\u001b[0m\n",
      "\u001b[0;31mKeyError\u001b[0m: 'PreName'"
     ]
    }
   ],
   "source": [
    "df.groupby('PreName')['Survived'].sum()/df.groupby('PreName')['Survived'].count()"
   ]
  },
  {
   "cell_type": "code",
   "execution_count": 178,
   "metadata": {},
   "outputs": [
    {
     "data": {
      "text/plain": [
       "0.0"
      ]
     },
     "execution_count": 178,
     "metadata": {},
     "output_type": "execute_result"
    }
   ],
   "source": [
    "df['Fare'].min()"
   ]
  },
  {
   "cell_type": "code",
   "execution_count": 225,
   "metadata": {},
   "outputs": [
    {
     "data": {
      "text/plain": [
       "preName\n",
       "master    0.575000\n",
       "miss      0.697802\n",
       "mr        0.156673\n",
       "mrs       0.792000\n",
       "none      0.444444\n",
       "Name: Survived, dtype: float64"
      ]
     },
     "execution_count": 225,
     "metadata": {},
     "output_type": "execute_result"
    }
   ],
   "source": [
    "def find_preName(inputS):\n",
    "    inputS = inputS.lower()\n",
    "    if '.' in inputS:\n",
    "        r = inputS[inputS.find(\",\")+2:inputS.find(\".\")]\n",
    "        if r in ['mrs', 'miss', 'mr', 'master']:\n",
    "            return  r\n",
    "        else:\n",
    "            return 'none'\n",
    "    else:\n",
    "        return \"none\"\n",
    "df['preName'] = df['Name'].apply(find_preName)\n",
    "\n",
    "df.groupby('preName')['Survived'].sum()/df.groupby('preName')['Survived'].count()\n",
    "#df.groupby('preName')['Survived'].count()"
   ]
  },
  {
   "cell_type": "code",
   "execution_count": 161,
   "metadata": {},
   "outputs": [
    {
     "data": {
      "text/plain": [
       "preName\n",
       "capt              1\n",
       "col               2\n",
       "don               1\n",
       "dr                7\n",
       "jonkheer          1\n",
       "lady              1\n",
       "major             2\n",
       "master           40\n",
       "miss            182\n",
       "mlle              2\n",
       "mme               1\n",
       "mr              517\n",
       "mrs             125\n",
       "ms                1\n",
       "rev               6\n",
       "sir               1\n",
       "the countess      1\n",
       "Name: Survived, dtype: int64"
      ]
     },
     "execution_count": 161,
     "metadata": {},
     "output_type": "execute_result"
    }
   ],
   "source": [
    "df.groupby('preName')['Survived'].count()\n",
    "\"\"\"\n",
    "master, mrs, miss 의 경우 수도 많고 생존률이 높은 반면 \n",
    "mr의 경우 생존율이 매우 낮음 \n",
    "\"\"\""
   ]
  },
  {
   "cell_type": "code",
   "execution_count": 168,
   "metadata": {},
   "outputs": [
    {
     "data": {
      "text/plain": [
       "Embarked\n",
       "C    0.553571\n",
       "Q    0.389610\n",
       "S    0.336957\n",
       "Name: Survived, dtype: float64"
      ]
     },
     "execution_count": 168,
     "metadata": {},
     "output_type": "execute_result"
    }
   ],
   "source": [
    "df.groupby('Embarked')['Survived'].sum()/df.groupby('Embarked')['Survived'].count()"
   ]
  },
  {
   "cell_type": "code",
   "execution_count": 198,
   "metadata": {},
   "outputs": [
    {
     "data": {
      "text/plain": [
       "0.0"
      ]
     },
     "execution_count": 198,
     "metadata": {},
     "output_type": "execute_result"
    }
   ],
   "source": [
    "1.2//2"
   ]
  },
  {
   "cell_type": "code",
   "execution_count": null,
   "metadata": {
    "collapsed": true
   },
   "outputs": [],
   "source": []
  }
 ],
 "metadata": {
  "kernelspec": {
   "display_name": "Python 3",
   "language": "python",
   "name": "python3"
  },
  "language_info": {
   "codemirror_mode": {
    "name": "ipython",
    "version": 3
   },
   "file_extension": ".py",
   "mimetype": "text/x-python",
   "name": "python",
   "nbconvert_exporter": "python",
   "pygments_lexer": "ipython3",
   "version": "3.6.2"
  }
 },
 "nbformat": 4,
 "nbformat_minor": 2
}
