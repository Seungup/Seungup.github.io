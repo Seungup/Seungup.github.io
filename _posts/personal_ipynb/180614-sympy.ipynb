{
 "cells": [
  {
   "cell_type": "code",
   "execution_count": 149,
   "metadata": {},
   "outputs": [
    {
     "name": "stdout",
     "output_type": "stream",
     "text": [
      "x*y + exp(x)\n",
      "differentiation: y + exp(x), integration of diff: x*y + exp(x)\n",
      "solution set\n",
      "-------\n",
      "solution set: [-2, 0, 2]\n",
      "solution set: [-2*sqrt(3)/3, 2*sqrt(3)/3]\n",
      "-------\n",
      "\n",
      "diff value by limit\n",
      "-------\n",
      "a: -2*sqrt(3)/3\n",
      "0.e-124\n",
      "-3.46341600341902e-6\n",
      "-------\n",
      "a: 2*sqrt(3)/3\n",
      "0.e-124\n",
      "3.46335198795942e-6\n",
      "-------\n",
      "integration\n",
      "x**4/4 - 2*x**2\n",
      "x**3 - 4*x\n"
     ]
    }
   ],
   "source": [
    "import sympy\n",
    "import numpy as np \n",
    "import matplotlib.pyplot as plt\n",
    "\n",
    "# Juypter 노트북에서 수학식의 LaTeX 표현을 위해 필요함, 하지만 markdown에서 변환하는 것이 귀찮아서 나는 무시. \n",
    "# sympy.init_printing(use_latex='mathjax')\n",
    "\n",
    "# basic\n",
    "x, y, z, dx = sympy.symbols(\"x y z dx\")\n",
    "f = sympy.exp(x) + x*y\n",
    "print(f)\n",
    "# function에 2개 이상의 symbol이 있기 때문에, 편미분만 가능합니다. \n",
    "print(\"differentiation: {}, integration of diff: {}\".format(\n",
    "    sympy.diff(f, x), sympy.integrate(sympy.diff(f, x), x)\n",
    "))\n",
    "\n",
    "f = (x-2)*x*(x+2)\n",
    "f_diff = sympy.diff(f, x)\n",
    "f_diff_diff = sympy.diff(f_diff, x)\n",
    "print('solution set')\n",
    "print(\"-------\")\n",
    "print(\"solution set: {}\".format(sympy.solve(f))) #단 필요에 따라, datatype을 바꾸어주는 것이 필요함 \n",
    "print(\"solution set: {}\".format(sympy.solve(f_diff)))\n",
    "print(\"-------\")\n",
    "\"\"\"\n",
    "- 방정식에 값을 넣어서 계산해줄 때는 subs와 evalf를 사용 \n",
    "    - subs: 특정 symbol에 값을 넣어줌. 물론 값뿐만 아니라 다른 변수의 조합으로 넣어도 상관없음 \n",
    "    - evalf: 그 값을 float 결과로 변환\n",
    "\"\"\"\n",
    "print()\n",
    "print(\"diff value by limit\")\n",
    "print(\"-------\")\n",
    "for a in sympy.solve(f_diff):\n",
    "    print(\"a: {}\".format(a))\n",
    "    print(f_diff.subs(x, a).evalf())\n",
    "    # x를 x+dx로 바꿔주고, dx가 0으로 갈때의 diff 값을 limit를 사용해서 계산하려 한다. \n",
    "    diff_by_limit = sympy.limit((f.subs(x, x+dx) - f.subs(x, x))/ (x+dx - x), dx, 0.000001)\n",
    "    print(diff_by_limit.subs(x, a).evalf())\n",
    "    print(\"-------\")\n",
    "    \n",
    "print(\"integration\")\n",
    "print(sympy.integrate(f))\n",
    "print(sympy.integrate(sympy.diff(f)))\n"
   ]
  },
  {
   "cell_type": "code",
   "execution_count": 133,
   "metadata": {},
   "outputs": [
    {
     "data": {
      "text/plain": [
       "3*x**2 - 4"
      ]
     },
     "execution_count": 133,
     "metadata": {},
     "output_type": "execute_result"
    }
   ],
   "source": []
  },
  {
   "cell_type": "code",
   "execution_count": 114,
   "metadata": {},
   "outputs": [
    {
     "name": "stdout",
     "output_type": "stream",
     "text": [
      "function: x*(x - 2)*(x + 2)\n",
      "differentiation of function: x*(x - 2) + x*(x + 2) + (x - 2)*(x + 2)\n",
      "23.0\n",
      "8.0\n",
      "-4.0\n",
      "8.0\n"
     ]
    },
    {
     "data": {
      "image/png": "[encoded data removed]",
      "text/plain": [
       "<matplotlib.figure.Figure at 0x1166e3f98>"
      ]
     },
     "metadata": {},
     "output_type": "display_data"
    }
   ],
   "source": [
    "#f = (x+2)*(x+1)*(x-1)*(x-2)*(x-2.5)\n",
    "f = (x-2)*x*(x+2)\n",
    "f_diff = sympy.diff(f, x)\n",
    "print(\"function: {}\".format(f))\n",
    "print(\"differentiation of function: {}\".format(f_diff))\n",
    "\n",
    "# float으로 변환해주지 않으면, datatype이 달라서 범용성이 떨어짐. \n",
    "# 단순히, sympy.solve 를 이용하면 해를 찾아줌\n",
    "solution_set = [float(s) for s in sympy.solve(f)]\n",
    "xs = np.linspace(min(solution_set)-1, max(solution_set)+1, 1000)\n",
    "ys = np.array([f.subs(x, inputx) for inputx in xs])\n",
    "\n",
    "plt.figure(figsize=(15, 6))\n",
    "plt.plot(xs, ys)\n",
    "for x_v in [-3, -2, 0, 2]:\n",
    "    y_v = float(f.subs(x, x_v))\n",
    "    diff_v = float(f_diff.subs(x, x_v))\n",
    "    print(diff_v)\n",
    "    plt.scatter(x_v, y_v, c='red', s=100)\n",
    "    if diff_v!=0:\n",
    "        plt.arrow(x_v, y_v, dx=1, dy=diff_v*1)\n",
    "plt.plot([-2, -2], [-15, 15], linestyle=\"--\")\n",
    "plt.plot([0, 0], [-15, 0], linestyle=\"--\")\n",
    "plt.ylim(-15, 15)\n",
    "plt.show()"
   ]
  },
  {
   "cell_type": "code",
   "execution_count": 20,
   "metadata": {},
   "outputs": [
    {
     "data": {
      "text/plain": [
       "x*y"
      ]
     },
     "execution_count": 20,
     "metadata": {},
     "output_type": "execute_result"
    }
   ],
   "source": [
    "sympy.integrate(sympy.diff(x*y, x), x)"
   ]
  },
  {
   "cell_type": "code",
   "execution_count": null,
   "metadata": {},
   "outputs": [],
   "source": [
    "x = sympy.symbols('x')\n",
    "f = x**2 + x*2 + 1\n",
    "print(sympy.diff(f))\n",
    "print(sympy.integrate( sympy.diff(f)) ) # 단 상수항은 반환되지 않음. \n",
    "\n",
    "# 정적분, f에 대해서 x가 일정 구간에 속하는 면적을 구하고 싶을 때, \n",
    "f = x**2 + x\n",
    "f_intgr = sympy.integrate(f)\n",
    "print(f_intgr.subs(x, 2) - f_intgr.subs(x, 1))"
   ]
  },
  {
   "cell_type": "code",
   "execution_count": null,
   "metadata": {},
   "outputs": [],
   "source": [
    "import sympy\n",
    "import numpy as np \n",
    "import matplotlib.pyplot as plt \n",
    "import scipy\n",
    "\n",
    "x, y = sympy.symbols('x y')\n",
    "f = 1+ x + y\n",
    "print(f)\n",
    "f_intgr = sympy.integrate(sympy.integrate(f, x), y)\n",
    "print(f_intgr)\n",
    "f_intgr_by_y = f_intgr.subs(x,1) - f_intgr.subs(x, -1)\n",
    "print(f_intgr_by_y)\n",
    "f_intgr_by_y.subs(y, 1)-f_intgr_by_y.subs(y, -1)\n",
    "\n",
    "# 이중적분 "
   ]
  },
  {
   "cell_type": "code",
   "execution_count": null,
   "metadata": {},
   "outputs": [],
   "source": [
    "import sympy\n",
    "import numpy as np\n",
    "import matplotlib.pyplot as plt\n",
    "from mpl_toolkits.mplot3d import Axes3D\n",
    "\n",
    "fig = plt.figure(figsize=(6,6))\n",
    "ax = fig.add_subplot(111, projection='3d')\n",
    "\n",
    "x, y = np.meshgrid(np.linspace(1, 2, 100), np.linspace(1, 2, 100))\n",
    "ax.plot_surface(x, y, x**2+ x*y)\n",
    "plt.show()"
   ]
  },
  {
   "cell_type": "code",
   "execution_count": null,
   "metadata": {},
   "outputs": [],
   "source": [
    "import sympy \n",
    "\n",
    "sympy.init_printing() \n",
    "x, y, z = sympy.symbols('x y z')\n",
    "# integrate\n",
    "sympy.integrate(x**2, (x, 0, 2))\n",
    "# limit \n",
    "sympy.limit(sympy.sin(x)/x, x, 0)\n",
    "# solve \n",
    "sympy.solve(x**2-1, x)\n",
    "\n",
    "(sympy.sin(x)**2).subs(x, 2).evalf()\n",
    "\n",
    "sympy.sqrt(x)\n",
    "\n"
   ]
  },
  {
   "cell_type": "code",
   "execution_count": null,
   "metadata": {
    "collapsed": true
   },
   "outputs": [],
   "source": []
  }
 ],
 "metadata": {
  "kernelspec": {
   "display_name": "Python 3",
   "language": "python",
   "name": "python3"
  },
  "language_info": {
   "codemirror_mode": {
    "name": "ipython",
    "version": 3
   },
   "file_extension": ".py",
   "mimetype": "text/x-python",
   "name": "python",
   "nbconvert_exporter": "python",
   "pygments_lexer": "ipython3",
   "version": "3.6.2"
  }
 },
 "nbformat": 4,
 "nbformat_minor": 2
}
