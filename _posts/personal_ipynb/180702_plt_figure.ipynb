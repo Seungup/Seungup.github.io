{
 "cells": [
  {
   "cell_type": "code",
   "execution_count": 41,
   "metadata": {},
   "outputs": [
    {
     "data": {
      "image/png": "[encoded data removed]",
      "text/plain": [
       "<Figure size 1152x576 with 1 Axes>"
      ]
     },
     "metadata": {},
     "output_type": "display_data"
    }
   ],
   "source": [
    "import matplotlib.pyplot as plt\n",
    "import numpy as np \n",
    "\n",
    "def figure_to_array(fig):\n",
    "    \"\"\"\n",
    "    plt.figure()를 np.array로 변환\n",
    "    \"\"\"\n",
    "    fig.canvas.draw()\n",
    "    return np.array(fig.canvas.renderer._renderer)\n",
    "\n",
    "f1 = plt.figure(\n",
    "    figsize=(8, 4), \n",
    "    facecolor='white', # background color\n",
    "    edgecolor='red', \n",
    "    dpi=10, \n",
    ")\n",
    "x = np.random.normal(0, 1, 50)\n",
    "plt.plot(range(0, len(x)), x, marker='o', linestyle='--')\n",
    "#plt.savefig('../../assets/images/markdown_img/180702_plt_figure_parameter.png')\n",
    "plt.close()\n",
    "\n",
    "plt.figure(figsize=(16, 8))\n",
    "plt.imshow(\n",
    "    figure_to_array(f1)\n",
    ")\n",
    "plt.savefig('../../assets/images/markdown_img/180702_plt_figure_parameter.svg')\n",
    "plt.show()"
   ]
  },
  {
   "cell_type": "code",
   "execution_count": 24,
   "metadata": {},
   "outputs": [
    {
     "ename": "NameError",
     "evalue": "name 'ddd' is not defined",
     "output_type": "error",
     "traceback": [
      "\u001b[0;31m---------------------------------------------------------------------------\u001b[0m",
      "\u001b[0;31mNameError\u001b[0m                                 Traceback (most recent call last)",
      "\u001b[0;32m<ipython-input-24-fb145a0fef0c>\u001b[0m in \u001b[0;36m<module>\u001b[0;34m()\u001b[0m\n\u001b[0;32m----> 1\u001b[0;31m \u001b[0mddd\u001b[0m\u001b[0;34m\u001b[0m\u001b[0m\n\u001b[0m",
      "\u001b[0;31mNameError\u001b[0m: name 'ddd' is not defined"
     ]
    }
   ],
   "source": [
    "def figure_to_array(fig):\n",
    "    fig.canvas.draw()\n",
    "    return np.array(fig.canvas.renderer._renderer)\n",
    "f1_dpi_default = plt.figure(\n",
    "    figsize=(8, 4), \n",
    "    facecolor='white', # background color\n",
    "    edgecolor='red', \n",
    ")\n",
    "x = np.random.normal(0, 1, 50)\n",
    "plt.plot(range(0, len(x)), x, marker='o', linestyle='--')\n",
    "plt.show()"
   ]
  },
  {
   "cell_type": "code",
   "execution_count": null,
   "metadata": {},
   "outputs": [],
   "source": []
  }
 ],
 "metadata": {
  "kernelspec": {
   "display_name": "Python 3",
   "language": "python",
   "name": "python3"
  },
  "language_info": {
   "codemirror_mode": {
    "name": "ipython",
    "version": 3
   },
   "file_extension": ".py",
   "mimetype": "text/x-python",
   "name": "python",
   "nbconvert_exporter": "python",
   "pygments_lexer": "ipython3",
   "version": "3.6.5"
  }
 },
 "nbformat": 4,
 "nbformat_minor": 2
}
