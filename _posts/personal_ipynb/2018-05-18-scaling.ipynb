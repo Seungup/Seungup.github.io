{
 "cells": [
  {
   "cell_type": "code",
   "execution_count": 175,
   "metadata": {},
   "outputs": [
    {
     "name": "stdout",
     "output_type": "stream",
     "text": [
      "not standardized yet\n",
      "        exp  norm_0_1  norm_10_5  poisson  uniform\n",
      "0  3.097040  0.925267  11.764456        7       88\n",
      "1  1.516744  1.312897  17.350357       11       80\n",
      "2  1.067566 -0.166201  14.717949       13       82\n",
      "3  0.209375  1.448831   3.403329       12       82\n",
      "4  0.522443  0.841368  16.816397        7       82\n",
      "\n",
      "standardized\n",
      "        exp  norm_0_1  norm_10_5   poisson   uniform\n",
      "0  1.735699  1.011912   0.189654 -0.811404  1.153538\n",
      "1  0.411391  1.400518   1.214113  0.111997  0.885165\n",
      "2  0.034973 -0.082302   0.731327  0.573697  0.952258\n",
      "3 -0.684202  1.536793  -1.343784  0.342847  0.952258\n",
      "4 -0.421846  0.927802   1.116184 -0.811404  0.952258\n",
      "\n",
      "out of 2 sigma\n",
      "          exp  norm_0_1  norm_10_5   poisson   uniform\n",
      "43  -0.172024  0.483546  -0.730286 -2.196504 -1.664376\n",
      "49   0.932857  2.069857   0.512488  0.342847  0.482606\n",
      "56  -0.623548  1.154390  -2.714261 -0.118853 -1.765016\n",
      "65  -0.833061 -0.457480  -2.021482 -0.349704  0.918712\n",
      "84   3.037033 -0.459161  -0.033519 -0.811404  1.086445\n",
      "100  6.933725  4.055396   5.882849  6.344948  4.172731\n",
      "\n",
      "inside of 2 sigma\n",
      "        exp  norm_0_1  norm_10_5   poisson   uniform\n",
      "0  1.735699  1.011912   0.189654 -0.811404  1.153538\n",
      "1  0.411391  1.400518   1.214113  0.111997  0.885165\n",
      "2  0.034973 -0.082302   0.731327  0.573697  0.952258\n",
      "3 -0.684202  1.536793  -1.343784  0.342847  0.952258\n",
      "4 -0.421846  0.927802   1.116184 -0.811404  0.952258\n"
     ]
    }
   ],
   "source": [
    "import numpy as np\n",
    "import pandas as pd\n",
    "\n",
    "sample_size = 100\n",
    "\"\"\"분포별로 랜덤하게 값을 만들어줍니다. \n",
    "\"\"\"\n",
    "test_dist_dict = {\n",
    "    \"uniform\":np.random.randint(1, 100, sample_size),\n",
    "    \"norm_10_5\":np.random.normal(10,5, sample_size),\n",
    "    \"norm_0_1\":np.random.normal(0,1, sample_size),\n",
    "    \"exp\":np.random.exponential(1, sample_size), \n",
    "    \"poisson\":np.random.poisson(10, sample_size)\n",
    "}\n",
    "\"\"\"append outlier in each columns: max*2\n",
    "\"\"\"\n",
    "for k in test_dist_dict.keys():\n",
    "    l = list(test_dist_dict[k])\n",
    "    l.append(max(l)*2)\n",
    "    test_dist_dict[k] = np.array(l)\n",
    "test_dist_df = pd.DataFrame(test_dist_dict)\n",
    "print(\"not standardized yet\")\n",
    "print(test_dist_df.head())\n",
    "print()\n",
    "\n",
    "\"\"\"각 칼럼이 norm(0, 1)을 따른다고 가정하고 standardization해줍니다. \n",
    "\"\"\"\n",
    "from sklearn import preprocessing\n",
    "print(\"standardized\")\n",
    "new_X = pd.DataFrame(preprocessing.scale(test_dist_df, axis=0), \n",
    "                     index=test_dist_df.index,\n",
    "                     columns=test_dist_df.columns\n",
    "                    )\n",
    "print(new_X.head())\n",
    "print()\n",
    "\n",
    "print(\"out of 2 sigma\")\n",
    "print(new_X[ \n",
    "    np.logical_or(np.any(new_X >= 2, axis=1), np.any(new_X <= -2, axis=1)) \n",
    "])\n",
    "print()\n",
    "print(\"inside of 2 sigma\")\n",
    "print(new_X[ \n",
    "    np.logical_and(np.all(new_X <= 2, axis=1), np.all(new_X >= -2, axis=1)) \n",
    "].head())"
   ]
  },
  {
   "cell_type": "code",
   "execution_count": 158,
   "metadata": {},
   "outputs": [
    {
     "data": {
      "text/plain": [
       "array([False,  True, False, False,  True, False, False, False, False,\n",
       "       False, False, False, False, False, False, False,  True, False,\n",
       "       False, False, False, False, False, False, False, False, False,\n",
       "       False, False,  True, False, False, False, False, False, False,\n",
       "       False, False, False, False, False, False, False, False, False,\n",
       "       False, False, False, False, False, False, False, False, False,\n",
       "       False, False, False, False, False,  True, False, False, False,\n",
       "       False, False, False, False, False, False, False, False, False,\n",
       "       False,  True, False, False, False, False, False, False, False,\n",
       "       False, False, False, False, False, False, False, False, False,\n",
       "       False, False, False, False, False, False, False, False, False,\n",
       "       False,  True], dtype=bool)"
      ]
     },
     "execution_count": 158,
     "metadata": {},
     "output_type": "execute_result"
    }
   ],
   "source": [
    "np.any(new_X >= 2 , axis=1) + np.any(new_X <= -2 , axis=1)"
   ]
  },
  {
   "cell_type": "code",
   "execution_count": 162,
   "metadata": {},
   "outputs": [
    {
     "data": {
      "text/plain": [
       "array([ True, False,  True,  True, False,  True,  True,  True,  True,\n",
       "        True,  True,  True,  True,  True,  True,  True, False,  True,\n",
       "        True,  True,  True,  True,  True,  True,  True,  True,  True,\n",
       "        True,  True, False,  True,  True,  True,  True,  True,  True,\n",
       "        True,  True,  True,  True,  True,  True,  True,  True,  True,\n",
       "        True,  True,  True,  True,  True,  True,  True,  True,  True,\n",
       "        True,  True,  True,  True,  True, False,  True,  True,  True,\n",
       "        True,  True,  True,  True,  True,  True,  True,  True,  True,\n",
       "        True, False,  True,  True,  True,  True,  True,  True,  True,\n",
       "        True,  True,  True,  True,  True,  True,  True,  True,  True,\n",
       "        True,  True,  True,  True,  True,  True,  True,  True,  True,\n",
       "        True, False], dtype=bool)"
      ]
     },
     "execution_count": 162,
     "metadata": {},
     "output_type": "execute_result"
    }
   ],
   "source": [
    "np.logical_and(np.all(new_X <= 2, axis=1), np.all(new_X >= -2, axis=1))"
   ]
  },
  {
   "cell_type": "code",
   "execution_count": 139,
   "metadata": {},
   "outputs": [
    {
     "data": {
      "text/html": [
       "<div>\n",
       "<style>\n",
       "    .dataframe thead tr:only-child th {\n",
       "        text-align: right;\n",
       "    }\n",
       "\n",
       "    .dataframe thead th {\n",
       "        text-align: left;\n",
       "    }\n",
       "\n",
       "    .dataframe tbody tr th {\n",
       "        vertical-align: top;\n",
       "    }\n",
       "</style>\n",
       "<table border=\"1\" class=\"dataframe\">\n",
       "  <thead>\n",
       "    <tr style=\"text-align: right;\">\n",
       "      <th></th>\n",
       "      <th>exp</th>\n",
       "      <th>norm_0_1</th>\n",
       "      <th>norm_10_5</th>\n",
       "      <th>poisson</th>\n",
       "      <th>uniform</th>\n",
       "    </tr>\n",
       "  </thead>\n",
       "  <tbody>\n",
       "    <tr>\n",
       "      <th>13</th>\n",
       "      <td>2.342367</td>\n",
       "      <td>1.412333</td>\n",
       "      <td>0.277622</td>\n",
       "      <td>-1.237774</td>\n",
       "      <td>-0.405686</td>\n",
       "    </tr>\n",
       "    <tr>\n",
       "      <th>35</th>\n",
       "      <td>2.599466</td>\n",
       "      <td>0.258386</td>\n",
       "      <td>1.071518</td>\n",
       "      <td>0.121087</td>\n",
       "      <td>1.508394</td>\n",
       "    </tr>\n",
       "    <tr>\n",
       "      <th>38</th>\n",
       "      <td>2.701420</td>\n",
       "      <td>-0.226587</td>\n",
       "      <td>1.071981</td>\n",
       "      <td>-0.558344</td>\n",
       "      <td>-1.346505</td>\n",
       "    </tr>\n",
       "    <tr>\n",
       "      <th>52</th>\n",
       "      <td>-0.526665</td>\n",
       "      <td>1.500254</td>\n",
       "      <td>-0.012214</td>\n",
       "      <td>2.159377</td>\n",
       "      <td>-0.794991</td>\n",
       "    </tr>\n",
       "    <tr>\n",
       "      <th>57</th>\n",
       "      <td>-0.585974</td>\n",
       "      <td>-2.344371</td>\n",
       "      <td>-0.144749</td>\n",
       "      <td>-1.011297</td>\n",
       "      <td>-0.665223</td>\n",
       "    </tr>\n",
       "    <tr>\n",
       "      <th>80</th>\n",
       "      <td>2.341152</td>\n",
       "      <td>-0.883064</td>\n",
       "      <td>1.084013</td>\n",
       "      <td>-0.331867</td>\n",
       "      <td>-1.378948</td>\n",
       "    </tr>\n",
       "    <tr>\n",
       "      <th>94</th>\n",
       "      <td>-0.817655</td>\n",
       "      <td>2.186664</td>\n",
       "      <td>-0.175075</td>\n",
       "      <td>-0.105390</td>\n",
       "      <td>0.600017</td>\n",
       "    </tr>\n",
       "    <tr>\n",
       "      <th>100</th>\n",
       "      <td>6.228608</td>\n",
       "      <td>4.405152</td>\n",
       "      <td>5.567924</td>\n",
       "      <td>6.688912</td>\n",
       "      <td>4.752599</td>\n",
       "    </tr>\n",
       "  </tbody>\n",
       "</table>\n",
       "</div>"
      ],
      "text/plain": [
       "          exp  norm_0_1  norm_10_5   poisson   uniform\n",
       "13   2.342367  1.412333   0.277622 -1.237774 -0.405686\n",
       "35   2.599466  0.258386   1.071518  0.121087  1.508394\n",
       "38   2.701420 -0.226587   1.071981 -0.558344 -1.346505\n",
       "52  -0.526665  1.500254  -0.012214  2.159377 -0.794991\n",
       "57  -0.585974 -2.344371  -0.144749 -1.011297 -0.665223\n",
       "80   2.341152 -0.883064   1.084013 -0.331867 -1.378948\n",
       "94  -0.817655  2.186664  -0.175075 -0.105390  0.600017\n",
       "100  6.228608  4.405152   5.567924  6.688912  4.752599"
      ]
     },
     "execution_count": 139,
     "metadata": {},
     "output_type": "execute_result"
    }
   ],
   "source": [
    "# for you information \n",
    "\n",
    "new_X[ np.any(new_X >= 2 , axis=1) + np.any(new_X <= -2 , axis=1) ]"
   ]
  },
  {
   "cell_type": "code",
   "execution_count": 140,
   "metadata": {},
   "outputs": [
    {
     "data": {
      "text/html": [
       "<div>\n",
       "<style>\n",
       "    .dataframe thead tr:only-child th {\n",
       "        text-align: right;\n",
       "    }\n",
       "\n",
       "    .dataframe thead th {\n",
       "        text-align: left;\n",
       "    }\n",
       "\n",
       "    .dataframe tbody tr th {\n",
       "        vertical-align: top;\n",
       "    }\n",
       "</style>\n",
       "<table border=\"1\" class=\"dataframe\">\n",
       "  <thead>\n",
       "    <tr style=\"text-align: right;\">\n",
       "      <th></th>\n",
       "      <th>exp</th>\n",
       "      <th>norm_0_1</th>\n",
       "      <th>norm_10_5</th>\n",
       "      <th>poisson</th>\n",
       "      <th>uniform</th>\n",
       "    </tr>\n",
       "  </thead>\n",
       "  <tbody>\n",
       "    <tr>\n",
       "      <th>13</th>\n",
       "      <td>2.342367</td>\n",
       "      <td>1.412333</td>\n",
       "      <td>0.277622</td>\n",
       "      <td>-1.237774</td>\n",
       "      <td>-0.405686</td>\n",
       "    </tr>\n",
       "    <tr>\n",
       "      <th>35</th>\n",
       "      <td>2.599466</td>\n",
       "      <td>0.258386</td>\n",
       "      <td>1.071518</td>\n",
       "      <td>0.121087</td>\n",
       "      <td>1.508394</td>\n",
       "    </tr>\n",
       "    <tr>\n",
       "      <th>38</th>\n",
       "      <td>2.701420</td>\n",
       "      <td>-0.226587</td>\n",
       "      <td>1.071981</td>\n",
       "      <td>-0.558344</td>\n",
       "      <td>-1.346505</td>\n",
       "    </tr>\n",
       "    <tr>\n",
       "      <th>52</th>\n",
       "      <td>-0.526665</td>\n",
       "      <td>1.500254</td>\n",
       "      <td>-0.012214</td>\n",
       "      <td>2.159377</td>\n",
       "      <td>-0.794991</td>\n",
       "    </tr>\n",
       "    <tr>\n",
       "      <th>80</th>\n",
       "      <td>2.341152</td>\n",
       "      <td>-0.883064</td>\n",
       "      <td>1.084013</td>\n",
       "      <td>-0.331867</td>\n",
       "      <td>-1.378948</td>\n",
       "    </tr>\n",
       "    <tr>\n",
       "      <th>94</th>\n",
       "      <td>-0.817655</td>\n",
       "      <td>2.186664</td>\n",
       "      <td>-0.175075</td>\n",
       "      <td>-0.105390</td>\n",
       "      <td>0.600017</td>\n",
       "    </tr>\n",
       "    <tr>\n",
       "      <th>100</th>\n",
       "      <td>6.228608</td>\n",
       "      <td>4.405152</td>\n",
       "      <td>5.567924</td>\n",
       "      <td>6.688912</td>\n",
       "      <td>4.752599</td>\n",
       "    </tr>\n",
       "  </tbody>\n",
       "</table>\n",
       "</div>"
      ],
      "text/plain": [
       "          exp  norm_0_1  norm_10_5   poisson   uniform\n",
       "13   2.342367  1.412333   0.277622 -1.237774 -0.405686\n",
       "35   2.599466  0.258386   1.071518  0.121087  1.508394\n",
       "38   2.701420 -0.226587   1.071981 -0.558344 -1.346505\n",
       "52  -0.526665  1.500254  -0.012214  2.159377 -0.794991\n",
       "80   2.341152 -0.883064   1.084013 -0.331867 -1.378948\n",
       "94  -0.817655  2.186664  -0.175075 -0.105390  0.600017\n",
       "100  6.228608  4.405152   5.567924  6.688912  4.752599"
      ]
     },
     "execution_count": 140,
     "metadata": {},
     "output_type": "execute_result"
    }
   ],
   "source": [
    "new_X[np.any(new_X >= 2 , axis=1) ]"
   ]
  },
  {
   "cell_type": "code",
   "execution_count": null,
   "metadata": {
    "collapsed": true
   },
   "outputs": [],
   "source": [
    "\"\"\"test_data를 다 만들었십니다. \n",
    "\"\"\"\n",
    "\n",
    "from sklearn import preprocessing\n",
    "\n",
    "X = test_dist_df\n",
    "new_X = preprocessing.scale(X)\n",
    "\n",
    "new_X"
   ]
  },
  {
   "cell_type": "code",
   "execution_count": 111,
   "metadata": {},
   "outputs": [
    {
     "data": {
      "text/plain": [
       "array([[-0.10764239,  0.29982909,  0.2319211 , -0.08476214],\n",
       "       [-0.22765773, -0.55079282, -0.35680169,  0.73391609],\n",
       "       [-0.71652266, -0.64162173, -0.35680169, -0.94892249],\n",
       "       [-0.82189146, -0.00380307, -0.74928355, -0.99440462],\n",
       "       [-0.14949812, -0.89821465, -0.74928355,  0.3700591 ],\n",
       "       [-0.41746471, -0.83602127, -0.55304262,  0.68843397],\n",
       "       [ 0.94863824,  0.81922069,  0.2319211 ,  0.02894317],\n",
       "       [-0.10460001, -0.84031468, -0.16056076, -0.88069931],\n",
       "       [-0.876401  ,  0.52162569,  0.03568017, -0.5850655 ],\n",
       "       [-0.31495533, -0.47951239, -0.55304262, -0.81247612],\n",
       "       [ 2.78799517,  2.60960514,  2.97929413,  2.48497786]])"
      ]
     },
     "execution_count": 111,
     "metadata": {},
     "output_type": "execute_result"
    }
   ],
   "source": [
    "\"\"\"그럴대는 \n",
    "\"\"\"\n"
   ]
  },
  {
   "cell_type": "code",
   "execution_count": 50,
   "metadata": {},
   "outputs": [
    {
     "data": {
      "text/html": [
       "<div>\n",
       "<style>\n",
       "    .dataframe thead tr:only-child th {\n",
       "        text-align: right;\n",
       "    }\n",
       "\n",
       "    .dataframe thead th {\n",
       "        text-align: left;\n",
       "    }\n",
       "\n",
       "    .dataframe tbody tr th {\n",
       "        vertical-align: top;\n",
       "    }\n",
       "</style>\n",
       "<table border=\"1\" class=\"dataframe\">\n",
       "  <thead>\n",
       "    <tr style=\"text-align: right;\">\n",
       "      <th></th>\n",
       "      <th>exp</th>\n",
       "      <th>norm</th>\n",
       "      <th>poisson</th>\n",
       "      <th>uniform</th>\n",
       "    </tr>\n",
       "  </thead>\n",
       "  <tbody>\n",
       "    <tr>\n",
       "      <th>0</th>\n",
       "      <td>1.082735</td>\n",
       "      <td>0.615850</td>\n",
       "      <td>11</td>\n",
       "      <td>7</td>\n",
       "    </tr>\n",
       "    <tr>\n",
       "      <th>1</th>\n",
       "      <td>0.164526</td>\n",
       "      <td>0.887449</td>\n",
       "      <td>7</td>\n",
       "      <td>34</td>\n",
       "    </tr>\n",
       "    <tr>\n",
       "      <th>2</th>\n",
       "      <td>0.457974</td>\n",
       "      <td>0.814138</td>\n",
       "      <td>11</td>\n",
       "      <td>21</td>\n",
       "    </tr>\n",
       "    <tr>\n",
       "      <th>3</th>\n",
       "      <td>0.868606</td>\n",
       "      <td>0.196098</td>\n",
       "      <td>8</td>\n",
       "      <td>89</td>\n",
       "    </tr>\n",
       "    <tr>\n",
       "      <th>4</th>\n",
       "      <td>0.201573</td>\n",
       "      <td>0.556482</td>\n",
       "      <td>12</td>\n",
       "      <td>77</td>\n",
       "    </tr>\n",
       "  </tbody>\n",
       "</table>\n",
       "</div>"
      ],
      "text/plain": [
       "        exp      norm  poisson  uniform\n",
       "0  1.082735  0.615850       11        7\n",
       "1  0.164526  0.887449        7       34\n",
       "2  0.457974  0.814138       11       21\n",
       "3  0.868606  0.196098        8       89\n",
       "4  0.201573  0.556482       12       77"
      ]
     },
     "execution_count": 50,
     "metadata": {},
     "output_type": "execute_result"
    }
   ],
   "source": [
    "\"\"\"\n",
    "음, 그냥 계산의 용이성을 위해서 \n",
    "- 해당 데이터를 특정한 데이터분포의 형태(대부분 normalization의 형태(0, 1))의 형태로 변환\n",
    "- 무엇을 아웃라이어로 정의할 것이며(변환한다음 2시그마가 넘어가는 것들? ), 어떻게 제외할 것인가? \n",
    "- norm(0, 1) 분포를 따를 경우에는 음수 가 존재하기 때문에, 음...아니지. \n",
    "    - 음수여도 거리를 계산하는 방식이 유클리디안의 경우는 문제가 없음. \n",
    "    - 그러나, jaccard의 경우에는, 음 이 때는 binary 로 변환한 다음에 해야지.  \n",
    "\"\"\""
   ]
  },
  {
   "cell_type": "code",
   "execution_count": 98,
   "metadata": {},
   "outputs": [
    {
     "name": "stdout",
     "output_type": "stream",
     "text": [
      "[ -8.79384574e-17   8.79384574e-17  -1.05526149e-16   1.14319995e-16]\n",
      "[ 1.  1.  1.  1.]\n"
     ]
    }
   ],
   "source": [
    "\"\"\"\n",
    "\"\"\"\n",
    "from sklearn import preprocessing\n",
    "\n",
    "X = test_dist_df\n",
    "new_X = preprocessing.scale(X)\n",
    "\n",
    "print(new_X.mean(axis=0))\n",
    "print(new_X.std(axis=0))"
   ]
  },
  {
   "cell_type": "code",
   "execution_count": 97,
   "metadata": {},
   "outputs": [
    {
     "data": {
      "image/png": "[encoded data removed]",
      "text/plain": [
       "<matplotlib.figure.Figure at 0x1164d9e48>"
      ]
     },
     "metadata": {},
     "output_type": "display_data"
    },
    {
     "data": {
      "image/png": "[encoded data removed]",
      "text/plain": [
       "<matplotlib.figure.Figure at 0x116291c88>"
      ]
     },
     "metadata": {},
     "output_type": "display_data"
    }
   ],
   "source": [
    "plt.plot(sorted(X['exp']))\n",
    "plt.show()\n",
    "plt.plot(sorted(new_X[:, 0]))\n",
    "plt.show()"
   ]
  },
  {
   "cell_type": "code",
   "execution_count": 76,
   "metadata": {},
   "outputs": [
    {
     "data": {
      "image/png": "[encoded data removed]",
      "text/plain": [
       "<matplotlib.figure.Figure at 0x113f7d6d8>"
      ]
     },
     "metadata": {},
     "output_type": "display_data"
    }
   ],
   "source": [
    "import matplotlib.pyplot as plt\n",
    "a = sorted(np.random.normal(0, 0.00001, 100))\n",
    "a = sorted(np.random.exponential(6, 100))\n",
    "plt.plot(a)\n",
    "plt.show()"
   ]
  },
  {
   "cell_type": "code",
   "execution_count": 107,
   "metadata": {},
   "outputs": [
    {
     "data": {
      "image/png": "[encoded data removed]",
      "text/plain": [
       "<matplotlib.figure.Figure at 0x11405dba8>"
      ]
     },
     "metadata": {},
     "output_type": "display_data"
    },
    {
     "data": {
      "image/png": "[encoded data removed]",
      "text/plain": [
       "<matplotlib.figure.Figure at 0x1160d6908>"
      ]
     },
     "metadata": {},
     "output_type": "display_data"
    }
   ],
   "source": [
    "a = sorted(np.random.exponential(1, 100))\n",
    "plt.plot(a)\n",
    "plt.show()\n",
    "a = np.log(list(map(lambda x: x+1, a)))\n",
    "plt.plot(a)\n",
    "plt.show()"
   ]
  },
  {
   "cell_type": "code",
   "execution_count": null,
   "metadata": {
    "collapsed": true
   },
   "outputs": [],
   "source": []
  }
 ],
 "metadata": {
  "kernelspec": {
   "display_name": "Python 3",
   "language": "python",
   "name": "python3"
  },
  "language_info": {
   "codemirror_mode": {
    "name": "ipython",
    "version": 3
   },
   "file_extension": ".py",
   "mimetype": "text/x-python",
   "name": "python",
   "nbconvert_exporter": "python",
   "pygments_lexer": "ipython3",
   "version": "3.6.2"
  }
 },
 "nbformat": 4,
 "nbformat_minor": 2
}
