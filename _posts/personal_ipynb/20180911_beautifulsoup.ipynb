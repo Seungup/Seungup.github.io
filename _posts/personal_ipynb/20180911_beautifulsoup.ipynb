{
 "cells": [
  {
   "cell_type": "code",
   "execution_count": 38,
   "metadata": {},
   "outputs": [
    {
     "name": "stdout",
     "output_type": "stream",
     "text": [
      "<html>\n",
      "  <head>\n",
      "    <title>\n",
      "      The Dormouse's story\n",
      "    </title>\n",
      "  </head>\n",
      "  <body>\n",
      "    <p class=\"title\">\n",
      "      <b>\n",
      "        The Dormouse's story\n",
      "      </b>\n",
      "    </p>\n",
      "    <p class=\"story\">\n",
      "      Once upon a time there were three little sisters; and their names were\n",
      "      <a class=\"sister\" href=\"http://example.com/elsie\" id=\"link1\">\n",
      "        Elsie\n",
      "      </a>\n",
      "      ,\n",
      "      <a class=\"sister\" href=\"http://example.com/lacie\" id=\"link2\">\n",
      "        Lacie\n",
      "      </a>\n",
      "      and\n",
      "      <a class=\"sister\" href=\"http://example.com/tillie\" id=\"link3\">\n",
      "        Tillie\n",
      "      </a>\n",
      "      ;\n",
      "and they lived at the bottom of a well.\n",
      "    </p>\n",
      "    <p class=\"story\">\n",
      "      ...\n",
      "    </p>\n",
      "  </body>\n",
      "</html>\n"
     ]
    }
   ],
   "source": [
    "## 요즘에는 웹에서 데이터를 가져와야 하는 일들이 많아졌습니다. \n",
    "## 따라서, beautifulsoup이라는 라이브러리를 사용해서 html문서를 파싱하는 작업을 해보기로 합니다. \n",
    "from bs4 import BeautifulSoup\n",
    "\n",
    "html_doc = \"\"\"\n",
    "<html><head><title>The Dormouse's story</title></head>\n",
    "<body>\n",
    "<p class=\"title\"><b>The Dormouse's story</b></p>\n",
    "<p class=\"story\">Once upon a time there were three little sisters; and their names were\n",
    "<a href=\"http://example.com/elsie\" class=\"sister\" id=\"link1\">Elsie</a>,\n",
    "<a href=\"http://example.com/lacie\" class=\"sister\" id=\"link2\">Lacie</a> and\n",
    "<a href=\"http://example.com/tillie\" class=\"sister\" id=\"link3\">Tillie</a>;\n",
    "and they lived at the bottom of a well.</p>\n",
    "\n",
    "<p class=\"story\">...</p>\n",
    "\"\"\"\n",
    "## BeautifulSoup 에 html 데이터와 파서를 넣고 인스턴스를 생성해줌\n",
    "soup = BeautifulSoup(html_doc, 'html.parser')\n",
    "def prettify(input_soup, indent_level = 1):    \n",
    "    ## pretiffy에서는 indetation level을 조절할 수 없음\n",
    "    ## 기본적으로는 1칸씩만 주어지는데, 이는 가독성이 좋지 못하여 임의로 코드를 작성해서 아래처럼 변경함.\n",
    "    for s in soup.prettify().split(\"\\n\"):\n",
    "        non_blank = 0 \n",
    "        for i in range(0, len(s)):\n",
    "            if s[i] != \" \":\n",
    "                non_blank = i\n",
    "                break\n",
    "        print(\" \"*(indent_level-1)*non_blank + s)\n",
    "prettify(soup, 2)"
   ]
  },
  {
   "cell_type": "code",
   "execution_count": 65,
   "metadata": {},
   "outputs": [
    {
     "name": "stdout",
     "output_type": "stream",
     "text": [
      "<title>The Dormouse's story</title>\n",
      "title\n",
      "The Dormouse's story\n",
      "====================\n",
      "<p class=\"story\">Once upon a time there were three little sisters; and their names were\n",
      "<a class=\"sister\" href=\"http://example.com/elsie\" id=\"link1\">Elsie</a>,\n",
      "<a class=\"sister\" href=\"http://example.com/lacie\" id=\"link2\">Lacie</a> and\n",
      "<a class=\"sister\" href=\"http://example.com/tillie\" id=\"link3\">Tillie</a>;\n",
      "and they lived at the bottom of a well.</p>\n",
      "<p class=\"story\">...</p>\n",
      "====================\n",
      "<a class=\"sister\" href=\"http://example.com/tillie\" id=\"link3\">Tillie</a>\n",
      "====================\n",
      "\n",
      "The Dormouse's story\n",
      "\n",
      "The Dormouse's story\n",
      "Once upon a time there were three little sisters; and their names were\n",
      "Elsie,\n",
      "Lacie and\n",
      "Tillie;\n",
      "and they lived at the bottom of a well.\n",
      "...\n",
      "\n"
     ]
    }
   ],
   "source": [
    "## soup는 객체처럼 hierarchical하게 값을 내려가면서 원하는 value를 찾을 수 있다. \n",
    "## 또한 다음처럼, tag를 attribute처럼 접근하는 것이 가능함은 물론, parent, children 등을 사용할 수도 있음. \n",
    "print(soup.title)\n",
    "## tag name \n",
    "print(soup.title.name)\n",
    "## 내부의 string\n",
    "print(soup.title.string)\n",
    "print(\"=\"*20)\n",
    "## tag가 'p'인 것 모두 찾기 \n",
    "for x in soup.find_all('p'):## tag는 그냥 스트링으로 넣어도됨. \n",
    "    if x['class'][0]=='story':\n",
    "        print(x)\n",
    "print(\"=\"*20)\n",
    "## 전체에서 id가 link3인 것을 모두 찾고, 첫번째만 가져오기\n",
    "print(soup.find_all(id='link3')[0])\n",
    "print(\"=\"*20)\n",
    "##텍스트만 뽑아서 출력하기 \n",
    "print(soup.get_text())"
   ]
  },
  {
   "cell_type": "code",
   "execution_count": null,
   "metadata": {},
   "outputs": [],
   "source": []
  },
  {
   "cell_type": "code",
   "execution_count": 173,
   "metadata": {},
   "outputs": [
    {
     "name": "stdout",
     "output_type": "stream",
     "text": [
      "{'title': 'Musicians as entrepreneurs or entrepreneurs as musicians?(Article)', 'authors': [{'author': 'Albinsson, S.', 'author_url': 'https://www.scopus.com/authid/detail.uri?authorId=55329063400&eid=2-s2.0-85052489557'}], 'affiliation': 'Department of Economy and Society, University of Gothenburg, Sweden', 'abstract': 'This study investigates how Swedish musicians in the non-profit sector accept the “entrepreneur” label for themselves. The background section describes how identity work among “serious” musicians has, historically, made them shun any facet related to money-making. The qualitative study shows that there is some remaining reluctance. But it is obvious that freelance musicians recognize the need for entrepreneurial skills. A majority of those interviewed regard themselves as “entrepreneurs”, although in most cases it is out of necessity. It seems that the older generations are more hesitant than the younger. I conclude that it would be beneficial if musicians, during their higher education, were introduced to basic entrepreneurial skills. © 2018 John Wiley & Sons Ltd', 'author keyword': [], 'publication title': 'Creativity and Innovation Management', 'journal info': 'Volume 27, Issue 3, September 2018, Pages 348-357', 'other_info': {'ISSN': '09631690', 'Source Type': 'Journal', 'Original language': 'English', 'DOI': '10.1111/caim.12254', 'Document Type': 'Article', 'Publisher': 'Life Science Publishing Co. Ltd'}}\n",
      "====================\n",
      "{'title': 'Entrepreneurship as a Calling: A Pilot Study with Aspiring Entrepreneurs(Article)', 'authors': [{'author': 'Da Palma, P.J.', 'author_url': 'https://www.scopus.com/authid/detail.uri?authorId=57203015901&eid=2-s2.0-85050285124'}, {'author': 'Lopes, M.P.', 'author_url': 'https://www.scopus.com/authid/detail.uri?authorId=36192291800&eid=2-s2.0-85050285124'}, {'author': 'Alves, T.F.', 'author_url': 'https://www.scopus.com/authid/detail.uri?authorId=57203016848&eid=2-s2.0-85050285124'}], 'affiliation': 'School of Social and Political Sciences - ISCSP, Researcher at Public Policies Administration Center - CAPP, University of Lisbon, Rua Almerindo Lessa, Lisboa, Portugal', 'abstract': 'Previous research in work and organisational studies has found that individuals may experience their work as a job, a career or a calling. That experience, in turn, has a significant influence on their performance. In the present study, we apply this framework to the field of entrepreneurship and examine if the experience of aspiring entrepreneurs as a job, a career or a calling impacts their ability to attract resources for a new venture by considering two different resource attraction strategies presented in the literature: network positioning and proactive search. The results show that seeing entrepreneurship as a job has a negative impact on both network positioning and proactive search strategies. Experiencing entrepreneurship as a calling, however, has a positive impact on proactive search strategy. Perceiving entrepreneurship as a career is not related to resource attraction strategies. These findings illustrate that the way aspiring entrepreneurs experience their role as entrepreneurs affects their efforts as well as others’ confidence in terms of attracting resources for their new ventures. Theoretical and practical implications are addressed at the end of this work. © 2018 SAGE Publications.', 'author keyword': ['Entrepreneurial work orientation', 'entrepreneurship as a calling', 'resource attraction strategies', 'resource holders'], 'publication title': 'Journal of Entrepreneurship', 'journal info': 'Volume 27, Issue 2, 1 September 2018, Pages 277-300', 'other_info': {'ISSN': '09713557', 'Source Type': 'Journal', 'Original language': 'English', 'DOI': '10.1177/0971355718781276', 'Document Type': 'Article', 'Publisher': 'Sage Publications India Pvt. Ltd'}}\n",
      "====================\n",
      "{'title': '‘Salesman? Hell no!’ Identity struggles of nascent design entrepreneurs(Article)', 'authors': [{'author': 'Nielsen, S.L.a', 'author_url': 'https://www.scopus.com/authid/detail.uri?authorId=37029864900&eid=2-s2.0-85052543315'}, {'author': 'Norlyk, B.b', 'author_url': 'https://www.scopus.com/authid/detail.uri?authorId=55180625700&eid=2-s2.0-85052543315'}, {'author': 'Christensen, P.R.a', 'author_url': 'https://www.scopus.com/authid/detail.uri?authorId=7202250252&eid=2-s2.0-85052543315'}], 'affiliation': 'aDepartment of Entrepreneurship and Relationship Management, The University of Southern Denmark, Denmark', 'abstract': \"The present study offers new input to the discussion of how entrepreneurship education and training programmes can be tailored to suit design professionals. To a large extent, existing entrepreneurship teaching for creative people is based on a traditional administrative management logic that often results in a clash between entrepreneurial demands and creative identities. The paper is based on the following rationale: the better we understand designers' reasoning and their struggles concerning becoming entrepreneurs, the better we are able to design entrepreneurship learning experiences that meet their needs. Since designers' career-making tends to be highly driven by their strong sense of identity, the paper takes an identity perspective. The empirical foundation of the research is based on observation studies and phenomenological interviews conducted during an eight-week entrepreneurship training program. Twenty-five nascent design entrepreneurs with a professional background as designers participated in the voluntary programme. The paper offers novel and critical insights into designers' experiences of the entrepreneurial identity and reasoning as they participate in entrepreneurship training. © 2018 John Wiley & Sons Ltd\", 'author keyword': [], 'publication title': 'Creativity and Innovation Management', 'journal info': 'Volume 27, Issue 3, September 2018, Pages 358-369', 'other_info': {'ISSN': '09631690', 'Source Type': 'Journal', 'Original language': 'English', 'DOI': '10.1111/caim.12275', 'Document Type': 'Article', 'Publisher': 'Life Science Publishing Co. Ltd'}}\n",
      "====================\n",
      "complete\n"
     ]
    }
   ],
   "source": [
    "def parsing_paper_info_from_url(input_url):\n",
    "    ## scopus의 paper page에서 필요한 정보를 가져옴. \n",
    "    r_dict = {}\n",
    "    import requests\n",
    "    html_doc = requests.get(input_url)\n",
    "    paper_soup = BeautifulSoup(html_doc.text, 'html.parser')\n",
    "    ## paper title\n",
    "    r_dict['title'] = paper_soup.find_all('h2')[1].text.strip()\n",
    "    ## author_lst \n",
    "    r_dict['authors'] = []\n",
    "    for x in paper_soup.find(id='authorlist').find_all('a'):\n",
    "        if x.get('title') == 'Show Author Details':\n",
    "            r_dict['authors'].append({'author':x.text, \n",
    "                                      'author_url':x.get('href').replace(\"amp;\", \"\")})\n",
    "    ## affiliation, 단 list가 아니라 string. 파싱이 어려움 \n",
    "    r_dict['affiliation'] = paper_soup.find(id='affiliationlist').find('ul').find('li').text.strip()\n",
    "    ## abstract\n",
    "    r_dict['abstract'] = paper_soup.find(id='abstractSection').find('p').text.strip()\n",
    "    ## keyword\n",
    "    author_kwds = paper_soup.find(id='authorKeywords')\n",
    "    if author_kwds == None:##author keywords 정보가 html 페이지에 없음\n",
    "        r_dict['author keyword'] = []\n",
    "    else:\n",
    "        r_dict['author keyword'] = [kwd.text.strip() for kwd in author_kwds.find_all('span')]\n",
    "    ## 저널 이름 \n",
    "    r_dict['publication title'] = paper_soup.find(id='publicationTitle').text\n",
    "    ## 저널 게재 시기등 정보 \n",
    "    r_dict['journal info'] = paper_soup.find(id='journalInfo').text\n",
    "    ## other information \n",
    "    other_info_dict= {}\n",
    "    for x in paper_soup.find(id='citationInfo').find_all('li'):\n",
    "        k, v = x.text.strip().split(\":\")\n",
    "        other_info_dict[k] = v.strip()\n",
    "    for x in paper_soup.find(id='documentInfo').find_all('li'):\n",
    "        k, v = x.text.strip().split(\":\")\n",
    "        other_info_dict[k] = v.strip()\n",
    "    r_dict['other_info'] = other_info_dict\n",
    "    return r_dict\n",
    "url_lst = [\n",
    "    'https://www.scopus.com/record/display.uri?eid=2-s2.0-85052489557&origin=resultslist&sort=plf-f&src=s&st1=entrepreneur&nlo=&nlr=&nls=&sid=545757d8f3aad35ae7a462c1d42ef88d&sot=b&sdt=b&sl=27&s=TITLE-ABS-KEY%28entrepreneur%29&relpos=80&citeCnt=0&searchTerm=',\n",
    "    'https://www.scopus.com/record/display.uri?eid=2-s2.0-85050285124&origin=resultslist&sort=plf-f&src=s&st1=entrepreneur&nlo=&nlr=&nls=&sid=545757d8f3aad35ae7a462c1d42ef88d&sot=b&sdt=b&sl=27&s=TITLE-ABS-KEY%28entrepreneur%29&relpos=81&citeCnt=0&searchTerm=',\n",
    "    'https://www.scopus.com/record/display.uri?eid=2-s2.0-85052543315&origin=resultslist&sort=plf-f&src=s&st1=entrepreneur&nlo=&nlr=&nls=&sid=545757d8f3aad35ae7a462c1d42ef88d&sot=b&sdt=b&sl=27&s=TITLE-ABS-KEY%28entrepreneur%29&relpos=82&citeCnt=0&searchTerm=', \n",
    "]\n",
    "for url in url_lst:\n",
    "    print(parsing_paper_info_from_url(url))\n",
    "    print(\"=\"*20)\n",
    "print(\"complete\")"
   ]
  },
  {
   "cell_type": "code",
   "execution_count": 170,
   "metadata": {},
   "outputs": [],
   "source": [
    "\n",
    "\n"
   ]
  },
  {
   "cell_type": "code",
   "execution_count": null,
   "metadata": {},
   "outputs": [],
   "source": []
  }
 ],
 "metadata": {
  "kernelspec": {
   "display_name": "Python 3",
   "language": "python",
   "name": "python3"
  },
  "language_info": {
   "codemirror_mode": {
    "name": "ipython",
    "version": 3
   },
   "file_extension": ".py",
   "mimetype": "text/x-python",
   "name": "python",
   "nbconvert_exporter": "python",
   "pygments_lexer": "ipython3",
   "version": "3.6.5"
  }
 },
 "nbformat": 4,
 "nbformat_minor": 2
}
