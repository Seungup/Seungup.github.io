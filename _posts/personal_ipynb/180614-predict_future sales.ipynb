{
 "cells": [
  {
   "cell_type": "code",
   "execution_count": 9,
   "metadata": {},
   "outputs": [
    {
     "data": {
      "text/html": [
       "<div>\n",
       "<style>\n",
       "    .dataframe thead tr:only-child th {\n",
       "        text-align: right;\n",
       "    }\n",
       "\n",
       "    .dataframe thead th {\n",
       "        text-align: left;\n",
       "    }\n",
       "\n",
       "    .dataframe tbody tr th {\n",
       "        vertical-align: top;\n",
       "    }\n",
       "</style>\n",
       "<table border=\"1\" class=\"dataframe\">\n",
       "  <thead>\n",
       "    <tr style=\"text-align: right;\">\n",
       "      <th></th>\n",
       "      <th>date</th>\n",
       "      <th>date_block_num</th>\n",
       "      <th>shop_id</th>\n",
       "      <th>item_id</th>\n",
       "      <th>item_price</th>\n",
       "      <th>item_cnt_day</th>\n",
       "    </tr>\n",
       "  </thead>\n",
       "  <tbody>\n",
       "    <tr>\n",
       "      <th>0</th>\n",
       "      <td>2013-01-02</td>\n",
       "      <td>0</td>\n",
       "      <td>59</td>\n",
       "      <td>22154</td>\n",
       "      <td>999.00</td>\n",
       "      <td>1.0</td>\n",
       "    </tr>\n",
       "    <tr>\n",
       "      <th>1</th>\n",
       "      <td>2013-01-03</td>\n",
       "      <td>0</td>\n",
       "      <td>25</td>\n",
       "      <td>2552</td>\n",
       "      <td>899.00</td>\n",
       "      <td>1.0</td>\n",
       "    </tr>\n",
       "    <tr>\n",
       "      <th>2</th>\n",
       "      <td>2013-01-05</td>\n",
       "      <td>0</td>\n",
       "      <td>25</td>\n",
       "      <td>2552</td>\n",
       "      <td>899.00</td>\n",
       "      <td>-1.0</td>\n",
       "    </tr>\n",
       "    <tr>\n",
       "      <th>3</th>\n",
       "      <td>2013-01-06</td>\n",
       "      <td>0</td>\n",
       "      <td>25</td>\n",
       "      <td>2554</td>\n",
       "      <td>1709.05</td>\n",
       "      <td>1.0</td>\n",
       "    </tr>\n",
       "    <tr>\n",
       "      <th>4</th>\n",
       "      <td>2013-01-15</td>\n",
       "      <td>0</td>\n",
       "      <td>25</td>\n",
       "      <td>2555</td>\n",
       "      <td>1099.00</td>\n",
       "      <td>1.0</td>\n",
       "    </tr>\n",
       "  </tbody>\n",
       "</table>\n",
       "</div>"
      ],
      "text/plain": [
       "        date  date_block_num  shop_id  item_id  item_price  item_cnt_day\n",
       "0 2013-01-02               0       59    22154      999.00           1.0\n",
       "1 2013-01-03               0       25     2552      899.00           1.0\n",
       "2 2013-01-05               0       25     2552      899.00          -1.0\n",
       "3 2013-01-06               0       25     2554     1709.05           1.0\n",
       "4 2013-01-15               0       25     2555     1099.00           1.0"
      ]
     },
     "execution_count": 9,
     "metadata": {},
     "output_type": "execute_result"
    }
   ],
   "source": [
    "import pandas as pd\n",
    "import seaborn as sns\n",
    "import matplotlib.pyplot as plt\n",
    "\n",
    "items_url = 'https://storage.googleapis.com/kaggle-competitions-data/kaggle/8587/items.csv?GoogleAccessId=web-data@kaggle-161607.iam.gserviceaccount.com&Expires=1529183169&Signature=Bo860sxFkQbVz0dJno6S4yFfcg5OiOmWb9mMmEcjY4oPAHjlCfjaxmiK%2FgqDu%2FJsn%2FIyXvXywjMAgfjPFC0lNH2QFMSp30FwAtOfnStsXn%2B4k1GvMIetqmJu%2FaCs6D2PdAUZ0nv7Efdk6RUD8rDgJcjjDlIcUmvgYtA8dFbC3YMsY8ZdWjILeYsOLF1CnRP8Q3giJGOw1lmiyaZ9N3KitSNW4Onf4sQBtsEn63%2FRoYh7Lpw9tbzChCZH2FeLDGENSHID6ELhESO%2BTFkUbCMLdaM5leyYSnv6xSTlzmn6zwtFnD%2FmA%2BAHy%2FlGRRmhJs1ryWRP354sbc1CzvoCuhEPpg%3D%3D'\n",
    "items_categories_url = 'https://storage.googleapis.com/kaggle-competitions-data/kaggle/8587/item_categories.csv?GoogleAccessId=web-data@kaggle-161607.iam.gserviceaccount.com&Expires=1529183232&Signature=s1tM1i2zJMSFndjzhkehDgrPp%2FXYzjX8oibYC6cZdATqKDJZC0Uz3NqycVat6%2FMMM4WIJ10hSUlfQz9bvsG%2FX1i5S9Tpd35VAOmydQ1LSPffqB8H0%2F7AJA3z4QDkrypecStydcmgpALwrRJmDq6s6DoaYX8WypKNog7vW6uFV1ClW2gJKJ7oDPkemh9GkvrD7Su9mzDe9sw7UaaOQ6kTBGR69ilXdaCt%2FbwX18x17lUs1l2ewdPf2Km%2FFTi7AxYbt1zkejjpiIwrGrLLHTJ9Fqj9rT0GXfN2YP6uddM6%2B6wvnhppwJTqXqNdUM%2FdXDXAcPIbhRMeAnk%2BzSZZXR0DxQ%3D%3D'\n",
    "shops_url = 'https://storage.googleapis.com/kaggle-competitions-data/kaggle/8587/shops.csv?GoogleAccessId=web-data@kaggle-161607.iam.gserviceaccount.com&Expires=1529183286&Signature=ITZJcPXHPukk8v9XGTnPKdaI7DzvMz7FGAmCa%2Br8murBWu1gZXq6zhYt15biIQDXe%2B50h3hLSOUAhrUsvMuc4NIRIY4dgmEv300GoV157XYyDQe1gcixabCe8hvu9V1GhLKGoCy2tXXgoOpG0q1RGIBdn%2BarcwLRk3hVK1s4PfOFWWhheauJcbjrOglPu0MwUaSllahwyjXdJ%2FzXqOkf9ZtIkGtUmfTKGrfwCH7ec3TXJ1s0EeS%2FabjnKqBYFkOvNmDvZOSlOaZ7f2mixMSkPHEfHr9mm%2BbVMnFutsii8QqKDUYwBaYZ76VQziU7yMmfxu0bpXAJ0%2Bdyy%2BdlNHGtSA%3D%3D'\n",
    "sales_train_url = '/Users/frhyme/Downloads/sales_train_v2.csv'\n",
    "test_url = '/Users/frhyme/Downloads/test.csv'\n",
    "\n",
    "items_df = pd.read_csv(items_url)\n",
    "items_categories_df = pd.read_csv(items_categories_url)\n",
    "shops_df = pd.read_csv(shops_url)\n",
    "sales_train_df = pd.read_csv(sales_train_url, parse_dates=['date'], \n",
    "                             date_parser=lambda date: pd.to_datetime(date, format='%d.%m.%Y'))\n",
    "test_df = pd.read_csv(test_url)\n",
    "\n",
    "items_df.head()\n",
    "items_categories_df.head()\n",
    "shops_df.head()\n",
    "sales_train_df.head()"
   ]
  },
  {
   "cell_type": "code",
   "execution_count": 26,
   "metadata": {},
   "outputs": [
    {
     "name": "stderr",
     "output_type": "stream",
     "text": [
      "IOPub data rate exceeded.\n",
      "The notebook server will temporarily stop sending output\n",
      "to the client in order to avoid crashing it.\n",
      "To change this limit, set the config variable\n",
      "`--NotebookApp.iopub_data_rate_limit`.\n"
     ]
    }
   ],
   "source": [
    "sales_train_df.columns\n",
    "# 이렇게 묶으면, 달별/삽별/아이템별로 묶여짐. 이 때, 묶여진 값이 예측해야 하는 값 \n",
    "sales_train_grp = sales_train_df.groupby(['date_block_num','shop_id','item_id'])\n",
    "sales_train_grp.mean().index"
   ]
  },
  {
   "cell_type": "code",
   "execution_count": 8,
   "metadata": {},
   "outputs": [
    {
     "name": "stdout",
     "output_type": "stream",
     "text": [
      "0\n",
      "0\n",
      "0\n",
      "0\n",
      "0\n",
      "0\n"
     ]
    }
   ],
   "source": [
    "# 다행히도, missing value는 없음. \n",
    "for col in sales_train_df.columns:\n",
    "    print(sales_train_df[col].isnull().sum())"
   ]
  },
  {
   "cell_type": "code",
   "execution_count": null,
   "metadata": {
    "collapsed": true
   },
   "outputs": [],
   "source": []
  }
 ],
 "metadata": {
  "kernelspec": {
   "display_name": "Python 3",
   "language": "python",
   "name": "python3"
  },
  "language_info": {
   "codemirror_mode": {
    "name": "ipython",
    "version": 3
   },
   "file_extension": ".py",
   "mimetype": "text/x-python",
   "name": "python",
   "nbconvert_exporter": "python",
   "pygments_lexer": "ipython3",
   "version": "3.6.2"
  }
 },
 "nbformat": 4,
 "nbformat_minor": 2
}
