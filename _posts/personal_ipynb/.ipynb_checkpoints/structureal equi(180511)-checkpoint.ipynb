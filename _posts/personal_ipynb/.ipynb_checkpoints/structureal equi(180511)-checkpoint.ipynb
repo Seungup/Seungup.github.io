{
 "cells": [
  {
   "cell_type": "code",
   "execution_count": 3,
   "metadata": {},
   "outputs": [],
   "source": [
    "import networkx as nx\n",
    "import matplotlib.pyplot as plt"
   ]
  },
  {
   "cell_type": "code",
   "execution_count": 58,
   "metadata": {},
   "outputs": [
    {
     "data": {
      "image/png": "[encoded data removed]",
      "text/plain": [
       "<matplotlib.figure.Figure at 0x151542eba8>"
      ]
     },
     "metadata": {},
     "output_type": "display_data"
    },
    {
     "name": "stdout",
     "output_type": "stream",
     "text": [
      "     n1   n2   n3   n4   n5   n6   n7   n8   n9\n",
      "n1  0.0  0.0  1.0  1.0  1.0  1.0  1.0  1.0  1.0\n",
      "n2  0.0  0.0  1.0  1.0  1.0  1.0  1.0  1.0  1.0\n",
      "n3  1.0  1.0  0.0  0.0  0.0  0.0  0.0  0.0  0.0\n",
      "n4  1.0  1.0  0.0  0.0  0.0  0.0  0.0  0.0  0.0\n",
      "n5  1.0  1.0  0.0  0.0  0.0  0.0  0.0  0.0  0.0\n",
      "n6  1.0  1.0  0.0  0.0  0.0  0.0  0.0  0.0  0.0\n",
      "n7  1.0  1.0  0.0  0.0  0.0  0.0  0.0  0.0  0.0\n",
      "n8  1.0  1.0  0.0  0.0  0.0  0.0  0.0  0.0  0.0\n",
      "n9  1.0  1.0  0.0  0.0  0.0  0.0  0.0  0.0  0.0\n"
     ]
    },
    {
     "ename": "TypeError",
     "evalue": "ufunc 'subtract' did not contain a loop with signature matching types dtype('<U2') dtype('<U2') dtype('<U2')",
     "output_type": "error",
     "traceback": [
      "\u001b[0;31m---------------------------------------------------------------------------\u001b[0m",
      "\u001b[0;31mTypeError\u001b[0m                                 Traceback (most recent call last)",
      "\u001b[0;32m<ipython-input-58-55b63ae9f940>\u001b[0m in \u001b[0;36m<module>\u001b[0;34m()\u001b[0m\n\u001b[1;32m     52\u001b[0m \u001b[0;32mfor\u001b[0m \u001b[0mn1\u001b[0m \u001b[0;32min\u001b[0m \u001b[0mg\u001b[0m\u001b[0;34m.\u001b[0m\u001b[0mnodes\u001b[0m\u001b[0;34m(\u001b[0m\u001b[0;34m)\u001b[0m\u001b[0;34m:\u001b[0m\u001b[0;34m\u001b[0m\u001b[0m\n\u001b[1;32m     53\u001b[0m     \u001b[0;32mfor\u001b[0m \u001b[0mn2\u001b[0m \u001b[0;32min\u001b[0m \u001b[0mg\u001b[0m\u001b[0;34m.\u001b[0m\u001b[0mnodes\u001b[0m\u001b[0;34m(\u001b[0m\u001b[0;34m)\u001b[0m\u001b[0;34m:\u001b[0m\u001b[0;34m\u001b[0m\u001b[0m\n\u001b[0;32m---> 54\u001b[0;31m         \u001b[0mprint\u001b[0m\u001b[0;34m(\u001b[0m\u001b[0meuclidean\u001b[0m\u001b[0;34m(\u001b[0m\u001b[0mn1\u001b[0m\u001b[0;34m,\u001b[0m \u001b[0mn2\u001b[0m\u001b[0;34m)\u001b[0m\u001b[0;34m)\u001b[0m\u001b[0;34m\u001b[0m\u001b[0m\n\u001b[0m",
      "\u001b[0;32m~/anaconda3/lib/python3.6/site-packages/scipy/spatial/distance.py\u001b[0m in \u001b[0;36meuclidean\u001b[0;34m(u, v)\u001b[0m\n\u001b[1;32m    431\u001b[0m     \u001b[0mu\u001b[0m \u001b[0;34m=\u001b[0m \u001b[0m_validate_vector\u001b[0m\u001b[0;34m(\u001b[0m\u001b[0mu\u001b[0m\u001b[0;34m)\u001b[0m\u001b[0;34m\u001b[0m\u001b[0m\n\u001b[1;32m    432\u001b[0m     \u001b[0mv\u001b[0m \u001b[0;34m=\u001b[0m \u001b[0m_validate_vector\u001b[0m\u001b[0;34m(\u001b[0m\u001b[0mv\u001b[0m\u001b[0;34m)\u001b[0m\u001b[0;34m\u001b[0m\u001b[0m\n\u001b[0;32m--> 433\u001b[0;31m     \u001b[0mdist\u001b[0m \u001b[0;34m=\u001b[0m \u001b[0mnorm\u001b[0m\u001b[0;34m(\u001b[0m\u001b[0mu\u001b[0m \u001b[0;34m-\u001b[0m \u001b[0mv\u001b[0m\u001b[0;34m)\u001b[0m\u001b[0;34m\u001b[0m\u001b[0m\n\u001b[0m\u001b[1;32m    434\u001b[0m     \u001b[0;32mreturn\u001b[0m \u001b[0mdist\u001b[0m\u001b[0;34m\u001b[0m\u001b[0m\n\u001b[1;32m    435\u001b[0m \u001b[0;34m\u001b[0m\u001b[0m\n",
      "\u001b[0;31mTypeError\u001b[0m: ufunc 'subtract' did not contain a loop with signature matching types dtype('<U2') dtype('<U2') dtype('<U2')"
     ]
    }
   ],
   "source": [
    "\"\"\"\n",
    "간단하게 만든 그래프, 여기서 보면 n1과 n2는 모든 node와 연결되어 있다. \n",
    "이런 경우 이 두 node는 유사하다고 평가할 수 있지 않을까? \n",
    "그렇다면 이 두가지를 matrix의 형태로 표현할 수도 있다. \n",
    "\"\"\"\n",
    "g = nx.Graph()\n",
    "g.add_nodes_from(\n",
    "    [(\"n{}\".format(n), {'weight':1.0}) for n in range(1, 10) ]\n",
    ")\n",
    "g.add_edges_from(\n",
    "    [('n1', n, {'weight':1.0}) for n in g.nodes()] + [('n2', n, {'weight':1.0}) for n in g.nodes()]\n",
    ")\n",
    "g.remove_edge('n1', 'n2')\n",
    "for n1 in g.nodes():\n",
    "    try:\n",
    "        g.remove_edge(n1, n1)\n",
    "    except:\n",
    "        continue\n",
    "        \n",
    "\n",
    "nx.draw_networkx(g, nx.shell_layout(g))\n",
    "plt.axis('off')\n",
    "plt.show()\n",
    "\n",
    "\"\"\"\n",
    "- 연결되어 있는지만 평가하는 matrix \n",
    "- weight를 로 평가한 matrix \n",
    "\n",
    "그리고 similarity를 계산한다면 어떤 distance를 활용하는 것이 적합한지도 고민이 필요함. \n",
    "\n",
    "bipartite한 경우는 또 다른 경우고. \n",
    "\n",
    "anyway, how to make matrix from graph? \n",
    "\"\"\"\n",
    "\n",
    "import pandas as pd\n",
    "\n",
    "node_to_node_mat = {}\n",
    "for n1 in g.nodes():\n",
    "    node_to_node_mat[n1] = {}\n",
    "    for n2 in g.nodes():\n",
    "        try:\n",
    "            node_to_node_mat[n1][n2] = g[n1][n2]['weight']\n",
    "        except:\n",
    "            node_to_node_mat[n1][n2] = 0\n",
    "node_to_node_mat = pd.DataFrame(node_to_node_mat)\n",
    "\n",
    "print(node_to_node_mat)\n",
    "\n",
    "from scipy.spatial.distance import euclidean\n",
    "\n",
    "euclidean(node_to_node_mat.iloc()[0], node_to_node_mat.iloc()[1])\n",
    "for n1 in g.nodes():\n",
    "    for n2 in g.nodes():\n",
    "        print(euclidean(n1, n2))"
   ]
  },
  {
   "cell_type": "code",
   "execution_count": 60,
   "metadata": {},
   "outputs": [
    {
     "name": "stdout",
     "output_type": "stream",
     "text": [
      "[['csfs', 'factor analysis', 'indian manufacturing smes', 'six sigma'], ['energy recovery', 'muzzle arc', 'pulsed supply', 'railgun', 'superconducting magnetic energy storage', 'system efficiency', 'termination discharge'], ['internationalization', 'market research', 'organic olive oil', 'smes', 'tourist'], ['contractors', 'entrepreneurship', 'indonesia', 'smes'], ['bpgm-sme', 'improved ukf', 'multi-target tracking', 'tracking accuracy'], ['dark triad of personality', 'entrepreneurial orientation (eo)', 'executive personality', 'small and medium-sized enterprise (sme)'], ['automated testing', 'electrical cable hardness', 'modular systems', 'small- and medium-sized enterprise (smes)', 'system adaptability', 'system automation', 'system flexibility'], ['dimension of information quality', 'quality information', 'smes'], ['discrete-event system simulation', 'productivity improvement', 'sme'], ['productivity', 'standard time', 'theory of constraint']]\n"
     ]
    }
   ],
   "source": [
    "\"\"\"\n",
    "이게 유의미한지를 평가하기 위해서, 일단 필터링하지 않은 데이터지만 한번 해본다.\n",
    "어떤 distance가 좋은지, 뭐 그런걸 알아야 하니까. \n",
    "\"\"\"\n",
    "import pandas as pd\n",
    "import itertools\n",
    "\n",
    "excel_path_and_filename = \"../../../Downloads/SMEs_Scopus_2013-2017.xlsx\"\n",
    "df = pd.read_excel(excel_path_and_filename)\n",
    "df = df[['Author Keywords', 'Year', 'Abstract', 'Index Keywords']]\n",
    "\n",
    "auth_kwd_lst = list(df['Author Keywords'].dropna().apply(lambda s: s.strip().split(\";\")))\n",
    "auth_kwd_lst = map(lambda ks: [k.strip().lower() for k in ks], auth_kwd_lst)\n",
    "auth_kwd_lst = list(auth_kwd_lst)\n",
    "print(auth_kwd_lst[:10])"
   ]
  },
  {
   "cell_type": "code",
   "execution_count": 106,
   "metadata": {},
   "outputs": [
    {
     "name": "stdout",
     "output_type": "stream",
     "text": [
      "24184\n",
      "351\n"
     ]
    }
   ],
   "source": [
    "import collections \n",
    "\n",
    "auth_kwd_lst = list(df['Author Keywords'].dropna().apply(lambda s: s.strip().split(\";\")))\n",
    "auth_kwd_lst = map(lambda ks: [k.strip().lower() for k in ks], auth_kwd_lst)\n",
    "auth_kwd_lst = list(auth_kwd_lst)\n",
    "\n",
    "auth_kwd_lst = map(lambda x: sorted(x), auth_kwd_lst)\n",
    "make_edge = lambda ks: [ (ks[i], ks[j]) for i in range(0, len(ks)-1) for j in range(i+1, len(ks))]\n",
    "auth_kwd_lst = itertools.chain.from_iterable(map(lambda x: make_edge(x), auth_kwd_lst))\n",
    "\n",
    "kwdG = nx.Graph()\n",
    "kwdG.add_edges_from(\n",
    "    (e[0][0], e[0][1], {'weight':e[1]}) for e in collections.Counter(auth_kwd_lst).most_common()\n",
    ")\n",
    "print(len(kwdG.nodes()))\n",
    "for e in kwdG.copy().edges(data=True):\n",
    "    if e[2]['weight']<5:\n",
    "        kwdG.remove_edge(e[0], e[1])\n",
    "for n in kwdG.copy().nodes():\n",
    "    if len(kwdG[n])==0:\n",
    "        kwdG.remove_node(n)\n",
    "\"\"\"\n",
    "계산의 편의를 위해서 일정 weight 이하인 edge를 삭제하고 \n",
    "고립된 노드 또한 삭제함 \n",
    "이 네트워크를 활용해서 거리를 재보면 어떻게 나올까? 비슷한 의미를 가진 keyword는 비슷한 관계로 나올까? \n",
    "\"\"\"\n",
    "print(len(kwdG.nodes()))"
   ]
  },
  {
   "cell_type": "code",
   "execution_count": 102,
   "metadata": {},
   "outputs": [
    {
     "name": "stdout",
     "output_type": "stream",
     "text": [
      "0\n"
     ]
    },
    {
     "data": {
      "text/plain": [
       "NodeDataView({0: {}, 1: {}, 2: {}, 3: {}})"
      ]
     },
     "execution_count": 102,
     "metadata": {},
     "output_type": "execute_result"
    }
   ],
   "source": [
    "tG = nx.complete_graph(4)\n",
    "tG.remove_edge(0, 1)\n",
    "tG.remove_edge(0, 2)\n",
    "tG.remove_edge(0, 3)\n",
    "print(len(tG[0]))\n",
    "tG.nodes(data=True)"
   ]
  },
  {
   "cell_type": "code",
   "execution_count": null,
   "metadata": {
    "collapsed": true
   },
   "outputs": [],
   "source": []
  }
 ],
 "metadata": {
  "kernelspec": {
   "display_name": "Python 3",
   "language": "python",
   "name": "python3"
  },
  "language_info": {
   "codemirror_mode": {
    "name": "ipython",
    "version": 3
   },
   "file_extension": ".py",
   "mimetype": "text/x-python",
   "name": "python",
   "nbconvert_exporter": "python",
   "pygments_lexer": "ipython3",
   "version": "3.6.2"
  }
 },
 "nbformat": 4,
 "nbformat_minor": 2
}
