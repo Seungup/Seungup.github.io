{
 "cells": [
  {
   "cell_type": "markdown",
   "metadata": {},
   "source": [
    "- simpy 를 사용해서 파이썬에서 시뮬레이션해봅시다. \n",
    "    - simpy는 개별 객체를 generator로 생각하는데, generator를 environment로 넘기고, environment를 어떤 시점까지 run을 시킵니다. \n",
    "    - 그런 방식으로 시뮬레이션을 구현함. \n",
    "        - shared resource는 어떻게 구현하지? \n",
    "\n",
    "- 조금 더 복잡한 예제를 하나 들어서 정리하면 훨씬 좋을 것 같은데?? "
   ]
  },
  {
   "cell_type": "code",
   "execution_count": 1,
   "metadata": {},
   "outputs": [
    {
     "name": "stdout",
     "output_type": "stream",
     "text": [
      "0.00 sec:      fast clock ticks\n",
      "0.00 sec:      slow clock ticks\n",
      "0.00 sec: very fast clock ticks\n",
      "0.10 sec: very fast clock ticks\n",
      "0.20 sec: very fast clock ticks\n",
      "0.30 sec: very fast clock ticks\n",
      "0.40 sec: very fast clock ticks\n",
      "0.50 sec:      fast clock ticks\n",
      "0.50 sec: very fast clock ticks\n",
      "0.60 sec: very fast clock ticks\n",
      "0.70 sec: very fast clock ticks\n",
      "0.80 sec: very fast clock ticks\n",
      "0.90 sec: very fast clock ticks\n",
      "1.00 sec: very fast clock ticks\n",
      "1.00 sec:      slow clock ticks\n",
      "1.00 sec:      fast clock ticks\n",
      "1.10 sec: very fast clock ticks\n",
      "1.20 sec: very fast clock ticks\n",
      "1.30 sec: very fast clock ticks\n",
      "1.40 sec: very fast clock ticks\n",
      "1.50 sec:      fast clock ticks\n",
      "1.50 sec: very fast clock ticks\n",
      "1.60 sec: very fast clock ticks\n",
      "1.70 sec: very fast clock ticks\n",
      "1.80 sec: very fast clock ticks\n",
      "1.90 sec: very fast clock ticks\n"
     ]
    }
   ],
   "source": [
    "import simpy \n",
    "\n",
    "## 내부에 loop와 yield가 있는 generator입니다. \n",
    "## simpy에서는 generator를 기본적으로 사용하는데, \n",
    "## generator는 yield를 포함한 연속된 명령 리스트? 라고 생각해도 상관없습니다. \n",
    "## yield: return something and hold \n",
    "def clock(env, name, tick):\n",
    "    while True:\n",
    "        ## clock generator가 한번 불러지면, 아래 행동을 수행 \n",
    "        print(\"{:.2f} sec: {} clock ticks\".format(env.now, name))\n",
    "        yield env.timeout(tick)## 넘겨 받는 시간만큼 멈춰둡니다. \n",
    "\n",
    "## Environment: simulation하려는 세계 \n",
    "env = simpy.Environment()\n",
    "\n",
    "## 아래 부분에서 함수를 넘겨준다고 생각할 수 있는데, 정확히는 함수가 아니라 generator를 넘겨주는 것임. \n",
    "## 0.5초마다 소리치는 클락\n",
    "fast_clock = clock(env, '     fast', 0.5)\n",
    "## 1초마다 소리치는 클락 \n",
    "slow_clock = clock(env, '     slow', 1)\n",
    "very_fast_clock = clock(env, 'very fast', 0.1)\n",
    "\n",
    "## 이 두 generator를 앞서 생성한 environment에 넘겨줍니다. \n",
    "env.process(fast_clock)\n",
    "env.process(slow_clock)\n",
    "env.process(very_fast_clock)\n",
    "\n",
    "env.run(until=2)\n"
   ]
  },
  {
   "cell_type": "code",
   "execution_count": 2,
   "metadata": {},
   "outputs": [
    {
     "name": "stdout",
     "output_type": "stream",
     "text": [
      "Start parking at   0.0\n",
      "Stop  parking at   5.0\n",
      "Start driving at   5.0\n",
      "Stop  driving at   7.0\n",
      "Start parking at   7.0\n",
      "Stop  parking at  12.0\n",
      "Start driving at  12.0\n",
      "Stop  driving at  14.0\n",
      "Start parking at  14.0\n",
      "Stop  parking at  19.0\n",
      "Start driving at  19.0\n"
     ]
    }
   ],
   "source": [
    "import simpy \n",
    "import numpy as np \n",
    "\n",
    "## 5초 파킹하고, 2초 운전하는 시뮬레이션 \n",
    "def car(env):\n",
    "    while True:\n",
    "        print('Start parking at %5.1f' % env.now)\n",
    "        parking_duration = 5\n",
    "        #parking_duration = np.random.normal(5, 1)\n",
    "        yield env.timeout(parking_duration)\n",
    "        print('Stop  parking at %5.1f' % env.now)\n",
    "\n",
    "        print('Start driving at %5.1f' % env.now)\n",
    "        driving_duration = 2\n",
    "        #trip_duration = np.random.normal(2, 1)\n",
    "        yield env.timeout(driving_duration)\n",
    "        print('Stop  driving at %5.1f' % env.now)\n",
    "        \n",
    "        \n",
    "env = simpy.Environment()\n",
    "env.process(car(env))\n",
    "env.run(until=20)"
   ]
  },
  {
   "cell_type": "code",
   "execution_count": 45,
   "metadata": {},
   "outputs": [
    {
     "name": "stdout",
     "output_type": "stream",
     "text": [
      "start activity_1 at   0.00\n",
      "end   activity_1 at   4.68\n",
      "start activity_2 at   6.01\n",
      "end   activity_2 at  10.70\n",
      "start activity_3 at  12.93\n",
      "end   activity_3 at  21.62\n",
      "start activity_4 at  23.47\n",
      "end   activity_4 at  30.78\n",
      "start activity_5 at  32.90\n",
      "end   activity_5 at  36.71\n",
      "##############################\n",
      "process end\n"
     ]
    }
   ],
   "source": [
    "import simpy \n",
    "import numpy as np \n",
    "\n",
    "def business_process(env, activity_lst):\n",
    "    while True:\n",
    "        for act in activity_lst:\n",
    "            ## activity의 수행 시간은 triangulat dist를 따르며, \n",
    "            print('start {} at {:6.2f}'.format(act, env.now))\n",
    "            activity_time = np.random.triangular(left=3, right=10, mode=7)\n",
    "            yield env.timeout(activity_time)\n",
    "            print('end   {} at {:6.2f}'.format(act, env.now))\n",
    "            \n",
    "            ## activity를 transfer하는데 일정 시간이 소요된다고 가정함.\n",
    "            activity_transfer_time = np.random.triangular(left=1, right=3, mode=2)\n",
    "            yield env.timeout(activity_transfer_time)\n",
    "        print(\"#\"*30)\n",
    "        print(\"process end\")\n",
    "        ## 만약 여기 return 을 넣으면 여기서 generator가 그대로 종료됨 \n",
    "        ## 만약 n 번 수행하고 싶다면, while True 를 for 문으로 변경하고, 몇 번 종료 후 끝내는 형태로 해도 괜찮을듯. \n",
    "        return 'over'\n",
    "\n",
    "## environment setting\n",
    "env = simpy.Environment()\n",
    "\n",
    "bp1 = business_process(env, activity_lst=[ \"activity_{}\".format(i) for i in range(1, 6)])\n",
    "env.process(bp1)\n",
    "\n",
    "env.run(until=100)"
   ]
  },
  {
   "cell_type": "code",
   "execution_count": 113,
   "metadata": {},
   "outputs": [
    {
     "name": "stdout",
     "output_type": "stream",
     "text": [
      "at 0, bcs.queue: []\n",
      "at 0, bcs.users: [<Request() object at 0x115254470>]\n",
      "Car 0 starting to charge at 0\n",
      "at 2, bcs.queue: []\n",
      "at 2, bcs.users: [<Request() object at 0x115254470>, <Request() object at 0x115254630>]\n",
      "Car 1 starting to charge at 2\n",
      "Car 0 leaving the bcs at 6\n",
      "at 6, bcs.queue: [<Request() object at 0x115254400>]\n",
      "at 6, bcs.users: [<Request() object at 0x115254630>, <Request() object at 0x115254668>]\n",
      "Car 2 starting to charge at 6\n",
      "Car 1 leaving the bcs at 8\n",
      "at 8, bcs.queue: [<Request() object at 0x115254470>]\n",
      "at 8, bcs.users: [<Request() object at 0x115254668>, <Request() object at 0x115254400>]\n",
      "Car 3 starting to charge at 8\n",
      "Car 2 leaving the bcs at 12\n",
      "at 12, bcs.queue: []\n",
      "at 12, bcs.users: [<Request() object at 0x115254400>, <Request() object at 0x115254470>]\n",
      "Car 4 starting to charge at 12\n",
      "Car 3 leaving the bcs at 14\n",
      "Car 4 leaving the bcs at 18\n"
     ]
    }
   ],
   "source": [
    "import simpy \n",
    "\n",
    "def car(env, name, bcs, driving_time, charge_duration):\n",
    "    # Simulate driving to the BCS\n",
    "    yield env.timeout(driving_time)\n",
    "    \n",
    "    # Request one of its charging spots\n",
    "    #print('%s arriving at %d' % (name, env.now))\n",
    "    with bcs.request() as req:\n",
    "        yield req\n",
    "        # Charge the battery\n",
    "        # users를 제외하고 현재 대기열에 얼마나 있는지 파악함 \n",
    "        print(\"at {}, bcs.queue: {}\".format(env.now, bcs.queue)) \n",
    "        #현재 resource를 사용하고 있는 request 정리 \n",
    "        print(\"at {}, bcs.users: {}\".format(env.now, bcs.users)) \n",
    "        \n",
    "        print('%s starting to charge at %s' % (name, env.now))\n",
    "        yield env.timeout(charge_duration)\n",
    "        print('%s leaving the bcs at %s' % (name, env.now))\n",
    "\n",
    "env = simpy.Environment()\n",
    "## bcs = battery charge station\n",
    "## resource를 상속해서 새로운 리소스를 만들어버리면 될 것 같음. \n",
    "bcs = simpy.Resource(env, capacity=2)\n",
    "\n",
    "for i in range(5):\n",
    "    new_car = car(env, 'Car {:d}'.format(i), bcs, i*2, 6)\n",
    "    env.process(new_car)\n",
    "\n",
    "env.run()"
   ]
  },
  {
   "cell_type": "code",
   "execution_count": 143,
   "metadata": {},
   "outputs": [
    {
     "ename": "LookupError",
     "evalue": "unknown encoding: unicode",
     "output_type": "error",
     "traceback": [
      "\u001b[0;31m---------------------------------------------------------------------------\u001b[0m",
      "\u001b[0;31mLookupError\u001b[0m                               Traceback (most recent call last)",
      "\u001b[0;32m<ipython-input-143-8eeca37f4064>\u001b[0m in \u001b[0;36m<module>\u001b[0;34m()\u001b[0m\n\u001b[1;32m      2\u001b[0m \u001b[0mname\u001b[0m \u001b[0;34m=\u001b[0m \u001b[0;34m'이승훈'\u001b[0m\u001b[0;34m\u001b[0m\u001b[0m\n\u001b[1;32m      3\u001b[0m \u001b[0mencoded_name\u001b[0m \u001b[0;34m=\u001b[0m \u001b[0mname\u001b[0m\u001b[0;34m.\u001b[0m\u001b[0mencode\u001b[0m\u001b[0;34m(\u001b[0m\u001b[0;34m)\u001b[0m\u001b[0;34m\u001b[0m\u001b[0m\n\u001b[0;32m----> 4\u001b[0;31m \u001b[0mdecoded_encoded_name\u001b[0m \u001b[0;34m=\u001b[0m \u001b[0mencoded_name\u001b[0m\u001b[0;34m.\u001b[0m\u001b[0mdecode\u001b[0m\u001b[0;34m(\u001b[0m\u001b[0;34m'unicode'\u001b[0m\u001b[0;34m)\u001b[0m\u001b[0;34m\u001b[0m\u001b[0m\n\u001b[0m\u001b[1;32m      5\u001b[0m \u001b[0mdecoded_encoded_name\u001b[0m\u001b[0;34m\u001b[0m\u001b[0m\n",
      "\u001b[0;31mLookupError\u001b[0m: unknown encoding: unicode"
     ]
    }
   ],
   "source": [
    "## 한글 자음 모음 분해\n",
    "## https://github.com/neotune/python-korean-handler/blob/master/korean_handler.py\n",
    "name = '이승훈'\n",
    "encoded_name = name.encode()\n",
    "decoded_encoded_name = encoded_name.decode('utf-8')\n",
    "decoded_encoded_name"
   ]
  },
  {
   "cell_type": "code",
   "execution_count": 149,
   "metadata": {},
   "outputs": [
    {
     "name": "stdout",
     "output_type": "stream",
     "text": [
      "['이', '승', '훈']\n",
      "초성 : ㅇ\n",
      "중성 : ㅣ\n",
      "종성 :  \n",
      "초성 : ㅅ\n",
      "중성 : ㅡ\n",
      "종성 : ㅇ\n",
      "초성 : ㅎ\n",
      "중성 : ㅜ\n",
      "종성 : ㄴ\n",
      "ㅇㅣ ㅅㅡㅇㅎㅜㄴ\n"
     ]
    }
   ],
   "source": [
    "# 유니코드 한글 시작 : 44032, 끝 : 55199\n",
    "BASE_CODE, CHOSUNG, JUNGSUNG = 44032, 588, 28\n",
    "\n",
    "# 초성 리스트. 00 ~ 18\n",
    "CHOSUNG_LIST = ['ㄱ', 'ㄲ', 'ㄴ', 'ㄷ', 'ㄸ', 'ㄹ', 'ㅁ', 'ㅂ', 'ㅃ', 'ㅅ', 'ㅆ', 'ㅇ', 'ㅈ', 'ㅉ', 'ㅊ', 'ㅋ', 'ㅌ', 'ㅍ', 'ㅎ']\n",
    "\n",
    "# 중성 리스트. 00 ~ 20\n",
    "JUNGSUNG_LIST = ['ㅏ', 'ㅐ', 'ㅑ', 'ㅒ', 'ㅓ', 'ㅔ', 'ㅕ', 'ㅖ', 'ㅗ', 'ㅘ', 'ㅙ', 'ㅚ', 'ㅛ', 'ㅜ', 'ㅝ', 'ㅞ', 'ㅟ', 'ㅠ', 'ㅡ', 'ㅢ', 'ㅣ']\n",
    "\n",
    "# 종성 리스트. 00 ~ 27 + 1(1개 없음)\n",
    "JONGSUNG_LIST = [' ', 'ㄱ', 'ㄲ', 'ㄳ', 'ㄴ', 'ㄵ', 'ㄶ', 'ㄷ', 'ㄹ', 'ㄺ', 'ㄻ', 'ㄼ', 'ㄽ', 'ㄾ', 'ㄿ', 'ㅀ', 'ㅁ', 'ㅂ', 'ㅄ', 'ㅅ', 'ㅆ', 'ㅇ', 'ㅈ', 'ㅊ', 'ㅋ', 'ㅌ', 'ㅍ', 'ㅎ']\n",
    "\n",
    "\n",
    "if __name__ == '__main__':\n",
    "    test_keyword = \"이승훈\"\n",
    "    split_keyword_list = list(test_keyword)\n",
    "    print(split_keyword_list)\n",
    "\n",
    "    result = list()\n",
    "    for keyword in split_keyword_list:\n",
    "        # 한글 여부 check 후 분리\n",
    "        if re.match('.*[ㄱ-ㅎㅏ-ㅣ가-힣]+.*', keyword) is not None:\n",
    "            char_code = ord(keyword) - ord('가')## 한글 시작 부분\n",
    "            char1 = int(char_code / CHOSUNG)\n",
    "            result.append(CHOSUNG_LIST[char1])\n",
    "            print('초성 : {}'.format(CHOSUNG_LIST[char1]))\n",
    "            char2 = int((char_code - (CHOSUNG * char1)) / JUNGSUNG)\n",
    "            result.append(JUNGSUNG_LIST[char2])\n",
    "            print('중성 : {}'.format(JUNGSUNG_LIST[char2]))\n",
    "            char3 = int((char_code - (CHOSUNG * char1) - (JUNGSUNG * char2)))\n",
    "            result.append(JONGSUNG_LIST[char3])\n",
    "            print('종성 : {}'.format(JONGSUNG_LIST[char3]))\n",
    "        else:\n",
    "            result.append(keyword)\n",
    "    # result\n",
    "    print(\"\".join(result))"
   ]
  },
  {
   "cell_type": "code",
   "execution_count": 181,
   "metadata": {},
   "outputs": [
    {
     "data": {
      "text/plain": [
       "[['ㅇ', 'ㅣ', ' '], ['ㅅ', 'ㅡ', 'ㅇ'], ['ㅎ', 'ㅜ', 'ㄴ'], ['a']]"
      ]
     },
     "execution_count": 181,
     "metadata": {},
     "output_type": "execute_result"
    }
   ],
   "source": [
    "\n",
    "    \n",
    "#korean_to_be_englished(\"이승훈a\")"
   ]
  },
  {
   "cell_type": "code",
   "execution_count": 184,
   "metadata": {},
   "outputs": [
    {
     "data": {
      "text/plain": [
       "[['ㅇ', 'ㅣ', ' '], ['ㅅ', 'ㅡ', 'ㅇ'], ['ㅎ', 'ㅝ', 'ㄴ']]"
      ]
     },
     "execution_count": 184,
     "metadata": {},
     "output_type": "execute_result"
    }
   ],
   "source": [
    "korean_to_be_englished(\"이승훤\")"
   ]
  },
  {
   "cell_type": "code",
   "execution_count": 200,
   "metadata": {},
   "outputs": [],
   "source": [
    "def korean_to_be_englished(korean_word):\n",
    "    \"\"\"\n",
    "    한글 단어를 입력받아서 초성/중성/종성을 구분하여 리턴해줍니다. \n",
    "    \"\"\"\n",
    "    ####################################\n",
    "    # 초성 리스트. 00 ~ 18\n",
    "    CHOSUNG_LIST = ['ㄱ', 'ㄲ', 'ㄴ', 'ㄷ', 'ㄸ', 'ㄹ', 'ㅁ', 'ㅂ', 'ㅃ', 'ㅅ', 'ㅆ', 'ㅇ', 'ㅈ', 'ㅉ', 'ㅊ', 'ㅋ', 'ㅌ', 'ㅍ', 'ㅎ']\n",
    "    # 중성 리스트. 00 ~ 20\n",
    "    JUNGSUNG_LIST = ['ㅏ', 'ㅐ', 'ㅑ', 'ㅒ', 'ㅓ', 'ㅔ', 'ㅕ', 'ㅖ', 'ㅗ', 'ㅘ', 'ㅙ', 'ㅚ', 'ㅛ', 'ㅜ', 'ㅝ', 'ㅞ', 'ㅟ', 'ㅠ', 'ㅡ', 'ㅢ', 'ㅣ']\n",
    "    # 종성 리스트. 00 ~ 27 + 1(1개 없음)\n",
    "    JONGSUNG_LIST = [' ', 'ㄱ', 'ㄲ', 'ㄳ', 'ㄴ', 'ㄵ', 'ㄶ', 'ㄷ', 'ㄹ', 'ㄺ', 'ㄻ', 'ㄼ', 'ㄽ', 'ㄾ', 'ㄿ', 'ㅀ', 'ㅁ', 'ㅂ', 'ㅄ', 'ㅅ', 'ㅆ', 'ㅇ', 'ㅈ', 'ㅊ', 'ㅋ', 'ㅌ', 'ㅍ', 'ㅎ']\n",
    "    ####################################\n",
    "    r_lst = []\n",
    "    for w in list(korean_word.strip()):\n",
    "        if '가'<=w<='힣':\n",
    "            ch1 = (ord(w) - ord('가'))//588\n",
    "            ch2 = ((ord(w) - ord('가')) - (588*ch1)) // 28\n",
    "            ch3 = (ord(w) - ord('가')) - (588*ch1) - 28*ch2\n",
    "            r_lst.append([CHOSUNG_LIST[ch1], JUNGSUNG_LIST[ch2], JONGSUNG_LIST[ch3]])\n",
    "        else:\n",
    "            r_lst.append([w])\n",
    "    return r_lst\n",
    "\n",
    "def korean_word_to_initials(korean_word):\n",
    "    \"\"\"\n",
    "    한글을 입력받아서 한글 초성에 따라서 이니셜로 변환해줍니다.\n",
    "    한국 성의 경우 조금 다르게 변환되는데 '박' ==> 'Park'인 부분은 반영하지 않음 \n",
    "    \"\"\"\n",
    "    w_to_k = {'ㄱ':'K', 'ㄲ':'G', 'ㄴ':'N', 'ㄷ':'D', 'ㄸ':'D', 'ㄹ':'R', 'ㅁ':'M', 'ㅂ':'B', \n",
    "              'ㅃ':'B', 'ㅅ':'S', 'ㅈ':'J', 'ㅉ':'J', 'ㅊ':'C', 'ㅌ':'T', 'ㅍ':'P', 'ㅎ':'H'}\n",
    "    r_lst = []\n",
    "    for i, w in enumerate(korean_to_be_englished(korean_word)):\n",
    "        if w[0] in w_to_k.keys():\n",
    "            r_lst.append( w_to_k[w[0]] )\n",
    "        else:\n",
    "            if w[1] in ['ㅑ', 'ㅕ', 'ㅛ', 'ㅠ', 'ㅖ']: \n",
    "                r_lst.append('Y')\n",
    "            elif w[1] in ['ㅝ', 'ㅘ', 'ㅙ', 'ㅚ', 'ㅜ', 'ㅞ', 'ㅟ']:\n",
    "                r_lst.append('W')\n",
    "            elif w[1] in ['ㅔ', 'ㅡ', 'ㅢ']:\n",
    "                r_lst.append('E')\n",
    "            elif w[1] in ['ㅏ', 'ㅐ']:\n",
    "                r_lst.append('A')\n",
    "            elif w[1] in ['ㅓ']:\n",
    "                r_lst.append('U')\n",
    "            elif w[1] in ['ㅗ']:\n",
    "                r_lst.append('O')\n",
    "            elif w[1] in ['ㅣ']:\n",
    "                if i==0: \n",
    "                    r_lst.append('L')\n",
    "                else:\n",
    "                    r_lst.append('I')\n",
    "            else:\n",
    "                return 'not applicable'\n",
    "    return \"\".join(r_lst)"
   ]
  },
  {
   "cell_type": "code",
   "execution_count": 201,
   "metadata": {},
   "outputs": [
    {
     "name": "stdout",
     "output_type": "stream",
     "text": [
      "이승훈 ==> LSH\n",
      "전지현 ==> JJH\n",
      "하정우 ==> HJW\n",
      "정우성 ==> JWS\n",
      "박상원 ==> BSW\n",
      "정유미 ==> JYM\n",
      "김연우 ==> KYW\n",
      "윤종신 ==> YJS\n"
     ]
    }
   ],
   "source": [
    "### test case\n",
    "test_cases = ['이승훈', '전지현', '하정우', '정우성', '박상원', '정유미', '김연우', '윤종신']\n",
    "for case in test_cases:\n",
    "    print(\"{} ==> {}\".format(case, korean_word_to_initials(case)))"
   ]
  },
  {
   "cell_type": "code",
   "execution_count": 29,
   "metadata": {},
   "outputs": [
    {
     "data": {
      "text/plain": [
       "array([ 5.5620038 ,  4.34801655,  4.34366856,  4.24489226,  5.38723788,\n",
       "        6.20987037,  6.07688502,  5.8468733 ,  4.60461512,  4.57123227])"
      ]
     },
     "execution_count": 29,
     "metadata": {},
     "output_type": "execute_result"
    }
   ],
   "source": [
    "import numpy as np \n",
    "\n",
    "np.random.triangular(left =1, right=10, mode=8, size=10)"
   ]
  },
  {
   "cell_type": "code",
   "execution_count": null,
   "metadata": {},
   "outputs": [],
   "source": []
  }
 ],
 "metadata": {
  "kernelspec": {
   "display_name": "Python 3",
   "language": "python",
   "name": "python3"
  },
  "language_info": {
   "codemirror_mode": {
    "name": "ipython",
    "version": 3
   },
   "file_extension": ".py",
   "mimetype": "text/x-python",
   "name": "python",
   "nbconvert_exporter": "python",
   "pygments_lexer": "ipython3",
   "version": "3.6.5"
  }
 },
 "nbformat": 4,
 "nbformat_minor": 2
}
