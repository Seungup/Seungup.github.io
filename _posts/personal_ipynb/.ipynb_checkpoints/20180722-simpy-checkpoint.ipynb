{
 "cells": [
  {
   "cell_type": "markdown",
   "metadata": {},
   "source": [
    "- simpy 를 사용해서 파이썬에서 시뮬레이션해봅시다. \n",
    "    - simpy는 개별 객체를 generator로 생각하는데, generator를 environment로 넘기고, environment를 어떤 시점까지 run을 시킵니다. \n",
    "    - 그런 방식으로 시뮬레이션을 구현함. \n",
    "        - shared resource는 어떻게 구현하지? \n",
    "\n",
    "- 조금 더 복잡한 예제를 하나 들어서 정리하면 훨씬 좋을 것 같은데?? "
   ]
  },
  {
   "cell_type": "code",
   "execution_count": 48,
   "metadata": {},
   "outputs": [
    {
     "name": "stdout",
     "output_type": "stream",
     "text": [
      "0.00 sec: fast clock ticks\n",
      "0.00 sec: slow clock ticks\n",
      "0.50 sec: fast clock ticks\n",
      "1.00 sec: slow clock ticks\n",
      "1.00 sec: fast clock ticks\n",
      "1.50 sec: fast clock ticks\n"
     ]
    }
   ],
   "source": [
    "import simpy \n",
    "\n",
    "## 내부에 loop와 yield가 있는 generator입니다. \n",
    "## env는 simpy로부터 넘겨받는 것일테고, name은 그냥 이름 tick는 시계가 돌아가는 값\n",
    "def clock(env, name, tick):\n",
    "    while True:\n",
    "        print(\"{:.2f} sec: {} clock ticks\".format(env.now, name))\n",
    "        yield env.timeout(tick)## 넘겨 받는 시간만큼 멈춰둡니다. \n",
    "\n",
    "env = simpy.Environment()\n",
    "## 아래 부분에서 함수를 넘겨준다고 생각할 수 있는데, 정확히는 함수가 아니라 generator를 넘겨주는 것임. \n",
    "fast_clock = clock(env, 'fast', 0.5)## 0.5초마다 소리치는 클락\n",
    "slow_clock = clock(env, 'slow', 1)## 1초마다 소리치는 클락 \n",
    "\n",
    "## 이 두 generator를 앞서 생성한 environment에 넘겨줍니다. \n",
    "env.process(fast_clock)\n",
    "env.process(slow_clock)\n",
    "\n",
    "env.run(until=2)\n"
   ]
  },
  {
   "cell_type": "code",
   "execution_count": 57,
   "metadata": {},
   "outputs": [
    {
     "name": "stdout",
     "output_type": "stream",
     "text": [
      "Start parking at  0.00\n",
      "Start driving at  5.00\n",
      "Start parking at  7.00\n",
      "Start driving at 12.00\n",
      "Start parking at 14.00\n",
      "Start driving at 19.00\n"
     ]
    }
   ],
   "source": [
    "import sympy \n",
    "import numpy as np \n",
    "\n",
    "## 5초 파킹하고, 2초 운전하는 시뮬레이션 \n",
    "## 값을 랜덤하게 둘 수도 있지만, 제대로 되는지 보기 위해 일단은 상수로 진행 \n",
    "def car(env):\n",
    "    while True:\n",
    "        print('Start parking at %5.2f' % env.now)\n",
    "        parking_duration = 5\n",
    "        #parking_duration = np.random.normal(5, 1)\n",
    "        yield env.timeout(parking_duration)\n",
    "\n",
    "        print('Start driving at %5.2f' % env.now)\n",
    "        trip_duration = 2\n",
    "        #trip_duration = np.random.normal(2, 1)\n",
    "        yield env.timeout(trip_duration)\n",
    "        \n",
    "env = simpy.Environment()\n",
    "\n",
    "env.process(car(env))\n",
    "env.run(until=20)\n",
    "\n"
   ]
  },
  {
   "cell_type": "code",
   "execution_count": 55,
   "metadata": {},
   "outputs": [
    {
     "data": {
      "text/plain": [
       "4.903274650731588"
      ]
     },
     "execution_count": 55,
     "metadata": {},
     "output_type": "execute_result"
    }
   ],
   "source": [
    "np.random.normal(5, 1)"
   ]
  },
  {
   "cell_type": "code",
   "execution_count": 22,
   "metadata": {},
   "outputs": [
    {
     "data": {
      "text/plain": [
       "MultiSet([2])"
      ]
     },
     "execution_count": 22,
     "metadata": {},
     "output_type": "execute_result"
    }
   ],
   "source": [
    "n.place('p').tokens"
   ]
  },
  {
   "cell_type": "code",
   "execution_count": null,
   "metadata": {},
   "outputs": [],
   "source": []
  }
 ],
 "metadata": {
  "kernelspec": {
   "display_name": "Python 3",
   "language": "python",
   "name": "python3"
  },
  "language_info": {
   "codemirror_mode": {
    "name": "ipython",
    "version": 3
   },
   "file_extension": ".py",
   "mimetype": "text/x-python",
   "name": "python",
   "nbconvert_exporter": "python",
   "pygments_lexer": "ipython3",
   "version": "3.6.5"
  }
 },
 "nbformat": 4,
 "nbformat_minor": 2
}
