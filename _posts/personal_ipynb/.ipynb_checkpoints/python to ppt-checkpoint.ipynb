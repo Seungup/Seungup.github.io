{
 "cells": [
  {
   "cell_type": "code",
   "execution_count": 2,
   "metadata": {},
   "outputs": [],
   "source": [
    "from pptx import Presentation\n",
    "\n",
    "\"\"\"\n",
    "아래의 기본 코드는 잘 됩니다. \n",
    "우선 '한글이 되는가'\n",
    "matplotlib와의 연동은 어떤 식으로 해야 하는가? \n",
    "\n",
    "(title, text, fig) 의 리스트를 넘겨주면 이를 가지고 슬라이드들을 연속해서 만들어주는 것을 만드려고 합니다. \n",
    "\"\"\"\n",
    "\n",
    "prs = Presentation()\n",
    "title_slide_layout = prs.slide_layouts[0] # what layout? \n",
    "slide = prs.slides.add_slide(title_slide_layout)\n",
    "title = slide.shapes.title\n",
    "subtitle = slide.placeholders[1]\n",
    "\n",
    "title.text = \"Hello, World!\"\n",
    "subtitle.text = \"python-pptx was here!\"\n",
    "\n",
    "prs.save('test.pptx')"
   ]
  },
  {
   "cell_type": "code",
   "execution_count": 14,
   "metadata": {},
   "outputs": [
    {
     "name": "stdout",
     "output_type": "stream",
     "text": [
      "2\n",
      "2\n",
      "2\n",
      "2\n",
      "2\n"
     ]
    }
   ],
   "source": [
    "from pptx import Presentation\n",
    "\"\"\"\n",
    "ppt file generation ==> save file 로 구성됨.\n",
    "\"\"\"\n",
    "simple_content_lst = [\n",
    "    (\"한글 제목: {}\".format(i), \"이건 한글입니다. 잘 될까요? {}\".format(i)) for i in range(0, 5)\n",
    "]\n",
    "def make_ppt(out_ppt_name, content_lst):\n",
    "    # Presentation()을 일종의 템플릿 객체\n",
    "    this_prs = Presentation()\n",
    "    \"\"\"\n",
    "    slide_layout[0]는 title, subtitle로 구성된 제목 슬라이드 \n",
    "    slide_layout[1]는 title, text로 구성된 일반적인 슬라이드 레이아웃\n",
    "    \"\"\"\n",
    "    slide_layout = this_prs.slide_layouts[1] \n",
    "    for title, content in content_lst:\n",
    "        this_slide = this_prs.slides.add_slide(slide_layout)\n",
    "        shapes = this_slide.shapes\n",
    "        print(len(shapes))\n",
    "        shapes.title.text = title\n",
    "        shapes.placeholders[1].text = content\n",
    "    this_prs.save(out_ppt_name)\n",
    "make_ppt(\"test.pptx\", simple_content_lst)"
   ]
  },
  {
   "cell_type": "code",
   "execution_count": null,
   "metadata": {
    "collapsed": true
   },
   "outputs": [],
   "source": [
    "prs = Presentation()\n",
    "bullet_slide_layout = prs.slide_layouts[1]\n",
    "\n",
    "slide = prs.slides.add_slide(bullet_slide_layout)\n",
    "shapes = slide.shapes\n",
    "\n",
    "title_shape = shapes.title\n",
    "body_shape = shapes.placeholders[1]\n",
    "\n",
    "title_shape.text = 'Adding a Bullet Slide'\n",
    "\n",
    "tf = body_shape.text_frame\n",
    "tf.text = 'Find the bullet slide layout'\n",
    "\n",
    "p = tf.add_paragraph()\n",
    "p.text = 'Use _TextFrame.text for first bullet'\n",
    "p.level = 1\n",
    "\n",
    "p = tf.add_paragraph()\n",
    "p.text = 'Use _TextFrame.add_paragraph() for subsequent bullets'\n",
    "p.level = 2"
   ]
  },
  {
   "cell_type": "code",
   "execution_count": null,
   "metadata": {
    "collapsed": true
   },
   "outputs": [],
   "source": [
    "# extract all text from presentation \n",
    "\n",
    "prs = Presentation(path_to_presentation)\n",
    "\n",
    "# text_runs will be populated with a list of strings,\n",
    "# one for each text run in presentation\n",
    "text_runs = []\n",
    "\n",
    "for slide in prs.slides:\n",
    "    for shape in slide.shapes:\n",
    "        if not shape.has_text_frame:\n",
    "            continue\n",
    "        for paragraph in shape.text_frame.paragraphs:\n",
    "            for run in paragraph.runs:\n",
    "                text_runs.append(run.text)"
   ]
  }
 ],
 "metadata": {
  "kernelspec": {
   "display_name": "Python 3",
   "language": "python",
   "name": "python3"
  },
  "language_info": {
   "codemirror_mode": {
    "name": "ipython",
    "version": 3
   },
   "file_extension": ".py",
   "mimetype": "text/x-python",
   "name": "python",
   "nbconvert_exporter": "python",
   "pygments_lexer": "ipython3",
   "version": "3.6.2"
  }
 },
 "nbformat": 4,
 "nbformat_minor": 2
}
