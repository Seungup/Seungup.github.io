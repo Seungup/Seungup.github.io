{
 "cells": [
  {
   "cell_type": "code",
   "execution_count": 30,
   "metadata": {},
   "outputs": [
    {
     "name": "stdout",
     "output_type": "stream",
     "text": [
      "<class 'tensorflow.python.framework.ops.Tensor'>\n",
      "<class 'tensorflow.python.framework.ops.Tensor'>\n",
      "_________________________________________________________________\n",
      "Layer (type)                 Output Shape              Param #   \n",
      "=================================================================\n",
      "input_39 (InputLayer)        (None, 784)               0         \n",
      "_________________________________________________________________\n",
      "dense_53 (Dense)             (None, 32)                25120     \n",
      "_________________________________________________________________\n",
      "dense_54 (Dense)             (None, 784)               25872     \n",
      "=================================================================\n",
      "Total params: 50,992\n",
      "Trainable params: 50,992\n",
      "Non-trainable params: 0\n",
      "_________________________________________________________________\n",
      "_________________________________________________________________\n",
      "Layer (type)                 Output Shape              Param #   \n",
      "=================================================================\n",
      "input_39 (InputLayer)        (None, 784)               0         \n",
      "_________________________________________________________________\n",
      "dense_53 (Dense)             (None, 32)                25120     \n",
      "=================================================================\n",
      "Total params: 25,120\n",
      "Trainable params: 25,120\n",
      "Non-trainable params: 0\n",
      "_________________________________________________________________\n",
      "_________________________________________________________________\n",
      "Layer (type)                 Output Shape              Param #   \n",
      "=================================================================\n",
      "input_40 (InputLayer)        (None, 32)                0         \n",
      "_________________________________________________________________\n",
      "dense_54 (Dense)             (None, 784)               25872     \n",
      "=================================================================\n",
      "Total params: 25,872\n",
      "Trainable params: 25,872\n",
      "Non-trainable params: 0\n",
      "_________________________________________________________________\n"
     ]
    }
   ],
   "source": [
    "\"\"\"\n",
    "- 학습할때는 encoder, decoder를 함께 학습을 하고, \n",
    "- 나중에 사용할 때는 encoder, decoder를 다른 모델로 세팅해서 만드는 것으로 보임\n",
    "\n",
    "- model과 Sequential은 어떻게 다른가?? 왜 에러가 발생하는가?? \n",
    "    - model에서는 보통 input과 output만을 넣어줌. \n",
    "\"\"\"\n",
    "from keras.layers import Input, Dense\n",
    "from keras.models import Model\n",
    "\n",
    "# 데이터를 몇 차원으로 줄일 것인지\n",
    "encoding_dim = 32\n",
    "\n",
    "input_img = Input(shape=(784,))\n",
    "encoded = Dense(encoding_dim, activation='relu')(input_img)\n",
    "print(type(encoded))\n",
    "# \"decoded\" is the lossy reconstruction of the input\n",
    "decoded = Dense(784, activation='sigmoid')(encoded)\n",
    "\n",
    "# this model maps an input to its reconstruction\n",
    "autoencoder = Model(input_img, decoded)\n",
    "autoencoder.summary()\n",
    "\n",
    "# this model maps an input to its encoded representation\n",
    "encoder = Model(input_img, encoded)\n",
    "encoder.summary()\n",
    "\n",
    "encoded_input = Input(shape=(encoding_dim,))\n",
    "\n",
    "# create decoder model \n",
    "decoder_layer = autoencoder.layers[-1]\n",
    "\"\"\"\n",
    "- 그냥 decoder_layer = decoded 로 해도 될것 이라고 생각했는데 잘 안됨. \n",
    "- print(autoencoder.layers[-1]==decoded) 라고 해도, False로 나옴 \n",
    "- 다양한 이유가 있을 수 있겠지만, decoded의 경우는 이미 input layer까지 정해져 있는 상황임. \n",
    "- decoder에서는 parameter만 가져오고, 새로운 input layer를 결정해주어야 하는 것이라서, 아마도 다르게 나오는 것으로 보임. \n",
    "\"\"\"\n",
    "decoder = Model(encoded_input, decoder_layer(encoded_input))\n",
    "decoder.summary()"
   ]
  },
  {
   "cell_type": "code",
   "execution_count": 60,
   "metadata": {},
   "outputs": [
    {
     "name": "stdout",
     "output_type": "stream",
     "text": [
      "<class 'tensorflow.python.framework.ops.Tensor'>\n",
      "<class 'keras.layers.core.Dense'>\n",
      "_________________________________________________________________\n",
      "Layer (type)                 Output Shape              Param #   \n",
      "=================================================================\n",
      "input_48 (InputLayer)        (None, 784)               0         \n",
      "_________________________________________________________________\n",
      "dense_69 (Dense)             (None, 32)                25120     \n",
      "_________________________________________________________________\n",
      "dense_70 (Dense)             (None, 784)               25872     \n",
      "=================================================================\n",
      "Total params: 50,992\n",
      "Trainable params: 50,992\n",
      "Non-trainable params: 0\n",
      "_________________________________________________________________\n"
     ]
    }
   ],
   "source": [
    "\"\"\"\n",
    "- 위의 코드를 아래의 방식으로 새롭게 정의해줄 수 있지 않나 싶은데. \n",
    "\"\"\"\n",
    "from keras.layers import Input, Dense\n",
    "from keras.models import Model, Sequential\n",
    "\n",
    "# 데이터를 몇 차원으로 줄일 것인지\n",
    "encoding_dim = 32\n",
    "\n",
    "input_img = Input(shape=(784,))\n",
    "\n",
    "encoded = Dense(encoding_dim, activation='relu')(input_img)\n",
    "decoded = Dense(784, activation='sigmoid')(encoded)\n",
    "autoencoder = Model(input_img, decoded)\n",
    "\n",
    "print(type(encoded))\n",
    "print(type(Dense(encoding_dim, activation='relu')))\n",
    "\n",
    "autoencoder.summary()\n",
    "\n",
    "\n"
   ]
  },
  {
   "cell_type": "code",
   "execution_count": null,
   "metadata": {
    "collapsed": true
   },
   "outputs": [],
   "source": [
    "from tensorflow.examples.tutorials.mnist import input_data\n",
    "\n",
    "mnist = input_data.read_data_sets(\"MNIST_data/\", one_hot=True)\n",
    "x_train, y_train = mnist.train.images, mnist.train.labels\n",
    "x_test, y_test = mnist.test.images, mnist.test.labels"
   ]
  },
  {
   "cell_type": "code",
   "execution_count": 114,
   "metadata": {},
   "outputs": [
    {
     "name": "stdout",
     "output_type": "stream",
     "text": [
      "_________________________________________________________________\n",
      "Layer (type)                 Output Shape              Param #   \n",
      "=================================================================\n",
      "input_56 (InputLayer)        (None, 784)               0         \n",
      "_________________________________________________________________\n",
      "dense_86 (Dense)             (None, 32)                25120     \n",
      "_________________________________________________________________\n",
      "dense_87 (Dense)             (None, 784)               25872     \n",
      "=================================================================\n",
      "Total params: 50,992\n",
      "Trainable params: 50,992\n",
      "Non-trainable params: 0\n",
      "_________________________________________________________________\n",
      "Epoch 1/20\n",
      "55000/55000 [==============================] - 5s - loss: 0.4923     \n",
      "Epoch 2/20\n",
      "55000/55000 [==============================] - 4s - loss: 0.2804     \n",
      "Epoch 3/20\n",
      "55000/55000 [==============================] - 4s - loss: 0.2703     \n",
      "Epoch 4/20\n",
      "55000/55000 [==============================] - 5s - loss: 0.2620     \n",
      "Epoch 5/20\n",
      "55000/55000 [==============================] - 5s - loss: 0.2520     \n",
      "Epoch 6/20\n",
      "55000/55000 [==============================] - 5s - loss: 0.2414     \n",
      "Epoch 7/20\n",
      "55000/55000 [==============================] - 5s - loss: 0.2316     \n",
      "Epoch 8/20\n",
      "55000/55000 [==============================] - 5s - loss: 0.2230     \n",
      "Epoch 9/20\n",
      "55000/55000 [==============================] - 4s - loss: 0.2154     \n",
      "Epoch 10/20\n",
      "55000/55000 [==============================] - 5s - loss: 0.2089     \n",
      "Epoch 11/20\n",
      "55000/55000 [==============================] - 5s - loss: 0.2035     - ETA: 0s - los\n",
      "Epoch 12/20\n",
      "55000/55000 [==============================] - 5s - loss: 0.1988     \n",
      "Epoch 13/20\n",
      "55000/55000 [==============================] - 6s - loss: 0.1946     \n",
      "Epoch 14/20\n",
      "55000/55000 [==============================] - 6s - loss: 0.1908     \n",
      "Epoch 15/20\n",
      "55000/55000 [==============================] - 5s - loss: 0.1872     \n",
      "Epoch 16/20\n",
      "55000/55000 [==============================] - 4s - loss: 0.1839     \n",
      "Epoch 17/20\n",
      "55000/55000 [==============================] - 4s - loss: 0.1808     \n",
      "Epoch 18/20\n",
      "55000/55000 [==============================] - 4s - loss: 0.1780     \n",
      "Epoch 19/20\n",
      "55000/55000 [==============================] - 6s - loss: 0.1753     \n",
      "Epoch 20/20\n",
      "55000/55000 [==============================] - 5s - loss: 0.1728     \n"
     ]
    },
    {
     "data": {
      "image/png": "[encoded data removed]",
      "text/plain": [
       "<matplotlib.figure.Figure at 0xd144122b0>"
      ]
     },
     "metadata": {},
     "output_type": "display_data"
    }
   ],
   "source": [
    "from keras.models import Sequential, Model\n",
    "from keras.layers import Input, Dense, Activation\n",
    "from keras.optimizers import Adam, SGD\n",
    "\n",
    "#######\n",
    "## auto encoder\n",
    "encoding_dim = 32\n",
    "input_img = Input(shape=(784,))\n",
    "encoded = Dense(encoding_dim, activation='relu')(input_img)\n",
    "decoded = Dense(784, activation='sigmoid')(encoded)\n",
    "autoencoder = Model(input_img, decoded)\n",
    "\n",
    "#######\n",
    "## encoder: 부분만 분할하여 따로 모델로 만듬 \n",
    "encoder = Model(input_img, autoencoder.layers[1](input_img))\n",
    "\n",
    "#######\n",
    "## decoder: 부분만 분할하여 따로 모델로 만듬 \n",
    "encoded_img = Input(shape=(encoding_dim,))\n",
    "decoder = Model(encoded_img, autoencoder.layers[2](encoded_img))\n",
    "\n",
    "\n",
    "autoencoder.summary()\n",
    "encoder.summary()\n",
    "decoder.summary()\n",
    "\n",
    "#### autoencoder training \n",
    "autoencoder.compile(optimizer='adadelta', loss='binary_crossentropy')\n",
    "autoencoder.fit(x_train, x_train, epochs=20, batch_size=500, verbose=1)\n",
    "\n",
    "########\n",
    "# plotting encoded and decoded img\n",
    "import numpy as np \n",
    "import matplotlib.pyplot as plt\n",
    "\n",
    "sel_idx = [ np.random.randint(0, len(x_train)) for i in range(0, 5)]\n",
    "f, axes = plt.subplots(2, len(sel_idx), figsize=(10, 5))\n",
    "for i in range(0, len(axes[0])):\n",
    "    axes[0][i].imshow(x_train[sel_idx[i], :].reshape(28, 28))\n",
    "    axes[1][i].imshow(autoencoder.predict(x_train[[sel_idx[i]], :]).reshape(28, 28))\n",
    "plt.show()"
   ]
  },
  {
   "cell_type": "code",
   "execution_count": 115,
   "metadata": {},
   "outputs": [
    {
     "data": {
      "text/plain": [
       "[<keras.engine.topology.InputLayer at 0xd18d35898>,\n",
       " <keras.layers.core.Dense at 0xd18d357b8>,\n",
       " <keras.layers.core.Dense at 0xd14515b00>]"
      ]
     },
     "execution_count": 115,
     "metadata": {},
     "output_type": "execute_result"
    }
   ],
   "source": [
    "autoencoder.layers"
   ]
  },
  {
   "cell_type": "code",
   "execution_count": 120,
   "metadata": {},
   "outputs": [
    {
     "name": "stdout",
     "output_type": "stream",
     "text": [
      "_________________________________________________________________\n",
      "Layer (type)                 Output Shape              Param #   \n",
      "=================================================================\n",
      "input_56 (InputLayer)        (None, 784)               0         \n",
      "_________________________________________________________________\n",
      "dense_86 (Dense)             (None, 32)                25120     \n",
      "=================================================================\n",
      "Total params: 25,120\n",
      "Trainable params: 25,120\n",
      "Non-trainable params: 0\n",
      "_________________________________________________________________\n",
      "_________________________________________________________________\n",
      "Layer (type)                 Output Shape              Param #   \n",
      "=================================================================\n",
      "input_59 (InputLayer)        (None, 32)                0         \n",
      "_________________________________________________________________\n",
      "dense_87 (Dense)             (None, 784)               25872     \n",
      "=================================================================\n",
      "Total params: 25,872\n",
      "Trainable params: 25,872\n",
      "Non-trainable params: 0\n",
      "_________________________________________________________________\n"
     ]
    }
   ],
   "source": []
  },
  {
   "cell_type": "code",
   "execution_count": null,
   "metadata": {
    "collapsed": true
   },
   "outputs": [],
   "source": []
  }
 ],
 "metadata": {
  "kernelspec": {
   "display_name": "Python 3",
   "language": "python",
   "name": "python3"
  },
  "language_info": {
   "codemirror_mode": {
    "name": "ipython",
    "version": 3
   },
   "file_extension": ".py",
   "mimetype": "text/x-python",
   "name": "python",
   "nbconvert_exporter": "python",
   "pygments_lexer": "ipython3",
   "version": "3.6.2"
  }
 },
 "nbformat": 4,
 "nbformat_minor": 2
}
