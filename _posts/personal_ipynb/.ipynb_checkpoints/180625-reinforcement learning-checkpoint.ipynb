{
 "cells": [
  {
   "cell_type": "code",
   "execution_count": 48,
   "metadata": {},
   "outputs": [],
   "source": [
    "import gym\n",
    "import tensorflow as tf \n",
    "import numpy as np \n",
    "import matplotlib.pyplot as plt\n",
    "from gym.envs.registration import register\n",
    "# 아래의 방식을 통해 게임을 등록함. 특히 is_slippery는 매우 중요함. \n",
    "\"\"\"\n",
    "- 새로운 게임 형식을 만들어줌.\n",
    "\"\"\"\n",
    "register(\n",
    "    id='FrozenLakeNotSlippery-v1',\n",
    "    entry_point='gym.envs.toy_text:FrozenLakeEnv',\n",
    "    kwargs={'map_name' : '4x4', 'is_slippery': False},\n",
    "    #max_episode_steps=100,\n",
    "    #reward_threshold=0.78, # optimum = .8196\n",
    ")"
   ]
  },
  {
   "cell_type": "code",
   "execution_count": 54,
   "metadata": {},
   "outputs": [],
   "source": [
    "def rargmax(vector):\n",
    "    m = np.amax(vector)\n",
    "    indices = np.nonzero(vector==m)[0]\n",
    "    return np.random.choice(indices)\n",
    "\n",
    "# how to is slippely false\n",
    "env = gym.make(\"FrozenLakeNotSlippery-v1\")\n",
    "observation = env.reset()\n",
    "\n",
    "\n",
    "Q = np.zeros([env.observation_space.n, env.action_space.n])\n",
    "num_episodes = 200 # 일종의 epoch, 혹은 라이프.\n",
    "\n",
    "rlist = []\n",
    "for i in range(0, num_episodes):\n",
    "    state = env.reset()\n",
    "    #env.render()\n",
    "    rAll = 0\n",
    "    done = False\n",
    "    while not done:\n",
    "        action = rargmax(Q[state, :])\n",
    "        new_state, reward, done, _ = env.step(action)\n",
    "        Q[state, action] = reward + np.max(Q[new_state, :])\n",
    "        \"\"\"\n",
    "        - 간단하게, \n",
    "        \"\"\"\n",
    "        state = new_state \n",
    "    rlist.append(rAll)\n",
    "    #action = env.action_space.sample() # action_space에서 random sampling\n",
    "    #observation, reward, done, info = env.step(1)\n",
    "    # observation: 현재 위치"
   ]
  },
  {
   "cell_type": "code",
   "execution_count": 55,
   "metadata": {},
   "outputs": [
    {
     "data": {
      "text/plain": [
       "array([[ 0.,  0.,  1.,  0.],\n",
       "       [ 0.,  0.,  1.,  0.],\n",
       "       [ 0.,  1.,  0.,  0.],\n",
       "       [ 0.,  0.,  0.,  0.],\n",
       "       [ 0.,  0.,  0.,  0.],\n",
       "       [ 0.,  0.,  0.,  0.],\n",
       "       [ 0.,  1.,  0.,  0.],\n",
       "       [ 0.,  0.,  0.,  0.],\n",
       "       [ 0.,  0.,  0.,  0.],\n",
       "       [ 0.,  0.,  0.,  0.],\n",
       "       [ 0.,  1.,  0.,  0.],\n",
       "       [ 0.,  0.,  0.,  0.],\n",
       "       [ 0.,  0.,  0.,  0.],\n",
       "       [ 0.,  0.,  0.,  0.],\n",
       "       [ 0.,  0.,  1.,  0.],\n",
       "       [ 0.,  0.,  0.,  0.]])"
      ]
     },
     "execution_count": 55,
     "metadata": {},
     "output_type": "execute_result"
    }
   ],
   "source": [
    "Q"
   ]
  },
  {
   "cell_type": "code",
   "execution_count": null,
   "metadata": {
    "collapsed": true
   },
   "outputs": [],
   "source": []
  }
 ],
 "metadata": {
  "kernelspec": {
   "display_name": "Python 3",
   "language": "python",
   "name": "python3"
  },
  "language_info": {
   "codemirror_mode": {
    "name": "ipython",
    "version": 3
   },
   "file_extension": ".py",
   "mimetype": "text/x-python",
   "name": "python",
   "nbconvert_exporter": "python",
   "pygments_lexer": "ipython3",
   "version": "3.6.2"
  }
 },
 "nbformat": 4,
 "nbformat_minor": 2
}
