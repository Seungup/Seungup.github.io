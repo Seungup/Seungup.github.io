{
 "cells": [
  {
   "cell_type": "code",
   "execution_count": 48,
   "metadata": {},
   "outputs": [],
   "source": [
    "import gym\n",
    "import tensorflow as tf \n",
    "import numpy as np \n",
    "import matplotlib.pyplot as plt\n",
    "from gym.envs.registration import register\n",
    "# 아래의 방식을 통해 게임을 등록함. 특히 is_slippery는 매우 중요함. \n",
    "\"\"\"\n",
    "- 새로운 게임 형식을 만들어줌.\n",
    "\"\"\"\n",
    "register(\n",
    "    id='FrozenLakeNotSlippery-v1',\n",
    "    entry_point='gym.envs.toy_text:FrozenLakeEnv',\n",
    "    kwargs={'map_name' : '4x4', 'is_slippery': False},\n",
    "    #max_episode_steps=100,\n",
    "    #reward_threshold=0.78, # optimum = .8196\n",
    ")"
   ]
  },
  {
   "cell_type": "code",
   "execution_count": 100,
   "metadata": {},
   "outputs": [
    {
     "name": "stdout",
     "output_type": "stream",
     "text": [
      "  (Right)\n",
      "S\u001b[41mF\u001b[0mFF\n",
      "FHFH\n",
      "FFFH\n",
      "HFFG\n",
      "  (Right)\n",
      "S\u001b[41mF\u001b[0mFF\n",
      "FHFH\n",
      "FFFH\n",
      "HFFG\n",
      "  (Right)\n",
      "SF\u001b[41mF\u001b[0mF\n",
      "FHFH\n",
      "FFFH\n",
      "HFFG\n",
      "  (Down)\n",
      "SFFF\n",
      "FH\u001b[41mF\u001b[0mH\n",
      "FFFH\n",
      "HFFG\n",
      "  (Down)\n",
      "SFFF\n",
      "FHFH\n",
      "FF\u001b[41mF\u001b[0mH\n",
      "HFFG\n",
      "  (Down)\n",
      "SFFF\n",
      "FHFH\n",
      "FFFH\n",
      "HF\u001b[41mF\u001b[0mG\n",
      "  (Right)\n",
      "SFFF\n",
      "FHFH\n",
      "FFFH\n",
      "HFF\u001b[41mG\u001b[0m\n",
      "done, reward: 1.0\n"
     ]
    }
   ],
   "source": [
    "env = gym.make(\"FrozenLakeNotSlippery-v1\")\n",
    "observation = env.reset()\n",
    "\n",
    "\"\"\"\n",
    "0: left, 1: down, 2: right, 3: up \n",
    "\"\"\"\n",
    "for i in range(0, 1):\n",
    "    action = env.action_space.sample()# randomly select action \n",
    "    \"\"\"\n",
    "    - new_state: 액션을 취해서 새롭게 옮겨진 위치 \n",
    "    - reward: 보상을 얻었는지 여부\n",
    "    - done: 게임이 끝났는지 여부(hole에 빠지거나, )\n",
    "    \"\"\"\n",
    "    new_state, reward, done, _ = env.step(action)\n",
    "    env.render()\n",
    "\n",
    "#####\n",
    "##\n",
    "env = gym.make(\"FrozenLakeNotSlippery-v1\")\n",
    "observation = env.reset()\n",
    "complete_actions = [2, 2, 1, 1, 1, 2]\n",
    "for action in actions:\n",
    "    new_state, reward, done, _ = env.step(action)\n",
    "    env.render()\n",
    "    if done is True:\n",
    "        print(\"done, reward: {}\".format(reward))"
   ]
  },
  {
   "cell_type": "code",
   "execution_count": 169,
   "metadata": {},
   "outputs": [
    {
     "name": "stdout",
     "output_type": "stream",
     "text": [
      "complete\n"
     ]
    },
    {
     "data": {
      "image/png": "[encoded data removed]",
      "text/plain": [
       "<matplotlib.figure.Figure at 0x1a151a4ef0>"
      ]
     },
     "metadata": {},
     "output_type": "display_data"
    }
   ],
   "source": [
    "\"\"\"\n",
    "\n",
    "- 사실 이런 형태의 미로에서는 reward를 끝나봐야 얻습니다. 끝날때까지 reward가 어디있는지 모른다는 이야기죠. \n",
    "- 비슷하게, 장기 바둑도 마찬가지입니다. 이전의 어떤 수가 reward를 결정했는지는 알기가 어려우니까요.\n",
    "- 아무튼, 그러므로, dummy Q-learning algorithm에서는 t+1 state의 reward의 max값을 t state의 reward의 max 값으로 정합니다. \n",
    "    - 미래의 리워드를 현재의 리워드로 가져온다는 말이 이상하지만, 이걸 정리하면, \"이번 게임에서 t+1 스텝\n",
    "\"\"\"\n",
    "def rargmax_new(vector):\n",
    "    \"\"\"\n",
    "    max가 여러 개 있을 경우, 그중에서 random 하게 고름\n",
    "    \"\"\"\n",
    "    m = vector.max() \n",
    "    indices = [i for i, v in enumerate(vector==m) if v==True]\n",
    "    return np.random.choice(indices)\n",
    "# how to is slippely false\n",
    "env = gym.make(\"FrozenLakeNotSlippery-v1\")\n",
    "observation = env.reset()\n",
    "\n",
    "Q = np.zeros([env.observation_space.n, env.action_space.n])\n",
    "num_episodes = 200 # 일종의 epoch, 혹은 라이프.\n",
    "\n",
    "rlist = []\n",
    "for i in range(0, num_episodes):\n",
    "    state = env.reset()\n",
    "    e = 1. / (i/100)+1 \n",
    "    \"\"\"\n",
    "    goal에 이르는 답이 여러가지일 수 있는데, \n",
    "    \"\"\"\n",
    "    #env.render()\n",
    "    rAll = 0 # 한 episode 별로 얻을 수 있는 reward의 총합\n",
    "    done = False # hole에 빠지거나, Goal에 도달하면 True\n",
    "    while not done:\n",
    "        action = rargmax_old(Q[state, :]) # randomg among maximum\n",
    "        new_state, reward, done, _ = env.step(action)\n",
    "        Q[state, action] = reward + 0.8*np.max(Q[new_state, :])\n",
    "        rAll+=reward\n",
    "        state = new_state # state update\n",
    "    rlist.append(rAll)\n",
    "print('complete')\n",
    "\n",
    "\"\"\"\n",
    "- 처음에는 잘 못 맞추다가, 한 두번 맞추기 시작하면서 부터는 슥슥 매우 잘 맞춤\n",
    "- 그냥 random으로 시행할 경우에는, 1.3%의 확률로 reward 획득\n",
    "\"\"\"\n",
    "plt.figure(figsize=(12, 2))\n",
    "plt.scatter(range(0, len(rlist)), rlist, marker='^', s=1, color='red')\n",
    "plt.show()"
   ]
  },
  {
   "cell_type": "code",
   "execution_count": 162,
   "metadata": {},
   "outputs": [
    {
     "data": {
      "text/plain": [
       "0.01315"
      ]
     },
     "execution_count": 162,
     "metadata": {},
     "output_type": "execute_result"
    }
   ],
   "source": []
  },
  {
   "cell_type": "code",
   "execution_count": null,
   "metadata": {},
   "outputs": [],
   "source": []
  },
  {
   "cell_type": "code",
   "execution_count": null,
   "metadata": {
    "collapsed": true
   },
   "outputs": [],
   "source": []
  }
 ],
 "metadata": {
  "kernelspec": {
   "display_name": "Python 3",
   "language": "python",
   "name": "python3"
  },
  "language_info": {
   "codemirror_mode": {
    "name": "ipython",
    "version": 3
   },
   "file_extension": ".py",
   "mimetype": "text/x-python",
   "name": "python",
   "nbconvert_exporter": "python",
   "pygments_lexer": "ipython3",
   "version": "3.6.2"
  }
 },
 "nbformat": 4,
 "nbformat_minor": 2
}
