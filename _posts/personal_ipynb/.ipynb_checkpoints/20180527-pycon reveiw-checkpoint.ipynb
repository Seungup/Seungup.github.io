{
 "cells": [
  {
   "cell_type": "code",
   "execution_count": 1,
   "metadata": {
    "collapsed": true
   },
   "outputs": [],
   "source": [
    "import pandas as pd"
   ]
  },
  {
   "cell_type": "code",
   "execution_count": 67,
   "metadata": {},
   "outputs": [
    {
     "data": {
      "text/html": [
       "<div>\n",
       "<style>\n",
       "    .dataframe thead tr:only-child th {\n",
       "        text-align: right;\n",
       "    }\n",
       "\n",
       "    .dataframe thead th {\n",
       "        text-align: left;\n",
       "    }\n",
       "\n",
       "    .dataframe tbody tr th {\n",
       "        vertical-align: top;\n",
       "    }\n",
       "</style>\n",
       "<table border=\"1\" class=\"dataframe\">\n",
       "  <thead>\n",
       "    <tr style=\"text-align: right;\">\n",
       "      <th></th>\n",
       "      <th>title</th>\n",
       "      <th>content</th>\n",
       "      <th>detail</th>\n",
       "      <th>category</th>\n",
       "      <th>rating</th>\n",
       "    </tr>\n",
       "  </thead>\n",
       "  <tbody>\n",
       "    <tr>\n",
       "      <th>0</th>\n",
       "      <td>Quantify myself - self 사생활침해</td>\n",
       "      <td>저는 2014년부터 2017년까지, 약 4년간 매일 만나는 사람들을 데이터로 정리를...</td>\n",
       "      <td>보다 자세한 소개는 글로 말씀드리는 것보다 이전에 제가 만들었던 자료를 보여드리는 ...</td>\n",
       "      <td>Life / Social</td>\n",
       "      <td>-1</td>\n",
       "    </tr>\n",
       "    <tr>\n",
       "      <th>1</th>\n",
       "      <td>Ready, Get Set, Go!</td>\n",
       "      <td>파이콘의 전통적인 이벤트 중 하나인 스프린트에 대해서 이야기합니다.</td>\n",
       "      <td>스프린트에 대한 모든 것을 다룹니다. 역사와 의의를 비롯하여 커뮤니티에 미친 구체적...</td>\n",
       "      <td>Python Community</td>\n",
       "      <td>-1</td>\n",
       "    </tr>\n",
       "    <tr>\n",
       "      <th>2</th>\n",
       "      <td>Understanding of Medical Physics modeling and ...</td>\n",
       "      <td>Understanding of data analysis from the ancien...</td>\n",
       "      <td>Hadrontherapy is taking a major role in modern...</td>\n",
       "      <td>Data Analytics</td>\n",
       "      <td>-1</td>\n",
       "    </tr>\n",
       "    <tr>\n",
       "      <th>3</th>\n",
       "      <td>A Spark for Diversity: A Walk-through of Women...</td>\n",
       "      <td>Women Who Code is a global non-profit organiza...</td>\n",
       "      <td>https://docs.google.com/document/d/1UviRQ3W_fh...</td>\n",
       "      <td>Python Community</td>\n",
       "      <td>-1</td>\n",
       "    </tr>\n",
       "    <tr>\n",
       "      <th>4</th>\n",
       "      <td>머신러닝으로 경마 한구라 가즈아!!!</td>\n",
       "      <td>머신러닝을 통해서 국내 최고수준의 가상의 경마전문가를 만들어낸 경험을 소개하고자 합니다.</td>\n",
       "      <td>경마 예측을 위해 파이썬으로 크롤러 제작, 머신러닝, 자동화를 진행하였습니다. 텍스...</td>\n",
       "      <td>Data Analytics</td>\n",
       "      <td>-1</td>\n",
       "    </tr>\n",
       "  </tbody>\n",
       "</table>\n",
       "</div>"
      ],
      "text/plain": [
       "                                               title  \\\n",
       "0                       Quantify myself - self 사생활침해   \n",
       "1                                Ready, Get Set, Go!   \n",
       "2  Understanding of Medical Physics modeling and ...   \n",
       "3  A Spark for Diversity: A Walk-through of Women...   \n",
       "4                               머신러닝으로 경마 한구라 가즈아!!!   \n",
       "\n",
       "                                             content  \\\n",
       "0  저는 2014년부터 2017년까지, 약 4년간 매일 만나는 사람들을 데이터로 정리를...   \n",
       "1             파이콘의 전통적인 이벤트 중 하나인 스프린트에 대해서 이야기합니다.    \n",
       "2  Understanding of data analysis from the ancien...   \n",
       "3  Women Who Code is a global non-profit organiza...   \n",
       "4  머신러닝을 통해서 국내 최고수준의 가상의 경마전문가를 만들어낸 경험을 소개하고자 합니다.   \n",
       "\n",
       "                                              detail          category  rating  \n",
       "0  보다 자세한 소개는 글로 말씀드리는 것보다 이전에 제가 만들었던 자료를 보여드리는 ...     Life / Social      -1  \n",
       "1  스프린트에 대한 모든 것을 다룹니다. 역사와 의의를 비롯하여 커뮤니티에 미친 구체적...  Python Community      -1  \n",
       "2  Hadrontherapy is taking a major role in modern...    Data Analytics      -1  \n",
       "3  https://docs.google.com/document/d/1UviRQ3W_fh...  Python Community      -1  \n",
       "4  경마 예측을 위해 파이썬으로 크롤러 제작, 머신러닝, 자동화를 진행하였습니다. 텍스...    Data Analytics      -1  "
      ]
     },
     "execution_count": 67,
     "metadata": {},
     "output_type": "execute_result"
    }
   ],
   "source": [
    "df = pd.read_csv(\"/Users/frhyme/Downloads/파이콘 한국 2018 CFP 리뷰 - CFP 리스트.csv\")\n",
    "new_df = {\n",
    "    \"title\":[],\n",
    "    'category':[],\n",
    "    'content':[],\n",
    "    'detail':[],\n",
    "    'rating':[]\n",
    "}\n",
    "for i in range(3, len(df)):\n",
    "    item = list(df.iloc()[i])\n",
    "    title = item[3]\n",
    "    category = item[4]\n",
    "    content = item[5]\n",
    "    detail = item[6]\n",
    "    \n",
    "    new_df['title'].append(title)\n",
    "    new_df['category'].append(category)\n",
    "    new_df['content'].append(content)\n",
    "    new_df['detail'].append(detail)\n",
    "    new_df['rating'].append(-1)\n",
    "\n",
    "new_df = pd.DataFrame(new_df)[['title', 'content', 'detail', 'category', 'rating']]\n",
    "new_df.head()"
   ]
  },
  {
   "cell_type": "code",
   "execution_count": 107,
   "metadata": {},
   "outputs": [
    {
     "name": "stdout",
     "output_type": "stream",
     "text": [
      "-------content 120:------\n",
      "TITLE: Reproducible Data science using Terraform\n",
      "Infrastructure is an inevitable step in the development cycle.\n",
      "Data scientists  focus on the statistics, machine learning, or a prototype they want to validate, but sooner or later the need comes  to move the experiment to a cloud environment with: more and faster resources.\n",
      "There are a lot of obstacles to sort out in order to get an experiment running into your favourite cloud provider, and many of us then resort either  to bash scripts or to manually create whats needed via the UI, but those alternatives are hard to understand, maintain and reproduce.\n",
      "\n",
      "Terraform let you create and manage infrastructure, but it goes beyond that, If used  in the correct manner, It can empower your team by hiding complex infrastructure setups. \n",
      "\n",
      "For Data Scientists it means you can create the needed resources for your experiment: in a reproducible manner, but also knowing less about complex setup details.\n",
      "\n",
      "\n",
      "In this talk I will address:\n",
      "- why should Data Science care about devops\n",
      "- Irreproducible / hard to run experiments  due to UI click / bash scripts\n",
      "- Infrastructure as Code\n",
      "- How it would had speed me up back when I was doing NLP\n",
      "- Abstracting complex setups\n",
      "- Minimal Terraform Skills\n",
      "\n",
      "-------content 121:------\n",
      "TITLE: 파이썬으로 이해하는 블록체인 Understanding Blockchain key concept with Python\n",
      "- 블록체인 기초개념: 블록, 거래, 합의 알고리즘, 비잔틴 문제, 영지식 문제 \n",
      "- 어떤 블록체인을 선택할 것인가? Private vs Public\n",
      "- 직접 해봅시다. \n",
      "-------content 122:------\n"
     ]
    },
    {
     "ename": "IndexError",
     "evalue": "single positional indexer is out-of-bounds",
     "output_type": "error",
     "traceback": [
      "\u001b[0;31m---------------------------------------------------------------------------\u001b[0m",
      "\u001b[0;31mIndexError\u001b[0m                                Traceback (most recent call last)",
      "\u001b[0;32m<ipython-input-107-48002489d777>\u001b[0m in \u001b[0;36m<module>\u001b[0;34m()\u001b[0m\n\u001b[1;32m      2\u001b[0m \u001b[0;32mfor\u001b[0m \u001b[0mi\u001b[0m \u001b[0;32min\u001b[0m \u001b[0mrange\u001b[0m\u001b[0;34m(\u001b[0m\u001b[0mstart\u001b[0m\u001b[0;34m,\u001b[0m \u001b[0mstart\u001b[0m\u001b[0;34m+\u001b[0m\u001b[0;36m5\u001b[0m\u001b[0;34m)\u001b[0m\u001b[0;34m:\u001b[0m\u001b[0;34m\u001b[0m\u001b[0m\n\u001b[1;32m      3\u001b[0m     \u001b[0mprint\u001b[0m\u001b[0;34m(\u001b[0m\u001b[0;34m\"-------content {}:------\"\u001b[0m\u001b[0;34m.\u001b[0m\u001b[0mformat\u001b[0m\u001b[0;34m(\u001b[0m\u001b[0mi\u001b[0m\u001b[0;34m)\u001b[0m\u001b[0;34m)\u001b[0m\u001b[0;34m\u001b[0m\u001b[0m\n\u001b[0;32m----> 4\u001b[0;31m     \u001b[0mprint\u001b[0m\u001b[0;34m(\u001b[0m\u001b[0;34m\"TITLE: {}\"\u001b[0m\u001b[0;34m.\u001b[0m\u001b[0mformat\u001b[0m\u001b[0;34m(\u001b[0m\u001b[0mnew_df\u001b[0m\u001b[0;34m[\u001b[0m\u001b[0;34m'title'\u001b[0m\u001b[0;34m]\u001b[0m\u001b[0;34m.\u001b[0m\u001b[0miloc\u001b[0m\u001b[0;34m(\u001b[0m\u001b[0;34m)\u001b[0m\u001b[0;34m[\u001b[0m\u001b[0mi\u001b[0m\u001b[0;34m]\u001b[0m\u001b[0;34m)\u001b[0m\u001b[0;34m)\u001b[0m\u001b[0;34m\u001b[0m\u001b[0m\n\u001b[0m\u001b[1;32m      5\u001b[0m     \u001b[0;31m#print(new_df['content'].iloc()[i])\u001b[0m\u001b[0;34m\u001b[0m\u001b[0;34m\u001b[0m\u001b[0m\n\u001b[1;32m      6\u001b[0m     \u001b[0mprint\u001b[0m\u001b[0;34m(\u001b[0m\u001b[0mnew_df\u001b[0m\u001b[0;34m[\u001b[0m\u001b[0;34m'detail'\u001b[0m\u001b[0;34m]\u001b[0m\u001b[0;34m.\u001b[0m\u001b[0miloc\u001b[0m\u001b[0;34m(\u001b[0m\u001b[0;34m)\u001b[0m\u001b[0;34m[\u001b[0m\u001b[0mi\u001b[0m\u001b[0;34m]\u001b[0m\u001b[0;34m)\u001b[0m\u001b[0;34m\u001b[0m\u001b[0m\n",
      "\u001b[0;32m~/anaconda3/lib/python3.6/site-packages/pandas/core/indexing.py\u001b[0m in \u001b[0;36m__getitem__\u001b[0;34m(self, key)\u001b[0m\n\u001b[1;32m   1326\u001b[0m         \u001b[0;32melse\u001b[0m\u001b[0;34m:\u001b[0m\u001b[0;34m\u001b[0m\u001b[0m\n\u001b[1;32m   1327\u001b[0m             \u001b[0mkey\u001b[0m \u001b[0;34m=\u001b[0m \u001b[0mcom\u001b[0m\u001b[0;34m.\u001b[0m\u001b[0m_apply_if_callable\u001b[0m\u001b[0;34m(\u001b[0m\u001b[0mkey\u001b[0m\u001b[0;34m,\u001b[0m \u001b[0mself\u001b[0m\u001b[0;34m.\u001b[0m\u001b[0mobj\u001b[0m\u001b[0;34m)\u001b[0m\u001b[0;34m\u001b[0m\u001b[0m\n\u001b[0;32m-> 1328\u001b[0;31m             \u001b[0;32mreturn\u001b[0m \u001b[0mself\u001b[0m\u001b[0;34m.\u001b[0m\u001b[0m_getitem_axis\u001b[0m\u001b[0;34m(\u001b[0m\u001b[0mkey\u001b[0m\u001b[0;34m,\u001b[0m \u001b[0maxis\u001b[0m\u001b[0;34m=\u001b[0m\u001b[0;36m0\u001b[0m\u001b[0;34m)\u001b[0m\u001b[0;34m\u001b[0m\u001b[0m\n\u001b[0m\u001b[1;32m   1329\u001b[0m \u001b[0;34m\u001b[0m\u001b[0m\n\u001b[1;32m   1330\u001b[0m     \u001b[0;32mdef\u001b[0m \u001b[0m_is_scalar_access\u001b[0m\u001b[0;34m(\u001b[0m\u001b[0mself\u001b[0m\u001b[0;34m,\u001b[0m \u001b[0mkey\u001b[0m\u001b[0;34m)\u001b[0m\u001b[0;34m:\u001b[0m\u001b[0;34m\u001b[0m\u001b[0m\n",
      "\u001b[0;32m~/anaconda3/lib/python3.6/site-packages/pandas/core/indexing.py\u001b[0m in \u001b[0;36m_getitem_axis\u001b[0;34m(self, key, axis)\u001b[0m\n\u001b[1;32m   1747\u001b[0m \u001b[0;34m\u001b[0m\u001b[0m\n\u001b[1;32m   1748\u001b[0m             \u001b[0;31m# validate the location\u001b[0m\u001b[0;34m\u001b[0m\u001b[0;34m\u001b[0m\u001b[0m\n\u001b[0;32m-> 1749\u001b[0;31m             \u001b[0mself\u001b[0m\u001b[0;34m.\u001b[0m\u001b[0m_is_valid_integer\u001b[0m\u001b[0;34m(\u001b[0m\u001b[0mkey\u001b[0m\u001b[0;34m,\u001b[0m \u001b[0maxis\u001b[0m\u001b[0;34m)\u001b[0m\u001b[0;34m\u001b[0m\u001b[0m\n\u001b[0m\u001b[1;32m   1750\u001b[0m \u001b[0;34m\u001b[0m\u001b[0m\n\u001b[1;32m   1751\u001b[0m             \u001b[0;32mreturn\u001b[0m \u001b[0mself\u001b[0m\u001b[0;34m.\u001b[0m\u001b[0m_get_loc\u001b[0m\u001b[0;34m(\u001b[0m\u001b[0mkey\u001b[0m\u001b[0;34m,\u001b[0m \u001b[0maxis\u001b[0m\u001b[0;34m=\u001b[0m\u001b[0maxis\u001b[0m\u001b[0;34m)\u001b[0m\u001b[0;34m\u001b[0m\u001b[0m\n",
      "\u001b[0;32m~/anaconda3/lib/python3.6/site-packages/pandas/core/indexing.py\u001b[0m in \u001b[0;36m_is_valid_integer\u001b[0;34m(self, key, axis)\u001b[0m\n\u001b[1;32m   1636\u001b[0m         \u001b[0ml\u001b[0m \u001b[0;34m=\u001b[0m \u001b[0mlen\u001b[0m\u001b[0;34m(\u001b[0m\u001b[0max\u001b[0m\u001b[0;34m)\u001b[0m\u001b[0;34m\u001b[0m\u001b[0m\n\u001b[1;32m   1637\u001b[0m         \u001b[0;32mif\u001b[0m \u001b[0mkey\u001b[0m \u001b[0;34m>=\u001b[0m \u001b[0ml\u001b[0m \u001b[0;32mor\u001b[0m \u001b[0mkey\u001b[0m \u001b[0;34m<\u001b[0m \u001b[0;34m-\u001b[0m\u001b[0ml\u001b[0m\u001b[0;34m:\u001b[0m\u001b[0;34m\u001b[0m\u001b[0m\n\u001b[0;32m-> 1638\u001b[0;31m             \u001b[0;32mraise\u001b[0m \u001b[0mIndexError\u001b[0m\u001b[0;34m(\u001b[0m\u001b[0;34m\"single positional indexer is out-of-bounds\"\u001b[0m\u001b[0;34m)\u001b[0m\u001b[0;34m\u001b[0m\u001b[0m\n\u001b[0m\u001b[1;32m   1639\u001b[0m         \u001b[0;32mreturn\u001b[0m \u001b[0;32mTrue\u001b[0m\u001b[0;34m\u001b[0m\u001b[0m\n\u001b[1;32m   1640\u001b[0m \u001b[0;34m\u001b[0m\u001b[0m\n",
      "\u001b[0;31mIndexError\u001b[0m: single positional indexer is out-of-bounds"
     ]
    }
   ],
   "source": [
    "start = 120\n",
    "for i in range(start, start+5):\n",
    "    print(\"-------content {}:------\".format(i))\n",
    "    print(\"TITLE: {}\".format(new_df['title'].iloc()[i]))\n",
    "    #print(new_df['content'].iloc()[i])\n",
    "    print(new_df['detail'].iloc()[i])"
   ]
  },
  {
   "cell_type": "code",
   "execution_count": 109,
   "metadata": {},
   "outputs": [
    {
     "data": {
      "text/html": [
       "<div>\n",
       "<style>\n",
       "    .dataframe thead tr:only-child th {\n",
       "        text-align: right;\n",
       "    }\n",
       "\n",
       "    .dataframe thead th {\n",
       "        text-align: left;\n",
       "    }\n",
       "\n",
       "    .dataframe tbody tr th {\n",
       "        vertical-align: top;\n",
       "    }\n",
       "</style>\n",
       "<table border=\"1\" class=\"dataframe\">\n",
       "  <thead>\n",
       "    <tr style=\"text-align: right;\">\n",
       "      <th></th>\n",
       "      <th>title</th>\n",
       "      <th>content</th>\n",
       "      <th>detail</th>\n",
       "      <th>category</th>\n",
       "      <th>rating</th>\n",
       "    </tr>\n",
       "  </thead>\n",
       "  <tbody>\n",
       "    <tr>\n",
       "      <th>0</th>\n",
       "      <td>Quantify myself - self 사생활침해</td>\n",
       "      <td>저는 2014년부터 2017년까지, 약 4년간 매일 만나는 사람들을 데이터로 정리를...</td>\n",
       "      <td>보다 자세한 소개는 글로 말씀드리는 것보다 이전에 제가 만들었던 자료를 보여드리는 ...</td>\n",
       "      <td>Life / Social</td>\n",
       "      <td>-1</td>\n",
       "    </tr>\n",
       "    <tr>\n",
       "      <th>1</th>\n",
       "      <td>Ready, Get Set, Go!</td>\n",
       "      <td>파이콘의 전통적인 이벤트 중 하나인 스프린트에 대해서 이야기합니다.</td>\n",
       "      <td>스프린트에 대한 모든 것을 다룹니다. 역사와 의의를 비롯하여 커뮤니티에 미친 구체적...</td>\n",
       "      <td>Python Community</td>\n",
       "      <td>-1</td>\n",
       "    </tr>\n",
       "    <tr>\n",
       "      <th>2</th>\n",
       "      <td>Understanding of Medical Physics modeling and ...</td>\n",
       "      <td>Understanding of data analysis from the ancien...</td>\n",
       "      <td>Hadrontherapy is taking a major role in modern...</td>\n",
       "      <td>Data Analytics</td>\n",
       "      <td>-1</td>\n",
       "    </tr>\n",
       "    <tr>\n",
       "      <th>3</th>\n",
       "      <td>A Spark for Diversity: A Walk-through of Women...</td>\n",
       "      <td>Women Who Code is a global non-profit organiza...</td>\n",
       "      <td>https://docs.google.com/document/d/1UviRQ3W_fh...</td>\n",
       "      <td>Python Community</td>\n",
       "      <td>-1</td>\n",
       "    </tr>\n",
       "    <tr>\n",
       "      <th>4</th>\n",
       "      <td>머신러닝으로 경마 한구라 가즈아!!!</td>\n",
       "      <td>머신러닝을 통해서 국내 최고수준의 가상의 경마전문가를 만들어낸 경험을 소개하고자 합니다.</td>\n",
       "      <td>경마 예측을 위해 파이썬으로 크롤러 제작, 머신러닝, 자동화를 진행하였습니다. 텍스...</td>\n",
       "      <td>Data Analytics</td>\n",
       "      <td>-1</td>\n",
       "    </tr>\n",
       "  </tbody>\n",
       "</table>\n",
       "</div>"
      ],
      "text/plain": [
       "                                               title  \\\n",
       "0                       Quantify myself - self 사생활침해   \n",
       "1                                Ready, Get Set, Go!   \n",
       "2  Understanding of Medical Physics modeling and ...   \n",
       "3  A Spark for Diversity: A Walk-through of Women...   \n",
       "4                               머신러닝으로 경마 한구라 가즈아!!!   \n",
       "\n",
       "                                             content  \\\n",
       "0  저는 2014년부터 2017년까지, 약 4년간 매일 만나는 사람들을 데이터로 정리를...   \n",
       "1             파이콘의 전통적인 이벤트 중 하나인 스프린트에 대해서 이야기합니다.    \n",
       "2  Understanding of data analysis from the ancien...   \n",
       "3  Women Who Code is a global non-profit organiza...   \n",
       "4  머신러닝을 통해서 국내 최고수준의 가상의 경마전문가를 만들어낸 경험을 소개하고자 합니다.   \n",
       "\n",
       "                                              detail          category  rating  \n",
       "0  보다 자세한 소개는 글로 말씀드리는 것보다 이전에 제가 만들었던 자료를 보여드리는 ...     Life / Social      -1  \n",
       "1  스프린트에 대한 모든 것을 다룹니다. 역사와 의의를 비롯하여 커뮤니티에 미친 구체적...  Python Community      -1  \n",
       "2  Hadrontherapy is taking a major role in modern...    Data Analytics      -1  \n",
       "3  https://docs.google.com/document/d/1UviRQ3W_fh...  Python Community      -1  \n",
       "4  경마 예측을 위해 파이썬으로 크롤러 제작, 머신러닝, 자동화를 진행하였습니다. 텍스...    Data Analytics      -1  "
      ]
     },
     "execution_count": 109,
     "metadata": {},
     "output_type": "execute_result"
    }
   ],
   "source": [
    "df = new_df\n",
    "df.head()"
   ]
  },
  {
   "cell_type": "code",
   "execution_count": 111,
   "metadata": {},
   "outputs": [
    {
     "data": {
      "text/plain": [
       "0    저는 2014년부터 2017년까지, 약 4년간 매일 만나는 사람들을 데이터로 정리를...\n",
       "1               파이콘의 전통적인 이벤트 중 하나인 스프린트에 대해서 이야기합니다. \n",
       "2    Understanding of data analysis from the ancien...\n",
       "3    Women Who Code is a global non-profit organiza...\n",
       "4    머신러닝을 통해서 국내 최고수준의 가상의 경마전문가를 만들어낸 경험을 소개하고자 합니다.\n",
       "Name: content, dtype: object"
      ]
     },
     "execution_count": 111,
     "metadata": {},
     "output_type": "execute_result"
    }
   ],
   "source": [
    "\"\"\"\n",
    "영어와 한글이 구분되어 있을때, 텍스트가 영어인지, 한글인지, 어떻게 구분할 수 있는가? \n",
    "\"\"\"\n",
    "df['content'][:5]"
   ]
  },
  {
   "cell_type": "code",
   "execution_count": null,
   "metadata": {
    "collapsed": true
   },
   "outputs": [],
   "source": []
  }
 ],
 "metadata": {
  "kernelspec": {
   "display_name": "Python 3",
   "language": "python",
   "name": "python3"
  },
  "language_info": {
   "codemirror_mode": {
    "name": "ipython",
    "version": 3
   },
   "file_extension": ".py",
   "mimetype": "text/x-python",
   "name": "python",
   "nbconvert_exporter": "python",
   "pygments_lexer": "ipython3",
   "version": "3.6.2"
  }
 },
 "nbformat": 4,
 "nbformat_minor": 2
}
