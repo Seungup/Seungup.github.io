{
 "cells": [
  {
   "cell_type": "code",
   "execution_count": 28,
   "metadata": {
    "collapsed": true
   },
   "outputs": [],
   "source": [
    "import pandas as pd\n",
    "import numpy as np \n",
    "import matplotlib.pyplot as plt\n",
    "from sklearn.model_selection import train_test_split\n",
    "\n",
    "train_url = 'https://storage.googleapis.com/kaggle-competitions-data/kaggle/3136/train.csv?GoogleAccessId=web-data@kaggle-161607.iam.gserviceaccount.com&Expires=1528004576&Signature=i3EJD%2FmW%2BVBYKZMLlyhwWg%2Bwv0A6aCeInBC1WYZkKpGNZnhdHUMFwN9NpcRYU9Bk6Rg%2BKzoaqILW5QDI63z8TathqmhgzrWk18O7B3ixLVPHdIqOfaDPyD9dm%2BCFgBP0Iy9FU1B4yWAI0GfymIXQF2fCJjHJZYG4nHOTjmFQwPW1SkBOCyWAe0itNQXBHTv8ETrf7lyiCFvJJZ%2BqDBp7lOkhFua3Fu3lyuUxfLNOdoVMaiNDL5c%2B3pVm7QfSWJyQQylRbeCTfviKDXVt1Qbh3PZ0%2BbQ2S7AENZ4YOGYURkR7z9f5lkRDzLEtqwDdsfT8jqoGtgDcqJbcTTCzq7YpYg%3D%3D'\n",
    "df = pd.read_csv(train_url)"
   ]
  },
  {
   "cell_type": "code",
   "execution_count": 9,
   "metadata": {},
   "outputs": [
    {
     "name": "stdout",
     "output_type": "stream",
     "text": [
      "Index(['PassengerId', 'Survived', 'Pclass', 'Name', 'Sex', 'Age', 'SibSp',\n",
      "       'Parch', 'Ticket', 'Fare', 'Cabin', 'Embarked'],\n",
      "      dtype='object')\n"
     ]
    }
   ],
   "source": [
    "\"\"\"\n",
    "- 그냥 슬쩍 보기에, 유용하다고 생각되는 것들은 Pclass, Sex, Age 로 나뉨. \n",
    "\"\"\"\n",
    "print(df.columns)"
   ]
  },
  {
   "cell_type": "code",
   "execution_count": 136,
   "metadata": {},
   "outputs": [
    {
     "name": "stderr",
     "output_type": "stream",
     "text": [
      "/Users/frhyme/anaconda3/lib/python3.6/site-packages/sklearn/model_selection/_split.py:2010: FutureWarning: From version 0.21, test_size will always complement train_size unless both are specified.\n",
      "  FutureWarning)\n"
     ]
    },
    {
     "name": "stdout",
     "output_type": "stream",
     "text": [
      "logisticReg\n",
      "train accuracy: 0.8160112359550562\n",
      "test accuracy: 0.8044692737430168\n",
      "--------\n",
      "DecTreeClf\n",
      "train accuracy: 0.9845505617977528\n",
      "test accuracy: 0.7653631284916201\n",
      "--------\n",
      "neural-net\n",
      "train accuracy: 0.8314606741573034\n",
      "test accuracy: 0.8100558659217877\n",
      "--------\n",
      "kneighborsClf\n",
      "train accuracy: 0.8188202247191011\n",
      "test accuracy: 0.7821229050279329\n",
      "--------\n",
      "svc\n",
      "train accuracy: 0.797752808988764\n",
      "test accuracy: 0.7932960893854749\n",
      "--------\n",
      "randomforest\n",
      "train accuracy: 0.9634831460674157\n",
      "test accuracy: 0.8156424581005587\n",
      "--------\n"
     ]
    }
   ],
   "source": [
    "# 간단히 null 계산\n",
    "\n",
    "from sklearn.preprocessing import MinMaxScaler\n",
    "\n",
    "X = pd.get_dummies(df['Pclass'], prefix='Pclass').join(\n",
    "    pd.get_dummies(df['Sex'], prefix='Sex')).join(\n",
    "    df['Age'].fillna(df['Age'].mean())).join(\n",
    "    df['Fare']).join(\n",
    "    pd.get_dummies(df['Cabin'].isnull(), prefix='Cab')).join(# cabin값이 있고, 없을때의 survival rate가 0.4 정도 차이남.\n",
    "    pd.get_dummies(df['SibSp'] + df['Parch']))# 각각, \n",
    "X = pd.DataFrame(MinMaxScaler().fit_transform(X), columns=X.columns)\n",
    "Y = df['Survived']\n",
    "\n",
    "train_X, test_X, train_Y, test_Y = train_test_split(X, Y, train_size=0.8, random_state=42)\n",
    "\"\"\"\n",
    "prediction \n",
    "다양한 모델을 세워서 예측해봅시다. \n",
    "\"\"\"\n",
    "\n",
    "from sklearn.linear_model import LogisticRegression, LogisticRegressionCV\n",
    "from sklearn.tree import DecisionTreeClassifier\n",
    "from sklearn.neural_network import MLPClassifier\n",
    "from sklearn.neighbors import KNeighborsClassifier\n",
    "from sklearn.svm import SVC\n",
    "from sklearn.ensemble import RandomForestClassifier\n",
    "\n",
    "models = {\n",
    "    \"logisticReg\":LogisticRegression(penalty='l1'),\n",
    "    \"DecTreeClf\":DecisionTreeClassifier(),\n",
    "    'neural-net':MLPClassifier(hidden_layer_sizes=[10, 50, 10], activation='relu', solver='adam'),\n",
    "    'kneighborsClf':KNeighborsClassifier(n_neighbors=10),\n",
    "    'svc':SVC(kernel='rbf'),#poly, linear, sigmoid\n",
    "    'randomforest':RandomForestClassifier()\n",
    "}\n",
    "\n",
    "for k, m in models.items():\n",
    "    m.fit(train_X, train_Y)\n",
    "\n",
    "for k, m in models.items():\n",
    "    print(k)\n",
    "    print(\"train accuracy: {}\".format(m.score(train_X, train_Y)))\n",
    "    print(\"test accuracy: {}\".format(m.score(test_X, test_Y)))\n",
    "    print(\"--------\")\n",
    "\n"
   ]
  },
  {
   "cell_type": "code",
   "execution_count": 104,
   "metadata": {},
   "outputs": [
    {
     "data": {
      "text/plain": [
       "Index(['PassengerId', 'Survived', 'Pclass', 'Name', 'Sex', 'Age', 'SibSp',\n",
       "       'Parch', 'Ticket', 'Fare', 'Cabin', 'Embarked'],\n",
       "      dtype='object')"
      ]
     },
     "execution_count": 104,
     "metadata": {},
     "output_type": "execute_result"
    }
   ],
   "source": [
    "df.columns"
   ]
  },
  {
   "cell_type": "code",
   "execution_count": 114,
   "metadata": {},
   "outputs": [
    {
     "data": {
      "text/plain": [
       "0.29985443959243085"
      ]
     },
     "execution_count": 114,
     "metadata": {},
     "output_type": "execute_result"
    }
   ],
   "source": [
    "df['Ticket'] #가격, 같은 것일줄 알았는데, 일단은 무슨 의미인지 모르겠음\n",
    "df['Fare']# 운임요금, 아마도 비싼지 적은지에 따라서 구분이 가능할듯 \n",
    "df['SibSp']# 이게 가족 뭐였던것 같은데 \n",
    "df['Parch']# 이것도 가족 뭐 였던 것 같은데 \n",
    "df[['Cabin', 'Survived']]\n",
    "df[df['Cabin'].isnull()]['Survived'].mean()"
   ]
  },
  {
   "cell_type": "code",
   "execution_count": 131,
   "metadata": {},
   "outputs": [
    {
     "data": {
      "text/plain": [
       "Parch\n",
       "0    0.343658\n",
       "1    0.550847\n",
       "2    0.500000\n",
       "3    0.600000\n",
       "4    0.000000\n",
       "5    0.200000\n",
       "6    0.000000\n",
       "Name: Survived, dtype: float64"
      ]
     },
     "execution_count": 131,
     "metadata": {},
     "output_type": "execute_result"
    }
   ],
   "source": [
    "df.groupby('Parch')['Survived'].sum()/df.groupby('Parch')['Survived'].count()"
   ]
  },
  {
   "cell_type": "code",
   "execution_count": 132,
   "metadata": {},
   "outputs": [
    {
     "data": {
      "text/plain": [
       "SibSp\n",
       "0    0.345395\n",
       "1    0.535885\n",
       "2    0.464286\n",
       "3    0.250000\n",
       "4    0.166667\n",
       "5    0.000000\n",
       "8    0.000000\n",
       "Name: Survived, dtype: float64"
      ]
     },
     "execution_count": 132,
     "metadata": {},
     "output_type": "execute_result"
    }
   ],
   "source": [
    "df.groupby('SibSp')['Survived'].sum()/df.groupby('SibSp')['Survived'].count()"
   ]
  },
  {
   "cell_type": "code",
   "execution_count": 135,
   "metadata": {},
   "outputs": [
    {
     "data": {
      "text/plain": [
       "t\n",
       "0     537\n",
       "1     161\n",
       "2     102\n",
       "3      29\n",
       "4      15\n",
       "5      22\n",
       "6      12\n",
       "7       6\n",
       "10      7\n",
       "Name: Survived, dtype: int64"
      ]
     },
     "execution_count": 135,
     "metadata": {},
     "output_type": "execute_result"
    }
   ],
   "source": [
    "df['t'] = df['SibSp'] + df['Parch']\n",
    "df.groupby('t')['Survived'].sum()/df.groupby('t')['Survived'].count()\n",
    "df.groupby('t')['Survived'].count()"
   ]
  },
  {
   "cell_type": "code",
   "execution_count": null,
   "metadata": {
    "collapsed": true
   },
   "outputs": [],
   "source": []
  }
 ],
 "metadata": {
  "kernelspec": {
   "display_name": "Python 3",
   "language": "python",
   "name": "python3"
  },
  "language_info": {
   "codemirror_mode": {
    "name": "ipython",
    "version": 3
   },
   "file_extension": ".py",
   "mimetype": "text/x-python",
   "name": "python",
   "nbconvert_exporter": "python",
   "pygments_lexer": "ipython3",
   "version": "3.6.2"
  }
 },
 "nbformat": 4,
 "nbformat_minor": 2
}
