{
 "cells": [
  {
   "cell_type": "code",
   "execution_count": 7,
   "metadata": {},
   "outputs": [
    {
     "name": "stdout",
     "output_type": "stream",
     "text": [
      "accuracy_score: 0.5\n",
      "precision_score: 0.0\n"
     ]
    },
    {
     "name": "stderr",
     "output_type": "stream",
     "text": [
      "/Users/frhyme/anaconda3/lib/python3.6/site-packages/sklearn/metrics/classification.py:1135: UndefinedMetricWarning: Precision is ill-defined and being set to 0.0 due to no predicted samples.\n",
      "  'precision', 'predicted', average, warn_for)\n"
     ]
    }
   ],
   "source": []
  },
  {
   "cell_type": "code",
   "execution_count": 77,
   "metadata": {},
   "outputs": [
    {
     "name": "stdout",
     "output_type": "stream",
     "text": [
      "accuracy_score: 0.57\n",
      "precision_score: 0.5686274509803921\n",
      "AUC: Area Under Curve: 0.8396\n"
     ]
    },
    {
     "data": {
      "image/png": "[encoded data removed]",
      "text/plain": [
       "<matplotlib.figure.Figure at 0x111ef6710>"
      ]
     },
     "metadata": {},
     "output_type": "display_data"
    }
   ],
   "source": [
    "import numpy as np \n",
    "import matplotlib.pyplot as plt \n",
    "\n",
    "from sklearn.metrics import accuracy_score, precision_score, precision_recall_curve\n",
    "from sklearn.metrics import classification_report, confusion_matrix\n",
    "from sklearn.metrics import roc_curve, roc_auc_score\n",
    "\n",
    "from sklearn.linear_model import LogisticRegression\n",
    "\n",
    "sample_size = 100\n",
    "x = np.vstack(\n",
    "    [np.random.normal(0, 1, sample_size*2).reshape(sample_size, 2), \n",
    "     np.random.normal(0.25, 1, sample_size*2).reshape(sample_size, 2), \n",
    "    ]\n",
    ")\n",
    "y_true = np.array([0 for i in range(0, sample_size)]+[1 for i in range(0, sample_size)])\n",
    "\n",
    "\n",
    "def learn_and_eval_clf(x, y_true):\n",
    "    clf = LogisticRegression(random_state=42)\n",
    "    clf.fit(x, y_true)\n",
    "\n",
    "    y_pred = clf.predict(x)\n",
    "    print(\"accuracy_score: {}\".format( accuracy_score(y_true, y_pred)))\n",
    "    print(\"precision_score: {}\".format( precision_score(y_true, y_pred)))\n",
    "    print(\"AUC: Area Under Curve: {}\".format(roc_auc_score(y_true, y_pred_proba[:, 1])))\n",
    "    #print(\"Classificcation Report: \\n{}\".format(classification_report(y_true, y_pred)))\n",
    "    #print(\"Confusition matrix: \\n{}\".format(confusion_matrix(y_true, y_pred)))\n",
    "\n",
    "    y_score = clf.decision_function(x)\n",
    "    precision, recall, _ = precision_recall_curve(y_true, y_score)\n",
    "    fpr, tpr, _ = roc_curve(y_true, y_score)\n",
    "\n",
    "    f, axes = plt.subplots(1, 2, sharex=True, sharey=True)\n",
    "    f.set_size_inches((8, 4)) \n",
    "    axes[0].fill_between(recall, precision, step='post', alpha=0.2, color='b')\n",
    "    axes[0].set_title('Recall-Precision Curve')\n",
    "\n",
    "    axes[1].plot(fpr, tpr)\n",
    "    axes[1].plot([0, 1], [0, 1], linestyle='--')\n",
    "    axes[1].set_title('ROC curve')\n",
    "    #plt.save\n",
    "    plt.show()\n",
    "\n"
   ]
  },
  {
   "cell_type": "code",
   "execution_count": 30,
   "metadata": {},
   "outputs": [
    {
     "data": {
      "text/plain": [
       "array([ 0.39782433,  0.01712685,  0.10734914,  0.13571234,  0.11736436,\n",
       "        0.31750695,  0.0596291 ,  0.09169282,  0.5999257 ,  0.05174178,\n",
       "        0.97514111,  0.94521057,  0.97049391,  0.71990216,  0.9705959 ,\n",
       "        0.78037429,  0.9759925 ,  0.99073472,  0.98096831,  0.89990721])"
      ]
     },
     "execution_count": 30,
     "metadata": {},
     "output_type": "execute_result"
    }
   ],
   "source": []
  },
  {
   "cell_type": "code",
   "execution_count": null,
   "metadata": {
    "collapsed": true
   },
   "outputs": [],
   "source": []
  }
 ],
 "metadata": {
  "kernelspec": {
   "display_name": "Python 3",
   "language": "python",
   "name": "python3"
  },
  "language_info": {
   "codemirror_mode": {
    "name": "ipython",
    "version": 3
   },
   "file_extension": ".py",
   "mimetype": "text/x-python",
   "name": "python",
   "nbconvert_exporter": "python",
   "pygments_lexer": "ipython3",
   "version": "3.6.2"
  }
 },
 "nbformat": 4,
 "nbformat_minor": 2
}
