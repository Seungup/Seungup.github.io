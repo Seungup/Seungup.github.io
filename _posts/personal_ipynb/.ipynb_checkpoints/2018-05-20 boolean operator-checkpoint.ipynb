{
 "cells": [
  {
   "cell_type": "code",
   "execution_count": 49,
   "metadata": {},
   "outputs": [
    {
     "name": "stdout",
     "output_type": "stream",
     "text": [
      "0    False\n",
      "1    False\n",
      "2    False\n",
      "3    False\n",
      "4    False\n",
      "5    False\n",
      "6     True\n",
      "7     True\n",
      "8     True\n",
      "9     True\n",
      "Name: a, dtype: bool\n",
      "\n",
      "   a   b\n",
      "6  6  11\n",
      "7  7  12\n",
      "8  8  13\n",
      "9  9  14\n",
      "\n",
      "   a   b\n",
      "0  0   5\n",
      "1  1   6\n",
      "2  2   7\n",
      "3  3   8\n",
      "4  4   9\n",
      "5  5  10\n",
      "\n",
      "\n",
      "erorr occurred, error message is bad operand type for unary ~: 'list'\n",
      "\n",
      "   a   b\n",
      "0  0   5\n",
      "1  1   6\n",
      "2  2   7\n",
      "3  3   8\n",
      "4  4   9\n",
      "5  5  10\n"
     ]
    }
   ],
   "source": [
    "import numpy as np\n",
    "import pandas as pd\n",
    "\n",
    "df = pd.DataFrame(\n",
    "    {\"a\":[i for i in range(0, 10)], \n",
    "     \"b\":[i for i in range(5, 15)]\n",
    "    }\n",
    ")\n",
    "print(df['a']>5)\n",
    "print()\n",
    "print(df[df['a']>5])\n",
    "print()\n",
    "print(df[~(df['a']>5)]) # tilde operator is 여집합의 개념\n",
    "print()\n",
    "\"\"\"\n",
    "- 그냥 boolean 값을 리스트로 넣어서 처리해줘도 상관없긴 함. \n",
    "- 그러나 이 경우에는 ~ operator 를 사용할 수 없다는 단점이 있으니, 가급적이면 np.array()의 형태로 만든 다음 사용하는 것이 좋음. \n",
    "\"\"\"\n",
    "bool_lst = np.array([False, False, False, False, False, False, True, True, True, True])\n",
    "try:\n",
    "    print()\n",
    "    print(df[~bool_lst])\n",
    "except TypeError as e:\n",
    "    print()\n",
    "    print(\"erorr occurred, error message is {}\".format(e))"
   ]
  },
  {
   "cell_type": "code",
   "execution_count": 35,
   "metadata": {},
   "outputs": [
    {
     "name": "stdout",
     "output_type": "stream",
     "text": [
      "        exp  norm_0_1  norm_10_5   poisson   uniform\n",
      "0 -0.577388  0.786163  -0.018351 -0.254162  0.211285\n",
      "1 -0.268417 -0.614713  -0.446385 -0.036617  0.305293\n",
      "2 -0.440451 -0.279165  -0.746177 -1.341887  0.900676\n",
      "3 -0.503357 -1.318059   0.378131  1.051109 -0.164747\n",
      "4 -0.562727 -0.256175   0.139560  2.138835  0.869340\n"
     ]
    },
    {
     "data": {
      "text/plain": [
       "array([False, False, False, False, False], dtype=bool)"
      ]
     },
     "execution_count": 35,
     "metadata": {},
     "output_type": "execute_result"
    }
   ],
   "source": [
    "import numpy as np\n",
    "import pandas as pd\n",
    "\n",
    "sample_size = 100\n",
    "\"\"\"분포별로 랜덤하게 값을 만들어줍니다. \n",
    "\"\"\"\n",
    "test_dist_dict = {\n",
    "    \"uniform\":np.random.randint(1, 100, sample_size),\n",
    "    \"norm_10_5\":np.random.normal(10,5, sample_size),\n",
    "    \"norm_0_1\":np.random.normal(0,1, sample_size),\n",
    "    \"exp\":np.random.exponential(1, sample_size), \n",
    "    \"poisson\":np.random.poisson(10, sample_size)\n",
    "}\n",
    "\"\"\"append outlier in each columns: max*2\n",
    "\"\"\"\n",
    "for k in test_dist_dict.keys():\n",
    "    l = list(test_dist_dict[k])\n",
    "    l.append(max(l)*2)\n",
    "    test_dist_dict[k] = np.array(l)\n",
    "test_dist_df = pd.DataFrame(test_dist_dict)\n",
    "\n",
    "\"\"\"각 칼럼이 norm(0, 1)을 따른다고 가정하고 standardization해줍니다. \n",
    "\"\"\"\n",
    "from sklearn import preprocessing\n",
    "new_X = pd.DataFrame(preprocessing.scale(test_dist_df, axis=0), \n",
    "                     index=test_dist_df.index, columns=test_dist_df.columns)\n",
    "print(new_X.head())\n",
    "\"\"\"\n",
    "현재 데이터는 모두 norm(0, 1)을 따르는 형태로 변환된 상황입니다. \n",
    "\"\"\"\n",
    "np.all(new_X >=2, axis=0)"
   ]
  },
  {
   "cell_type": "code",
   "execution_count": 26,
   "metadata": {},
   "outputs": [
    {
     "name": "stdout",
     "output_type": "stream",
     "text": [
      "        exp  norm_0_1  norm_10_5   poisson   uniform\n",
      "0  0.467419  0.072519  -0.255446  0.106474  1.382747\n",
      "1  0.297859 -0.214551   0.102819 -0.137932  0.925175\n",
      "2  0.134533  1.333550  -0.648849 -0.871147 -0.186071\n",
      "3  2.337668  0.491843  -0.124735 -0.137932  0.532971\n",
      "4 -0.658539  0.181512   0.576872  0.595284 -1.264632\n",
      "out of 2 sigma\n",
      "          exp  norm_0_1  norm_10_5   poisson   uniform\n",
      "3    2.337668  0.491843  -0.124735 -0.137932  0.532971\n",
      "5    2.134955  0.940126  -1.307098  1.572905  1.252012\n",
      "30  -0.271442 -2.222816   0.469963  1.084094  0.336869\n",
      "72  -0.606971 -1.328234  -2.177983  0.106474 -1.133898\n",
      "84   3.390007  0.167918   0.620680  0.106474  0.140766\n",
      "99   0.329987  2.472778   0.184584  1.328500 -1.199265\n",
      "100  7.474420  5.043572   5.189969  6.216604  4.945269\n",
      "\n",
      "inside of 2 sigma\n",
      "        exp  norm_0_1  norm_10_5   poisson   uniform\n",
      "0  0.467419  0.072519  -0.255446  0.106474  1.382747\n",
      "1  0.297859 -0.214551   0.102819 -0.137932  0.925175\n",
      "2  0.134533  1.333550  -0.648849 -0.871147 -0.186071\n",
      "4 -0.658539  0.181512   0.576872  0.595284 -1.264632\n",
      "6 -0.379113 -0.354875   0.098524  0.595284 -0.970479\n"
     ]
    }
   ],
   "source": [
    "print(\"out of 2 sigma\")\n",
    "print(new_X[ \n",
    "    np.logical_or(np.any(new_X >= 2, axis=1), np.any(new_X <= -2, axis=1)) \n",
    "])\n",
    "print()\n",
    "print(\"inside of 2 sigma\")\n",
    "print(new_X[ \n",
    "    np.logical_and(np.all(new_X <= 2, axis=1), np.all(new_X >= -2, axis=1)) \n",
    "].head())"
   ]
  },
  {
   "cell_type": "code",
   "execution_count": null,
   "metadata": {
    "collapsed": true
   },
   "outputs": [],
   "source": []
  }
 ],
 "metadata": {
  "kernelspec": {
   "display_name": "Python 3",
   "language": "python",
   "name": "python3"
  },
  "language_info": {
   "codemirror_mode": {
    "name": "ipython",
    "version": 3
   },
   "file_extension": ".py",
   "mimetype": "text/x-python",
   "name": "python",
   "nbconvert_exporter": "python",
   "pygments_lexer": "ipython3",
   "version": "3.6.2"
  }
 },
 "nbformat": 4,
 "nbformat_minor": 2
}
