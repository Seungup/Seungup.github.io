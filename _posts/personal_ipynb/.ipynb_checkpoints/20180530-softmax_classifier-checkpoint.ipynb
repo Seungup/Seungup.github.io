{
 "cells": [
  {
   "cell_type": "code",
   "execution_count": 6,
   "metadata": {},
   "outputs": [],
   "source": [
    "import numpy as np\n",
    "import tensorflow as tf\n",
    "\n",
    "def normal_sampling(mu1, v1, mu2, v2, nrow):\n",
    "    x = np.random.normal(mu1, v1, nrow)\n",
    "    y = np.random.normal(mu2, v2, nrow)\n",
    "    return np.vstack([x,y])\n",
    "\"\"\"\n",
    "다양한 평균과 분산에 대해서 샘플링하여 쌓아줍니다. \n",
    "np.hstack은 가로로 붙여줍니다. \n",
    "그래서 마지막에 Transpose 했습니다. \n",
    "\"\"\"\n",
    "sample_size = 500\n",
    "cluster_num = 3\n",
    "x_data = np.hstack([\n",
    "    normal_sampling(0, 1, 0, 1, sample_size),\n",
    "    normal_sampling(2, 1, 2, 1, sample_size), \n",
    "    normal_sampling(3, 1, 7, 1, sample_size),\n",
    "    normal_sampling(8, 1, 4, 1, sample_size),\n",
    "    normal_sampling(6, 1, 5, 1, sample_size),\n",
    "    normal_sampling(6, 3, 0, 1, sample_size),\n",
    "    normal_sampling(0, 3, 6, 2, sample_size)\n",
    "]).T\n",
    "y_data = []\n",
    "for i in range(0, x_data.shape[0]//sample_size):\n",
    "    y_data+=[i for j in range(0, sample_size)]\n",
    "y_data = np.array(y_data)"
   ]
  },
  {
   "cell_type": "code",
   "execution_count": 17,
   "metadata": {},
   "outputs": [
    {
     "data": {
      "text/plain": [
       "(3500,)"
      ]
     },
     "execution_count": 17,
     "metadata": {},
     "output_type": "execute_result"
    }
   ],
   "source": [
    "y_data.shape"
   ]
  },
  {
   "cell_type": "code",
   "execution_count": 16,
   "metadata": {},
   "outputs": [
    {
     "name": "stdout",
     "output_type": "stream",
     "text": [
      "Tensor(\"Reshape_6:0\", shape=(?, 7), dtype=int32)\n"
     ]
    }
   ],
   "source": [
    "nb_features = 2\n",
    "nb_classes = 7\n",
    "\n",
    "X = tf.placeholder(tf.float32, [None, nb_features])\n",
    "Y = tf.placeholder(tf.int32, [None])  # 0 ~ 6\n",
    "\n",
    "Y_one_hot = tf.reshape(Y, [-1, nb_classes])\n",
    "print(Y_one_hot)\n",
    "\n",
    "W = tf.Variable(tf.random_normal([nb_features, nb_classes]), name='weight')\n",
    "b = tf.Variable(tf.random_normal([nb_classes]), name='bias')\n",
    "\n",
    "\n",
    "\"\"\"\n",
    "logit으로 계산한 각 class 에 대한 값을 softmax function에 넘겨서 계산해줌\n",
    "- exponential normalization? 같은 느낌이라고 생각하면 됨\n",
    "\"\"\"\n",
    "logits = tf.matmul(X, W) + b\n",
    "hypothesis = tf.nn.softmax(logits)\n",
    "\n",
    "# Cross entropy cost/loss\n",
    "cost_i = tf.nn.softmax_cross_entropy_with_logits(logits=logits, labels=Y_one_hot)\n",
    "cost = tf.reduce_mean(cost_i)\n",
    "optimizer = tf.train.GradientDescentOptimizer(learning_rate=0.1).minimize(cost)\n",
    "\n",
    "# tf.argmax를 하면, axis를 축으로 변화하며 가장 큰 것의 index들을 리턴함\n",
    "prediction = tf.argmax(hypothesis, 1)\n",
    "correct_prediction = tf.equal(prediction, tf.argmax(Y_one_hot, 1))\n",
    "accuracy = tf.reduce_mean(tf.cast(correct_prediction, tf.float32))\n",
    "# Launch graph\n",
    "with tf.Session() as sess:\n",
    "   sess.run(tf.global_variables_initializer())\n",
    "\n",
    "   for step in range(2000):\n",
    "       sess.run(optimizer, feed_dict={X: x_data, Y: y_data})\n",
    "       if step % 100 == 0:\n",
    "           loss, acc = sess.run([cost, accuracy], feed_dict={\n",
    "                                X: x_data, Y: y_data})\n",
    "           print(\"Step: {:5}\\tLoss: {:.3f}\\tAcc: {:.2%}\".format(\n",
    "               step, loss, acc))\n",
    "\n",
    "   # Let's see if we can predict\n",
    "   pred = sess.run(prediction, feed_dict={X: x_data})\n",
    "   # y_data: (N,1) = flatten => (N, ) matches pred.shape\n",
    "   for p, y in zip(pred, y_data.flatten()):\n",
    "       print(\"[{}] Prediction: {} True Y: {}\".format(p == int(y), p, int(y)))\n"
   ]
  },
  {
   "cell_type": "code",
   "execution_count": 37,
   "metadata": {},
   "outputs": [
    {
     "name": "stdout",
     "output_type": "stream",
     "text": [
      "(2, 3)\n",
      "[[1 2 3]\n",
      " [4 5 6]]\n"
     ]
    },
    {
     "data": {
      "text/plain": [
       "array([1, 1, 1])"
      ]
     },
     "execution_count": 37,
     "metadata": {},
     "output_type": "execute_result"
    }
   ],
   "source": [
    "\"\"\"axis 복습: 입력받은 axis만 변화하고, \n",
    "\"\"\"\n",
    "sess = tf.Session()\n",
    "a = np.array([1,2,3,4,5,6]).reshape(2, 3)\n",
    "print(a.shape)\n",
    "print(a)\n",
    "sess.run(tf.argmax(a, axis=0))# 값을 리턴하는 것이 아니라, 값의 위치를 리턴함"
   ]
  },
  {
   "cell_type": "code",
   "execution_count": 41,
   "metadata": {},
   "outputs": [
    {
     "data": {
      "text/plain": [
       "array([1, 2, 3])"
      ]
     },
     "execution_count": 41,
     "metadata": {},
     "output_type": "execute_result"
    }
   ],
   "source": [
    "np.min(a, axis=0)"
   ]
  },
  {
   "cell_type": "code",
   "execution_count": null,
   "metadata": {
    "collapsed": true
   },
   "outputs": [],
   "source": []
  }
 ],
 "metadata": {
  "kernelspec": {
   "display_name": "Python 3",
   "language": "python",
   "name": "python3"
  },
  "language_info": {
   "codemirror_mode": {
    "name": "ipython",
    "version": 3
   },
   "file_extension": ".py",
   "mimetype": "text/x-python",
   "name": "python",
   "nbconvert_exporter": "python",
   "pygments_lexer": "ipython3",
   "version": "3.6.2"
  }
 },
 "nbformat": 4,
 "nbformat_minor": 2
}
