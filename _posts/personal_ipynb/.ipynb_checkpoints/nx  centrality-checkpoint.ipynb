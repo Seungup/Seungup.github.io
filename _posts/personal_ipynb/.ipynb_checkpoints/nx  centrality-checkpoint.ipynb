{
 "cells": [
  {
   "cell_type": "code",
   "execution_count": 8,
   "metadata": {},
   "outputs": [
    {
     "data": {
      "image/png": "[encoded data removed]",
      "text/plain": [
       "<matplotlib.figure.Figure at 0x1518c80438>"
      ]
     },
     "metadata": {},
     "output_type": "display_data"
    }
   ],
   "source": [
    "import networkx as nx\n",
    "import matplotlib.pyplot as plt\n",
    "\n",
    "w_G = nx.Graph()\n",
    "w_G.add_edge('a', 'b', weight=0.6)\n",
    "w_G.add_edge('a', 'c', weight=0.2)\n",
    "w_G.add_edge('c', 'd', weight=20.0)\n",
    "w_G.add_edge('c', 'e', weight=30.0)\n",
    "w_G.add_edge('a', 'e', weight=1.0)\n",
    "w_G.add_edge('c', 'f', weight=40.0)\n",
    "w_G.add_edge('a', 'f', weight=0.1)\n",
    "w_G.add_edge('a', 'd', weight=0.3)\n",
    "\n",
    "uw_G = nx.Graph()\n",
    "uw_G.add_edge('a', 'b', weight=1.0)\n",
    "uw_G.add_edge('a', 'c', weight=1.0)\n",
    "uw_G.add_edge('c', 'd', weight=1.0)\n",
    "uw_G.add_edge('c', 'e', weight=1.0)\n",
    "uw_G.add_edge('c', 'f', weight=1.0)\n",
    "uw_G.add_edge('a', 'd', weight=1.0)\n",
    "\n",
    "\n",
    "nx.draw_networkx(w_G)\n",
    "plt.axis('off')\n",
    "plt.show()"
   ]
  },
  {
   "cell_type": "code",
   "execution_count": 9,
   "metadata": {},
   "outputs": [
    {
     "name": "stdout",
     "output_type": "stream",
     "text": [
      "{'a': 2.2, 'b': 0.6, 'c': 90.2, 'd': 20.3, 'e': 31.0, 'f': 40.1}\n",
      "{'a': 0.06666293395444435, 'b': 0.040453692433423706, 'c': 0.423037625942687, 'd': 0.11245731999259093, 'e': 0.1703518647195248, 'f': 0.18703656295732876}\n",
      "{'a': 0.06666293395444435, 'b': 0.040453692433423706, 'c': 0.423037625942687, 'd': 0.11245731999259093, 'e': 0.1703518647195248, 'f': 0.18703656295732876}\n"
     ]
    }
   ],
   "source": [
    "import pandas as pd\n",
    "import matplotlib.pyplot as plt\n",
    "import networkx as nx\n",
    "\n",
    "def return_centralities(input_g):\n",
    "def weighted_degree_centrality(input_g, normalized=False):\n",
    "    w_d_centrality = {n:0.0 for n in input_g.nodes()}\n",
    "    for u, v, d in input_g.edges(data=True):\n",
    "        w_d_centrality[u]+=d['weight']\n",
    "        w_d_centrality[v]+=d['weight']\n",
    "    if normalized==True:\n",
    "        weighted_sum = sum(w_d_centrality.values())\n",
    "        return {k:v/weighted_sum for k, v in w_d_centrality.items()}\n",
    "    else:\n",
    "        return w_d_centrality\n",
    "print(weighted_degree_centrality(w_G)) # \n",
    "\"\"\"\n",
    "closeness의 경우 distance로 되어 있기 때문에, weight와 개념이 다름 \n",
    "빈도라면 distance로 고려하고 역수로 변경해주는 것이 필요함. 중요할 수록 낮은 값. \n",
    "\n",
    "betweenness_centrality의 경우 argument의 이름이 distance가 아니라 weight이며, 중요할수록 높은 값. \n",
    "\n",
    "eigenvector centrality 또한 중요할 수록 weight의 값이 높아야 함.\n",
    "\n",
    "따라서 헷갈리지 않기 위해서는 네트워크 내에 distance 라는 attribute를 하나 더 만들어서 두는 편이 더 좋을 수 있음.\n",
    "\"\"\"\n",
    "nx.closeness_centrality(w_G, distance='weight')\n",
    "nx.betweenness_centrality(w_G, weight='weight')\n",
    "#nx.algorithms.eigenvector_centrality(w_G, weight='weight')\n",
    "print(nx.algorithms.link_analysis.pagerank(w_G, weight='weight'))\n",
    "print(nx.algorithms.link_analysis.pagerank(w_G))\n"
   ]
  },
  {
   "cell_type": "code",
   "execution_count": 22,
   "metadata": {},
   "outputs": [
    {
     "name": "stdout",
     "output_type": "stream",
     "text": [
      "{'a': 0.3333333333333333, 'b': 0.3333333333333333, 'c': 0.3333333333333333}\n",
      "{'a': 0.3333333333333333, 'b': 0.3333333333333333, 'c': 0.3333333333333333}\n",
      "{'a': 0.3917526289358248, 'b': 0.3917526289358248, 'c': 0.21649474212835024}\n",
      "{'a': 0.3917526289358248, 'b': 0.3917526289358248, 'c': 0.21649474212835024}\n",
      "{'a': 0.05243451203645545, 'b': 0.4822582925313901, 'c': 0.46530719543215443}\n",
      "{'a': 0.05243451203645545, 'b': 0.4822582925313901, 'c': 0.46530719543215443}\n",
      "{'a': 0.05243451203645545, 'b': 0.4822582925313901, 'c': 0.46530719543215443}\n"
     ]
    }
   ],
   "source": [
    "G = nx.Graph()\n",
    "G.add_edge('a', 'b', weight=1.0)\n",
    "G.add_edge('a', 'c', weight=1.0)\n",
    "G.add_edge('c', 'b', weight=1.0)\n",
    "\n",
    "print(nx.algorithms.link_analysis.pagerank(G))\n",
    "print(nx.algorithms.link_analysis.pagerank(G, weight='weight'))\n",
    "\n",
    "G = nx.Graph()\n",
    "G.add_edge('a', 'b', weight=3.0)\n",
    "G.add_edge('a', 'c', weight=1.0)\n",
    "G.add_edge('c', 'b', weight=1.0)\n",
    "print(nx.algorithms.link_analysis.pagerank(G))\n",
    "print(nx.algorithms.link_analysis.pagerank(G, weight='weight'))\n",
    "\n",
    "G = nx.Graph()\n",
    "G.add_edge('a', 'b', weight=0.5)\n",
    "G.add_edge('a', 'c', weight=0.1)\n",
    "G.add_edge('c', 'b', weight=100.0)\n",
    "print(nx.algorithms.link_analysis.pagerank(G))\n",
    "print(nx.algorithms.link_analysis.pagerank(G, weight='weight'))\n",
    "print(nx.pagerank(G, weight='weight'))"
   ]
  },
  {
   "cell_type": "code",
   "execution_count": 77,
   "metadata": {},
   "outputs": [
    {
     "data": {
      "text/plain": [
       "{'a': 0.55, 'b': 0.0, 'c': 0.15000000000000002, 'd': 0.0, 'e': 0.0, 'f': 0.0}"
      ]
     },
     "execution_count": 77,
     "metadata": {},
     "output_type": "execute_result"
    }
   ],
   "source": [
    "nx.betweenness_centrality(w_G)"
   ]
  },
  {
   "cell_type": "code",
   "execution_count": 75,
   "metadata": {},
   "outputs": [
    {
     "data": {
      "text/plain": [
       "{'a': 0.55, 'b': 0.0, 'c': 0.15000000000000002, 'd': 0.0, 'e': 0.0, 'f': 0.0}"
      ]
     },
     "execution_count": 75,
     "metadata": {},
     "output_type": "execute_result"
    }
   ],
   "source": []
  },
  {
   "cell_type": "code",
   "execution_count": 32,
   "metadata": {},
   "outputs": [
    {
     "data": {
      "text/plain": [
       "{'betweeness_cent': {'a': 1.0, 'b': 0.0, 'c': 0.0},\n",
       " 'closeness_cent': {'a': 0.49875311720698257,\n",
       "  'b': 0.9950248756218907,\n",
       "  'c': 0.9900990099009903},\n",
       " 'pagerank': {'a': 0.05243451203645545,\n",
       "  'b': 0.4822582925313901,\n",
       "  'c': 0.46530719543215443},\n",
       " 'weighted_deg': {'a': 0.6, 'b': 100.5, 'c': 100.1}}"
      ]
     },
     "execution_count": 32,
     "metadata": {},
     "output_type": "execute_result"
    }
   ],
   "source": [
    "\"\"\"\n",
    "- graph로부터 다음 세 가지 centrality와 pagerank를 계산하여 출력해주는 함수\n",
    "    - weighted degree centrality\n",
    "    - closeness centrality\n",
    "    - betweenness centrality\n",
    "    - pagerank\n",
    "\"\"\"\n",
    "def return_centralities_as_dict(input_g):\n",
    "    # weighted degree centrality를 딕셔너리로 리턴\n",
    "    def return_weighted_degree_centrality(input_g, normalized=False):\n",
    "        w_d_centrality = {n:0.0 for n in input_g.nodes()}\n",
    "        for u, v, d in input_g.edges(data=True):\n",
    "            w_d_centrality[u]+=d['weight']\n",
    "            w_d_centrality[v]+=d['weight']\n",
    "        if normalized==True:\n",
    "            weighted_sum = sum(w_d_centrality.values())\n",
    "            return {k:v/weighted_sum for k, v in w_d_centrality.items()}\n",
    "        else:\n",
    "            return w_d_centrality\n",
    "    def return_closeness_centrality(input_g):\n",
    "        new_g_with_distance = input_g.copy()\n",
    "        for u,v,d in input_g.edges(data=True):\n",
    "            if 'distance' not in d:\n",
    "                d['distance'] = 1.0/d['weight']\n",
    "        return nx.closeness_centrality(input_g, distance='distance')\n",
    "    def return_betweenness_centrality(input_g):\n",
    "        return nx.betweenness_centrality(input_g, weight='weight')\n",
    "    def return_pagerank(input_g):\n",
    "        return nx.pagerank(input_g, weight='weight')\n",
    "    return {\n",
    "        'weighted_deg':return_weighted_degree_centrality(input_g),\n",
    "        'closeness_cent':return_closeness_centrality(input_g), \n",
    "        'betweeness_cent':return_betweenness_centrality(input_g),\n",
    "        'pagerank':return_pagerank(input_g)\n",
    "    }\n",
    "    \n",
    "        \n",
    "return_centralities_as_dict(G)"
   ]
  },
  {
   "cell_type": "code",
   "execution_count": null,
   "metadata": {
    "collapsed": true
   },
   "outputs": [],
   "source": [
    "d"
   ]
  }
 ],
 "metadata": {
  "kernelspec": {
   "display_name": "Python 3",
   "language": "python",
   "name": "python3"
  },
  "language_info": {
   "codemirror_mode": {
    "name": "ipython",
    "version": 3
   },
   "file_extension": ".py",
   "mimetype": "text/x-python",
   "name": "python",
   "nbconvert_exporter": "python",
   "pygments_lexer": "ipython3",
   "version": "3.6.2"
  }
 },
 "nbformat": 4,
 "nbformat_minor": 2
}
