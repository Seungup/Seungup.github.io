{
 "cells": [
  {
   "cell_type": "code",
   "execution_count": 30,
   "metadata": {},
   "outputs": [
    {
     "name": "stdout",
     "output_type": "stream",
     "text": [
      "/Users/frhyme/frhyme.github.io/_posts/personal_ipynb\n",
      "--------------------\n",
      "/Users/frhyme/frhyme.github.io\n",
      "['_includes', '_posts', '_layouts', '_pages', 'Rakefile', '_site', 'Gemfile', '_data', '_sass', 'assets']\n",
      "--------------------\n",
      "True\n",
      "True\n",
      "False\n",
      "False\n",
      "--------------------\n"
     ]
    }
   ],
   "source": [
    "import os\n",
    "import matplotlib.pyplot as plt\n",
    "import numpy as np \n",
    "\n",
    "#### 현재 경로 이동 \n",
    "os.chdir('/Users/frhyme/frhyme.github.io/_posts/personal_ipynb/')\n",
    "#### 현재 파일 경로 변환 \n",
    "print(os.getcwd())\n",
    "print(\"-\"*20)\n",
    "os.chdir('../../')\n",
    "print(os.getcwd())\n",
    "#### 현재 위치에 있는 폴더와 파일 프린트 \n",
    "print(list(filter( lambda x: True if \".\" not in x else False, \n",
    "                  os.listdir())))\n",
    "print(\"-\"*20)\n",
    "os.chdir('/Users/frhyme/frhyme.github.io/_posts/personal_ipynb/')\n",
    "\n",
    "#### sample img generation \n",
    "img = np.random.normal(0, 1, (200, 200))\n",
    "file_name = '180703_os_test_img.svg'\n",
    "plt.figure(), plt.imshow(img, cmap=plt.cm.gray), plt.axis('off')\n",
    "plt.savefig(file_name), plt.close()\n",
    "\n",
    "#### 파일 지우기\n",
    "#### 둘다 똑같이 동작함. \n",
    "print( file_name in os.listdir())\n",
    "print(os.path.exists(file_name))\n",
    "os.remove(file_name)\n",
    "print( file_name in os.listdir())\n",
    "print(os.path.exists(file_name))\n",
    "print(\"-\"*20)\n"
   ]
  },
  {
   "cell_type": "code",
   "execution_count": 7,
   "metadata": {},
   "outputs": [
    {
     "name": "stdout",
     "output_type": "stream",
     "text": [
      "/Users/frhyme/frhyme.github.io/_posts/personal_ipynb\n",
      "0\n"
     ]
    }
   ],
   "source": [
    "import os \n",
    "print(os.getcwd())"
   ]
  },
  {
   "cell_type": "code",
   "execution_count": null,
   "metadata": {},
   "outputs": [],
   "source": []
  },
  {
   "cell_type": "code",
   "execution_count": 74,
   "metadata": {},
   "outputs": [
    {
     "name": "stdout",
     "output_type": "stream",
     "text": [
      "success\n",
      "------------------------------\n",
      "## command: pwd\n",
      "/Users/frhyme/frhyme.github.io/_posts/personal_ipynb\n",
      "------------------------------\n",
      "## command: git status\n",
      "On branch master\n",
      "Your branch is up to date with 'origin/master'.\n",
      "\n",
      "Changes not staged for commit:\n",
      "  (use \"git add/rm <file>...\" to update what will be committed)\n",
      "  (use \"git checkout -- <file>...\" to discard changes in working directory)\n",
      "\n",
      "\tdeleted:    ../a_python_os.md\n",
      "\tmodified:   180703-os.ipynb\n",
      "\n",
      "Untracked files:\n",
      "  (use \"git add <file>...\" to include in what will be committed)\n",
      "\n",
      "\t../2018-07-03-binary_str_to_str.md\n",
      "\t../2018-07-03-python_os.md\n",
      "\n",
      "no changes added to commit (use \"git add\" and/or \"git commit -a\")\n",
      "------------------------------\n"
     ]
    }
   ],
   "source": [
    "import os\n",
    "#### bash command를 실행만 시키고 싶을 때 \n",
    "#### 하지만, 이 경우, 결과값을 반환하지 않음. 실행결과유무만 리턴됨 \n",
    "r = os.system('pwd')\n",
    "print('success' if r==0 else 'failed')\n",
    "print(\"-\"*30)\n",
    "\n",
    "import subprocess\n",
    "#### 실행결과를 리턴받고 싶을때 \n",
    "#### 하지만, 이 때는 binary string으로 돌아오기 때문에, 변환해주는 것이 필요함. \n",
    "for cmd in ['pwd', 'git status']:\n",
    "    binary_output = subprocess.check_output(cmd, shell=True)\n",
    "    print(\"## command: {}\".format(cmd))\n",
    "    print(binary_output.decode('utf-8').strip())\n",
    "    print(\"-\"*30)"
   ]
  },
  {
   "cell_type": "code",
   "execution_count": 75,
   "metadata": {},
   "outputs": [
    {
     "data": {
      "text/plain": [
       "'/Users/frhyme/frhyme.github.io/_posts/personal_ipynb'"
      ]
     },
     "execution_count": 75,
     "metadata": {},
     "output_type": "execute_result"
    }
   ],
   "source": [
    "import subprocess\n",
    "\n",
    "os.getcwd()"
   ]
  },
  {
   "cell_type": "code",
   "execution_count": 52,
   "metadata": {},
   "outputs": [
    {
     "name": "stdout",
     "output_type": "stream",
     "text": [
      "On branch master\n",
      "Your branch is up to date with 'origin/master'.\n",
      "\n",
      "Changes not staged for commit:\n",
      "  (use \"git add/rm <file>...\" to update what will be committed)\n",
      "  (use \"git checkout -- <file>...\" to discard changes in working directory)\n",
      "\n",
      "\tdeleted:    ../a_python_os.md\n",
      "\tmodified:   180703-os.ipynb\n",
      "\n",
      "Untracked files:\n",
      "  (use \"git add <file>...\" to include in what will be committed)\n",
      "\n",
      "\t../2018-07-03-binary_str_to_str.md\n",
      "\t../2018-07-03-python_os.md\n",
      "\n",
      "no changes added to commit (use \"git add\" and/or \"git commit -a\")\n",
      "\n"
     ]
    }
   ],
   "source": [
    "decoded_a = a.decode('utf-8')\n",
    "print(decoded_a)"
   ]
  },
  {
   "cell_type": "code",
   "execution_count": 59,
   "metadata": {},
   "outputs": [
    {
     "name": "stdout",
     "output_type": "stream",
     "text": [
      "이승훈\n",
      "b'\\xec\\x9d\\xb4\\xec\\x8a\\xb9\\xed\\x9b\\x88'\n",
      "이승훈\n"
     ]
    }
   ],
   "source": [
    "test_a = '이승훈'\n",
    "print(test_a)\n",
    "print(test_a.encode('utf-8'))\n",
    "print(test_a.encode('utf-8').decode('utf-8'))"
   ]
  },
  {
   "cell_type": "code",
   "execution_count": null,
   "metadata": {},
   "outputs": [],
   "source": []
  }
 ],
 "metadata": {
  "kernelspec": {
   "display_name": "Python 3",
   "language": "python",
   "name": "python3"
  },
  "language_info": {
   "codemirror_mode": {
    "name": "ipython",
    "version": 3
   },
   "file_extension": ".py",
   "mimetype": "text/x-python",
   "name": "python",
   "nbconvert_exporter": "python",
   "pygments_lexer": "ipython3",
   "version": "3.6.5"
  }
 },
 "nbformat": 4,
 "nbformat_minor": 2
}
