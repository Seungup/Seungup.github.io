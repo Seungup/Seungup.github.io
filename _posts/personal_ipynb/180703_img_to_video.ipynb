{
 "cells": [
  {
   "cell_type": "code",
   "execution_count": 39,
   "metadata": {},
   "outputs": [
    {
     "name": "stdout",
     "output_type": "stream",
     "text": [
      "complete\n",
      "image file delete complete\n"
     ]
    }
   ],
   "source": [
    "import matplotlib.pyplot as plt\n",
    "import numpy as np\n",
    "import imageio\n",
    "import os\n",
    "\n",
    "def img_file_to_gif(img_files, output_file_name):\n",
    "    ## imge 파일 리스트로부터 gif 생성 \n",
    "    imgs_array = [np.array(imageio.imread(img_file)) for img_file in img_file_lst]\n",
    "    imageio.mimsave(output_file_name, imgs_array, duration=0.5)\n",
    "\n",
    "plt.style.use('dark_background')\n",
    "\n",
    "node_size = 1000\n",
    "x = np.random.normal(0, 1, node_size)\n",
    "y = np.random.normal(0, 1, node_size)\n",
    "\n",
    "#### sample image generation \n",
    "img_file_lst = []\n",
    "for i in range(0, 20):\n",
    "    f = plt.figure(figsize=(12, 6), dpi=100)\n",
    "    to = (i+1)*50\n",
    "    plt.scatter(x[:to], y[:to], alpha=0.5, color='blue')\n",
    "    plt.xlim([-3, 3]), plt.ylim([-3, 3])\n",
    "    output_img_file_name = '../../assets/images/markdown_img/180703_1520_test_img_{}.png'.format(i)\n",
    "    img_file_lst.append(output_img_file_name)\n",
    "    plt.savefig(output_img_file_name)\n",
    "    plt.close()\n",
    "\n",
    "img_file_to_gif(img_file_lst, \"../../assets/images/markdown_img/180703_1520_test_gif.gif\")\n",
    "\n",
    "print('complete')\n",
    "#### sample image delete \n",
    "for img_file in img_file_lst:\n",
    "    if os.path.exists(img_file):\n",
    "        os.remove(img_file)\n",
    "print('image file delete complete')"
   ]
  },
  {
   "cell_type": "code",
   "execution_count": null,
   "metadata": {},
   "outputs": [],
   "source": []
  }
 ],
 "metadata": {
  "kernelspec": {
   "display_name": "Python 3",
   "language": "python",
   "name": "python3"
  },
  "language_info": {
   "codemirror_mode": {
    "name": "ipython",
    "version": 3
   },
   "file_extension": ".py",
   "mimetype": "text/x-python",
   "name": "python",
   "nbconvert_exporter": "python",
   "pygments_lexer": "ipython3",
   "version": "3.6.5"
  }
 },
 "nbformat": 4,
 "nbformat_minor": 2
}
