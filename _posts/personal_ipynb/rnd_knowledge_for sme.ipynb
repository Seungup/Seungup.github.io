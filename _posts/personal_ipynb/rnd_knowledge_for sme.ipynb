{
 "cells": [
  {
   "cell_type": "code",
   "execution_count": 6,
   "metadata": {
    "collapsed": true
   },
   "outputs": [],
   "source": [
    "import networkx as nx\n",
    "import pandas as pd\n",
    "import matplotlib.pyplot as plt"
   ]
  },
  {
   "cell_type": "code",
   "execution_count": 71,
   "metadata": {
    "collapsed": true
   },
   "outputs": [],
   "source": [
    "excel_path_and_filename = \"../../../Downloads/SMEs_Scopus_2013-2017.xlsx\"\n",
    "df = pd.read_excel(excel_path_and_filename)"
   ]
  },
  {
   "cell_type": "code",
   "execution_count": 10,
   "metadata": {},
   "outputs": [
    {
     "data": {
      "text/plain": [
       "Index(['Authors', 'Title', 'Year', 'Source title', 'Volume', 'Issue',\n",
       "       'Art. No.', 'Page start', 'Page end', 'Page count', 'Cited by', 'DOI',\n",
       "       'Link', 'Affiliations', 'Authors with affiliations', 'Abstract',\n",
       "       'Author Keywords', 'Index Keywords', 'Correspondence Address',\n",
       "       'Editors', 'Publisher', 'ISSN', 'ISBN', 'CODEN', 'PubMed ID',\n",
       "       'Language of Original Document', 'Abbreviated Source Title',\n",
       "       'Document Type', 'Access Type', 'Source', 'EID', 'Unnamed: 31'],\n",
       "      dtype='object')"
      ]
     },
     "execution_count": 10,
     "metadata": {},
     "output_type": "execute_result"
    }
   ],
   "source": [
    "df.columns\n"
   ]
  },
  {
   "cell_type": "code",
   "execution_count": 83,
   "metadata": {},
   "outputs": [],
   "source": [
    "# 이걸 각 시트별로 내용을 쭉쭉 넣으면 되지 않을까?\n",
    "import itertools\n",
    "from collections import Counter\n",
    "from inflection import singularize \n",
    "from textblob import TextBlob\n",
    "\n",
    "def make_simple_report(input_df):\n",
    "    def total_kwd_count():\n",
    "        auth_kwds = input_df['Author Keywords'].fillna(\"\").copy()\n",
    "        auth_kwds = map(lambda s: s.strip(), auth_kwds)\n",
    "        auth_kwds = map(lambda s: s.split(\";\"), auth_kwds)\n",
    "        auth_kwds = filter(lambda s: True if s!=\"\" else False, itertools.chain.from_iterable(auth_kwds))\n",
    "        auth_kwds = map(lambda s: s.strip().lower(), auth_kwds)\n",
    "        auth_kwds = map(lambda s: singularize(s), auth_kwds)\n",
    "        # not ignore '-' or '.' and so on. \n",
    "        auth_kwds = pd.DataFrame(Counter(auth_kwds).most_common(), columns=[\"author kwd\", \"count\"])\n",
    "        return auth_kwds\n",
    "    def total_noun_count_from_abstract():\n",
    "        nouns = input_df['Abstract'].dropna().copy()\n",
    "        nouns = (TextBlob(abstract).noun_phrases for abstract in nouns)\n",
    "        nouns = itertools.chain.from_iterable(nouns)\n",
    "        nouns = map(lambda s: singularize(s), nouns)\n",
    "        nouns = pd.DataFrame(Counter(nouns).most_common(), columns=['noun from abstract', 'count'])\n",
    "        return nouns\n",
    "    def yearly_kwd_count_n(n=20):\n",
    "        years = sorted(list(set(input_df['Year'])))\n",
    "        yearly_kwds_df = {}\n",
    "        for year in years:\n",
    "            year_auth_kwds = input_df[input_df['Year']==year]['Author Keywords'].dropna().copy()\n",
    "            year_auth_kwds = map(lambda s: s.strip(), year_auth_kwds)\n",
    "            year_auth_kwds = map(lambda s: s.split(\";\"), year_auth_kwds)\n",
    "            year_auth_kwds = itertools.chain.from_iterable(year_auth_kwds)\n",
    "            year_auth_kwds = map(lambda s: singularize(s.strip().lower()), year_auth_kwds)\n",
    "            year_auth_kwds = [k for k, v in Counter(year_auth_kwds).most_common(n)]\n",
    "            if len(year_auth_kwds) < n:\n",
    "                for i in range(0, n - len(year_auth_kwds)):\n",
    "                    year_auth_kwds.append(\"\")\n",
    "            yearly_kwds_df[year]=year_auth_kwds\n",
    "        return pd.DataFrame(yearly_kwds_df)\n",
    "        \n",
    "    writer = pd.ExcelWriter('simple_report_for_SME.xlsx')\n",
    "    total_kwd_count().to_excel(writer, \"전체 키워드 빈도 순위\")\n",
    "    total_noun_count_from_abstract().to_excel(writer, '초록에서 뽑아낸 명사 빈도 순위')\n",
    "    yearly_kwd_count_n(20).to_excel(writer, '연도별 저자 키워드 빈도 순위 변화')\n",
    "    writer.save()\n",
    "    \n",
    "make_simple_report(df[:1000].copy())"
   ]
  },
  {
   "cell_type": "code",
   "execution_count": 97,
   "metadata": {},
   "outputs": [
    {
     "data": {
      "image/png": "[encoded data removed]",
      "text/plain": [
       "<matplotlib.figure.Figure at 0x1a1cb192e8>"
      ]
     },
     "metadata": {},
     "output_type": "display_data"
    },
    {
     "data": {
      "text/plain": [
       "{'a': 0.3928571428571428,\n",
       " 'b': 0.21428571428571425,\n",
       " 'c': 0.6785714285714285,\n",
       " 'd': 0.14285714285714285,\n",
       " 'e': 0.24999999999999997,\n",
       " 'f': 0.3214285714285714}"
      ]
     },
     "execution_count": 97,
     "metadata": {},
     "output_type": "execute_result"
    }
   ],
   "source": [
    "import networkx as nx\n",
    "\n",
    "nx.draw_networkx(G1)\n",
    "plt.show()\n",
    "\n",
    "G1 = nx.Graph()\n",
    "G1.add_edge('a', 'b', weight=0.6)\n",
    "G1.add_edge('a', 'c', weight=0.2)\n",
    "G1.add_edge('c', 'd', weight=0.1)\n",
    "G1.add_edge('c', 'e', weight=0.7)\n",
    "G1.add_edge('c', 'f', weight=0.9)\n",
    "G1.add_edge('a', 'd', weight=0.3)\n",
    "\n",
    "G2 = nx.Graph()\n",
    "G2.add_edge('a', 'b', weight=1.0)\n",
    "G2.add_edge('a', 'c', weight=1.0)\n",
    "G2.add_edge('c', 'd', weight=1.0)\n",
    "G2.add_edge('c', 'e', weight=1.0)\n",
    "G2.add_edge('c', 'f', weight=1.0)\n",
    "G2.add_edge('a', 'd', weight=1.0)\n",
    "\n",
    "nx.degree_centrality(G1)\n",
    "nx.degree_centrality(G2)\n",
    "\n",
    "def weighted_degree_centrality(input_G, normalized=False):\n",
    "    centrality={}\n",
    "    weighted_sum = [ edge[2]['weight'] for edge in G.edges(data=True) ]\n",
    "    weighted_sum = sum(weighted_sum)\n",
    "    for node1 in G.nodes():\n",
    "        weighted_degree = 0\n",
    "        if normalized==False:\n",
    "            for node2 in G.nodes():\n",
    "                try:\n",
    "                    weighted_degree+=G[node1][node2]['weight']\n",
    "                except:\n",
    "                    continue\n",
    "        else:\n",
    "            for node2 in G.nodes():\n",
    "                try:\n",
    "                    weighted_degree+=G[node1][node2]['weight']/weighted_sum\n",
    "                except:\n",
    "                    continue\n",
    "        centrality[node1]=weighted_degree\n",
    "    return centrality\n",
    "weighted_degree_centrality(G2, True)\n"
   ]
  },
  {
   "cell_type": "code",
   "execution_count": null,
   "metadata": {
    "collapsed": true
   },
   "outputs": [],
   "source": []
  }
 ],
 "metadata": {
  "kernelspec": {
   "display_name": "Python 3",
   "language": "python",
   "name": "python3"
  },
  "language_info": {
   "codemirror_mode": {
    "name": "ipython",
    "version": 3
   },
   "file_extension": ".py",
   "mimetype": "text/x-python",
   "name": "python",
   "nbconvert_exporter": "python",
   "pygments_lexer": "ipython3",
   "version": "3.6.2"
  }
 },
 "nbformat": 4,
 "nbformat_minor": 2
}
