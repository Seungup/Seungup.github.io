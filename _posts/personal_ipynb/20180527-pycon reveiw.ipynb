{
 "cells": [
  {
   "cell_type": "code",
   "execution_count": 1,
   "metadata": {
    "collapsed": true
   },
   "outputs": [],
   "source": [
    "import pandas as pd"
   ]
  },
  {
   "cell_type": "code",
   "execution_count": 67,
   "metadata": {},
   "outputs": [
    {
     "data": {
      "text/html": [
       "<div>\n",
       "<style>\n",
       "    .dataframe thead tr:only-child th {\n",
       "        text-align: right;\n",
       "    }\n",
       "\n",
       "    .dataframe thead th {\n",
       "        text-align: left;\n",
       "    }\n",
       "\n",
       "    .dataframe tbody tr th {\n",
       "        vertical-align: top;\n",
       "    }\n",
       "</style>\n",
       "<table border=\"1\" class=\"dataframe\">\n",
       "  <thead>\n",
       "    <tr style=\"text-align: right;\">\n",
       "      <th></th>\n",
       "      <th>title</th>\n",
       "      <th>content</th>\n",
       "      <th>detail</th>\n",
       "      <th>category</th>\n",
       "      <th>rating</th>\n",
       "    </tr>\n",
       "  </thead>\n",
       "  <tbody>\n",
       "    <tr>\n",
       "      <th>0</th>\n",
       "      <td>Quantify myself - self 사생활침해</td>\n",
       "      <td>저는 2014년부터 2017년까지, 약 4년간 매일 만나는 사람들을 데이터로 정리를...</td>\n",
       "      <td>보다 자세한 소개는 글로 말씀드리는 것보다 이전에 제가 만들었던 자료를 보여드리는 ...</td>\n",
       "      <td>Life / Social</td>\n",
       "      <td>-1</td>\n",
       "    </tr>\n",
       "    <tr>\n",
       "      <th>1</th>\n",
       "      <td>Ready, Get Set, Go!</td>\n",
       "      <td>파이콘의 전통적인 이벤트 중 하나인 스프린트에 대해서 이야기합니다.</td>\n",
       "      <td>스프린트에 대한 모든 것을 다룹니다. 역사와 의의를 비롯하여 커뮤니티에 미친 구체적...</td>\n",
       "      <td>Python Community</td>\n",
       "      <td>-1</td>\n",
       "    </tr>\n",
       "    <tr>\n",
       "      <th>2</th>\n",
       "      <td>Understanding of Medical Physics modeling and ...</td>\n",
       "      <td>Understanding of data analysis from the ancien...</td>\n",
       "      <td>Hadrontherapy is taking a major role in modern...</td>\n",
       "      <td>Data Analytics</td>\n",
       "      <td>-1</td>\n",
       "    </tr>\n",
       "    <tr>\n",
       "      <th>3</th>\n",
       "      <td>A Spark for Diversity: A Walk-through of Women...</td>\n",
       "      <td>Women Who Code is a global non-profit organiza...</td>\n",
       "      <td>https://docs.google.com/document/d/1UviRQ3W_fh...</td>\n",
       "      <td>Python Community</td>\n",
       "      <td>-1</td>\n",
       "    </tr>\n",
       "    <tr>\n",
       "      <th>4</th>\n",
       "      <td>머신러닝으로 경마 한구라 가즈아!!!</td>\n",
       "      <td>머신러닝을 통해서 국내 최고수준의 가상의 경마전문가를 만들어낸 경험을 소개하고자 합니다.</td>\n",
       "      <td>경마 예측을 위해 파이썬으로 크롤러 제작, 머신러닝, 자동화를 진행하였습니다. 텍스...</td>\n",
       "      <td>Data Analytics</td>\n",
       "      <td>-1</td>\n",
       "    </tr>\n",
       "  </tbody>\n",
       "</table>\n",
       "</div>"
      ],
      "text/plain": [
       "                                               title  \\\n",
       "0                       Quantify myself - self 사생활침해   \n",
       "1                                Ready, Get Set, Go!   \n",
       "2  Understanding of Medical Physics modeling and ...   \n",
       "3  A Spark for Diversity: A Walk-through of Women...   \n",
       "4                               머신러닝으로 경마 한구라 가즈아!!!   \n",
       "\n",
       "                                             content  \\\n",
       "0  저는 2014년부터 2017년까지, 약 4년간 매일 만나는 사람들을 데이터로 정리를...   \n",
       "1             파이콘의 전통적인 이벤트 중 하나인 스프린트에 대해서 이야기합니다.    \n",
       "2  Understanding of data analysis from the ancien...   \n",
       "3  Women Who Code is a global non-profit organiza...   \n",
       "4  머신러닝을 통해서 국내 최고수준의 가상의 경마전문가를 만들어낸 경험을 소개하고자 합니다.   \n",
       "\n",
       "                                              detail          category  rating  \n",
       "0  보다 자세한 소개는 글로 말씀드리는 것보다 이전에 제가 만들었던 자료를 보여드리는 ...     Life / Social      -1  \n",
       "1  스프린트에 대한 모든 것을 다룹니다. 역사와 의의를 비롯하여 커뮤니티에 미친 구체적...  Python Community      -1  \n",
       "2  Hadrontherapy is taking a major role in modern...    Data Analytics      -1  \n",
       "3  https://docs.google.com/document/d/1UviRQ3W_fh...  Python Community      -1  \n",
       "4  경마 예측을 위해 파이썬으로 크롤러 제작, 머신러닝, 자동화를 진행하였습니다. 텍스...    Data Analytics      -1  "
      ]
     },
     "execution_count": 67,
     "metadata": {},
     "output_type": "execute_result"
    }
   ],
   "source": [
    "df = pd.read_csv(\"/Users/frhyme/Downloads/파이콘 한국 2018 CFP 리뷰 - CFP 리스트.csv\")\n",
    "new_df = {\n",
    "    \"title\":[],\n",
    "    'category':[],\n",
    "    'content':[],\n",
    "    'detail':[],\n",
    "    'rating':[]\n",
    "}\n",
    "for i in range(3, len(df)):\n",
    "    item = list(df.iloc()[i])\n",
    "    title = item[3]\n",
    "    category = item[4]\n",
    "    content = item[5]\n",
    "    detail = item[6]\n",
    "    \n",
    "    new_df['title'].append(title)\n",
    "    new_df['category'].append(category)\n",
    "    new_df['content'].append(content)\n",
    "    new_df['detail'].append(detail)\n",
    "    new_df['rating'].append(-1)\n",
    "\n",
    "new_df = pd.DataFrame(new_df)[['title', 'content', 'detail', 'category', 'rating']]\n",
    "new_df.head()"
   ]
  },
  {
   "cell_type": "code",
   "execution_count": 107,
   "metadata": {},
   "outputs": [
    {
     "name": "stdout",
     "output_type": "stream",
     "text": [
      "-------content 120:------\n",
      "TITLE: Reproducible Data science using Terraform\n",
      "Infrastructure is an inevitable step in the development cycle.\n",
      "Data scientists  focus on the statistics, machine learning, or a prototype they want to validate, but sooner or later the need comes  to move the experiment to a cloud environment with: more and faster resources.\n",
      "There are a lot of obstacles to sort out in order to get an experiment running into your favourite cloud provider, and many of us then resort either  to bash scripts or to manually create whats needed via the UI, but those alternatives are hard to understand, maintain and reproduce.\n",
      "\n",
      "Terraform let you create and manage infrastructure, but it goes beyond that, If used  in the correct manner, It can empower your team by hiding complex infrastructure setups. \n",
      "\n",
      "For Data Scientists it means you can create the needed resources for your experiment: in a reproducible manner, but also knowing less about complex setup details.\n",
      "\n",
      "\n",
      "In this talk I will address:\n",
      "- why should Data Science care about devops\n",
      "- Irreproducible / hard to run experiments  due to UI click / bash scripts\n",
      "- Infrastructure as Code\n",
      "- How it would had speed me up back when I was doing NLP\n",
      "- Abstracting complex setups\n",
      "- Minimal Terraform Skills\n",
      "\n",
      "-------content 121:------\n",
      "TITLE: 파이썬으로 이해하는 블록체인 Understanding Blockchain key concept with Python\n",
      "- 블록체인 기초개념: 블록, 거래, 합의 알고리즘, 비잔틴 문제, 영지식 문제 \n",
      "- 어떤 블록체인을 선택할 것인가? Private vs Public\n",
      "- 직접 해봅시다. \n",
      "-------content 122:------\n"
     ]
    },
    {
     "ename": "IndexError",
     "evalue": "single positional indexer is out-of-bounds",
     "output_type": "error",
     "traceback": [
      "\u001b[0;31m---------------------------------------------------------------------------\u001b[0m",
      "\u001b[0;31mIndexError\u001b[0m                                Traceback (most recent call last)",
      "\u001b[0;32m<ipython-input-107-48002489d777>\u001b[0m in \u001b[0;36m<module>\u001b[0;34m()\u001b[0m\n\u001b[1;32m      2\u001b[0m \u001b[0;32mfor\u001b[0m \u001b[0mi\u001b[0m \u001b[0;32min\u001b[0m \u001b[0mrange\u001b[0m\u001b[0;34m(\u001b[0m\u001b[0mstart\u001b[0m\u001b[0;34m,\u001b[0m \u001b[0mstart\u001b[0m\u001b[0;34m+\u001b[0m\u001b[0;36m5\u001b[0m\u001b[0;34m)\u001b[0m\u001b[0;34m:\u001b[0m\u001b[0;34m\u001b[0m\u001b[0m\n\u001b[1;32m      3\u001b[0m     \u001b[0mprint\u001b[0m\u001b[0;34m(\u001b[0m\u001b[0;34m\"-------content {}:------\"\u001b[0m\u001b[0;34m.\u001b[0m\u001b[0mformat\u001b[0m\u001b[0;34m(\u001b[0m\u001b[0mi\u001b[0m\u001b[0;34m)\u001b[0m\u001b[0;34m)\u001b[0m\u001b[0;34m\u001b[0m\u001b[0m\n\u001b[0;32m----> 4\u001b[0;31m     \u001b[0mprint\u001b[0m\u001b[0;34m(\u001b[0m\u001b[0;34m\"TITLE: {}\"\u001b[0m\u001b[0;34m.\u001b[0m\u001b[0mformat\u001b[0m\u001b[0;34m(\u001b[0m\u001b[0mnew_df\u001b[0m\u001b[0;34m[\u001b[0m\u001b[0;34m'title'\u001b[0m\u001b[0;34m]\u001b[0m\u001b[0;34m.\u001b[0m\u001b[0miloc\u001b[0m\u001b[0;34m(\u001b[0m\u001b[0;34m)\u001b[0m\u001b[0;34m[\u001b[0m\u001b[0mi\u001b[0m\u001b[0;34m]\u001b[0m\u001b[0;34m)\u001b[0m\u001b[0;34m)\u001b[0m\u001b[0;34m\u001b[0m\u001b[0m\n\u001b[0m\u001b[1;32m      5\u001b[0m     \u001b[0;31m#print(new_df['content'].iloc()[i])\u001b[0m\u001b[0;34m\u001b[0m\u001b[0;34m\u001b[0m\u001b[0m\n\u001b[1;32m      6\u001b[0m     \u001b[0mprint\u001b[0m\u001b[0;34m(\u001b[0m\u001b[0mnew_df\u001b[0m\u001b[0;34m[\u001b[0m\u001b[0;34m'detail'\u001b[0m\u001b[0;34m]\u001b[0m\u001b[0;34m.\u001b[0m\u001b[0miloc\u001b[0m\u001b[0;34m(\u001b[0m\u001b[0;34m)\u001b[0m\u001b[0;34m[\u001b[0m\u001b[0mi\u001b[0m\u001b[0;34m]\u001b[0m\u001b[0;34m)\u001b[0m\u001b[0;34m\u001b[0m\u001b[0m\n",
      "\u001b[0;32m~/anaconda3/lib/python3.6/site-packages/pandas/core/indexing.py\u001b[0m in \u001b[0;36m__getitem__\u001b[0;34m(self, key)\u001b[0m\n\u001b[1;32m   1326\u001b[0m         \u001b[0;32melse\u001b[0m\u001b[0;34m:\u001b[0m\u001b[0;34m\u001b[0m\u001b[0m\n\u001b[1;32m   1327\u001b[0m             \u001b[0mkey\u001b[0m \u001b[0;34m=\u001b[0m \u001b[0mcom\u001b[0m\u001b[0;34m.\u001b[0m\u001b[0m_apply_if_callable\u001b[0m\u001b[0;34m(\u001b[0m\u001b[0mkey\u001b[0m\u001b[0;34m,\u001b[0m \u001b[0mself\u001b[0m\u001b[0;34m.\u001b[0m\u001b[0mobj\u001b[0m\u001b[0;34m)\u001b[0m\u001b[0;34m\u001b[0m\u001b[0m\n\u001b[0;32m-> 1328\u001b[0;31m             \u001b[0;32mreturn\u001b[0m \u001b[0mself\u001b[0m\u001b[0;34m.\u001b[0m\u001b[0m_getitem_axis\u001b[0m\u001b[0;34m(\u001b[0m\u001b[0mkey\u001b[0m\u001b[0;34m,\u001b[0m \u001b[0maxis\u001b[0m\u001b[0;34m=\u001b[0m\u001b[0;36m0\u001b[0m\u001b[0;34m)\u001b[0m\u001b[0;34m\u001b[0m\u001b[0m\n\u001b[0m\u001b[1;32m   1329\u001b[0m \u001b[0;34m\u001b[0m\u001b[0m\n\u001b[1;32m   1330\u001b[0m     \u001b[0;32mdef\u001b[0m \u001b[0m_is_scalar_access\u001b[0m\u001b[0;34m(\u001b[0m\u001b[0mself\u001b[0m\u001b[0;34m,\u001b[0m \u001b[0mkey\u001b[0m\u001b[0;34m)\u001b[0m\u001b[0;34m:\u001b[0m\u001b[0;34m\u001b[0m\u001b[0m\n",
      "\u001b[0;32m~/anaconda3/lib/python3.6/site-packages/pandas/core/indexing.py\u001b[0m in \u001b[0;36m_getitem_axis\u001b[0;34m(self, key, axis)\u001b[0m\n\u001b[1;32m   1747\u001b[0m \u001b[0;34m\u001b[0m\u001b[0m\n\u001b[1;32m   1748\u001b[0m             \u001b[0;31m# validate the location\u001b[0m\u001b[0;34m\u001b[0m\u001b[0;34m\u001b[0m\u001b[0m\n\u001b[0;32m-> 1749\u001b[0;31m             \u001b[0mself\u001b[0m\u001b[0;34m.\u001b[0m\u001b[0m_is_valid_integer\u001b[0m\u001b[0;34m(\u001b[0m\u001b[0mkey\u001b[0m\u001b[0;34m,\u001b[0m \u001b[0maxis\u001b[0m\u001b[0;34m)\u001b[0m\u001b[0;34m\u001b[0m\u001b[0m\n\u001b[0m\u001b[1;32m   1750\u001b[0m \u001b[0;34m\u001b[0m\u001b[0m\n\u001b[1;32m   1751\u001b[0m             \u001b[0;32mreturn\u001b[0m \u001b[0mself\u001b[0m\u001b[0;34m.\u001b[0m\u001b[0m_get_loc\u001b[0m\u001b[0;34m(\u001b[0m\u001b[0mkey\u001b[0m\u001b[0;34m,\u001b[0m \u001b[0maxis\u001b[0m\u001b[0;34m=\u001b[0m\u001b[0maxis\u001b[0m\u001b[0;34m)\u001b[0m\u001b[0;34m\u001b[0m\u001b[0m\n",
      "\u001b[0;32m~/anaconda3/lib/python3.6/site-packages/pandas/core/indexing.py\u001b[0m in \u001b[0;36m_is_valid_integer\u001b[0;34m(self, key, axis)\u001b[0m\n\u001b[1;32m   1636\u001b[0m         \u001b[0ml\u001b[0m \u001b[0;34m=\u001b[0m \u001b[0mlen\u001b[0m\u001b[0;34m(\u001b[0m\u001b[0max\u001b[0m\u001b[0;34m)\u001b[0m\u001b[0;34m\u001b[0m\u001b[0m\n\u001b[1;32m   1637\u001b[0m         \u001b[0;32mif\u001b[0m \u001b[0mkey\u001b[0m \u001b[0;34m>=\u001b[0m \u001b[0ml\u001b[0m \u001b[0;32mor\u001b[0m \u001b[0mkey\u001b[0m \u001b[0;34m<\u001b[0m \u001b[0;34m-\u001b[0m\u001b[0ml\u001b[0m\u001b[0;34m:\u001b[0m\u001b[0;34m\u001b[0m\u001b[0m\n\u001b[0;32m-> 1638\u001b[0;31m             \u001b[0;32mraise\u001b[0m \u001b[0mIndexError\u001b[0m\u001b[0;34m(\u001b[0m\u001b[0;34m\"single positional indexer is out-of-bounds\"\u001b[0m\u001b[0;34m)\u001b[0m\u001b[0;34m\u001b[0m\u001b[0m\n\u001b[0m\u001b[1;32m   1639\u001b[0m         \u001b[0;32mreturn\u001b[0m \u001b[0;32mTrue\u001b[0m\u001b[0;34m\u001b[0m\u001b[0m\n\u001b[1;32m   1640\u001b[0m \u001b[0;34m\u001b[0m\u001b[0m\n",
      "\u001b[0;31mIndexError\u001b[0m: single positional indexer is out-of-bounds"
     ]
    }
   ],
   "source": [
    "start = 120\n",
    "for i in range(start, start+5):\n",
    "    print(\"-------content {}:------\".format(i))\n",
    "    print(\"TITLE: {}\".format(new_df['title'].iloc()[i]))\n",
    "    #print(new_df['content'].iloc()[i])\n",
    "    print(new_df['detail'].iloc()[i])"
   ]
  },
  {
   "cell_type": "code",
   "execution_count": 109,
   "metadata": {},
   "outputs": [
    {
     "data": {
      "text/html": [
       "<div>\n",
       "<style>\n",
       "    .dataframe thead tr:only-child th {\n",
       "        text-align: right;\n",
       "    }\n",
       "\n",
       "    .dataframe thead th {\n",
       "        text-align: left;\n",
       "    }\n",
       "\n",
       "    .dataframe tbody tr th {\n",
       "        vertical-align: top;\n",
       "    }\n",
       "</style>\n",
       "<table border=\"1\" class=\"dataframe\">\n",
       "  <thead>\n",
       "    <tr style=\"text-align: right;\">\n",
       "      <th></th>\n",
       "      <th>title</th>\n",
       "      <th>content</th>\n",
       "      <th>detail</th>\n",
       "      <th>category</th>\n",
       "      <th>rating</th>\n",
       "    </tr>\n",
       "  </thead>\n",
       "  <tbody>\n",
       "    <tr>\n",
       "      <th>0</th>\n",
       "      <td>Quantify myself - self 사생활침해</td>\n",
       "      <td>저는 2014년부터 2017년까지, 약 4년간 매일 만나는 사람들을 데이터로 정리를...</td>\n",
       "      <td>보다 자세한 소개는 글로 말씀드리는 것보다 이전에 제가 만들었던 자료를 보여드리는 ...</td>\n",
       "      <td>Life / Social</td>\n",
       "      <td>-1</td>\n",
       "    </tr>\n",
       "    <tr>\n",
       "      <th>1</th>\n",
       "      <td>Ready, Get Set, Go!</td>\n",
       "      <td>파이콘의 전통적인 이벤트 중 하나인 스프린트에 대해서 이야기합니다.</td>\n",
       "      <td>스프린트에 대한 모든 것을 다룹니다. 역사와 의의를 비롯하여 커뮤니티에 미친 구체적...</td>\n",
       "      <td>Python Community</td>\n",
       "      <td>-1</td>\n",
       "    </tr>\n",
       "    <tr>\n",
       "      <th>2</th>\n",
       "      <td>Understanding of Medical Physics modeling and ...</td>\n",
       "      <td>Understanding of data analysis from the ancien...</td>\n",
       "      <td>Hadrontherapy is taking a major role in modern...</td>\n",
       "      <td>Data Analytics</td>\n",
       "      <td>-1</td>\n",
       "    </tr>\n",
       "    <tr>\n",
       "      <th>3</th>\n",
       "      <td>A Spark for Diversity: A Walk-through of Women...</td>\n",
       "      <td>Women Who Code is a global non-profit organiza...</td>\n",
       "      <td>https://docs.google.com/document/d/1UviRQ3W_fh...</td>\n",
       "      <td>Python Community</td>\n",
       "      <td>-1</td>\n",
       "    </tr>\n",
       "    <tr>\n",
       "      <th>4</th>\n",
       "      <td>머신러닝으로 경마 한구라 가즈아!!!</td>\n",
       "      <td>머신러닝을 통해서 국내 최고수준의 가상의 경마전문가를 만들어낸 경험을 소개하고자 합니다.</td>\n",
       "      <td>경마 예측을 위해 파이썬으로 크롤러 제작, 머신러닝, 자동화를 진행하였습니다. 텍스...</td>\n",
       "      <td>Data Analytics</td>\n",
       "      <td>-1</td>\n",
       "    </tr>\n",
       "  </tbody>\n",
       "</table>\n",
       "</div>"
      ],
      "text/plain": [
       "                                               title  \\\n",
       "0                       Quantify myself - self 사생활침해   \n",
       "1                                Ready, Get Set, Go!   \n",
       "2  Understanding of Medical Physics modeling and ...   \n",
       "3  A Spark for Diversity: A Walk-through of Women...   \n",
       "4                               머신러닝으로 경마 한구라 가즈아!!!   \n",
       "\n",
       "                                             content  \\\n",
       "0  저는 2014년부터 2017년까지, 약 4년간 매일 만나는 사람들을 데이터로 정리를...   \n",
       "1             파이콘의 전통적인 이벤트 중 하나인 스프린트에 대해서 이야기합니다.    \n",
       "2  Understanding of data analysis from the ancien...   \n",
       "3  Women Who Code is a global non-profit organiza...   \n",
       "4  머신러닝을 통해서 국내 최고수준의 가상의 경마전문가를 만들어낸 경험을 소개하고자 합니다.   \n",
       "\n",
       "                                              detail          category  rating  \n",
       "0  보다 자세한 소개는 글로 말씀드리는 것보다 이전에 제가 만들었던 자료를 보여드리는 ...     Life / Social      -1  \n",
       "1  스프린트에 대한 모든 것을 다룹니다. 역사와 의의를 비롯하여 커뮤니티에 미친 구체적...  Python Community      -1  \n",
       "2  Hadrontherapy is taking a major role in modern...    Data Analytics      -1  \n",
       "3  https://docs.google.com/document/d/1UviRQ3W_fh...  Python Community      -1  \n",
       "4  경마 예측을 위해 파이썬으로 크롤러 제작, 머신러닝, 자동화를 진행하였습니다. 텍스...    Data Analytics      -1  "
      ]
     },
     "execution_count": 109,
     "metadata": {},
     "output_type": "execute_result"
    }
   ],
   "source": [
    "df = new_df\n",
    "df.head()"
   ]
  },
  {
   "cell_type": "code",
   "execution_count": 111,
   "metadata": {},
   "outputs": [
    {
     "data": {
      "text/plain": [
       "0    저는 2014년부터 2017년까지, 약 4년간 매일 만나는 사람들을 데이터로 정리를...\n",
       "1               파이콘의 전통적인 이벤트 중 하나인 스프린트에 대해서 이야기합니다. \n",
       "2    Understanding of data analysis from the ancien...\n",
       "3    Women Who Code is a global non-profit organiza...\n",
       "4    머신러닝을 통해서 국내 최고수준의 가상의 경마전문가를 만들어낸 경험을 소개하고자 합니다.\n",
       "Name: content, dtype: object"
      ]
     },
     "execution_count": 111,
     "metadata": {},
     "output_type": "execute_result"
    }
   ],
   "source": [
    "\"\"\"\n",
    "영어와 한글이 구분되어 있을때, 텍스트가 영어인지, 한글인지, 어떻게 구분할 수 있는가? \n",
    "\n",
    "\"\"\"\n",
    "df['content'][:5]"
   ]
  },
  {
   "cell_type": "code",
   "execution_count": 140,
   "metadata": {},
   "outputs": [
    {
     "data": {
      "text/plain": [
       "'k'"
      ]
     },
     "execution_count": 140,
     "metadata": {},
     "output_type": "execute_result"
    }
   ],
   "source": [
    "def isEnglishOrKorean(input_s):\n",
    "    k_count = 0\n",
    "    e_count = 0\n",
    "    for c in input_s:\n",
    "        if ord('가') <= ord(c) <= ord('힣'):\n",
    "            k_count+=1\n",
    "        elif ord('a') <= ord(c.lower()) <= ord('z'):\n",
    "            e_count+=1\n",
    "    return \"k\" if k_count>1 else \"e\"\n",
    "\n",
    "\n",
    "isEnglishOrKorean(\"안녕하세요, I am a boy, 입니다\")"
   ]
  },
  {
   "cell_type": "code",
   "execution_count": 141,
   "metadata": {},
   "outputs": [
    {
     "name": "stdout",
     "output_type": "stream",
     "text": [
      "Understanding of data analysis from the ancient science to modern statistical method and data science. This presentation only requires basic level of python.\n",
      "---------------\n",
      "Women Who Code is a global non-profit organization dedicated to inspiring women to excel in technology careers. Last year, Women Who Code Manila was launched to extend this goal to Filipinas. We held study groups every month to help achieve this goal. In this talk, I will share my experience conducting the Python study group - the setup we have, tools we used, topics we share and how it became a tool to spark for diversity.\n",
      "---------------\n",
      "Introduction to Blockchain and Cryptocurrency for intermediate and advanced users of Python. This talk will introduce and explain the function of a typical blockchain and showcase libraries needed to start a functional Python based blockchain or cryptocurrency.\n",
      "---------------\n",
      "Refactoring is often the most underrated topic among developers. But understanding how to do this properly is one of the most important things a developer and project manager should understand. This proposal aims to give some pointers on how to refactor codes efficiently and assess the impact of refactoring in projects. It also aims to discuss on WHEN to refactor and how to communicate this to managers and stakeholders.\n",
      "---------------\n",
      "If I am not learning Python in the First Place, maybe I am not what I am right now. Python has brought me to many places, from co-founded surabaya.py to landed my first job. I will share my experience how learning Python as your first language programming maybe could save your life.\n",
      "---------------\n",
      "JSON and XML have proven themselves over the years to be a really great transfer data between two applications in a platform neutral way. But, they're not optimized for it. In this talk, we will look for Protocol Buffers and gRPC created by Google for a fast and efficient way of communicating data.\n",
      "\n",
      "---------------\n",
      "There are many different ways to find bugs in programs and using debuggers is one of them. Debugger is a very popular tool among developers, because it can significantly increase developer’s productivity and make the whole process of finding problems much easier.\n",
      "\n",
      "Some people believe, that debuggers require a lot of  time to set it up and to understand how it works. But most modern debuggers doesn’t require any special preparations, they work out of a box and have very intuitive interface.\n",
      "\n",
      "In this talk we’re going to consider how debugger in the PyCharm IDE can increase developer’s productivity and how embedded visual debugger can help not only to find bugs, but can even help to write code, tests and understand a flow of program’s execution.\n",
      "---------------\n",
      "My talk will cover the whole procedures for a data analysis project from web crawling to visualization of analysis results. I plan to introduce various Python libraries and I will share some challenges I confronted during this journey.\n",
      "---------------\n",
      "This talk covers the journey of running Python code as a blockchain (Ethereum) Smart Contract by implementing a modified Python runtime environment / Ethereum Virtual Machine software, and building a blockchain based home device network with the modified runtime and Smart Contract code written in Python.\n",
      "---------------\n",
      "This talk, aims to make machine learning simple, fun and accessible to anyone. (The hard part, although honestly it is close to impossible). Working examples in Python and couple of tools such as word2vec (Google) and fasttext (facebook), might be demoed to prove some love/points.\n",
      "---------------\n",
      "How sprints at conferences help you get started to make your first open source contributions and on the other hand enables you to work on open source projects.\n",
      "---------------\n",
      "Fetching the data has been an important task for almost all developers working around data analysis and analytics. This first step almost takes 80% of the entire time in most of the cases, as it's often very \"dirty\" and quite boring sometimes, as most users don't have all the information on the best ways to tackle the problem. This workshop aims to help all those data-savvy people to add this skill to their toolkit.\n",
      "---------------\n",
      "This workshop will aim to teach elements of an entire data science pipeline, by taking an example of some cool dataset and then helping the audience build a small pipeline, making some hypothesis & validating it finally to eventually build some algorithm / machine learning model / etc, and at the end will culminate in how to share the findings to other users / team members etc.\n",
      "\n",
      "The take-away of the workshop is to make the audience aware that a data science pipeline is not just about building your algorithm / machine learning model, but there are many steps involved in the pipeline, which are equally important.\n",
      "\n",
      "---------------\n",
      "Community creation and running it for a long time is not an easy process, yet it is very satisfying. I'll be sharing my journey on creating the PyData ecosystem in India, and challenges we faced, some learning and tips for the next round of community enablers.\n",
      "---------------\n",
      "Through a variety of machine learning algorithms, this project attempts to discover and evaluate the predictive power of behavioral factors on the future price of crypto-currencies. To achieve this, we examine the impact of search frequencies, changes in policy, behavior of coin miner, big guys' twitter activities and investor’s sentiments on the macro variables of crypto-currencies. We build the Python program that automatically collects prices and corresponding aforementioned datasets from cryptocurrency exchange, StockTwits, CoinPan, Twitter, Google Trends and Naver Trends etc. Finally, we analyze the ability of each trading algorithm by conducting comprehensive performance-evaluation.\n",
      "---------------\n",
      "Data science requires powerful infrastructure to run experiments and crunch data. \n",
      "However manually setting up libraries and infrastructure can slow down teams and therefore result findings.\n",
      "Infrastructure as code can help you improve and speed up your workflow, but also it can empower your team, let me tell you why and how you should be using it\n",
      "\n",
      "---------------\n"
     ]
    }
   ],
   "source": [
    "for a in df['content']:\n",
    "    if isEnglishOrKorean(a)=='e':\n",
    "        print(a)\n",
    "        print(\"---------------\")"
   ]
  },
  {
   "cell_type": "code",
   "execution_count": 142,
   "metadata": {
    "collapsed": true
   },
   "outputs": [],
   "source": []
  },
  {
   "cell_type": "code",
   "execution_count": 157,
   "metadata": {},
   "outputs": [
    {
     "name": "stdout",
     "output_type": "stream",
     "text": [
      "[[ 0.625   0.3125  0.0625]\n",
      " [ 0.625   0.3125  0.0625]\n",
      " [ 0.625   0.3125  0.0625]]\n"
     ]
    }
   ],
   "source": [
    "import numpy as np\n",
    "p = np.array(\n",
    "    [0.9, 0.075, 0.025, 0.15, 0.8, 0.05, 0.25, 0.25, 0.5]\n",
    ").reshape(3, 3)\n",
    "for i in range(0, 100):\n",
    "    p = a.dot(p)\n",
    "print(p)"
   ]
  },
  {
   "cell_type": "code",
   "execution_count": 290,
   "metadata": {},
   "outputs": [],
   "source": [
    "import pandas as pd\n",
    "import numpy as np\n",
    "\n",
    "pDict = {\"1b\": 0.3,\n",
    "         \"hr\": 0.03,\n",
    "         'so':0.67\n",
    "        }\n",
    "\"\"\"(out, base) tuple, 하지만 out이 3일 경우 (out, score)\n",
    "\"\"\"\n",
    "OutCount = [0, 1, 2]\n",
    "Base = [\"0\", \"1\", \"2\", '3', '12', '13', '23', '123']\n",
    "OutBase_index = [(out, b) for out in OutCount for b in Base]\n",
    "OutBase_index += [(3, 0), (3, 1), (3, 2), (3, 3)]\n",
    "\"\"\"multi index(hierarchical index)를 만들려면, multi index 객체를 만들어서 넘겨줘야함. \n",
    "\"\"\"\n",
    "OutBase_index = pd.MultiIndex.from_tuples(OutBase_index)\n",
    "# multi index\n",
    "\n",
    "T_df = pd.DataFrame(np.zeros(28*28).reshape(28, 28) ,index = OutBase_index, columns = OutBase_index)\n",
    "\"\"\"1루타로 인한 상황 변화 업데이트\"\"\"\n",
    "for i in range(0, 3):\n",
    "    T_df.loc()[i, '0'][i, '1'] += pDict['1b']\n",
    "    T_df.loc()[i, '1'][i, '12'] += pDict['1b']\n",
    "    T_df.loc()[i, '2'][i, '13'] += pDict['1b']\n",
    "    T_df.loc()[i, '3'][i, '1'] += pDict['1b']\n",
    "    T_df.loc()[i, '12'][i, '123'] += pDict['1b']\n",
    "    T_df.loc()[i, '13'][i, '12'] += pDict['1b']\n",
    "    T_df.loc()[i, '23'][i, '13'] += pDict['1b']\n",
    "    T_df.loc()[i, '123'][i, '123'] += pDict['1b']\n",
    "\"\"\"홈런으로 인한 상황 변화 업데이트\"\"\"\n",
    "for Ind in T_df.index:\n",
    "    o, b = Ind\n",
    "    if o <3:\n",
    "        T_df.loc()[o, b][o, '0'] += pDict['hr']\n",
    "\"\"\"삼진으로 인한 상황 변화 업데이트\"\"\"\n",
    "for Ind in T_df.index:\n",
    "    o, b = Ind\n",
    "    if o < 2:\n",
    "        T_df.loc()[o, b][o+1, b] += pDict['so']\n",
    "    elif o==2:\n",
    "        T_df.loc()[o, b][o+1, 0] += pDict['so']\n",
    "\"\"\"absorbing state\"\"\"\n",
    "for Ind in T_df.index:\n",
    "    if Ind[0]==3:\n",
    "        T_df.loc()[Ind][Ind] = 1\n",
    "T_df\n",
    "T = T_df.values"
   ]
  },
  {
   "cell_type": "code",
   "execution_count": 288,
   "metadata": {},
   "outputs": [
    {
     "name": "stdout",
     "output_type": "stream",
     "text": [
      "       Expected R. at PA\n",
      "0 0                 0.03\n",
      "  1                 0.06\n",
      "  2                 0.06\n",
      "  3                 0.36\n",
      "  12                0.09\n",
      "  13                0.39\n",
      "  23                0.39\n",
      "  123               0.42\n",
      "1 0                 0.03\n",
      "  1                 0.06\n",
      "  2                 0.06\n",
      "  3                 0.36\n",
      "  12                0.09\n",
      "  13                0.39\n",
      "  23                0.39\n",
      "  123               0.42\n",
      "2 0                 0.03\n",
      "  1                 0.06\n",
      "  2                 0.06\n",
      "  3                 0.36\n",
      "  12                0.09\n",
      "  13                0.39\n",
      "  23                0.39\n",
      "  123               0.42\n",
      "3 0                 0.00\n",
      "  1                 0.00\n",
      "  2                 0.00\n",
      "  3                 0.00\n"
     ]
    }
   ],
   "source": [
    "# define R\n",
    "R = pd.DataFrame(np.zeros(28).reshape(28,1),\n",
    "                 index=T_df.index, columns=['Expected R. at PA'])\n",
    "for Ind in R.index:\n",
    "    o, b = Ind\n",
    "    if o!=3:\n",
    "        if b!='0':\n",
    "            R.loc()[o, b] += pDict['hr']*(len(b)+1)\n",
    "        else:\n",
    "            R.loc()[o, b] += pDict['hr']*1.0\n",
    "for Ind in R.index:\n",
    "    o, b = Ind\n",
    "    if o !=3 and '3' in b:\n",
    "        R.loc()[o, b] += pDict['1b']*1.0\n",
    "print(R)"
   ]
  },
  {
   "cell_type": "code",
   "execution_count": 287,
   "metadata": {
    "scrolled": true
   },
   "outputs": [
    {
     "name": "stdout",
     "output_type": "stream",
     "text": [
      "       Expected R. until inning end\n",
      "0 0                        0.356147\n",
      "  1                        0.622285\n",
      "  2                        0.784697\n",
      "  3                        1.055384\n",
      "  12                       1.050836\n",
      "  13                       1.321522\n",
      "  23                       1.483934\n",
      "  123                      1.750073\n",
      "1 0                        0.192205\n",
      "  1                        0.352762\n",
      "  2                        0.473965\n",
      "  3                        0.743305\n",
      "  12                       0.634522\n",
      "  13                       0.903862\n",
      "  23                       1.025065\n",
      "  123                      1.185622\n",
      "2 0                        0.075537\n",
      "  1                        0.144237\n",
      "  2                        0.204537\n",
      "  3                        0.405537\n",
      "  12                       0.273237\n",
      "  13                       0.474237\n",
      "  23                       0.534537\n",
      "  123                      0.603237\n",
      "3 0                        0.000000\n",
      "  1                        0.000000\n",
      "  2                        0.000000\n",
      "  3                        0.000000\n"
     ]
    }
   ],
   "source": [
    "\"\"\"\n",
    "E = R + TR + TTR + TTTR ...,\n",
    "E = (I - T) - 1R \n",
    "\"\"\"\n",
    "E = R.copy()\n",
    "for i in range(0, 100):\n",
    "    a = T\n",
    "    for j in range(0, i):\n",
    "        a = a.dot(T)\n",
    "    E+=a.dot(R)\n",
    "#E = np.linalg.inv(np.identity(28) - T).dot(R)\n",
    "E.columns = [\"Expected R. until inning end\"]\n",
    "print(E)"
   ]
  },
  {
   "cell_type": "code",
   "execution_count": 294,
   "metadata": {},
   "outputs": [
    {
     "data": {
      "text/plain": [
       "13"
      ]
     },
     "execution_count": 294,
     "metadata": {},
     "output_type": "execute_result"
    }
   ],
   "source": [
    "import numpy as np\n",
    "\n",
    "np.random.negative_binomial(5, 0.3)"
   ]
  },
  {
   "cell_type": "code",
   "execution_count": 370,
   "metadata": {},
   "outputs": [
    {
     "data": {
      "image/png": "[encoded data removed]",
      "text/plain": [
       "<matplotlib.figure.Figure at 0x1a19488470>"
      ]
     },
     "metadata": {},
     "output_type": "display_data"
    },
    {
     "data": {
      "image/png": "[encoded data removed]",
      "text/plain": [
       "<matplotlib.figure.Figure at 0x1a19463668>"
      ]
     },
     "metadata": {},
     "output_type": "display_data"
    }
   ],
   "source": [
    "import matplotlib.pyplot as plt \n",
    "from scipy.stats import poisson\n",
    "\n",
    "plt.figure(figsize=(12, 6))\n",
    "for mu in [0.555, 1.189, 1.573, 2.052, 2.417]:    \n",
    "    x = [i for i in range(0, 11)]\n",
    "    y = [poisson.pmf(xx, mu) for xx in x]\n",
    "    plt.plot(x, y, marker='o', linestyle='--', label='mu={}'.format(mu))\n",
    "plt.legend(loc='upper right', frameon=True, fontsize='x-large')\n",
    "plt.xticks([i for i in range(0, 11)])\n",
    "plt.yticks([i*0.1 for i in range(0, 7)])\n",
    "plt.savefig('../../assets/images/markdown_img/poisson_dist_pmf_180528.svg')\n",
    "plt.show()\n",
    "\n",
    "plt.figure(figsize=(12, 6))\n",
    "for mu in [0.555, 1.189, 1.573, 2.052, 2.417]:    \n",
    "    x = [i for i in range(0, 11)]\n",
    "    y = [poisson.cdf(xx, mu) for xx in x]\n",
    "    plt.plot(x, y, marker='o', linestyle='--', label='mu={}'.format(mu))\n",
    "plt.legend(loc='lower right', frameon=True, fontsize='x-large')\n",
    "plt.xticks([i for i in range(0, 11)])\n",
    "plt.yticks([i*0.1 for i in range(0, 11)])\n",
    "plt.savefig('../../assets/images/markdown_img/poisson_dist_cdf_180528.svg')\n",
    "plt.show()"
   ]
  },
  {
   "cell_type": "code",
   "execution_count": null,
   "metadata": {},
   "outputs": [],
   "source": []
  },
  {
   "cell_type": "code",
   "execution_count": 364,
   "metadata": {},
   "outputs": [
    {
     "name": "stdout",
     "output_type": "stream",
     "text": [
      "0.301194211912\n",
      "0.361433054295\n",
      "0.216859832577\n",
      "0.0867439330307\n",
      "0.0260231799092\n",
      "0.00624556317821\n",
      "0.00124911263564\n",
      "0.000214133594682\n",
      "3.21200392022e-05\n",
      "4.28267189363e-06\n"
     ]
    }
   ],
   "source": [
    "\"\"\"\n",
    "\n",
    "Number\tProbability\n",
    "Total\t31403\t100.00000%\n",
    "0 runs\t5556\t17.69258%\n",
    "1 runs\t17064\t54.33876%\n",
    "2 runs\t4588\t14.61007%\n",
    "3 runs\t2313\t7.36554%\n",
    "4 runs\t1088\t3.46464%\n",
    "5 runs\t468\t1.49030%\n",
    "6 runs\t200\t0.63688%\n",
    "7 runs\t60\t0.19106%\n",
    "8 runs\t27\t0.08598%\n",
    "9 runs\t19\t0.06050%\n",
    "10 runs\t14\t0.04458%\n",
    "11 runs\t3\t0.00955%\n",
    "12 runs\t1\t0.00318%\n",
    "13 runs\t2\t0.00637%\n",
    "\n",
    "\"\"\"\n",
    "for i in range(0, 10):\n",
    "    print(poisson.pmf(i, 1.2))"
   ]
  },
  {
   "cell_type": "code",
   "execution_count": null,
   "metadata": {
    "collapsed": true
   },
   "outputs": [],
   "source": []
  }
 ],
 "metadata": {
  "kernelspec": {
   "display_name": "Python 3",
   "language": "python",
   "name": "python3"
  },
  "language_info": {
   "codemirror_mode": {
    "name": "ipython",
    "version": 3
   },
   "file_extension": ".py",
   "mimetype": "text/x-python",
   "name": "python",
   "nbconvert_exporter": "python",
   "pygments_lexer": "ipython3",
   "version": "3.6.2"
  }
 },
 "nbformat": 4,
 "nbformat_minor": 2
}
