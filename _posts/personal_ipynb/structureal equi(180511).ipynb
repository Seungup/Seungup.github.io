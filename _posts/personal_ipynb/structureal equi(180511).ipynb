{
 "cells": [
  {
   "cell_type": "code",
   "execution_count": 3,
   "metadata": {},
   "outputs": [],
   "source": [
    "import networkx as nx\n",
    "import matplotlib.pyplot as plt"
   ]
  },
  {
   "cell_type": "code",
   "execution_count": null,
   "metadata": {},
   "outputs": [],
   "source": []
  },
  {
   "cell_type": "code",
   "execution_count": 281,
   "metadata": {},
   "outputs": [
    {
     "name": "stdout",
     "output_type": "stream",
     "text": [
      "[['csfs', 'factor analysis', 'indian manufacturing smes', 'six sigma'], ['energy recovery', 'muzzle arc', 'pulsed supply', 'railgun', 'superconducting magnetic energy storage', 'system efficiency', 'termination discharge'], ['internationalization', 'market research', 'organic olive oil', 'smes', 'tourist'], ['contractors', 'entrepreneurship', 'indonesia', 'smes'], ['bpgm-sme', 'improved ukf', 'multi-target tracking', 'tracking accuracy'], ['dark triad of personality', 'entrepreneurial orientation (eo)', 'executive personality', 'small and medium-sized enterprise (sme)'], ['automated testing', 'electrical cable hardness', 'modular systems', 'small- and medium-sized enterprise (smes)', 'system adaptability', 'system automation', 'system flexibility'], ['dimension of information quality', 'quality information', 'smes'], ['discrete-event system simulation', 'productivity improvement', 'sme'], ['productivity', 'standard time', 'theory of constraint']]\n"
     ]
    }
   ],
   "source": [
    "\"\"\"\n",
    "이게 유의미한지를 평가하기 위해서, 일단 필터링하지 않은 데이터지만 한번 해본다.\n",
    "어떤 distance가 좋은지, 뭐 그런걸 알아야 하니까. \n",
    "\"\"\"\n",
    "import pandas as pd\n",
    "import itertools\n",
    "\n",
    "excel_path_and_filename = \"../../../Downloads/SMEs_Scopus_2013-2017.xlsx\"\n",
    "df = pd.read_excel(excel_path_and_filename)\n",
    "df = df[['Author Keywords', 'Year', 'Abstract', 'Index Keywords']]\n",
    "\n",
    "auth_kwd_lst = list(df['Author Keywords'].dropna().apply(lambda s: s.strip().split(\";\")))\n",
    "auth_kwd_lst = map(lambda ks: [k.strip().lower() for k in ks], auth_kwd_lst)\n",
    "auth_kwd_lst = list(auth_kwd_lst)\n",
    "print(auth_kwd_lst[:10])"
   ]
  },
  {
   "cell_type": "code",
   "execution_count": 207,
   "metadata": {},
   "outputs": [
    {
     "name": "stdout",
     "output_type": "stream",
     "text": [
      "24184\n",
      "205\n"
     ]
    }
   ],
   "source": [
    "import collections \n",
    "\n",
    "def make_auth_kwd_lst():\n",
    "    auth_kwd_lst = list(df['Author Keywords'].dropna().apply(lambda s: s.strip().split(\";\")))\n",
    "    auth_kwd_lst = map(lambda ks: [k.strip().lower() for k in ks], auth_kwd_lst)\n",
    "    auth_kwd_lst = list(auth_kwd_lst)\n",
    "\n",
    "    auth_kwd_lst = map(lambda x: sorted(x), auth_kwd_lst)\n",
    "    make_edge = lambda ks: [ (ks[i], ks[j]) for i in range(0, len(ks)-1) for j in range(i+1, len(ks))]\n",
    "    auth_kwd_lst = itertools.chain.from_iterable(map(lambda x: make_edge(x), auth_kwd_lst))\n",
    "    return auth_kwd_lst\n",
    "auth_kwd_lst = make_auth_kwd_lst()\n",
    "#print(list(itertools.chain.from_iterable(map(lambda x: list(x), auth_kwd_lst)))[:10])\n",
    "\n",
    "kwdG = nx.Graph()\n",
    "kwdG.add_nodes_from(\n",
    "    [(n[0], {'weight':n[1]}) for n in collections.Counter(itertools.chain.from_iterable(auth_kwd_lst)).most_common()]\n",
    ")\n",
    "auth_kwd_lst = make_auth_kwd_lst()\n",
    "kwdG.add_edges_from(\n",
    "    [(e[0][0], e[0][1], {'weight':e[1]}) for e in collections.Counter(auth_kwd_lst).most_common()]\n",
    ")\n",
    "\n",
    "print(len(kwdG.nodes()))\n",
    "for n in kwdG.copy().nodes(data=True):\n",
    "    \"\"\"\n",
    "    일정 이상의 weight를 가지고 있지 않은 node의 경우는 feature로서의 성질을 가지고 있지 못하다고 파악하기 때문에 제외한다. \n",
    "    차원을 늘린다고 해서 더 좋아지는 것은 아님. 당연한 이야기지만, 노이즈가 늘어나기 때문에, 너무 늘리지 않고 적절한 선에서 진행하는 것이 필요.\n",
    "    아래에서, distance가 가까운 순으로 확인할 때, 너무 많은 dimension으로 표현될 경우에는 오히려 뜬금없는 키워드끼리 가깝다고 나오는 경우가 있음. \n",
    "    \"\"\"\n",
    "    if n[1]['weight'] <=100: \n",
    "        kwdG.remove_node(n[0])\n",
    "\n",
    "\"\"\"\n",
    "계산의 편의를 위해서 일정 weight 이하인 edge를 삭제하고 \n",
    "고립된 노드 또한 삭제함 \n",
    "이 네트워크를 활용해서 거리를 재보면 어떻게 나올까? 비슷한 의미를 가진 keyword는 비슷한 관계로 나올까? \n",
    "\"\"\"\n",
    "print(len(kwdG.nodes()))\n",
    "#print(kwdG.edges(data=True))"
   ]
  },
  {
   "cell_type": "code",
   "execution_count": 226,
   "metadata": {},
   "outputs": [
    {
     "data": {
      "image/png": "[encoded data removed]",
      "text/plain": [
       "<matplotlib.figure.Figure at 0x1525e4d9b0>"
      ]
     },
     "metadata": {},
     "output_type": "display_data"
    },
    {
     "data": {
      "image/png": "[encoded data removed]",
      "text/plain": [
       "<matplotlib.figure.Figure at 0x1531638780>"
      ]
     },
     "metadata": {},
     "output_type": "display_data"
    },
    {
     "data": {
      "image/png": "[encoded data removed]",
      "text/plain": [
       "<matplotlib.figure.Figure at 0x1515427780>"
      ]
     },
     "metadata": {},
     "output_type": "display_data"
    }
   ],
   "source": [
    "from sklearn.preprocessing import MinMaxScaler\n",
    "\n",
    "def kwkw_mat_from_G(inputG):\n",
    "    node_to_node_mat = {n1:{n2:0 for n2 in inputG.nodes()} for n1 in inputG.nodes()}\n",
    "    for e in inputG.edges(data=True):\n",
    "        node_to_node_mat[e[0]][e[1]] = e[2]['weight']\n",
    "        node_to_node_mat[e[1]][e[0]] = e[2]['weight']\n",
    "    \"\"\"scaling by column \n",
    "    \"\"\"\n",
    "    df = pd.DataFrame(node_to_node_mat)\n",
    "    #df = pd.DataFrame(MinMaxScaler().fit_transform(df), columns=df.columns, index=df.columns)#scaling\n",
    "    return df\n",
    "\n",
    "from scipy.spatial.distance import euclidean, correlation, jaccard, hamming, cosine, mahalanobis\n",
    "\"\"\"\n",
    "sparse한 관계이기 때문에 jaccard를 이용하는 것이 필요함\n",
    "\"\"\"\n",
    "km = kwkw_mat_from_G(kwdG)\n",
    "def plot_distance_dist(inputKKM, dist_metric_func):\n",
    "    KKdist_dist = []\n",
    "    for i in range(0, len(inputKKM)-1):\n",
    "        for j in range(i+1, len(inputKKM)):\n",
    "            KKdist_dist.append(\n",
    "                (inputKKM.columns[i], inputKKM.columns[j], dist_metric_func(inputKKM.iloc()[i], inputKKM.iloc()[j]))\n",
    "            ) \n",
    "    plt.figure(figsize=(8, 4))\n",
    "    dist_dist = [d for k1, k2, d in KKdist_dist]\n",
    "    plt.plot(sorted(dist_dist), 'ro')\n",
    "    plt.show()\n",
    "    return sorted(KKdist_dist, key=lambda x: x[2])\n",
    "\"\"\"\n",
    "분포를 보면, 일단 euclidean과 correlation의 경우는 표준화가 되어 있지 않음. \n",
    "따라서 일단 개별 column에 대해서 표준화를 진행하는 것이 필요함.\n",
    "mahalanobis 의 경우는 covariance matrix 를 함께 넘겨주어야 함. \n",
    "그래서 어떻게 covariance matrix 를 구하지!!\n",
    "\"\"\"\n",
    "each_dist_lst = []\n",
    "for dist_func in [euclidean, jaccard, cosine]:\n",
    "    each_dist_lst.append( plot_distance_dist(km, dist_func) )"
   ]
  },
  {
   "cell_type": "code",
   "execution_count": 240,
   "metadata": {},
   "outputs": [
    {
     "data": {
      "text/plain": [
       "[('absorptive capacity', 'access to finance', 325.61330683165278),\n",
       " ('absorptive capacity', 'action research', 426.09528474112756),\n",
       " ('absorptive capacity', 'adoption', 260.00090102113671),\n",
       " ('absorptive capacity', 'africa', 328.87041408239787),\n",
       " ('absorptive capacity', 'ahp', 325.66854007010198),\n",
       " ('absorptive capacity', 'australia', 395.25749266690144),\n",
       " ('absorptive capacity', 'bankruptcy', 399.57785908514302),\n",
       " ('absorptive capacity', 'banks', 340.92153596866086),\n",
       " ('absorptive capacity', 'barriers', 166.08628521577759),\n",
       " ('absorptive capacity', 'big data', 474.67203457891469)]"
      ]
     },
     "execution_count": 240,
     "metadata": {},
     "output_type": "execute_result"
    }
   ],
   "source": [
    "KKdist_dist = []\n",
    "for i in range(0, len(km)-1):\n",
    "    for j in range(i+1, len(km)):\n",
    "        KKdist_dist.append(\n",
    "            (km.columns[i], km.columns[j], mahalanobis(km.iloc()[i], km.iloc()[j], np.cov(km)))\n",
    "        )\n",
    "KKdist_dist[:10]"
   ]
  },
  {
   "cell_type": "code",
   "execution_count": 243,
   "metadata": {},
   "outputs": [
    {
     "name": "stdout",
     "output_type": "stream",
     "text": [
      "[('shape memory effect', 'superconducting magnetic energy storage (smes)', 3.6104754863709183), ('food industry', 'quality management', 8.3931435659815428), ('quality management', 'thailand', 9.3848122570434054), ('food industry', 'thailand', 9.5854659428211946), ('cloud manufacturing', 'superconducting magnetic energy storage (smes)', 11.275176409295625), ('economic crisis', 'governance', 11.56912562051026), ('cloud manufacturing', 'small- and medium-sized enterprises (smes)', 12.049322755316522), ('information systems', 'literature review', 12.826180408591824), ('economic growth', 'small firms', 13.355600727018267), ('communication', 'risk assessment', 13.571510303490269)]\n"
     ]
    }
   ],
   "source": [
    "KKdist_dist = sorted(KKdist_dist, key=lambda x: x[2])\n",
    "print(KKdist_dist[:10])"
   ]
  },
  {
   "cell_type": "code",
   "execution_count": 189,
   "metadata": {},
   "outputs": [
    {
     "data": {
      "text/plain": [
       "1.0"
      ]
     },
     "execution_count": 189,
     "metadata": {},
     "output_type": "execute_result"
    }
   ],
   "source": []
  },
  {
   "cell_type": "code",
   "execution_count": 236,
   "metadata": {},
   "outputs": [
    {
     "ename": "ValueError",
     "evalue": "shapes (3,) and (2,2) not aligned: 3 (dim 0) != 2 (dim 0)",
     "output_type": "error",
     "traceback": [
      "\u001b[0;31m---------------------------------------------------------------------------\u001b[0m",
      "\u001b[0;31mValueError\u001b[0m                                Traceback (most recent call last)",
      "\u001b[0;32m<ipython-input-236-0d61371077d1>\u001b[0m in \u001b[0;36m<module>\u001b[0;34m()\u001b[0m\n\u001b[0;32m----> 1\u001b[0;31m \u001b[0mmahalanobis\u001b[0m\u001b[0;34m(\u001b[0m\u001b[0;34m[\u001b[0m\u001b[0;36m1.0\u001b[0m\u001b[0;34m,\u001b[0m \u001b[0;36m1.0\u001b[0m\u001b[0;34m,\u001b[0m \u001b[0;36m1.0\u001b[0m\u001b[0;34m]\u001b[0m\u001b[0;34m,\u001b[0m \u001b[0;34m[\u001b[0m\u001b[0;36m0.0\u001b[0m\u001b[0;34m,\u001b[0m \u001b[0;36m0.0\u001b[0m\u001b[0;34m,\u001b[0m \u001b[0;36m0.0\u001b[0m\u001b[0;34m]\u001b[0m\u001b[0;34m,\u001b[0m \u001b[0;34m[\u001b[0m\u001b[0;34m[\u001b[0m\u001b[0;36m1.0\u001b[0m\u001b[0;34m,\u001b[0m \u001b[0;36m1.0\u001b[0m\u001b[0;34m]\u001b[0m\u001b[0;34m,\u001b[0m \u001b[0;34m[\u001b[0m\u001b[0;36m1.0\u001b[0m\u001b[0;34m,\u001b[0m \u001b[0;36m1.0\u001b[0m\u001b[0;34m]\u001b[0m\u001b[0;34m]\u001b[0m\u001b[0;34m)\u001b[0m\u001b[0;34m\u001b[0m\u001b[0m\n\u001b[0m",
      "\u001b[0;32m~/anaconda3/lib/python3.6/site-packages/scipy/spatial/distance.py\u001b[0m in \u001b[0;36mmahalanobis\u001b[0;34m(u, v, VI)\u001b[0m\n\u001b[1;32m    747\u001b[0m     \u001b[0mVI\u001b[0m \u001b[0;34m=\u001b[0m \u001b[0mnp\u001b[0m\u001b[0;34m.\u001b[0m\u001b[0matleast_2d\u001b[0m\u001b[0;34m(\u001b[0m\u001b[0mVI\u001b[0m\u001b[0;34m)\u001b[0m\u001b[0;34m\u001b[0m\u001b[0m\n\u001b[1;32m    748\u001b[0m     \u001b[0mdelta\u001b[0m \u001b[0;34m=\u001b[0m \u001b[0mu\u001b[0m \u001b[0;34m-\u001b[0m \u001b[0mv\u001b[0m\u001b[0;34m\u001b[0m\u001b[0m\n\u001b[0;32m--> 749\u001b[0;31m     \u001b[0mm\u001b[0m \u001b[0;34m=\u001b[0m \u001b[0mnp\u001b[0m\u001b[0;34m.\u001b[0m\u001b[0mdot\u001b[0m\u001b[0;34m(\u001b[0m\u001b[0mnp\u001b[0m\u001b[0;34m.\u001b[0m\u001b[0mdot\u001b[0m\u001b[0;34m(\u001b[0m\u001b[0mdelta\u001b[0m\u001b[0;34m,\u001b[0m \u001b[0mVI\u001b[0m\u001b[0;34m)\u001b[0m\u001b[0;34m,\u001b[0m \u001b[0mdelta\u001b[0m\u001b[0;34m)\u001b[0m\u001b[0;34m\u001b[0m\u001b[0m\n\u001b[0m\u001b[1;32m    750\u001b[0m     \u001b[0;32mreturn\u001b[0m \u001b[0mnp\u001b[0m\u001b[0;34m.\u001b[0m\u001b[0msqrt\u001b[0m\u001b[0;34m(\u001b[0m\u001b[0mm\u001b[0m\u001b[0;34m)\u001b[0m\u001b[0;34m\u001b[0m\u001b[0m\n\u001b[1;32m    751\u001b[0m \u001b[0;34m\u001b[0m\u001b[0m\n",
      "\u001b[0;31mValueError\u001b[0m: shapes (3,) and (2,2) not aligned: 3 (dim 0) != 2 (dim 0)"
     ]
    }
   ],
   "source": [
    "mahalanobis([1.0, 1.0, 1.0], [0.0, 0.0, 0.0], [[1.0, 1.0], [1.0, 1.0]])"
   ]
  },
  {
   "cell_type": "code",
   "execution_count": 221,
   "metadata": {
    "collapsed": true
   },
   "outputs": [],
   "source": [
    "# how to make covariance matrix"
   ]
  },
  {
   "cell_type": "code",
   "execution_count": 253,
   "metadata": {},
   "outputs": [
    {
     "data": {
      "image/png": "[encoded data removed]",
      "text/plain": [
       "<matplotlib.figure.Figure at 0x15206d6cc0>"
      ]
     },
     "metadata": {},
     "output_type": "display_data"
    }
   ],
   "source": [
    "import networkx as nx\n",
    "from networkx.algorithms import bipartite\n",
    "\n",
    "B = nx.Graph()\n",
    "\n",
    "B.add_nodes_from([1, 2, 3, 4], bipartite=0)\n",
    "B.add_nodes_from(['a', 'b', 'c'], bipartite=1)\n",
    "\n",
    "B.add_edges_from([(1, 'a'), (1, 'b'), (2, 'b'), (2, 'c'), (3, 'c'), (4, 'a')])\n",
    "\"\"\"\n",
    "bipartite 하게 한다고 해서, 아래처럼 B.add_edges_from 을 했을 때 막아주는 것도 아님....\n",
    "그럼 뭐하러 bipartite를 설정하나? \n",
    "\n",
    "bipartite 한 group a, b가 exclusive 하면 좋겠지만, 그렇지 않은 상황도 있을 수 있으니까, \n",
    "예를 들어서, author keyword <==> index keywords 인 경우들처럼. \n",
    "그럼 이럴 때는 node attr dict로 구분을 하고 진행해야 하는건가?? 그리고 만약 서로 같은 node type일 경우에는 해당 edge를 지워 버리는 식으로?? \n",
    "\"\"\"\n",
    "B.add_edges_from([('a', 'b')])\n",
    "\n",
    "B.nodes(data=True)\n",
    "\n",
    "nx.draw_networkx(B, nx.shell_layout(B))\n",
    "plt.show()"
   ]
  },
  {
   "cell_type": "code",
   "execution_count": 259,
   "metadata": {},
   "outputs": [
    {
     "name": "stdout",
     "output_type": "stream",
     "text": [
      "[('a', {}), ('b', {}), ('c', {}), ('d', {})]\n",
      "True\n"
     ]
    },
    {
     "data": {
      "image/png": "[encoded data removed]",
      "text/plain": [
       "<matplotlib.figure.Figure at 0x1521ecf9e8>"
      ]
     },
     "metadata": {},
     "output_type": "display_data"
    }
   ],
   "source": [
    "import networkx as nx\n",
    "from networkx.algorithms import bipartite\n",
    "\n",
    "\n",
    "\n",
    "\"\"\"\n",
    "bipartite 하게 한다고 해서, 아래처럼 B.add_edges_from 을 했을 때 막아주는 것도 아님....\n",
    "그럼 뭐하러 bipartite를 설정하나? \n",
    "\n",
    "bipartite 한 group a, b가 exclusive 하면 좋겠지만, 그렇지 않은 상황도 있을 수 있으니까, \n",
    "예를 들어서, author keyword <==> index keywords 인 경우들처럼. \n",
    "그럼 이럴 때는 node attr dict로 구분을 하고 진행해야 하는건가?? 그리고 만약 서로 같은 node type일 경우에는 해당 edge를 지워 버리는 식으로?? \n",
    "\"\"\"\n",
    "B = nx.Graph()\n",
    "#B.add_nodes_from(['a', 'b', 'c'])\n",
    "B.add_edges_from(\n",
    "    [('a', 'b'), ('a', 'c'), ('d', 'c')]\n",
    "                )\n",
    "\n",
    "print(B.nodes(data=True))\n",
    "\"\"\"\n",
    "굳이 node에 bipartite 한 attr가 포함되어 있지 않더라도, `nx.is_bipartite(B)를 통해서 체크할 수 있음. \n",
    "음 node의 이름은 같은데 type이 다른 경우에는?? \n",
    "결국 이렇다면, \n",
    "\"\"\"\n",
    "print(nx.is_bipartite(B))\n",
    "nx.draw_networkx(B, nx.shell_layout(B))\n",
    "plt.show()"
   ]
  },
  {
   "cell_type": "code",
   "execution_count": 262,
   "metadata": {},
   "outputs": [
    {
     "data": {
      "text/plain": [
       "NodeDataView({'a': {'type': 1}, 'b': {'type': 1}})"
      ]
     },
     "execution_count": 262,
     "metadata": {},
     "output_type": "execute_result"
    }
   ],
   "source": [
    "\"\"\"\n",
    "같은 이름인 경우에는, type이 달라도 같은 노드로 인지함. 사실 이게 더 합리적인 경우이기는 한데, \n",
    "author keyword ==> index keyword 일때, 서로 다른 노드로 고려해야 하지 않나. 흠. \n",
    "\"\"\"\n",
    "B = nx.Graph()\n",
    "B.add_nodes_from([('a', {'type':1}), ('b', {'type':2}), ('b', {'type':1})])\n",
    "B.nodes(data=True)"
   ]
  },
  {
   "cell_type": "code",
   "execution_count": 339,
   "metadata": {},
   "outputs": [
    {
     "name": "stdout",
     "output_type": "stream",
     "text": [
      "369965\n",
      "complete\n"
     ]
    }
   ],
   "source": [
    "def basic_filtering_for_series(input_series):\n",
    "    r_s = input_series.fillna(\"\").apply(lambda s: s.strip().lower())\n",
    "    r_s = r_s.apply(lambda s: s.split(\";\"))\n",
    "    # remove special char and remove space \n",
    "    def change_word(in_w):\n",
    "        r_c = []\n",
    "        for c in in_w:\n",
    "            if 'a' <= c <= 'z' or '0' <= c <='9' or c==' ':\n",
    "                r_c.append(c)\n",
    "        return \"\".join(r_c).strip()\n",
    "    r_s = r_s.apply(lambda ks: list(filter(lambda k: True if k!=\"\" else False, map(change_word, ks))))\n",
    "    return r_s\n",
    "auth_col = basic_filtering_for_series(df['Author Keywords'])\n",
    "index_col = basic_filtering_for_series(df['Index Keywords'])\n",
    "auth_index_df = pd.DataFrame({\"auth_kwd\":auth_col, \"index_kwd\":index_col})\n",
    "\n",
    "biG = nx.Graph()\n",
    "edge_lst = []\n",
    "for i in range(0, len(auth_index_df)):\n",
    "    auth_l = list(auth_index_df['auth_kwd'].iloc()[i])\n",
    "    index_l = list(auth_index_df['index_kwd'].iloc()[i])\n",
    "    if len(auth_l) != 0 and len(index_l)!=0:\n",
    "        edge_lst += [ (auth, ind+\"(i)\") for auth in auth_l for ind in index_l ]\n",
    "print(len(edge_lst))\n",
    "# add node\n",
    "for e in collections.Counter(edge_lst).most_common():\n",
    "    auth_node, ind_node = e[0][0], e[0][1]\n",
    "    e_weight = e[1]\n",
    "    for node in [auth_node, ind_node]:\n",
    "        if node in biG.nodes():\n",
    "            biG.nodes(data=True)[node]['weight'] = biG.nodes(data=True)[node]['weight'] + e_weight\n",
    "        else:\n",
    "            biG.add_nodes_from([(node, {'weight':e_weight})])\n",
    "# add edges\n",
    "\n",
    "biG.add_edges_from(\n",
    "    (e[0][0], e[0][1], {'weight':e[1]}) for e in collections.Counter(edge_lst).most_common()\n",
    ")\n",
    "print(\"complete\")\n",
    "rawBiG = biG.copy()"
   ]
  },
  {
   "cell_type": "code",
   "execution_count": 470,
   "metadata": {},
   "outputs": [
    {
     "name": "stdout",
     "output_type": "stream",
     "text": [
      "is bipartite?: True\n",
      "before filtering node size: 38369\n",
      "after filtering node size: 791\n",
      "\n",
      "('smes', 'shape memory effect', 15.436279758020806)\n",
      "('shape memory alloys', 'smes', 15.313835112256491)\n",
      "('smes', 'apoptosis', 15.297551958555223)\n",
      "('antioxidant', 'smes', 15.297110857498893)\n",
      "('smes', 'martensitic transformation', 15.28047904820015)\n",
      "('biodiesel', 'smes', 15.252823023508066)\n",
      "('platinum', 'smes', 15.250537382105268)\n",
      "('smes', 'crystal structure', 15.24602190003883)\n",
      "('xray diffraction', 'smes', 15.228784583558754)\n",
      "('oxidative stress', 'smes', 15.22873389330548)\n"
     ]
    }
   ],
   "source": [
    "biG = rawBiG.copy()\n",
    "print(\"is bipartite?: {}\".format(nx.is_bipartite(biG)))\n",
    "#left, right = nx.bipartite.sets(biG)\n",
    "# drop thw low nodes\n",
    "print(\"before filtering node size: {}\".format(len(biG.nodes())))\n",
    "for n in biG.copy().nodes(data=True):\n",
    "    if n[1]['weight'] < 100: # 쓸데없는 node들을 삭제합니다. \n",
    "        biG.remove_node(n[0])\n",
    "print(\"after filtering node size: {}\".format(len(biG.nodes())))\n",
    "nodesetA, nodesetB = nx.bipartite.sets(biG)\n",
    "try:\n",
    "    # need row order, \n",
    "    biadj_matrix = nx.algorithms.bipartite.biadjacency_matrix(biG, row_order=nodesetA)\n",
    "except:\n",
    "    print(\"not yet\")\n",
    "    \n",
    "print()\n",
    "bi_df = pd.DataFrame(biadj_matrix.toarray(), index=nodesetA, columns=nodesetB)\n",
    "bi_df = bi_df.apply(lambda col: (col - 0)/(col.max() - col.min()))# scaling by column\n",
    "n_n_dist_lst  = [\n",
    "    ( bi_df.index[i], bi_df.index[j], euclidean(bi_df.iloc()[j], bi_df.iloc()[i]) ) \n",
    "    for i in range(0, len(bi_df)-1) for j in range(i+1, len(bi_df))\n",
    "]\n",
    "\n",
    "for nn in sorted(n_n_dist_lst, key=lambda x: x[2], reverse=True)[:10]:\n",
    "    print(nn)"
   ]
  },
  {
   "cell_type": "code",
   "execution_count": null,
   "metadata": {},
   "outputs": [],
   "source": []
  },
  {
   "cell_type": "code",
   "execution_count": null,
   "metadata": {},
   "outputs": [],
   "source": []
  },
  {
   "cell_type": "code",
   "execution_count": null,
   "metadata": {},
   "outputs": [],
   "source": []
  },
  {
   "cell_type": "code",
   "execution_count": null,
   "metadata": {},
   "outputs": [],
   "source": []
  },
  {
   "cell_type": "code",
   "execution_count": null,
   "metadata": {
    "collapsed": true
   },
   "outputs": [],
   "source": []
  }
 ],
 "metadata": {
  "kernelspec": {
   "display_name": "Python 3",
   "language": "python",
   "name": "python3"
  },
  "language_info": {
   "codemirror_mode": {
    "name": "ipython",
    "version": 3
   },
   "file_extension": ".py",
   "mimetype": "text/x-python",
   "name": "python",
   "nbconvert_exporter": "python",
   "pygments_lexer": "ipython3",
   "version": "3.6.2"
  }
 },
 "nbformat": 4,
 "nbformat_minor": 2
}
