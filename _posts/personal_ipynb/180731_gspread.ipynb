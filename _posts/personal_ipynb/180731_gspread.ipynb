{
 "cells": [
  {
   "cell_type": "code",
   "execution_count": 9,
   "metadata": {},
   "outputs": [],
   "source": [
    "## credentail init\n",
    "from oauth2client.service_account import ServiceAccountCredentials\n",
    "scope = ['https://spreadsheets.google.com/feeds',\n",
    "         'https://www.googleapis.com/auth/drive']\n",
    "credentials = ServiceAccountCredentials.from_json_keyfile_name('/Users/frhyme/Downloads/My Project-6f3701259a8e.json', scope)\n",
    "\n",
    "## authorize\n",
    "import gspread\n",
    "gc = gspread.authorize(credentials)\n",
    "## sheet file 이름을 넘겨주고 읽습니다. \n",
    "wks = gc.open(\"!individual_meet_report\").get_worksheet(0)\n"
   ]
  },
  {
   "cell_type": "code",
   "execution_count": 20,
   "metadata": {},
   "outputs": [
    {
     "name": "stdout",
     "output_type": "stream",
     "text": [
      "['날짜', '2018. 2. 20', '2018. 2. 20', '2018. 2. 20', '2018. 2. 20', '2018. 2. 21', '2018. 2. 21', '2018. 2. 21', '2018. 2. 21', '2018. 2. 22']\n"
     ]
    }
   ],
   "source": [
    "wks = gc.open(\"!individual_meet_report\").get_worksheet(0)\n",
    "\n",
    "## get row values \n",
    "## 0 이 아니라 1부터 시작하는 것을 유의할 것 \n",
    "for i in range(1, 3):\n",
    "    row = wks.row_values(i)\n",
    "\n",
    "## get column values \n",
    "## 마찬가지로 1부터 시작함 \n",
    "for i in range(1, 2):\n",
    "    col = wks.col_values(i)[:10]\n",
    "    print(col)\n"
   ]
  },
  {
   "cell_type": "code",
   "execution_count": null,
   "metadata": {},
   "outputs": [],
   "source": [
    "# Get all values from the first row\n",
    "values_list = worksheet.row_values(1)\n",
    "\n",
    "# Get all values from the first column\n",
    "values_list = worksheet.col_values(1)\n",
    "val = worksheet.acell('B1').value\n",
    "\n",
    "# With coords\n",
    "val = worksheet.cell(1, 2).value"
   ]
  },
  {
   "cell_type": "code",
   "execution_count": null,
   "metadata": {},
   "outputs": [],
   "source": []
  }
 ],
 "metadata": {
  "kernelspec": {
   "display_name": "Python 3",
   "language": "python",
   "name": "python3"
  },
  "language_info": {
   "codemirror_mode": {
    "name": "ipython",
    "version": 3
   },
   "file_extension": ".py",
   "mimetype": "text/x-python",
   "name": "python",
   "nbconvert_exporter": "python",
   "pygments_lexer": "ipython3",
   "version": "3.6.5"
  }
 },
 "nbformat": 4,
 "nbformat_minor": 2
}
