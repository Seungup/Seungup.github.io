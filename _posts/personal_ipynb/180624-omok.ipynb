{
 "cells": [
  {
   "cell_type": "code",
   "execution_count": 161,
   "metadata": {},
   "outputs": [
    {
     "data": {
      "text/plain": [
       "0.5339412360688957"
      ]
     },
     "execution_count": 161,
     "metadata": {},
     "output_type": "execute_result"
    }
   ],
   "source": [
    "import pandas as pd\n",
    "import numpy as np \n",
    "import matplotlib.pyplot as plt\n",
    "import seaborn as sns \n",
    "\"\"\"\n",
    "- 영화 오목소녀를 보다가 갑자기, 오목을 코딩해보면 어떨까? 하는 생각이 들었다고 한다. \n",
    "\"\"\"\n",
    "def check_end(inputA):\n",
    "    inputA = np.array(a)\n",
    "    # row checking\n",
    "    for i in range(0, len(inputA)):\n",
    "        for j in range(0, len(inputA)-5):\n",
    "            if abs(inputA[i, j:j+5].sum())==5:\n",
    "                return True    \n",
    "    # column checking\n",
    "    for i in range(0, len(inputA)):\n",
    "        for j in range(0, len(inputA)-5):\n",
    "            if abs(inputA[j:j+5, i].sum())==5:\n",
    "                return True\n",
    "    # diagonal checking\n",
    "    for i in range(0, len(inputA)-5):\n",
    "        for j in range(0, len(inputA)-5):\n",
    "            if abs(inputA[i:i+5, j:j+5].diagonal().sum())==5:\n",
    "                return True\n",
    "            if abs(np.rot90(inputA[i:i+5, j:j+5]).diagonal().sum())==5:\n",
    "                return True\n",
    "    return False\n",
    "def remain_candidates(inputA):\n",
    "    return [(i, j) for i in range(0, len(inputA)) for j in range(0, len(inputA)) if inputA[i][j]==0]\n",
    "def random_move(inputA, candidates, b_or_w):\n",
    "    r, c = candidates[np.random.randint(0, len(candidates))]\n",
    "    inputA[r][c] = b_or_w\n",
    "    return inputA\n",
    "## draw it \n",
    "def draw_it(inputA):\n",
    "    f = plt.figure(figsize=(3, 3))\n",
    "    sns.heatmap(a, cbar=False, annot=True, fmt='.0f', linewidths=1, \n",
    "                square=True, \n",
    "                #cmap=plt.cm.rainbow_r\n",
    "           )\n",
    "    plt.xticks([])\n",
    "    plt.yticks([])\n",
    "    plt.show()\n",
    "\n",
    "win_result = []\n",
    "for i in range(0, 2000):\n",
    "    a = [[0 for j in range(0, 9)] for i in range(0, 9)]\n",
    "    status = 1 # 1 is black, -1 is white\n",
    "    while True:\n",
    "        candidates = remain_candidates(a)\n",
    "        if len(candidates)==0:\n",
    "            #print(\"game over, no winner\")\n",
    "            break\n",
    "            \n",
    "        a = random_move(a, candidates, status)        \n",
    "        if check_end(a)==True:\n",
    "            #print(\"game over, win: {}\".format(status))\n",
    "            win_result.append(status)\n",
    "            break\n",
    "        status = -1 if status==1 else 1\n",
    "    #draw_it(a)\n",
    "sum(list(map(lambda x: 0 if x==-1 else x, win_result)))/len(win_result)"
   ]
  },
  {
   "cell_type": "code",
   "execution_count": 155,
   "metadata": {},
   "outputs": [
    {
     "data": {
      "text/plain": [
       "978"
      ]
     },
     "execution_count": 155,
     "metadata": {},
     "output_type": "execute_result"
    }
   ],
   "source": [
    "len(win_result)"
   ]
  },
  {
   "cell_type": "code",
   "execution_count": 156,
   "metadata": {},
   "outputs": [
    {
     "data": {
      "text/plain": [
       "511"
      ]
     },
     "execution_count": 156,
     "metadata": {},
     "output_type": "execute_result"
    }
   ],
   "source": []
  },
  {
   "cell_type": "code",
   "execution_count": null,
   "metadata": {
    "collapsed": true
   },
   "outputs": [],
   "source": []
  }
 ],
 "metadata": {
  "kernelspec": {
   "display_name": "Python 3",
   "language": "python",
   "name": "python3"
  },
  "language_info": {
   "codemirror_mode": {
    "name": "ipython",
    "version": 3
   },
   "file_extension": ".py",
   "mimetype": "text/x-python",
   "name": "python",
   "nbconvert_exporter": "python",
   "pygments_lexer": "ipython3",
   "version": "3.6.2"
  }
 },
 "nbformat": 4,
 "nbformat_minor": 2
}
