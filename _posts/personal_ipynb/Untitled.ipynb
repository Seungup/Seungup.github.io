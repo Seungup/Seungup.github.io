{
 "cells": [
  {
   "cell_type": "code",
   "execution_count": 43,
   "metadata": {},
   "outputs": [
    {
     "name": "stdout",
     "output_type": "stream",
     "text": [
      "['두산', '46', '30', '0', '16', '0.652', '0.0', '2위']\n",
      "['한화', '46', '27', '0', '19', '0.587', '3.0', '3위']\n",
      "['SK', '46', '26', '0', '20', '0.565', '4.0', '4위']\n",
      "['KIA', '46', '24', '0', '22', '0.522', '6.0', '5위']\n",
      "['LG', '49', '24', '0', '25', '0.490', '7.5', '5위']\n",
      "['넥센', '49', '24', '0', '25', '0.490', '7.5', '7위']\n",
      "['롯데', '45', '22', '0', '23', '0.489', '7.5', '8위']\n",
      "['KT', '47', '20', '0', '27', '0.426', '10.5', '9위']\n",
      "['삼성', '48', '20', '0', '28', '0.417', '11.0', '10위']\n",
      "['NC', '48', '18', '0', '30', '0.375', '']\n"
     ]
    }
   ],
   "source": [
    "input_s = \"\"\"두산\n",
    "46\n",
    "30\n",
    "0\n",
    "16\n",
    "0.652\n",
    "0.0\n",
    "2위\n",
    " \n",
    "한화\n",
    "46\n",
    "27\n",
    "0\n",
    "19\n",
    "0.587\n",
    "3.0\n",
    "3위\n",
    " \n",
    "SK\n",
    "46\n",
    "26\n",
    "0\n",
    "20\n",
    "0.565\n",
    "4.0\n",
    "4위\n",
    " \n",
    "KIA\n",
    "46\n",
    "24\n",
    "0\n",
    "22\n",
    "0.522\n",
    "6.0\n",
    "5위\n",
    " \n",
    "LG\n",
    "49\n",
    "24\n",
    "0\n",
    "25\n",
    "0.490\n",
    "7.5\n",
    "5위\n",
    " \n",
    "넥센\n",
    "49\n",
    "24\n",
    "0\n",
    "25\n",
    "0.490\n",
    "7.5\n",
    "7위\n",
    " \n",
    "롯데\n",
    "45\n",
    "22\n",
    "0\n",
    "23\n",
    "0.489\n",
    "7.5\n",
    "8위\n",
    " \n",
    "KT\n",
    "47\n",
    "20\n",
    "0\n",
    "27\n",
    "0.426\n",
    "10.5\n",
    "9위\n",
    " \n",
    "삼성\n",
    "48\n",
    "20\n",
    "0\n",
    "28\n",
    "0.417\n",
    "11.0\n",
    "10위\n",
    " \n",
    "NC\n",
    "48\n",
    "18\n",
    "0\n",
    "30\n",
    "0.375\n",
    "\"\"\"\n",
    "for s in input_s.split(\"\\n \\n\"):\n",
    "    print(s.split(\"\\n\"))"
   ]
  },
  {
   "cell_type": "code",
   "execution_count": null,
   "metadata": {
    "collapsed": true
   },
   "outputs": [],
   "source": [
    "import pandas as pd\n",
    "df = {\n",
    "    'name':[],\n",
    "    'g':[],\n",
    "    'w':[],\n",
    "    'l':[],\n",
    "}\n",
    "for s in input_s.split(\"\\n \\n\"):\n",
    "    n, g, w, _, l = s.split(\"\\n\")[:5]\n",
    "    df['name'].append(n)\n",
    "    df['g'].append(g)\n",
    "    df['w'].append(w)\n",
    "    df['l'].append(l)\n",
    "df = pd.DataFrame(df)\n",
    "df['g']= df['g'].astype('float32')\n",
    "df['w']= df['w'].astype('float32')\n",
    "df['l']= df['l'].astype('float32')\n",
    "df['py'] = df['w']**2 / (df['w']**2 + df['l']**2)\n",
    "df['pyW'] = df['py']*df['g']\n",
    "df"
   ]
  },
  {
   "cell_type": "code",
   "execution_count": 81,
   "metadata": {},
   "outputs": [
    {
     "name": "stdout",
     "output_type": "stream",
     "text": [
      "      RA     RS     g   l name   w         X        py\n",
      "3  230.0  270.0  46.0  22  KIA  24  3.119565  0.622506\n",
      "2  230.0  264.0  46.0  20   SK  26  3.082130  0.604663\n",
      "0  239.0  271.0  46.0  16   두산  30  3.181957  0.598647\n",
      "4  231.0  246.0  49.0  25   LG  24  2.793857  0.543830\n",
      "6  231.0  235.0  45.0  23   롯데  22  2.972044  0.512753\n",
      "5  242.0  245.0  49.0  25   넥센  24  2.852428  0.508785\n",
      "1  224.0  222.0  46.0  19   한화  27  2.782652  0.493761\n",
      "7  263.0  239.0  47.0  27   kt  20  3.065404  0.427189\n",
      "8  270.0  236.0  48.0  28   삼성  20  3.025458  0.399584\n",
      "9  265.0  197.0  48.0  30   NC  18  2.762375  0.305951\n"
     ]
    }
   ],
   "source": [
    "input_s = \"\"\"1\t두산\t46\t30\t16\t0\t-\t0.652\t271\t239\n",
    "2\t한화\t46\t27\t19\t0\t3.0\t0.587\t222\t224\n",
    "3\tSK\t46\t26\t20\t0\t4.0\t0.565\t264\t230\n",
    "4\tKIA\t46\t24\t22\t0\t6.0\t0.522\t270\t230\n",
    "5\tLG\t49\t24\t25\t0\t7.5\t0.490\t246\t231\n",
    "5\t넥센\t49\t24\t25\t0\t7.5\t0.490\t245\t242\n",
    "7\t롯데\t45\t22\t23\t0\t7.5\t0.489\t235\t231\n",
    "8\tkt\t47\t20\t27\t0\t10.5\t0.426\t239\t263\n",
    "9\t삼성\t48\t20\t28\t0\t11.0\t0.417\t236\t270\n",
    "10\tNC\t48\t18\t30\t0\t13.0\t0.375\t197\t265\"\"\"\n",
    "\n",
    "import pandas as pd\n",
    "df = {\n",
    "    'name':[],\n",
    "    'g':[],\n",
    "    'w':[],\n",
    "    'l':[],\n",
    "    'RS':[],\n",
    "    'RA':[]\n",
    "}\n",
    "for s in input_s.split(\"\\n\"):\n",
    "    try:\n",
    "        _, name, g, w, l, _, _, _, RS, RA = s.split(\"\\t\")\n",
    "        df['name'].append(name)\n",
    "        df['g'].append(g)\n",
    "        df['w'].append(w)\n",
    "        df['l'].append(l)\n",
    "        df['RS'].append(RS)\n",
    "        df['RA'].append(RA)\n",
    "    except:\n",
    "        print(len(s.split(\"\\t\")))\n",
    "        print(s.split(\"\\t\"))\n",
    "df = pd.DataFrame(df)\n",
    "df['RS'] = df['RS'].astype('float32')\n",
    "df['RA'] = df['RA'].astype('float32')\n",
    "df['g'] = df['g'].astype('float32')\n",
    "df['X'] = (df['RS'] + df['RA'])/df['g'] * 0.287\n",
    "df['py'] = [df.iloc()[i]['RS']**X / (df.iloc()[i]['RS']**X + df.iloc()[i]['RA']**X) for i, X in enumerate(df['X'])]\n",
    "\n",
    "#df['pyW'] = df['py']*df['g']\n",
    "print(df.sort_values('py', ascending=False))"
   ]
  },
  {
   "cell_type": "code",
   "execution_count": 79,
   "metadata": {},
   "outputs": [
    {
     "data": {
      "text/html": [
       "<div>\n",
       "<style>\n",
       "    .dataframe thead tr:only-child th {\n",
       "        text-align: right;\n",
       "    }\n",
       "\n",
       "    .dataframe thead th {\n",
       "        text-align: left;\n",
       "    }\n",
       "\n",
       "    .dataframe tbody tr th {\n",
       "        vertical-align: top;\n",
       "    }\n",
       "</style>\n",
       "<table border=\"1\" class=\"dataframe\">\n",
       "  <thead>\n",
       "    <tr style=\"text-align: right;\">\n",
       "      <th></th>\n",
       "      <th>RA</th>\n",
       "      <th>RS</th>\n",
       "      <th>g</th>\n",
       "      <th>l</th>\n",
       "      <th>name</th>\n",
       "      <th>w</th>\n",
       "      <th>X</th>\n",
       "      <th>py</th>\n",
       "    </tr>\n",
       "  </thead>\n",
       "  <tbody>\n",
       "    <tr>\n",
       "      <th>0</th>\n",
       "      <td>239.0</td>\n",
       "      <td>271.0</td>\n",
       "      <td>46.0</td>\n",
       "      <td>16</td>\n",
       "      <td>두산</td>\n",
       "      <td>30</td>\n",
       "      <td>3.181957</td>\n",
       "      <td>0.598647</td>\n",
       "    </tr>\n",
       "    <tr>\n",
       "      <th>1</th>\n",
       "      <td>224.0</td>\n",
       "      <td>222.0</td>\n",
       "      <td>46.0</td>\n",
       "      <td>19</td>\n",
       "      <td>한화</td>\n",
       "      <td>27</td>\n",
       "      <td>2.782652</td>\n",
       "      <td>0.493761</td>\n",
       "    </tr>\n",
       "    <tr>\n",
       "      <th>2</th>\n",
       "      <td>230.0</td>\n",
       "      <td>264.0</td>\n",
       "      <td>46.0</td>\n",
       "      <td>20</td>\n",
       "      <td>SK</td>\n",
       "      <td>26</td>\n",
       "      <td>3.082130</td>\n",
       "      <td>0.604663</td>\n",
       "    </tr>\n",
       "    <tr>\n",
       "      <th>3</th>\n",
       "      <td>230.0</td>\n",
       "      <td>270.0</td>\n",
       "      <td>46.0</td>\n",
       "      <td>22</td>\n",
       "      <td>KIA</td>\n",
       "      <td>24</td>\n",
       "      <td>3.119565</td>\n",
       "      <td>0.622506</td>\n",
       "    </tr>\n",
       "    <tr>\n",
       "      <th>4</th>\n",
       "      <td>231.0</td>\n",
       "      <td>246.0</td>\n",
       "      <td>49.0</td>\n",
       "      <td>25</td>\n",
       "      <td>LG</td>\n",
       "      <td>24</td>\n",
       "      <td>2.793857</td>\n",
       "      <td>0.543830</td>\n",
       "    </tr>\n",
       "    <tr>\n",
       "      <th>5</th>\n",
       "      <td>242.0</td>\n",
       "      <td>245.0</td>\n",
       "      <td>49.0</td>\n",
       "      <td>25</td>\n",
       "      <td>넥센</td>\n",
       "      <td>24</td>\n",
       "      <td>2.852428</td>\n",
       "      <td>0.508785</td>\n",
       "    </tr>\n",
       "    <tr>\n",
       "      <th>6</th>\n",
       "      <td>231.0</td>\n",
       "      <td>235.0</td>\n",
       "      <td>45.0</td>\n",
       "      <td>23</td>\n",
       "      <td>롯데</td>\n",
       "      <td>22</td>\n",
       "      <td>2.972044</td>\n",
       "      <td>0.512753</td>\n",
       "    </tr>\n",
       "    <tr>\n",
       "      <th>7</th>\n",
       "      <td>263.0</td>\n",
       "      <td>239.0</td>\n",
       "      <td>47.0</td>\n",
       "      <td>27</td>\n",
       "      <td>kt</td>\n",
       "      <td>20</td>\n",
       "      <td>3.065404</td>\n",
       "      <td>0.427189</td>\n",
       "    </tr>\n",
       "    <tr>\n",
       "      <th>8</th>\n",
       "      <td>270.0</td>\n",
       "      <td>236.0</td>\n",
       "      <td>48.0</td>\n",
       "      <td>28</td>\n",
       "      <td>삼성</td>\n",
       "      <td>20</td>\n",
       "      <td>3.025458</td>\n",
       "      <td>0.399584</td>\n",
       "    </tr>\n",
       "    <tr>\n",
       "      <th>9</th>\n",
       "      <td>265.0</td>\n",
       "      <td>197.0</td>\n",
       "      <td>48.0</td>\n",
       "      <td>30</td>\n",
       "      <td>NC</td>\n",
       "      <td>18</td>\n",
       "      <td>2.762375</td>\n",
       "      <td>0.305951</td>\n",
       "    </tr>\n",
       "  </tbody>\n",
       "</table>\n",
       "</div>"
      ],
      "text/plain": [
       "      RA     RS     g   l name   w         X        py\n",
       "0  239.0  271.0  46.0  16   두산  30  3.181957  0.598647\n",
       "1  224.0  222.0  46.0  19   한화  27  2.782652  0.493761\n",
       "2  230.0  264.0  46.0  20   SK  26  3.082130  0.604663\n",
       "3  230.0  270.0  46.0  22  KIA  24  3.119565  0.622506\n",
       "4  231.0  246.0  49.0  25   LG  24  2.793857  0.543830\n",
       "5  242.0  245.0  49.0  25   넥센  24  2.852428  0.508785\n",
       "6  231.0  235.0  45.0  23   롯데  22  2.972044  0.512753\n",
       "7  263.0  239.0  47.0  27   kt  20  3.065404  0.427189\n",
       "8  270.0  236.0  48.0  28   삼성  20  3.025458  0.399584\n",
       "9  265.0  197.0  48.0  30   NC  18  2.762375  0.305951"
      ]
     },
     "execution_count": 79,
     "metadata": {},
     "output_type": "execute_result"
    }
   ],
   "source": []
  },
  {
   "cell_type": "code",
   "execution_count": 16,
   "metadata": {},
   "outputs": [
    {
     "data": {
      "text/plain": [
       "[0.297, 0.397, 0.497]"
      ]
     },
     "execution_count": 16,
     "metadata": {},
     "output_type": "execute_result"
    }
   ],
   "source": [
    "def P(r, AVG, OBP, SLG):\n",
    "    p = (0.1073 - r*0.11)* (((25*OBP*SLG)/(1-AVG))**(1/3.0))\n",
    "    return list(map(lambda x: round(x, 3), (AVG-p, OBP-p, SLG-p)))\n",
    "\n",
    "\n",
    "P(0.75, 0.35, 0.45, 0.55)"
   ]
  },
  {
   "cell_type": "code",
   "execution_count": 105,
   "metadata": {},
   "outputs": [
    {
     "name": "stdout",
     "output_type": "stream",
     "text": [
      "<class 'dict'>\n",
      "dict_keys(['cells', 'metadata', 'nbformat', 'nbformat_minor'])\n"
     ]
    }
   ],
   "source": [
    "import json\n",
    "k = json.load(open(\"sample_ipynb_to_import.ipynb\", 'r', encoding='utf-8'))\n",
    "print(type(k))\n",
    "print(k.keys())"
   ]
  },
  {
   "cell_type": "code",
   "execution_count": null,
   "metadata": {
    "collapsed": true
   },
   "outputs": [],
   "source": [
    "all_code_lst =[]\n",
    "for cell in k['cells']:\n",
    "    if cell['cell_type']=='code':\n",
    "        all_code_lst.append(\"\".join(cell['source']))\n",
    "all_code = \"\\n\".join(all_code_lst)\n",
    "exec(all_code)"
   ]
  },
  {
   "cell_type": "code",
   "execution_count": 111,
   "metadata": {},
   "outputs": [
    {
     "name": "stdout",
     "output_type": "stream",
     "text": [
      "7000\n"
     ]
    }
   ],
   "source": [
    "print(len(test_log))"
   ]
  },
  {
   "cell_type": "code",
   "execution_count": 114,
   "metadata": {},
   "outputs": [
    {
     "name": "stdout",
     "output_type": "stream",
     "text": [
      "['a', 'b', 'e', 'f', 'c', 'd']\n"
     ]
    }
   ],
   "source": [
    "print(return_unique_activities(test_log))"
   ]
  },
  {
   "cell_type": "code",
   "execution_count": null,
   "metadata": {
    "collapsed": true
   },
   "outputs": [],
   "source": []
  },
  {
   "cell_type": "code",
   "execution_count": 115,
   "metadata": {},
   "outputs": [
    {
     "data": {
      "text/plain": [
       "9.746794344808963"
      ]
     },
     "execution_count": 115,
     "metadata": {},
     "output_type": "execute_result"
    }
   ],
   "source": [
    "## distance \n",
    "from math import*\n",
    " \n",
    "def euclidean_distance(x,y):\n",
    "    return sqrt(sum(pow(a-b,2) for a, b in zip(x, y)))\n",
    "\n",
    " \n",
    "euclidean_distance([0,3,4,5],[7,6,3,-1])"
   ]
  },
  {
   "cell_type": "code",
   "execution_count": null,
   "metadata": {
    "collapsed": true
   },
   "outputs": [],
   "source": [
    "def manhattan_distance(x,y): \n",
    "    if len(x)==len(y):\n",
    "        r = 0 \n",
    "        for i in range(0, len(x)):\n",
    "            r+=abs(x[i]-y[i])\n",
    "        return r\n",
    "    else:\n",
    "        return \"error\"\n",
    "manhattan_distance([10,20,10],[10,20,20])"
   ]
  },
  {
   "cell_type": "code",
   "execution_count": 143,
   "metadata": {},
   "outputs": [
    {
     "name": "stdout",
     "output_type": "stream",
     "text": [
      "3.0041617671340037\n",
      "4.0\n",
      "3.0\n"
     ]
    }
   ],
   "source": [
    "def minkowski_distance(x, y, lam):\n",
    "    r = 0\n",
    "    for a, b in zip(x, y):\n",
    "        r+=(abs(a-b))**lam\n",
    "    return (r)**(1.0/lam)\n",
    "print(minkowski_distance([3,3], [0,0], 500))\n",
    "print(minkowski_distance([3,4], [0,0], 500))\n",
    "print(minkowski_distance([3,0], [0,0], 500))"
   ]
  },
  {
   "cell_type": "code",
   "execution_count": 117,
   "metadata": {},
   "outputs": [
    {
     "data": {
      "text/plain": [
       "0.375"
      ]
     },
     "execution_count": 117,
     "metadata": {},
     "output_type": "execute_result"
    }
   ],
   "source": [
    "def jaccard_similarity(x,y):\n",
    "    intersection = set(x).intersection(set(y))\n",
    "    union = set(x).union(set(y))\n",
    "    return len(intersection)/len(union)\n",
    " \n",
    "jaccard_similarity([0,1,2,5,6],[0,2,3,5,7,9])"
   ]
  },
  {
   "cell_type": "code",
   "execution_count": 129,
   "metadata": {},
   "outputs": [
    {
     "data": {
      "text/plain": [
       "-0.97"
      ]
     },
     "execution_count": 129,
     "metadata": {},
     "output_type": "execute_result"
    }
   ],
   "source": [
    "def cosine_similarity(x,y):    \n",
    "    def square_rooted(x):\n",
    "        return sqrt(sum([a*a for a in x]))\n",
    "    numerator = sum(a*b for a,b in zip(x,y))\n",
    "    denominator = square_rooted(x)*square_rooted(y)\n",
    "    return round(numerator/denominator, 2)\n",
    " \n",
    "cosine_similarity([3, 3], [-3, -5])"
   ]
  },
  {
   "cell_type": "code",
   "execution_count": null,
   "metadata": {
    "collapsed": true
   },
   "outputs": [],
   "source": []
  }
 ],
 "metadata": {
  "kernelspec": {
   "display_name": "Python 3",
   "language": "python",
   "name": "python3"
  },
  "language_info": {
   "codemirror_mode": {
    "name": "ipython",
    "version": 3
   },
   "file_extension": ".py",
   "mimetype": "text/x-python",
   "name": "python",
   "nbconvert_exporter": "python",
   "pygments_lexer": "ipython3",
   "version": "3.6.2"
  }
 },
 "nbformat": 4,
 "nbformat_minor": 2
}
