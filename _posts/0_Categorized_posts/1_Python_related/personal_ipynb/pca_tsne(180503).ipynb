{
 "cells": [
  {
   "cell_type": "code",
   "execution_count": 48,
   "metadata": {},
   "outputs": [],
   "source": [
    "import pandas as pd\n",
    "import matplotlib.pyplot as plt\n",
    "\n",
    "from sklearn.datasets import fetch_mldata\n",
    "mnist = fetch_mldata(\"MNIST original\")\n",
    "X = mnist.data / 255.0 # np.array (70000, 784)\n",
    "y = mnist.target # np.array (70000,)"
   ]
  },
  {
   "cell_type": "code",
   "execution_count": 78,
   "metadata": {},
   "outputs": [],
   "source": [
    "# import mnist data\n",
    "import pandas as pd\n",
    "import matplotlib.pyplot as plt\n",
    "\n",
    "from sklearn.datasets import fetch_mldata\n",
    "mnist = fetch_mldata(\"MNIST original\")\n",
    "X = mnist.data / 255.0 # np.array (70000, 784)\n",
    "y = mnist.target # np.array (70000,)\n",
    "\n",
    "\"\"\"\n",
    "data가 너무 많아서, 계산시간이 오래 걸려서 임의로 샘플링을 했다.\n",
    "t-sne의 경우 n이 커지면 너무 오래 걸림. 네 저는 맥북에어로....이걸 하고 있어요ㅠㅠ\n",
    "\"\"\" \n",
    "def sample_n(X, y, n):\n",
    "    selected_rows = [int(70000/n*i) for i in range(0, n)]\n",
    "    new_X = X[selected_rows]\n",
    "    new_y = y[selected_rows]\n",
    "    return new_X, new_y\n",
    "\n",
    "\"\"\"\n",
    "계산해서 그림을 그려주는 함수입니다.\n",
    "\"\"\"\n",
    "from sklearn.manifold import TSNE\n",
    "from sklearn.decomposition import PCA\n",
    "from sklearn.manifold import Isomap\n",
    "def dim_reduction_and_draw(TSNE_or_PCA_or_Isomap, X, y, output_file):\n",
    "    new_X = TSNE_or_PCA_or_Isomap(n_components=2).fit_transform(X)\n",
    "    f = plt.figure()\n",
    "    plt.scatter(new_X[:, 0], new_X[:, 1], c=y, alpha=0.7)\n",
    "    plt.title(output_file)\n",
    "    plt.axis('off')\n",
    "    plt.savefig(\"../../assets/images/markdown_img/\"+output_file)\n",
    "\n",
    "new_X, new_y = sample_n(X, y, 2000)\n",
    "dim_reduction_and_draw(TSNE, new_X, new_y, \"TSNE.svg\")\n",
    "dim_reduction_and_draw(PCA, new_X, new_y, \"PCA.svg\")\n",
    "dim_reduction_and_draw(Isomap, new_X, new_y, \"Isomap.svg\")"
   ]
  },
  {
   "cell_type": "code",
   "execution_count": null,
   "metadata": {},
   "outputs": [],
   "source": []
  },
  {
   "cell_type": "code",
   "execution_count": null,
   "metadata": {
    "collapsed": true
   },
   "outputs": [],
   "source": []
  }
 ],
 "metadata": {
  "kernelspec": {
   "display_name": "Python 3",
   "language": "python",
   "name": "python3"
  },
  "language_info": {
   "codemirror_mode": {
    "name": "ipython",
    "version": 3
   },
   "file_extension": ".py",
   "mimetype": "text/x-python",
   "name": "python",
   "nbconvert_exporter": "python",
   "pygments_lexer": "ipython3",
   "version": "3.6.2"
  }
 },
 "nbformat": 4,
 "nbformat_minor": 2
}
