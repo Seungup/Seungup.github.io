{
 "cells": [
  {
   "cell_type": "code",
   "execution_count": 96,
   "metadata": {},
   "outputs": [
    {
     "name": "stdout",
     "output_type": "stream",
     "text": [
      "<class 'sklearn.linear_model.base.LinearRegression'>\n",
      "0.529179489396\n",
      "0.501282255017\n",
      "<class 'sklearn.neural_network.multilayer_perceptron.MLPRegressor'>\n",
      "0.519003849246\n",
      "0.502278867318\n",
      "<class 'sklearn.linear_model.coordinate_descent.ElasticNet'>\n",
      "0.526853690083\n",
      "0.492980225753\n"
     ]
    },
    {
     "name": "stderr",
     "output_type": "stream",
     "text": [
      "/Users/frhyme/anaconda3/lib/python3.6/site-packages/sklearn/neural_network/multilayer_perceptron.py:564: ConvergenceWarning: Stochastic Optimizer: Maximum iterations (200) reached and the optimization hasn't converged yet.\n",
      "  % self.max_iter, ConvergenceWarning)\n"
     ]
    }
   ],
   "source": [
    "import numpy as np \n",
    "import pandas as pd\n",
    "import matplotlib.pyplot as plt \n",
    "from sklearn.linear_model import LinearRegression, ElasticNet\n",
    "from sklearn.neural_network import MLPRegressor\n",
    "from sklearn.model_selection import train_test_split\n",
    "from sklearn.metrics import r2_score\n",
    "\n",
    "sample_size = 500\n",
    "\n",
    "x = pd.DataFrame({\n",
    "    \"x1\": np.random.normal(0, 1, sample_size), \n",
    "    'x2': np.random.normal(2, 3, sample_size), \n",
    "    'x3': np.random.normal(10, 5, sample_size),\n",
    "    'x4': np.random.normal(2, 3, sample_size), \n",
    "    'c1': np.random.randint(0, 2, sample_size), \n",
    "    'c2': np.random.randint(0, 5, sample_size), \n",
    "})\n",
    "\n",
    "for i in range(0, 2):\n",
    "    left = np.random.choice(x.columns)\n",
    "    right = np.random.choice(x.columns)\n",
    "    x['{}_{}'.format(left, right)] = x[left]*x[right]\n",
    "\n",
    "#print(x.columns)\n",
    "#print(x.head())\n",
    "coef = np.random.normal(0, 5, len(x.columns))\n",
    "#print(coef)\n",
    "y = x.values.dot(coef) + np.random.normal(100, 100, sample_size)\n",
    "\n",
    "\n",
    "x_train, x_test, y_train, y_test = train_test_split(x, y, train_size =0.7, test_size=0.3)\n",
    "\n",
    "## Linear regression \n",
    "models = [LinearRegression(), \n",
    "          MLPRegressor(hidden_layer_sizes=[48, 32, 8]), \n",
    "          ElasticNet(),\n",
    "         ]\n",
    "for m in models:\n",
    "    m.fit(x_train, y_train)\n",
    "    print(m.__class__)\n",
    "    print(r2_score(y_train, m.predict(x_train)))\n",
    "    print(r2_score(y_test, m.predict(x_test)))\n",
    "\n",
    "\n"
   ]
  },
  {
   "cell_type": "code",
   "execution_count": 70,
   "metadata": {},
   "outputs": [
    {
     "data": {
      "text/plain": [
       "(350000,)"
      ]
     },
     "execution_count": 70,
     "metadata": {},
     "output_type": "execute_result"
    }
   ],
   "source": []
  },
  {
   "cell_type": "code",
   "execution_count": null,
   "metadata": {
    "collapsed": true
   },
   "outputs": [],
   "source": []
  }
 ],
 "metadata": {
  "kernelspec": {
   "display_name": "Python 3",
   "language": "python",
   "name": "python3"
  },
  "language_info": {
   "codemirror_mode": {
    "name": "ipython",
    "version": 3
   },
   "file_extension": ".py",
   "mimetype": "text/x-python",
   "name": "python",
   "nbconvert_exporter": "python",
   "pygments_lexer": "ipython3",
   "version": "3.6.2"
  }
 },
 "nbformat": 4,
 "nbformat_minor": 2
}
