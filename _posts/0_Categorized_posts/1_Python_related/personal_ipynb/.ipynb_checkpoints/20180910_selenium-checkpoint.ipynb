{
 "cells": [
  {
   "cell_type": "code",
   "execution_count": null,
   "metadata": {},
   "outputs": [],
   "source": []
  },
  {
   "cell_type": "code",
   "execution_count": 28,
   "metadata": {},
   "outputs": [
    {
     "name": "stdout",
     "output_type": "stream",
     "text": [
      "Python\n",
      "PSF\n",
      "Docs\n",
      "PyPI\n",
      "Jobs\n",
      "Community\n"
     ]
    }
   ],
   "source": [
    "from selenium import webdriver\n",
    "import time\n",
    " \n",
    "## 설치한 드라이버의 path를 웹드라이버에 함께 넘겨줍니다.\n",
    "browser = webdriver.Firefox(executable_path='/Users/frhyme/Downloads/gecko/geckodriver')\n",
    "## 브라우저에서서 다음 url로 접속합니다. 그럼 브라우저가 열리고, 해당 url로 접속합니다. \n",
    "browser.get(\"https://python.org\")\n",
    "\n",
    "## 브라우저에서 접근하려는 요소를 찾습니다. \n",
    "## 여기서는 css selector를 사용해서 찾았습니다. \n",
    "## 하지만 여기서 문제는, 제가 원하는 요소의 css selector가 무엇인지 어떻게 알 수 있을까요? \n",
    "menus = browser.find_elements_by_css_selector('#top ul.menu li')\n",
    "for m in menus:\n",
    "    print(m.text)## 해당 요소의 text를 출력합니다. \n",
    "    time.sleep(2)\n",
    "browser.quit()"
   ]
  },
  {
   "cell_type": "code",
   "execution_count": 38,
   "metadata": {},
   "outputs": [],
   "source": [
    "## google 검색\n",
    "browser = webdriver.Firefox(executable_path='/Users/frhyme/Downloads/gecko/geckodriver')\n",
    "## 브라우저에서서 다음 url로 접속합니다. 그럼 브라우저가 열리고, 해당 url로 접속합니다. \n",
    "browser.get('https://google.com')\n",
    "\n",
    "## 페이지 소스에서 내가 원하는 요소는 tag_name, id, css_selector등으로 매우 다양하게 찾을 수 있습니다. \n",
    "## 일단 편하게 긁어오시고, 긁어오신다음에 만약 여러 개가 나올 경우에 더 구체적으로 찾아보면서 해보시는 게 좋아요. \n",
    "## 여기서는 일단 name으로 긁어왔습니다. \n",
    "elem = browser.find_element_by_name(\"q\") \n",
    "## 이미 검색창에 어떤 값이 들어가있을 수 있기 때문에 해당 값을 지워줍니다. \n",
    "elem.clear()\n",
    "## 값을 넣어주고, \n",
    "elem.send_keys(\"frhyme\")## \n",
    "## 제출을 하면 해당 페이지로 이동하게 됩니다. \n",
    "elem.submit() ## 제출 \n",
    "## 옮겨진 페이지에서 추가 작업을 하고 싶으면 여기서 진행하면 됩니다. \n",
    "#print(browser.page_source)\n",
    "time.sleep(5)\n",
    "## 브라우저 끄기\n",
    "browser.quit()"
   ]
  },
  {
   "cell_type": "code",
   "execution_count": 17,
   "metadata": {},
   "outputs": [
    {
     "name": "stdout",
     "output_type": "stream",
     "text": [
      "Python\n",
      "PSF\n",
      "Docs\n",
      "PyPI\n",
      "Jobs\n",
      "Community\n"
     ]
    }
   ],
   "source": [
    "## 그리고, 제가 원하는 \n",
    "menus = browser.find_elements_by_css_selector('#top ul.menu li')\n",
    " \n",
    "pypi = None\n",
    "for m in menus:\n",
    "    if m.text == \"PyPI\":\n",
    "        pypi = m\n",
    "    print(m.text)\n",
    " \n",
    "pypi.click()  # 클릭\n",
    " \n",
    "time.sleep(5) # 5초 대기\n",
    "browser.quit() # 브라우저 종료"
   ]
  },
  {
   "cell_type": "code",
   "execution_count": 49,
   "metadata": {},
   "outputs": [],
   "source": [
    "from selenium import webdriver\n",
    "import time\n",
    " \n",
    "## 설치한 드라이버의 path를 웹드라이버에 함께 넘겨줍니다.\n",
    "browser = webdriver.Firefox(executable_path='/Users/frhyme/Downloads/gecko/geckodriver')\n",
    "## 브라우저에서서 다음 url로 접속합니다. 그럼 브라우저가 열리고, 해당 url로 접속합니다. \n",
    "browser.get(\"https://scopus.com\")\n",
    "elem = browser.find_element_by_name(\"searchterm1\") \n",
    "elem.clear()\n",
    "elem.send_keys(\"entrepreneur\")\n",
    "elem.submit()\n",
    "time.sleep(3)\n",
    "#<a data-value=\"2\" href=\"#\" onclick=\"submitOnPaginationLinkClick($(this).closest('form'),'2');\">2</a>\n",
    "#browser.find_element_by_css_selector(\".pagination > li > span\")\n",
    "#elem.submit()\n"
   ]
  },
  {
   "cell_type": "code",
   "execution_count": 133,
   "metadata": {},
   "outputs": [
    {
     "data": {
      "text/plain": [
       "'41\\nThe characteristics of family firms: exploiting information on ownership, kinship, and governance using total population data\\nOpen Access\\nAndersson, F.W., Johansson, D., Karlsson, J., Lodefalk, M., Poldahl, A. 2018 Small Business Economics\\n51(3), pp. 539-556\\n0'"
      ]
     },
     "execution_count": 133,
     "metadata": {},
     "output_type": "execute_result"
    }
   ],
   "source": []
  },
  {
   "cell_type": "code",
   "execution_count": 156,
   "metadata": {},
   "outputs": [],
   "source": [
    "from selenium import webdriver\n",
    "import time\n",
    " \n",
    "## 설치한 드라이버의 path를 웹드라이버에 함께 넘겨줍니다.\n",
    "browser = webdriver.Firefox(executable_path='/Users/frhyme/Downloads/gecko/geckodriver')\n",
    "\n",
    "browser.get(\"https://scopus.com\")\n",
    "elem = browser.find_element_by_name(\"searchterm1\") \n",
    "elem.clear()\n",
    "elem.send_keys(\"entrepreneur\")\n",
    "elem.submit()\n",
    "time.sleep(10)\n",
    "\n",
    "## 1부터 page5까지 3초씩 쉬고 계속 이동하도록 만들자 \n",
    "pagination = browser.find_element_by_class_name('pagination')\n",
    "for i, page in enumerate(pagination.find_elements_by_tag_name('li')):\n",
    "    a_tag = page.find_element_by_tag_name('a')\n",
    "    if a_tag.get_attribute('class')=='selectedPage':\n",
    "        \n",
    "        break\n",
    "print(\"complete\")"
   ]
  },
  {
   "cell_type": "code",
   "execution_count": 192,
   "metadata": {},
   "outputs": [
    {
     "name": "stdout",
     "output_type": "stream",
     "text": [
      "page: 0\n",
      "page: 1\n",
      "page: 2\n",
      "page: 3\n",
      "page: 4\n",
      "complete\n"
     ]
    }
   ],
   "source": [
    "from selenium import webdriver\n",
    "from selenium.webdriver.support.ui import Select\n",
    "import time\n",
    "import pandas as pd \n",
    "\n",
    " \n",
    "## 설치한 드라이버의 path를 웹드라이버에 함께 넘겨줍니다.\n",
    "def find_title_url(search_word, page_num=5):\n",
    "    browser = webdriver.Firefox(executable_path='/Users/frhyme/Downloads/gecko/geckodriver')\n",
    "\n",
    "    browser.get(\"https://scopus.com\")\n",
    "    elem = browser.find_element_by_name(\"searchterm1\") \n",
    "    elem.clear()\n",
    "    elem.send_keys(search_word), elem.submit()\n",
    "    time.sleep(10)\n",
    "\n",
    "    paper_df = []\n",
    "\n",
    "    ## 1부터 page5까지 3초씩 쉬고 계속 이동하도록 만들자 \n",
    "    ## find selected page num \n",
    "    for i in range(0, page_num):\n",
    "        ## 해당 페이지의 데이터를 읽습니다. \n",
    "        print(f\"page: {i}\")\n",
    "        for j in range(0, 20):\n",
    "            a_tag = browser.find_element_by_id(\"resultDataRow{}\".format(j))\n",
    "            a_tag = a_tag.find_element_by_tag_name('td')\n",
    "            a_tag = a_tag.find_element_by_tag_name('a')\n",
    "            paper_df.append((a_tag.text, a_tag.get_attribute('href')))\n",
    "            #print(f\"title: {a_tag.text}\"), print(f\"text: {a_tag.get_attribute('href')}\"), print(\"=\"*20)\n",
    "\n",
    "        ## page 요소를 찾고 \n",
    "        pagination = browser.find_element_by_class_name('pagination')\n",
    "        ## selectedPage 클래스를 가진 요소를 찾고, 해당 data-value를 저장한 다음 \n",
    "        for page in pagination.find_elements_by_tag_name('li'):\n",
    "            try:\n",
    "                a_tag = page.find_element_by_tag_name('a')\n",
    "                if a_tag.get_attribute('class')=='selectedPage':\n",
    "                    selected_num = a_tag.get_attribute('data-value')\n",
    "                    #print(f\"find selected num {selected_num}\")\n",
    "                    break\n",
    "            except:\n",
    "                continue\n",
    "        ## move to next page \n",
    "        ## selectedPage보다 하나 큰 값을 가진 페이지를 click \n",
    "        for page in pagination.find_elements_by_tag_name('li'):\n",
    "            try:\n",
    "                a_tag = page.find_element_by_tag_name('a')\n",
    "                if a_tag.get_attribute('data-value')==str(int(selected_num)+1):\n",
    "                    #print(f\"move to page {a_tag.get_attribute('data-value')}\")\n",
    "                    page.click()\n",
    "                    time.sleep(10)\n",
    "                    break\n",
    "            except:\n",
    "                continue\n",
    "    print('complete')\n",
    "    return paper_df\n",
    "paper_df= find_title_url('entrepreneur', 2)\n",
    "paper_df = pd.DataFrame(paper_df, columns=('title', 'url'))\n",
    "paper_df.to_json(f'/Users/frhyme/Dropbox/entrepreneur.json')"
   ]
  },
  {
   "cell_type": "code",
   "execution_count": 203,
   "metadata": {},
   "outputs": [
    {
     "ename": "ElementNotInteractableException",
     "evalue": "Message: Element <option> could not be scrolled into view\n",
     "output_type": "error",
     "traceback": [
      "\u001b[0;31m---------------------------------------------------------------------------\u001b[0m",
      "\u001b[0;31mElementNotInteractableException\u001b[0m           Traceback (most recent call last)",
      "\u001b[0;32m<ipython-input-203-0d9a8692ef6e>\u001b[0m in \u001b[0;36m<module>\u001b[0;34m()\u001b[0m\n\u001b[1;32m      8\u001b[0m \u001b[0;34m\u001b[0m\u001b[0m\n\u001b[1;32m      9\u001b[0m \u001b[0mdrop_down_menu\u001b[0m \u001b[0;34m=\u001b[0m \u001b[0mSelect\u001b[0m\u001b[0;34m(\u001b[0m\u001b[0mbrowser\u001b[0m\u001b[0;34m.\u001b[0m\u001b[0mfind_element_by_id\u001b[0m\u001b[0;34m(\u001b[0m\u001b[0;34m'resultsPerPage'\u001b[0m\u001b[0;34m)\u001b[0m\u001b[0;34m)\u001b[0m\u001b[0;34m\u001b[0m\u001b[0m\n\u001b[0;32m---> 10\u001b[0;31m \u001b[0mdrop_down_menu\u001b[0m\u001b[0;34m.\u001b[0m\u001b[0mselect_by_value\u001b[0m\u001b[0;34m(\u001b[0m\u001b[0;34m'200'\u001b[0m\u001b[0;34m)\u001b[0m\u001b[0;34m\u001b[0m\u001b[0m\n\u001b[0m\u001b[1;32m     11\u001b[0m \u001b[0;34m\u001b[0m\u001b[0m\n\u001b[1;32m     12\u001b[0m \u001b[0mprint\u001b[0m\u001b[0;34m(\u001b[0m\u001b[0;34m'complete'\u001b[0m\u001b[0;34m)\u001b[0m\u001b[0;34m\u001b[0m\u001b[0m\n",
      "\u001b[0;32m~/anaconda3/lib/python3.6/site-packages/selenium/webdriver/support/select.py\u001b[0m in \u001b[0;36mselect_by_value\u001b[0;34m(self, value)\u001b[0m\n\u001b[1;32m     80\u001b[0m         \u001b[0mmatched\u001b[0m \u001b[0;34m=\u001b[0m \u001b[0;32mFalse\u001b[0m\u001b[0;34m\u001b[0m\u001b[0m\n\u001b[1;32m     81\u001b[0m         \u001b[0;32mfor\u001b[0m \u001b[0mopt\u001b[0m \u001b[0;32min\u001b[0m \u001b[0mopts\u001b[0m\u001b[0;34m:\u001b[0m\u001b[0;34m\u001b[0m\u001b[0m\n\u001b[0;32m---> 82\u001b[0;31m             \u001b[0mself\u001b[0m\u001b[0;34m.\u001b[0m\u001b[0m_setSelected\u001b[0m\u001b[0;34m(\u001b[0m\u001b[0mopt\u001b[0m\u001b[0;34m)\u001b[0m\u001b[0;34m\u001b[0m\u001b[0m\n\u001b[0m\u001b[1;32m     83\u001b[0m             \u001b[0;32mif\u001b[0m \u001b[0;32mnot\u001b[0m \u001b[0mself\u001b[0m\u001b[0;34m.\u001b[0m\u001b[0mis_multiple\u001b[0m\u001b[0;34m:\u001b[0m\u001b[0;34m\u001b[0m\u001b[0m\n\u001b[1;32m     84\u001b[0m                 \u001b[0;32mreturn\u001b[0m\u001b[0;34m\u001b[0m\u001b[0m\n",
      "\u001b[0;32m~/anaconda3/lib/python3.6/site-packages/selenium/webdriver/support/select.py\u001b[0m in \u001b[0;36m_setSelected\u001b[0;34m(self, option)\u001b[0m\n\u001b[1;32m    210\u001b[0m     \u001b[0;32mdef\u001b[0m \u001b[0m_setSelected\u001b[0m\u001b[0;34m(\u001b[0m\u001b[0mself\u001b[0m\u001b[0;34m,\u001b[0m \u001b[0moption\u001b[0m\u001b[0;34m)\u001b[0m\u001b[0;34m:\u001b[0m\u001b[0;34m\u001b[0m\u001b[0m\n\u001b[1;32m    211\u001b[0m         \u001b[0;32mif\u001b[0m \u001b[0;32mnot\u001b[0m \u001b[0moption\u001b[0m\u001b[0;34m.\u001b[0m\u001b[0mis_selected\u001b[0m\u001b[0;34m(\u001b[0m\u001b[0;34m)\u001b[0m\u001b[0;34m:\u001b[0m\u001b[0;34m\u001b[0m\u001b[0m\n\u001b[0;32m--> 212\u001b[0;31m             \u001b[0moption\u001b[0m\u001b[0;34m.\u001b[0m\u001b[0mclick\u001b[0m\u001b[0;34m(\u001b[0m\u001b[0;34m)\u001b[0m\u001b[0;34m\u001b[0m\u001b[0m\n\u001b[0m\u001b[1;32m    213\u001b[0m \u001b[0;34m\u001b[0m\u001b[0m\n\u001b[1;32m    214\u001b[0m     \u001b[0;32mdef\u001b[0m \u001b[0m_unsetSelected\u001b[0m\u001b[0;34m(\u001b[0m\u001b[0mself\u001b[0m\u001b[0;34m,\u001b[0m \u001b[0moption\u001b[0m\u001b[0;34m)\u001b[0m\u001b[0;34m:\u001b[0m\u001b[0;34m\u001b[0m\u001b[0m\n",
      "\u001b[0;32m~/anaconda3/lib/python3.6/site-packages/selenium/webdriver/remote/webelement.py\u001b[0m in \u001b[0;36mclick\u001b[0;34m(self)\u001b[0m\n\u001b[1;32m     78\u001b[0m     \u001b[0;32mdef\u001b[0m \u001b[0mclick\u001b[0m\u001b[0;34m(\u001b[0m\u001b[0mself\u001b[0m\u001b[0;34m)\u001b[0m\u001b[0;34m:\u001b[0m\u001b[0;34m\u001b[0m\u001b[0m\n\u001b[1;32m     79\u001b[0m         \u001b[0;34m\"\"\"Clicks the element.\"\"\"\u001b[0m\u001b[0;34m\u001b[0m\u001b[0m\n\u001b[0;32m---> 80\u001b[0;31m         \u001b[0mself\u001b[0m\u001b[0;34m.\u001b[0m\u001b[0m_execute\u001b[0m\u001b[0;34m(\u001b[0m\u001b[0mCommand\u001b[0m\u001b[0;34m.\u001b[0m\u001b[0mCLICK_ELEMENT\u001b[0m\u001b[0;34m)\u001b[0m\u001b[0;34m\u001b[0m\u001b[0m\n\u001b[0m\u001b[1;32m     81\u001b[0m \u001b[0;34m\u001b[0m\u001b[0m\n\u001b[1;32m     82\u001b[0m     \u001b[0;32mdef\u001b[0m \u001b[0msubmit\u001b[0m\u001b[0;34m(\u001b[0m\u001b[0mself\u001b[0m\u001b[0;34m)\u001b[0m\u001b[0;34m:\u001b[0m\u001b[0;34m\u001b[0m\u001b[0m\n",
      "\u001b[0;32m~/anaconda3/lib/python3.6/site-packages/selenium/webdriver/remote/webelement.py\u001b[0m in \u001b[0;36m_execute\u001b[0;34m(self, command, params)\u001b[0m\n\u001b[1;32m    626\u001b[0m             \u001b[0mparams\u001b[0m \u001b[0;34m=\u001b[0m \u001b[0;34m{\u001b[0m\u001b[0;34m}\u001b[0m\u001b[0;34m\u001b[0m\u001b[0m\n\u001b[1;32m    627\u001b[0m         \u001b[0mparams\u001b[0m\u001b[0;34m[\u001b[0m\u001b[0;34m'id'\u001b[0m\u001b[0;34m]\u001b[0m \u001b[0;34m=\u001b[0m \u001b[0mself\u001b[0m\u001b[0;34m.\u001b[0m\u001b[0m_id\u001b[0m\u001b[0;34m\u001b[0m\u001b[0m\n\u001b[0;32m--> 628\u001b[0;31m         \u001b[0;32mreturn\u001b[0m \u001b[0mself\u001b[0m\u001b[0;34m.\u001b[0m\u001b[0m_parent\u001b[0m\u001b[0;34m.\u001b[0m\u001b[0mexecute\u001b[0m\u001b[0;34m(\u001b[0m\u001b[0mcommand\u001b[0m\u001b[0;34m,\u001b[0m \u001b[0mparams\u001b[0m\u001b[0;34m)\u001b[0m\u001b[0;34m\u001b[0m\u001b[0m\n\u001b[0m\u001b[1;32m    629\u001b[0m \u001b[0;34m\u001b[0m\u001b[0m\n\u001b[1;32m    630\u001b[0m     \u001b[0;32mdef\u001b[0m \u001b[0mfind_element\u001b[0m\u001b[0;34m(\u001b[0m\u001b[0mself\u001b[0m\u001b[0;34m,\u001b[0m \u001b[0mby\u001b[0m\u001b[0;34m=\u001b[0m\u001b[0mBy\u001b[0m\u001b[0;34m.\u001b[0m\u001b[0mID\u001b[0m\u001b[0;34m,\u001b[0m \u001b[0mvalue\u001b[0m\u001b[0;34m=\u001b[0m\u001b[0;32mNone\u001b[0m\u001b[0;34m)\u001b[0m\u001b[0;34m:\u001b[0m\u001b[0;34m\u001b[0m\u001b[0m\n",
      "\u001b[0;32m~/anaconda3/lib/python3.6/site-packages/selenium/webdriver/remote/webdriver.py\u001b[0m in \u001b[0;36mexecute\u001b[0;34m(self, driver_command, params)\u001b[0m\n\u001b[1;32m    318\u001b[0m         \u001b[0mresponse\u001b[0m \u001b[0;34m=\u001b[0m \u001b[0mself\u001b[0m\u001b[0;34m.\u001b[0m\u001b[0mcommand_executor\u001b[0m\u001b[0;34m.\u001b[0m\u001b[0mexecute\u001b[0m\u001b[0;34m(\u001b[0m\u001b[0mdriver_command\u001b[0m\u001b[0;34m,\u001b[0m \u001b[0mparams\u001b[0m\u001b[0;34m)\u001b[0m\u001b[0;34m\u001b[0m\u001b[0m\n\u001b[1;32m    319\u001b[0m         \u001b[0;32mif\u001b[0m \u001b[0mresponse\u001b[0m\u001b[0;34m:\u001b[0m\u001b[0;34m\u001b[0m\u001b[0m\n\u001b[0;32m--> 320\u001b[0;31m             \u001b[0mself\u001b[0m\u001b[0;34m.\u001b[0m\u001b[0merror_handler\u001b[0m\u001b[0;34m.\u001b[0m\u001b[0mcheck_response\u001b[0m\u001b[0;34m(\u001b[0m\u001b[0mresponse\u001b[0m\u001b[0;34m)\u001b[0m\u001b[0;34m\u001b[0m\u001b[0m\n\u001b[0m\u001b[1;32m    321\u001b[0m             response['value'] = self._unwrap_value(\n\u001b[1;32m    322\u001b[0m                 response.get('value', None))\n",
      "\u001b[0;32m~/anaconda3/lib/python3.6/site-packages/selenium/webdriver/remote/errorhandler.py\u001b[0m in \u001b[0;36mcheck_response\u001b[0;34m(self, response)\u001b[0m\n\u001b[1;32m    240\u001b[0m                 \u001b[0malert_text\u001b[0m \u001b[0;34m=\u001b[0m \u001b[0mvalue\u001b[0m\u001b[0;34m[\u001b[0m\u001b[0;34m'alert'\u001b[0m\u001b[0;34m]\u001b[0m\u001b[0;34m.\u001b[0m\u001b[0mget\u001b[0m\u001b[0;34m(\u001b[0m\u001b[0;34m'text'\u001b[0m\u001b[0;34m)\u001b[0m\u001b[0;34m\u001b[0m\u001b[0m\n\u001b[1;32m    241\u001b[0m             \u001b[0;32mraise\u001b[0m \u001b[0mexception_class\u001b[0m\u001b[0;34m(\u001b[0m\u001b[0mmessage\u001b[0m\u001b[0;34m,\u001b[0m \u001b[0mscreen\u001b[0m\u001b[0;34m,\u001b[0m \u001b[0mstacktrace\u001b[0m\u001b[0;34m,\u001b[0m \u001b[0malert_text\u001b[0m\u001b[0;34m)\u001b[0m\u001b[0;34m\u001b[0m\u001b[0m\n\u001b[0;32m--> 242\u001b[0;31m         \u001b[0;32mraise\u001b[0m \u001b[0mexception_class\u001b[0m\u001b[0;34m(\u001b[0m\u001b[0mmessage\u001b[0m\u001b[0;34m,\u001b[0m \u001b[0mscreen\u001b[0m\u001b[0;34m,\u001b[0m \u001b[0mstacktrace\u001b[0m\u001b[0;34m)\u001b[0m\u001b[0;34m\u001b[0m\u001b[0m\n\u001b[0m\u001b[1;32m    243\u001b[0m \u001b[0;34m\u001b[0m\u001b[0m\n\u001b[1;32m    244\u001b[0m     \u001b[0;32mdef\u001b[0m \u001b[0m_value_or_default\u001b[0m\u001b[0;34m(\u001b[0m\u001b[0mself\u001b[0m\u001b[0;34m,\u001b[0m \u001b[0mobj\u001b[0m\u001b[0;34m,\u001b[0m \u001b[0mkey\u001b[0m\u001b[0;34m,\u001b[0m \u001b[0mdefault\u001b[0m\u001b[0;34m)\u001b[0m\u001b[0;34m:\u001b[0m\u001b[0;34m\u001b[0m\u001b[0m\n",
      "\u001b[0;31mElementNotInteractableException\u001b[0m: Message: Element <option> could not be scrolled into view\n"
     ]
    }
   ],
   "source": [
    "## 여기서 200쪽으로 잘 fetch만 하면 훨씬 편해지는데 흠...\n",
    "browser = webdriver.Firefox(executable_path='/Users/frhyme/Downloads/gecko/geckodriver')\n",
    "\n",
    "browser.get(\"https://scopus.com\")\n",
    "elem = browser.find_element_by_name(\"searchterm1\") \n",
    "elem.clear()\n",
    "elem.send_keys('entrepreneur'), elem.submit()\n",
    "time.sleep(10)\n",
    "\n",
    "drop_down_menu = Select(browser.find_element_by_id('resultsPerPage'))\n",
    "drop_down_menu.select_by_value('200')\n",
    "\n",
    "print('complete')"
   ]
  },
  {
   "cell_type": "code",
   "execution_count": 197,
   "metadata": {},
   "outputs": [
    {
     "ename": "AttributeError",
     "evalue": "'FirefoxWebElement' object has no attribute 'select_by_value'",
     "output_type": "error",
     "traceback": [
      "\u001b[0;31m---------------------------------------------------------------------------\u001b[0m",
      "\u001b[0;31mAttributeError\u001b[0m                            Traceback (most recent call last)",
      "\u001b[0;32m<ipython-input-197-7e7911441acd>\u001b[0m in \u001b[0;36m<module>\u001b[0;34m()\u001b[0m\n\u001b[1;32m      8\u001b[0m \u001b[0;34m\u001b[0m\u001b[0m\n\u001b[1;32m      9\u001b[0m \u001b[0mdrop_down_menu\u001b[0m \u001b[0;34m=\u001b[0m \u001b[0mbrowser\u001b[0m\u001b[0;34m.\u001b[0m\u001b[0mfind_element_by_class_name\u001b[0m\u001b[0;34m(\u001b[0m\u001b[0;34m'ui-selectmenu-text'\u001b[0m\u001b[0;34m)\u001b[0m\u001b[0;34m\u001b[0m\u001b[0m\n\u001b[0;32m---> 10\u001b[0;31m \u001b[0mdrop_down_menu\u001b[0m\u001b[0;34m.\u001b[0m\u001b[0mselect_by_value\u001b[0m\u001b[0;34m(\u001b[0m\u001b[0;36m200\u001b[0m\u001b[0;34m)\u001b[0m\u001b[0;34m\u001b[0m\u001b[0m\n\u001b[0m\u001b[1;32m     11\u001b[0m \u001b[0;34m\u001b[0m\u001b[0m\n\u001b[1;32m     12\u001b[0m \u001b[0;34m\u001b[0m\u001b[0m\n",
      "\u001b[0;31mAttributeError\u001b[0m: 'FirefoxWebElement' object has no attribute 'select_by_value'"
     ]
    }
   ],
   "source": []
  },
  {
   "cell_type": "code",
   "execution_count": 198,
   "metadata": {},
   "outputs": [],
   "source": []
  },
  {
   "cell_type": "code",
   "execution_count": null,
   "metadata": {},
   "outputs": [],
   "source": []
  },
  {
   "cell_type": "code",
   "execution_count": 162,
   "metadata": {},
   "outputs": [
    {
     "name": "stdout",
     "output_type": "stream",
     "text": [
      "0\n",
      "Musicians as entrepreneurs or entrepreneurs as musicians?\n",
      "https://www.scopus.com/record/display.uri?eid=2-s2.0-85052489557&origin=resultslist&sort=plf-f&src=s&st1=entrepreneur&nlo=&nlr=&nls=&sid=545757d8f3aad35ae7a462c1d42ef88d&sot=b&sdt=b&sl=27&s=TITLE-ABS-KEY%28entrepreneur%29&relpos=80&citeCnt=0&searchTerm=\n",
      "====================\n",
      "1\n",
      "Entrepreneurship as a Calling: A Pilot Study with Aspiring Entrepreneurs\n",
      "https://www.scopus.com/record/display.uri?eid=2-s2.0-85050285124&origin=resultslist&sort=plf-f&src=s&st1=entrepreneur&nlo=&nlr=&nls=&sid=545757d8f3aad35ae7a462c1d42ef88d&sot=b&sdt=b&sl=27&s=TITLE-ABS-KEY%28entrepreneur%29&relpos=81&citeCnt=0&searchTerm=\n",
      "====================\n",
      "2\n",
      "‘Salesman? Hell no!’ Identity struggles of nascent design entrepreneurs\n",
      "https://www.scopus.com/record/display.uri?eid=2-s2.0-85052543315&origin=resultslist&sort=plf-f&src=s&st1=entrepreneur&nlo=&nlr=&nls=&sid=545757d8f3aad35ae7a462c1d42ef88d&sot=b&sdt=b&sl=27&s=TITLE-ABS-KEY%28entrepreneur%29&relpos=82&citeCnt=0&searchTerm=\n",
      "====================\n",
      "3\n",
      "Fairness in alternative food networks: an exploration with midwestern social entrepreneurs\n",
      "https://www.scopus.com/record/display.uri?eid=2-s2.0-85042082903&origin=resultslist&sort=plf-f&src=s&st1=entrepreneur&nlo=&nlr=&nls=&sid=545757d8f3aad35ae7a462c1d42ef88d&sot=b&sdt=b&sl=27&s=TITLE-ABS-KEY%28entrepreneur%29&relpos=83&citeCnt=1&searchTerm=\n",
      "====================\n",
      "4\n",
      "Searching for the entrepreneurs among new entrants in European Agriculture: the role of human and social capital\n",
      "https://www.scopus.com/record/display.uri?eid=2-s2.0-85047163735&origin=resultslist&sort=plf-f&src=s&st1=entrepreneur&nlo=&nlr=&nls=&sid=545757d8f3aad35ae7a462c1d42ef88d&sot=b&sdt=b&sl=27&s=TITLE-ABS-KEY%28entrepreneur%29&relpos=84&citeCnt=0&searchTerm=\n",
      "====================\n",
      "5\n",
      "Reframing informal tourism entrepreneurial practices: Capital and field relations structuring the informal tourism economy of Chiang Mai\n",
      "https://www.scopus.com/record/display.uri?eid=2-s2.0-85048574849&origin=resultslist&sort=plf-f&src=s&st1=entrepreneur&nlo=&nlr=&nls=&sid=545757d8f3aad35ae7a462c1d42ef88d&sot=b&sdt=b&sl=27&s=TITLE-ABS-KEY%28entrepreneur%29&relpos=85&citeCnt=0&searchTerm=\n",
      "====================\n",
      "6\n",
      "Habitus emerging: The development of hybrid logics and collaborative business models in the Irish craft beer sector\n",
      "https://www.scopus.com/record/display.uri?eid=2-s2.0-85041561760&origin=resultslist&sort=plf-f&src=s&st1=entrepreneur&nlo=&nlr=&nls=&sid=545757d8f3aad35ae7a462c1d42ef88d&sot=b&sdt=b&sl=27&s=TITLE-ABS-KEY%28entrepreneur%29&relpos=86&citeCnt=0&searchTerm=\n",
      "====================\n",
      "7\n",
      "Stability and change in flood risk governance: on path dependencies and change agents\n",
      "https://www.scopus.com/record/display.uri?eid=2-s2.0-85013392282&origin=resultslist&sort=plf-f&src=s&st1=entrepreneur&nlo=&nlr=&nls=&sid=545757d8f3aad35ae7a462c1d42ef88d&sot=b&sdt=b&sl=27&s=TITLE-ABS-KEY%28entrepreneur%29&relpos=87&citeCnt=5&searchTerm=\n",
      "====================\n",
      "8\n",
      "Christian case for engaging north Korea\n",
      "https://www.scopus.com/record/display.uri?eid=2-s2.0-85052753924&origin=resultslist&sort=plf-f&src=s&st1=entrepreneur&nlo=&nlr=&nls=&sid=545757d8f3aad35ae7a462c1d42ef88d&sot=b&sdt=b&sl=27&s=TITLE-ABS-KEY%28entrepreneur%29&relpos=88&citeCnt=0&searchTerm=\n",
      "====================\n",
      "9\n",
      "Urbanisation and land use transition in a second-tier city: The emergence of small factories in Gimpo, South Korea\n",
      "https://www.scopus.com/record/display.uri?eid=2-s2.0-85048251876&origin=resultslist&sort=plf-f&src=s&st1=entrepreneur&nlo=&nlr=&nls=&sid=545757d8f3aad35ae7a462c1d42ef88d&sot=b&sdt=b&sl=27&s=TITLE-ABS-KEY%28entrepreneur%29&relpos=89&citeCnt=0&searchTerm=\n",
      "====================\n",
      "10\n",
      "Independent voices of entrepreneurial news: Setting a new agenda in Latin America\n",
      "https://www.scopus.com/record/display.uri?eid=2-s2.0-85050363383&origin=resultslist&sort=plf-f&src=s&st1=entrepreneur&nlo=&nlr=&nls=&sid=545757d8f3aad35ae7a462c1d42ef88d&sot=b&sdt=b&sl=27&s=TITLE-ABS-KEY%28entrepreneur%29&relpos=90&citeCnt=0&searchTerm=\n",
      "====================\n",
      "11\n",
      "Exploring the impact of different types of prior entrepreneurial experience on employer firm performance\n",
      "https://www.scopus.com/record/display.uri?eid=2-s2.0-85046725401&origin=resultslist&sort=plf-f&src=s&st1=entrepreneur&nlo=&nlr=&nls=&sid=545757d8f3aad35ae7a462c1d42ef88d&sot=b&sdt=b&sl=27&s=TITLE-ABS-KEY%28entrepreneur%29&relpos=91&citeCnt=0&searchTerm=\n",
      "====================\n",
      "12\n",
      "Sustainability assessment of ecological intensification practices in coconut production\n",
      "https://www.scopus.com/record/display.uri?eid=2-s2.0-85048559661&origin=resultslist&sort=plf-f&src=s&st1=entrepreneur&nlo=&nlr=&nls=&sid=545757d8f3aad35ae7a462c1d42ef88d&sot=b&sdt=b&sl=27&s=TITLE-ABS-KEY%28entrepreneur%29&relpos=92&citeCnt=0&searchTerm=\n",
      "====================\n",
      "13\n",
      "Understanding entrepreneurial success: A phenomenographic approach\n",
      "https://www.scopus.com/record/display.uri?eid=2-s2.0-85047420119&origin=resultslist&sort=plf-f&src=s&st1=entrepreneur&nlo=&nlr=&nls=&sid=545757d8f3aad35ae7a462c1d42ef88d&sot=b&sdt=b&sl=27&s=TITLE-ABS-KEY%28entrepreneur%29&relpos=93&citeCnt=1&searchTerm=\n",
      "====================\n",
      "14\n",
      "“As We Grow, It Will Become a Priority”*: American Mobile Start-Ups’ Privacy Practices\n",
      "https://www.scopus.com/record/display.uri?eid=2-s2.0-85049870862&origin=resultslist&sort=plf-f&src=s&st1=entrepreneur&nlo=&nlr=&nls=&sid=545757d8f3aad35ae7a462c1d42ef88d&sot=b&sdt=b&sl=27&s=TITLE-ABS-KEY%28entrepreneur%29&relpos=94&citeCnt=0&searchTerm=\n",
      "====================\n",
      "15\n",
      "Skills, scope and success: An empirical look at the start-up process in creative industries in Germany\n",
      "https://www.scopus.com/record/display.uri?eid=2-s2.0-85052504321&origin=resultslist&sort=plf-f&src=s&st1=entrepreneur&nlo=&nlr=&nls=&sid=545757d8f3aad35ae7a462c1d42ef88d&sot=b&sdt=b&sl=27&s=TITLE-ABS-KEY%28entrepreneur%29&relpos=95&citeCnt=0&searchTerm=\n",
      "====================\n",
      "16\n",
      "Entrepreneurial Philanthropy and University Creation: An Economic Model\n",
      "https://www.scopus.com/record/display.uri?eid=2-s2.0-85051668029&origin=resultslist&sort=plf-f&src=s&st1=entrepreneur&nlo=&nlr=&nls=&sid=545757d8f3aad35ae7a462c1d42ef88d&sot=b&sdt=b&sl=27&s=TITLE-ABS-KEY%28entrepreneur%29&relpos=96&citeCnt=0&searchTerm=\n",
      "====================\n",
      "17\n",
      "Agritourism and local development: A methodology for assessing the role of public contributions in the creation of competitive advantage\n",
      "https://www.scopus.com/record/display.uri?eid=2-s2.0-85048810969&origin=resultslist&sort=plf-f&src=s&st1=entrepreneur&nlo=&nlr=&nls=&sid=545757d8f3aad35ae7a462c1d42ef88d&sot=b&sdt=b&sl=27&s=TITLE-ABS-KEY%28entrepreneur%29&relpos=97&citeCnt=1&searchTerm=\n",
      "====================\n",
      "18\n",
      "On open innovation, platforms, and entrepreneurship\n",
      "https://www.scopus.com/record/display.uri?eid=2-s2.0-85052492032&origin=resultslist&sort=plf-f&src=s&st1=entrepreneur&nlo=&nlr=&nls=&sid=545757d8f3aad35ae7a462c1d42ef88d&sot=b&sdt=b&sl=27&s=TITLE-ABS-KEY%28entrepreneur%29&relpos=98&citeCnt=0&searchTerm=\n",
      "====================\n",
      "19\n",
      "Fly Away From the Nest? A Configurational Analysis of Family Embeddedness and Individual Attributes in the Entrepreneurial Entry Decision by Next-Generation Members\n",
      "https://www.scopus.com/record/display.uri?eid=2-s2.0-85047431061&origin=resultslist&sort=plf-f&src=s&st1=entrepreneur&nlo=&nlr=&nls=&sid=545757d8f3aad35ae7a462c1d42ef88d&sot=b&sdt=b&sl=27&s=TITLE-ABS-KEY%28entrepreneur%29&relpos=99&citeCnt=1&searchTerm=\n",
      "====================\n"
     ]
    }
   ],
   "source": [
    "## 페이지별로 총 20개의 문서들이 있음. \n",
    "for i in range(0, 20):\n",
    "    print(i)\n",
    "    a = browser.find_element_by_id(\"resultDataRow{}\".format(i))\n",
    "    a = a.find_element_by_tag_name('td')\n",
    "    a_tag = a.find_element_by_tag_name('a')\n",
    "    print(a_tag.text)\n",
    "    ## a tag에서 href를 가져오고 싶을 때\n",
    "    print(a_tag.get_attribute('href'))\n",
    "    print(\"=\"*20)"
   ]
  },
  {
   "cell_type": "code",
   "execution_count": null,
   "metadata": {},
   "outputs": [],
   "source": []
  },
  {
   "cell_type": "code",
   "execution_count": 69,
   "metadata": {},
   "outputs": [],
   "source": [
    "a = \"https://www.scopus.com/record/display.uri?eid=2-s2.0-85048028633&amp;origin=resultslist&amp;sort=plf-f&amp;src=s&amp;st1=entrepreneur&amp;st2=&amp;sid=289aea1895dcede5356489c1d085ddba&amp;sot=b&amp;sdt=b&amp;sl=27&amp;s=TITLE-ABS-KEY%28entrepreneur%29&amp;relpos=0&amp;citeCnt=0&amp;searchTerm=\"\n",
    "b = \"https://www.scopus.com/record/display.uri?eid=2-s2.0-85048557302&origin=resultslist&sort=plf-f&src=s&st1=entrepreneur&st2=&sid=289aea1895dcede5356489c1d085ddba&sot=b&sdt=b&sl=27&s=TITLE-ABS-KEY%28entrepreneur%29&relpos=1&citeCnt=0&searchTerm=\""
   ]
  },
  {
   "cell_type": "code",
   "execution_count": 73,
   "metadata": {},
   "outputs": [
    {
     "name": "stdout",
     "output_type": "stream",
     "text": [
      "https://www.scopus.com/record/display.uri?eid=2-s2.0-85048028633&origin=resultslist&sort=plf-f&src=s&st1=entrepreneur&st2=&sid=289aea1895dcede5356489c1d085ddba&sot=b&sdt=b&sl=27&s=TITLE-ABS-KEY%28entrepreneur%29&relpos=0&citeCnt=0&searchTerm=\n",
      "https://www.scopus.com/record/display.uri?eid=2-s2.0-85048557302&origin=resultslist&sort=plf-f&src=s&st1=entrepreneur&st2=&sid=289aea1895dcede5356489c1d085ddba&sot=b&sdt=b&sl=27&s=TITLE-ABS-KEY%28entrepreneur%29&relpos=1&citeCnt=0&searchTerm=\n"
     ]
    }
   ],
   "source": [
    "print(a.replace(\"amp;\", \"\"))\n",
    "print(b)"
   ]
  },
  {
   "cell_type": "code",
   "execution_count": 87,
   "metadata": {},
   "outputs": [
    {
     "name": "stdout",
     "output_type": "stream",
     "text": [
      "https://www.scopus.com/record/display.uri?eid=2-s2.0-85048028633&origin=resultslist&sort=plf-f&src=s&st1=entrepreneur&st2=&sid=289aea1895dcede5356489c1d085ddba&sot=b&sdt=b&sl=27&s=TITLE-ABS-KEY%28entrepreneur%29&relpos=0&citeCnt=0&searchTerm=\n"
     ]
    }
   ],
   "source": [
    "print(\"https://www.scopus.com/record/display.uri?eid=2-s2.0-85048028633&origin=resultslist&sort=plf-f&src=s&st1=entrepreneur&st2=&sid=289aea1895dcede5356489c1d085ddba&sot=b&sdt=b&sl=27&s=TITLE-ABS-KEY%28entrepreneur%29&relpos=0&citeCnt=0&searchTerm=\")"
   ]
  },
  {
   "cell_type": "code",
   "execution_count": null,
   "metadata": {},
   "outputs": [],
   "source": []
  }
 ],
 "metadata": {
  "kernelspec": {
   "display_name": "Python 3",
   "language": "python",
   "name": "python3"
  },
  "language_info": {
   "codemirror_mode": {
    "name": "ipython",
    "version": 3
   },
   "file_extension": ".py",
   "mimetype": "text/x-python",
   "name": "python",
   "nbconvert_exporter": "python",
   "pygments_lexer": "ipython3",
   "version": "3.6.5"
  }
 },
 "nbformat": 4,
 "nbformat_minor": 2
}
