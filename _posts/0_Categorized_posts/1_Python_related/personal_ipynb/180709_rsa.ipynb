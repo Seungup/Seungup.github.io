{
 "cells": [
  {
   "cell_type": "code",
   "execution_count": 3,
   "metadata": {},
   "outputs": [],
   "source": [
    "import Crypto\n",
    "from Crypto.PublicKey import RSA\n",
    "from Crypto import Random"
   ]
  },
  {
   "cell_type": "code",
   "execution_count": 5,
   "metadata": {},
   "outputs": [],
   "source": [
    "import numpy as np \n"
   ]
  },
  {
   "cell_type": "code",
   "execution_count": 194,
   "metadata": {},
   "outputs": [],
   "source": []
  },
  {
   "cell_type": "code",
   "execution_count": 25,
   "metadata": {},
   "outputs": [
    {
     "name": "stdout",
     "output_type": "stream",
     "text": [
      "==binary encoded msg==\n",
      "b'I am a boy, you are a girl hi manI am a boy, you are a girl hi man'\n",
      "====================\n",
      "==Public key==\n",
      "b'0\\x81\\x9f0\\r\\x06\\t*\\x86H\\x86\\xf7\\r\\x01\\x01\\x01\\x05\\x00\\x03\\x81\\x8d\\x000\\x81\\x89\\x02\\x81\\x81\\x00\\xd0\\x1c\\x89\\xf6\\r\\t(N\\x00;\\x84cH1\\xb4\\x04\\xaa/v\\xf5EyVh&\\x99\\x14C\\xe3\\xa7v\\xf7^\\xba\\xdf_7+\\x18\\xafr\\x19\\xc8\\xb7\\x03`\\xc0\\xcd\\x13\\x86\\xea~\\x85\\xf4w-\\x9f\\x10\\xfa\\x9d\\xa7\\x85\\xb4n8_R\\x00d\\xa2\\xab\\xa6\\xdd\\xe3\\xea\\xe9\\x8f\\x0e\\x98-&\\xd6\\x9cE@\\xfe\\xc5\\x8d\\x00\\x8bd\\x0b_\\x11R\\xffX`\\xca\\xb9\\xe2\\xca~S\\xba\\xf5\\xa8\\x96\\xed\\xc2{n\\xa2\\xa7|?r\\xe0B\\xfa\\xdc\\x03\\x8b\"\\x1c\\x87\\xda\\xb5\\x02\\x03\\x01\\x00\\x01'\n",
      "====================\n",
      "==Private key==\n",
      "b'0\\x82\\x02]\\x02\\x01\\x00\\x02\\x81\\x81\\x00\\xd0\\x1c\\x89\\xf6\\r\\t(N\\x00;\\x84cH1\\xb4\\x04\\xaa/v\\xf5EyVh&\\x99\\x14C\\xe3\\xa7v\\xf7^\\xba\\xdf_7+\\x18\\xafr\\x19\\xc8\\xb7\\x03`\\xc0\\xcd\\x13\\x86\\xea~\\x85\\xf4w-\\x9f\\x10\\xfa\\x9d\\xa7\\x85\\xb4n8_R\\x00d\\xa2\\xab\\xa6\\xdd\\xe3\\xea\\xe9\\x8f\\x0e\\x98-&\\xd6\\x9cE@\\xfe\\xc5\\x8d\\x00\\x8bd\\x0b_\\x11R\\xffX`\\xca\\xb9\\xe2\\xca~S\\xba\\xf5\\xa8\\x96\\xed\\xc2{n\\xa2\\xa7|?r\\xe0B\\xfa\\xdc\\x03\\x8b\"\\x1c\\x87\\xda\\xb5\\x02\\x03\\x01\\x00\\x01\\x02\\x81\\x80z\\xdd\\x9e\\x85\\xe9\\xc4RKZ\\xcf\\xc8\\xa5d\\xe6\\x13E\\xfd\\xc3\\xf0\\x13vd\\xe0\\xa2\\xb4\\xc7\\x03\\xb3\\xe1\\x1f\\xe9\\x98\\xba\\x10\\xd1\\xf7\\xc0\\xf6l\\xa8\\x88P\\xb8\\xb3t\\x07\\x17L\\xfc\\x0eW;C\\x92\\xc5\\x19\\xe6#|\\x12\\xbf\\xe8\\xacP\\xa5\\xcb\\xda\\xf3%\\x8c\\xb9\\xb9\\x81\\t\\xd5\\xf4k\\x9az\\xf7\\xd1V.\\xfbm\\xc3:n\\x03,r\\x97\\xaf\"z\\x86\\xa5A\\x16\\x01{\\xa8\\reeMj\\xb1\\x1a\\x03I\\xeb\\x19\\x86\\xc75W\\xde;q\\xbb=~\\xfb\\x05I\\xf61\\x02A\\x00\\xe0\\xd8\\xab\\xb5I\\xe6eh\\x8a\\x19\\xd5\\x87m\\x90\\xeb\\x96\\x10>\\xa6+j\\x83\\xa9\\x91\\xa59\\r\\xd5S\\xcc\\x06!\\x8d\\xc7s#~\\xe8\\x91\\'\\x03\\x91\\x87\\x7f\\xec\\x81\\xa6\\x8f\\x8e\\xfa\\x14V\\xbd/\\xbbz\\x06\\x9fR\\x84\\x8f\\xce5\\x9b\\x02A\\x00\\xec\\xf2G\\x8d\\xc4|I*\\x97\\x9f\\xe7\\x80\\xfa\\xace%\\x12\\xbe,\\xdf\\xa9r\\x15T\\xb1\\x80\\xd3\\'J\\x96\\x90\\x87\\xf0d\\xb5\\x12\\xa2b9N\\\\\\xce\\xcf\\xb7\\xef\\xbb\\x05\\xd7\\xd4:2r\\xb4\\xdf8\\x07 \\xb7\\x99W\\xd6\\x87\\xdd\\xef\\x02A\\x00\\xc2\\x0b[\\xcc\\xbd\\xf5?IC\\xfd\\xdd\\xa0\\xdd\\xf6\\xf6\\xc9\\xf0E\\x11\\x05a\\x0c5\\x98C^\\x04\\xc99cW[7\\xcf\\x8cWr\\xdb\\xe5\\x01%|?\\xd3/\\xda\\x08S\\xd6\\x91\\x8ea\\xf9-\\xab\\x7f9\\x1d\\xe0\\x8a\\x14\\xcdb\\xc7\\x02A\\x00\\xe4\\n\\xa1v\\xfd\\x9d\\xa8EG\\xbck\\xf0$Qz\\xde\\xddU\\x0e\\x97\\x0b\\xdbrP\\x1a\\xad\\xa3\\x8a\\xf3,IY\\xab\\xb1 \\xdc\\x18PtZ\\xc8\\xd3y\\xf2\\xca\\xd4\\xb2`\\xf0.:\\x93O$n%\\xde\\x05\\x15\\x9e\\x06(\\xa9\\x1d\\x02@7\\xcd\\xed$LO\\xf9\\x03.k\"\\x91w\\x8a\\xa8\\r\\xea^\\xear[8\\xeepD\\xd4\\xba\\x99/\\x17\\xee\\x80\\x12M\\x01`W\\xf68W30\\x1d&o\\xe2P3\\xf5\\x03S\\xe5HV\\x8c\\x15\\xde\\xbdG6C2?\\x1f'\n",
      "====================\n",
      "==Ciphered msg==\n",
      "b\"#\\x1f\\xa8\\x85\\xa5\\x14i\\x87j\\x99z\\xd5s\\nn\\xae|\\x8a\\xf4\\x1f!\\x03$.8BA\\xd9\\xe5\\x94\\xb3\\xf2\\xces\\x0ca2\\xe2\\x95d\\xf4\\xe8\\xedj\\x01\\xf8,\\x19\\xd0\\xcbF\\xe4\\xcar\\t^\\x15\\xa9'\\x1a\\xf66R\\xe7\\xf5,\\x8d@\\x1cA\\xd2\\xad\\xb4q\\x84\\xa0\\x9aT<\\xef\\x16\\xb4A\\xa7W\\xcf\\xab\\x8d\\xb1\\xe40B\\xa4~t\\xf5''\\xaa\\x13\\xb3=\\xc574|\\xb6\\x166\\xcd0\\xd2\\x8e\\x90t\\xb8\\xed\\x19\\x1f\\xafVj\\x07<\\xe9\\x01\\x8do\"\n",
      "====================\n",
      "==deCiphered msg==\n",
      "b'I am a boy, you are a girl hi manI am a boy, you are a girl hi man'\n",
      "====================\n"
     ]
    }
   ],
   "source": [
    "import Crypto\n",
    "from Crypto.PublicKey import RSA\n",
    "## 일단 random_generator를 만들어서 넘겨주어야 합니다. \n",
    "#random_generator = Crypto.Random.new().read\n",
    "msg = \"I am a boy, you are a girl hi man\"*2\n",
    "bin_encoded_msg = msg.encode()\n",
    "print('==binary encoded msg==')\n",
    "print(bin_encoded_msg)\n",
    "print(\"=\"*20)\n",
    "## key를 만들어줍니다. \n",
    "## 어느정도의 크기로 만들어줄지 값을 세팅. 단 값이 len(msg)보다 커야 함 \n",
    "## 또한 256의 배수, 최소 1024 \n",
    "s = 1024 if len(bin_encoded_msg)*8 <1024 else 2**int(math.log(len(bin_encoded_msg), 2)+1)*8\n",
    "key = Crypto.PublicKey.RSA.generate(s)\n",
    "publickey = key.publickey()#.exportKey(\"PEM\") \n",
    "print('==Public key==')\n",
    "print(publickey.exportKey(\"DER\"))\n",
    "print(\"=\"*20)\n",
    "print('==Private key==')\n",
    "print(key.exportKey('DER'))\n",
    "print(\"=\"*20)\n",
    "## string이라서 안됨. \n",
    "ciphered_msg = publickey.encrypt(bin_encoded_msg, 32)[0]\n",
    "print('==Ciphered msg==')\n",
    "print(ciphered_msg)\n",
    "print(\"=\"*20)\n",
    "deciphered_msg = key.decrypt(ciphered_msg)\n",
    "print('==deCiphered msg==')\n",
    "print(deciphered_msg)\n",
    "print(\"=\"*20)\n"
   ]
  },
  {
   "cell_type": "code",
   "execution_count": 15,
   "metadata": {},
   "outputs": [
    {
     "data": {
      "text/plain": [
       "132"
      ]
     },
     "execution_count": 15,
     "metadata": {},
     "output_type": "execute_result"
    }
   ],
   "source": [
    "len(bin_encoded_msg)"
   ]
  },
  {
   "cell_type": "code",
   "execution_count": 14,
   "metadata": {},
   "outputs": [
    {
     "data": {
      "text/plain": [
       "8"
      ]
     },
     "execution_count": 14,
     "metadata": {},
     "output_type": "execute_result"
    }
   ],
   "source": [
    "import math \n",
    "int(math.log(132, 2)+1)"
   ]
  },
  {
   "cell_type": "code",
   "execution_count": 67,
   "metadata": {},
   "outputs": [],
   "source": [
    "## 대칭 키 알고리즘 \n"
   ]
  },
  {
   "cell_type": "code",
   "execution_count": 193,
   "metadata": {},
   "outputs": [
    {
     "name": "stdout",
     "output_type": "stream",
     "text": [
      "------------------------------\n",
      "original   msg: b'I am a boy      '\n",
      "------------------------------\n",
      "ciphered   msg: b'\\x9f\\xb7\\xb9\\x87\\xf9\\x92\\x02\\xb8E_\\xc9\\x8c\\x1f\\xc5\\xa4\\xf7'\n",
      "==> to utf-16 : 랟螹鋹렂彅賉씟\n",
      "------------------------------\n",
      "deciphered msg: b'I am a boy      '\n",
      "------------------------------\n"
     ]
    }
   ],
   "source": [
    "import Crypto\n",
    "\n",
    "original_message = \"I am a boy\"\n",
    "if len(original_message)%16!=0:\n",
    "    original_message+= \" \"*(16 - len(original_message)%16)\n",
    "original_message = original_message.encode()\n",
    "\n",
    "key = Crypto.Random.new().read(16) \n",
    "iv = Crypto.Random.new().read(16)\n",
    "\n",
    "cipher_ = Crypto.Cipher.AES.new(key, Crypto.Cipher.AES.MODE_CBC, iv)\n",
    "## original message의 length가 16의 배수여야함 \n",
    "\n",
    "## 들어오는 string의 길이가 16의 배수여야 함\n",
    "ciphered_message = cipher_.encrypt(original_message)\n",
    "\n",
    "## 새롭게 세팅해줘야함 \n",
    "cipher_ = Crypto.Cipher.AES.new(key, Crypto.Cipher.AES.MODE_CBC, iv)\n",
    "deciphered_message = cipher_.decrypt(ciphered_message)\n",
    "\n",
    "print(\"-\"*30)\n",
    "print(\"original   msg: {}\".format(original_message))\n",
    "print(\"-\"*30)\n",
    "print(\"ciphered   msg: {}\".format(ciphered_message))\n",
    "print(\"==> to utf-16 : {}\".format(ciphered_message.decode('utf-16')))\n",
    "print(\"-\"*30)\n",
    "print(\"deciphered msg: {}\".format(deciphered_message))\n",
    "print(\"-\"*30)\n",
    "#print(deciphered_message.decode('utf-8'))\n",
    "#deciphered_message"
   ]
  },
  {
   "cell_type": "code",
   "execution_count": 176,
   "metadata": {},
   "outputs": [
    {
     "data": {
      "text/plain": [
       "'庳溾蟡毆뱋싕ㅞ\\u0bd9'"
      ]
     },
     "execution_count": 176,
     "metadata": {},
     "output_type": "execute_result"
    }
   ],
   "source": []
  },
  {
   "cell_type": "code",
   "execution_count": null,
   "metadata": {},
   "outputs": [],
   "source": []
  },
  {
   "cell_type": "code",
   "execution_count": 120,
   "metadata": {},
   "outputs": [
    {
     "name": "stdout",
     "output_type": "stream",
     "text": [
      "b'\\xec\\x95\\x88\\xeb\\x85\\x95\\xed\\x95\\x98\\xec\\x84\\xb8\\xec\\x9a\\x94'\n",
      "b'7JWI64WV7ZWY7IS47JqU'\n",
      "b'\\xec\\x95\\x88\\xeb\\x85\\x95\\xed\\x95\\x98\\xec\\x84\\xb8\\xec\\x9a\\x94'\n",
      "안녕하세요\n"
     ]
    }
   ],
   "source": [
    "## what is base64\n",
    "\"\"\"\n",
    "text와 binary data의 차이 \n",
    "파일을 텍스트로 읽을때, binary로 읽을때의 차이.\n",
    "\n",
    "샘플 텍스트 파일을 만들고, 이를 그냥 읽을때와 rb로 읽을때의 차이를 구분해서 보여주면 되지 않을까? \n",
    "엄밀하게 따지면 모든 파일은 binary 데이터다. \n",
    "binary data: \n",
    "\"\"\"\n",
    "\n",
    "import base64\n",
    "\n",
    "msg = \"안녕하세요\".encode()\n",
    "print(msg)\n",
    "\n",
    "encoded_msg = base64.b64encode(msg)\n",
    "print( encoded_msg)\n",
    "print( base64.b64decode(encoded_msg))\n",
    "print( base64.b64decode(encoded_msg).decode('utf-8'))\n",
    "#base64.b64encode(msg)"
   ]
  },
  {
   "cell_type": "code",
   "execution_count": 84,
   "metadata": {},
   "outputs": [
    {
     "ename": "LookupError",
     "evalue": "'hex' is not a text encoding; use codecs.encode() to handle arbitrary codecs",
     "output_type": "error",
     "traceback": [
      "\u001b[0;31m---------------------------------------------------------------------------\u001b[0m",
      "\u001b[0;31mLookupError\u001b[0m                               Traceback (most recent call last)",
      "\u001b[0;32m<ipython-input-84-150f373575cc>\u001b[0m in \u001b[0;36m<module>\u001b[0;34m()\u001b[0m\n\u001b[0;32m----> 1\u001b[0;31m \u001b[0;34m'aa'\u001b[0m\u001b[0;34m.\u001b[0m\u001b[0mencode\u001b[0m\u001b[0;34m(\u001b[0m\u001b[0;34m'hex'\u001b[0m\u001b[0;34m)\u001b[0m\u001b[0;34m\u001b[0m\u001b[0m\n\u001b[0m",
      "\u001b[0;31mLookupError\u001b[0m: 'hex' is not a text encoding; use codecs.encode() to handle arbitrary codecs"
     ]
    }
   ],
   "source": [
    "'aa'.encode('hex')"
   ]
  },
  {
   "cell_type": "code",
   "execution_count": null,
   "metadata": {},
   "outputs": [],
   "source": [
    "random_generator = Random.new().read\n",
    "key = RSA.generate(1024, random_generator) #generate pub and priv key\n",
    "\n",
    "publickey = key.publickey() # pub key export for exchange\n",
    "\n",
    "encrypted = publickey.encrypt('encrypt this message', 32)\n",
    "#message to encrypt is in the above line 'encrypt this message'\n",
    "\n",
    "print 'encrypted message:', encrypted #ciphertext\n",
    "f = open ('encryption.txt', 'w')\n",
    "f.write(str(encrypted)) #write ciphertext to file\n",
    "f.close()\n",
    "\n",
    "#decrypted code below\n",
    "\n",
    "f = open('encryption.txt', 'r')\n",
    "message = f.read()\n",
    "\n",
    "\n",
    "decrypted = key.decrypt(ast.literal_eval(str(encrypted)))\n",
    "\n",
    "print 'decrypted', decrypted\n",
    "\n",
    "f = open ('encryption.txt', 'w')\n",
    "f.write(str(message))\n",
    "f.write(str(decrypted))\n",
    "f.close()"
   ]
  }
 ],
 "metadata": {
  "kernelspec": {
   "display_name": "Python 3",
   "language": "python",
   "name": "python3"
  },
  "language_info": {
   "codemirror_mode": {
    "name": "ipython",
    "version": 3
   },
   "file_extension": ".py",
   "mimetype": "text/x-python",
   "name": "python",
   "nbconvert_exporter": "python",
   "pygments_lexer": "ipython3",
   "version": "3.6.5"
  }
 },
 "nbformat": 4,
 "nbformat_minor": 2
}
