{
 "cells": [
  {
   "cell_type": "code",
   "execution_count": 205,
   "metadata": {},
   "outputs": [],
   "source": [
    "import hashlib\n",
    "import datetime as dt \n",
    "\n",
    "class Block(object):\n",
    "    def __init__(self, index, timestamp, data, previous_hash):\n",
    "        self.index = index\n",
    "        self.timestamp = timestamp\n",
    "        self.data = data ## can be anything, this is important\n",
    "        self.previous_hash = previous_hash\n",
    "        self.hash = self.hash_block()## 값을 넣고, init하면 자동으로 해쉬값이 만들어짐. \n",
    "    def hash_block(self):\n",
    "        ## 아래 hash 함수를 보면 이전 block의 hash를 가져와서 다시 hash함수를 만듬 \n",
    "        ## 즉, 새롭게 hash 값을 만들 때 이전 블록의 hash값을 참고해서 만들기 때문에 이를 활용해서 무결성이 확보될 수 있음\n",
    "        sha = hashlib.sha256()\n",
    "        new_str_bin = str(self.index) + str(self.timestamp) + str(self.data) + str(self.previous_hash)\n",
    "        sha.update(new_str_bin.encode())\n",
    "        return sha.hexdigest()\n",
    "\n",
    "def create_genesis_block():## 창세기 블록 만들기. \n",
    "    return Block(0, dt.datetime.now(), data='genesis block', previous_hash=\"0\")\n",
    "\n",
    "def next_block(last_block):\n",
    "    ## 지난번에 생성된 last_block에 이어붙일 새로운 블록을 만들어서 리턴한다.\n",
    "    return Block(index = last_block.index+1, \n",
    "                 timestamp = dt.datetime.now(), \n",
    "                 data = f\"Hey, I am block {last_block.index+1}\",\n",
    "                 previous_hash = last_block.hash)\n",
    "\n",
    "## 블록체인이기는 한데, linear 한 linked structure라고 생각해도 됨. \n",
    "## 따라서 각 주소값을 리스트에 넣어서 관리해도 편함. \n",
    "blockchain = [create_genesis_block()]\n",
    "previous_block = blockchain[-1]\n",
    "\n",
    "num_of_block_to_add = 10\n",
    "for i in range(0, num_of_block_to_add):\n",
    "    ## 이전 블록에 이어서(이전 hash 값을 이용해서 새로운 hash값을 생성) 새로운 블록을 생성 \n",
    "    block_to_add = next_block(previous_block) \n",
    "    blockchain.append(block_to_add)\n",
    "    previous_block = blockchain[-1]\n",
    "    print(f\"Block {previous_block.index:2d} has been added to blockchain\")\n",
    "    print(f\"hash value: {previous_block.hash}\")"
   ]
  },
  {
   "cell_type": "code",
   "execution_count": null,
   "metadata": {},
   "outputs": [],
   "source": []
  }
 ],
 "metadata": {
  "kernelspec": {
   "display_name": "Python 3",
   "language": "python",
   "name": "python3"
  },
  "language_info": {
   "codemirror_mode": {
    "name": "ipython",
    "version": 3
   },
   "file_extension": ".py",
   "mimetype": "text/x-python",
   "name": "python",
   "nbconvert_exporter": "python",
   "pygments_lexer": "ipython3",
   "version": "3.6.5"
  }
 },
 "nbformat": 4,
 "nbformat_minor": 2
}
