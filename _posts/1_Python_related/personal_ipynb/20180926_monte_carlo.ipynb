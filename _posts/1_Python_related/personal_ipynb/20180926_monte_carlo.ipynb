{
 "cells": [
  {
   "cell_type": "code",
   "execution_count": null,
   "metadata": {},
   "outputs": [],
   "source": []
  },
  {
   "cell_type": "code",
   "execution_count": 138,
   "metadata": {},
   "outputs": [
    {
     "name": "stdout",
     "output_type": "stream",
     "text": [
      "n:      10, estimated pi: 2.400000000000\n",
      "n:     100, estimated pi: 3.200000000000\n",
      "n:    1000, estimated pi: 3.116000000000\n",
      "n:   10000, estimated pi: 3.143200000000\n",
      "n:  100000, estimated pi: 3.137280000000\n",
      "n: 1000000, estimated pi: 3.142656000000\n",
      "n:10000000, estimated pi: 3.141124800000\n"
     ]
    }
   ],
   "source": [
    "import numpy as np \n",
    "\n",
    "ns = [10**i for i in range(1, 8)]\n",
    "for n in ns:\n",
    "    mat1 = np.random.uniform(-1, 1, (n, 2))\n",
    "    result = np.apply_along_axis(lambda x: 1 if (x[0]**2+x[1]**2)<1 else 0, axis=1, arr=mat1)\n",
    "    print(f\"n:{n:8d}, estimated pi: {np.sum(result)/n*4:13.12f}\")"
   ]
  },
  {
   "cell_type": "code",
   "execution_count": 59,
   "metadata": {},
   "outputs": [
    {
     "ename": "AttributeError",
     "evalue": "'function' object has no attribute 'ndim'",
     "output_type": "error",
     "traceback": [
      "\u001b[0;31m---------------------------------------------------------------------------\u001b[0m",
      "\u001b[0;31mAttributeError\u001b[0m                            Traceback (most recent call last)",
      "\u001b[0;32m<ipython-input-59-a304ae34a46b>\u001b[0m in \u001b[0;36m<module>\u001b[0;34m()\u001b[0m\n\u001b[0;32m----> 1\u001b[0;31m \u001b[0mnp\u001b[0m\u001b[0;34m.\u001b[0m\u001b[0mapply_over_axes\u001b[0m\u001b[0;34m(\u001b[0m\u001b[0mmat1\u001b[0m\u001b[0;34m,\u001b[0m \u001b[0;32mlambda\u001b[0m \u001b[0mx\u001b[0m\u001b[0;34m:\u001b[0m \u001b[0;36m1\u001b[0m \u001b[0;32mif\u001b[0m \u001b[0;34m(\u001b[0m\u001b[0mx\u001b[0m\u001b[0;34m[\u001b[0m\u001b[0;36m0\u001b[0m\u001b[0;34m]\u001b[0m\u001b[0;34m**\u001b[0m\u001b[0;36m2\u001b[0m \u001b[0;34m+\u001b[0m \u001b[0mx\u001b[0m\u001b[0;34m[\u001b[0m\u001b[0;36m1\u001b[0m\u001b[0;34m]\u001b[0m\u001b[0;34m**\u001b[0m\u001b[0;36m2\u001b[0m\u001b[0;34m)\u001b[0m\u001b[0;34m<\u001b[0m\u001b[0;36m1\u001b[0m \u001b[0;32melse\u001b[0m \u001b[0;36m0\u001b[0m\u001b[0;34m,\u001b[0m \u001b[0mmat1\u001b[0m\u001b[0;34m)\u001b[0m\u001b[0;34m\u001b[0m\u001b[0m\n\u001b[0m",
      "\u001b[0;32m~/anaconda3/lib/python3.6/site-packages/numpy/lib/shape_base.py\u001b[0m in \u001b[0;36mapply_over_axes\u001b[0;34m(func, a, axes)\u001b[0m\n\u001b[1;32m    202\u001b[0m     \"\"\"\n\u001b[1;32m    203\u001b[0m     \u001b[0mval\u001b[0m \u001b[0;34m=\u001b[0m \u001b[0masarray\u001b[0m\u001b[0;34m(\u001b[0m\u001b[0ma\u001b[0m\u001b[0;34m)\u001b[0m\u001b[0;34m\u001b[0m\u001b[0m\n\u001b[0;32m--> 204\u001b[0;31m     \u001b[0mN\u001b[0m \u001b[0;34m=\u001b[0m \u001b[0ma\u001b[0m\u001b[0;34m.\u001b[0m\u001b[0mndim\u001b[0m\u001b[0;34m\u001b[0m\u001b[0m\n\u001b[0m\u001b[1;32m    205\u001b[0m     \u001b[0;32mif\u001b[0m \u001b[0marray\u001b[0m\u001b[0;34m(\u001b[0m\u001b[0maxes\u001b[0m\u001b[0;34m)\u001b[0m\u001b[0;34m.\u001b[0m\u001b[0mndim\u001b[0m \u001b[0;34m==\u001b[0m \u001b[0;36m0\u001b[0m\u001b[0;34m:\u001b[0m\u001b[0;34m\u001b[0m\u001b[0m\n\u001b[1;32m    206\u001b[0m         \u001b[0maxes\u001b[0m \u001b[0;34m=\u001b[0m \u001b[0;34m(\u001b[0m\u001b[0maxes\u001b[0m\u001b[0;34m,\u001b[0m\u001b[0;34m)\u001b[0m\u001b[0;34m\u001b[0m\u001b[0m\n",
      "\u001b[0;31mAttributeError\u001b[0m: 'function' object has no attribute 'ndim'"
     ]
    }
   ],
   "source": []
  },
  {
   "cell_type": "code",
   "execution_count": 46,
   "metadata": {},
   "outputs": [
    {
     "data": {
      "text/plain": [
       "array([[ 0.05725751,  0.38095672],\n",
       "       [-0.23635123, -0.43922627],\n",
       "       [ 0.58887888,  0.7976535 ],\n",
       "       [ 0.34659228,  0.03708952],\n",
       "       [-0.01350175,  0.31983868],\n",
       "       [ 0.04752634, -0.32263679],\n",
       "       [-0.22895275,  0.71006657],\n",
       "       [ 0.54685752, -0.42431271],\n",
       "       [ 0.29168597, -0.89431619],\n",
       "       [-0.81157513, -0.57504059]])"
      ]
     },
     "execution_count": 46,
     "metadata": {},
     "output_type": "execute_result"
    }
   ],
   "source": [
    "x**1"
   ]
  },
  {
   "cell_type": "code",
   "execution_count": 47,
   "metadata": {},
   "outputs": [
    {
     "data": {
      "text/plain": [
       "array([[ 82, 164],\n",
       "       [246, 328]])"
      ]
     },
     "execution_count": 47,
     "metadata": {},
     "output_type": "execute_result"
    }
   ],
   "source": [
    "a = np.array([[1, 2], [3, 4]])\n",
    "a*82"
   ]
  },
  {
   "cell_type": "code",
   "execution_count": 37,
   "metadata": {},
   "outputs": [
    {
     "ename": "ValueError",
     "evalue": "shapes (10,2) and (10,2) not aligned: 2 (dim 1) != 10 (dim 0)",
     "output_type": "error",
     "traceback": [
      "\u001b[0;31m---------------------------------------------------------------------------\u001b[0m",
      "\u001b[0;31mValueError\u001b[0m                                Traceback (most recent call last)",
      "\u001b[0;32m<ipython-input-37-8e0a4640a9ba>\u001b[0m in \u001b[0;36m<module>\u001b[0;34m()\u001b[0m\n\u001b[0;32m----> 1\u001b[0;31m \u001b[0mx\u001b[0m\u001b[0;34m.\u001b[0m\u001b[0mdot\u001b[0m\u001b[0;34m(\u001b[0m\u001b[0mx\u001b[0m\u001b[0;34m)\u001b[0m\u001b[0;34m\u001b[0m\u001b[0m\n\u001b[0m",
      "\u001b[0;31mValueError\u001b[0m: shapes (10,2) and (10,2) not aligned: 2 (dim 1) != 10 (dim 0)"
     ]
    }
   ],
   "source": [
    "x.dot(x)"
   ]
  },
  {
   "cell_type": "code",
   "execution_count": 73,
   "metadata": {},
   "outputs": [
    {
     "name": "stdout",
     "output_type": "stream",
     "text": [
      "[[1 2 3]\n",
      " [4 5 6]]\n",
      "(2, 3)\n"
     ]
    },
    {
     "data": {
      "text/plain": [
       "array([[2, 3, 4],\n",
       "       [5, 6, 7]])"
      ]
     },
     "execution_count": 73,
     "metadata": {},
     "output_type": "execute_result"
    }
   ],
   "source": [
    "import numpy as np \n",
    "\n",
    "mat1 = np.array([[1,2,3], \n",
    "                 [4,5,6]])\n",
    "print(mat1)\n",
    "print(mat1.shape)\n",
    "\n",
    "np.apply_along_axis(func1d=lambda x: x+1, axis=1, arr=mat1)"
   ]
  },
  {
   "cell_type": "code",
   "execution_count": null,
   "metadata": {},
   "outputs": [],
   "source": []
  },
  {
   "cell_type": "code",
   "execution_count": 94,
   "metadata": {},
   "outputs": [
    {
     "name": "stdout",
     "output_type": "stream",
     "text": [
      "shape: (2, 3, 4)\n",
      "[[[ 0  1  2  3]\n",
      "  [ 4  5  6  7]\n",
      "  [ 8  9 10 11]]\n",
      "\n",
      " [[12 13 14 15]\n",
      "  [16 17 18 19]\n",
      "  [20 21 22 23]]]\n",
      "========================================\n",
      "shape: (3, 4)\n",
      "[[12 14 16 18]\n",
      " [20 22 24 26]\n",
      " [28 30 32 34]]\n",
      "========================================\n",
      "shape: (3,)\n",
      "[ 60  92 124]\n"
     ]
    }
   ],
   "source": [
    "import numpy as np \n",
    "\n",
    "a = np.arange(24).reshape(2,3,4)\n",
    "print(f\"shape: {a.shape}\")\n",
    "print(a)\n",
    "print(\"==\"*20)\n",
    "result = np.apply_along_axis(func1d=np.sum, axis=0, arr=a)\n",
    "print(f\"shape: {result.shape}\")\n",
    "print(result)\n",
    "print(\"==\"*20)\n",
    "result = np.apply_along_axis(func1d=np.sum, axis=1, arr=result)\n",
    "print(f\"shape: {result.shape}\")\n",
    "print(result)"
   ]
  },
  {
   "cell_type": "code",
   "execution_count": 208,
   "metadata": {},
   "outputs": [
    {
     "name": "stdout",
     "output_type": "stream",
     "text": [
      "========================================\n",
      "root, data: 3\n",
      "├── child_0, data: 0\n",
      "│   └── child_child_1, data: 0\n",
      "├── child_1, data: 0\n",
      "└── child_2, data: 0\n",
      "========================================\n",
      "children: ['child_0', 'child_1', 'child_2']\n",
      "parent: Node('/root', data=3)\n",
      "is_root: True\n",
      "is_leaf: False\n",
      "path: (Node('/root', data=3), Node('/root/child_0', data=0), Node('/root/child_0/child_child_1', data=0))\n",
      "ancestors: (Node('/root', data=3), Node('/root/child_0', data=0))\n",
      "========================================\n"
     ]
    }
   ],
   "source": [
    "from anytree import Node, RenderTree\n",
    "\n",
    "## 가능하면 아래처럼 node set list를 하나 만들어서 관리해주는 것이 편함. \n",
    "all_node_set = []\n",
    "\n",
    "## 새로운 변수를 추가해서 넣어줘도 상관없음. \n",
    "## 단 하나의 어떤 node에 data가 있을 경우 아래 모든 노드에서도 data를 넣어주어야 함\n",
    "root = Node(\"root\", data=0)\n",
    "\n",
    "all_node_set.append(root)\n",
    "\n",
    "for i in range(0, 3):\n",
    "    ## root.children은 기본적으로 tuple구조이며, 따라서 append등으로 새로운 값을 넣어줄 수 없음\n",
    "    ## 대신 아래처럼 새로운 node를 만들고, parent를 지정해주면 알아서 연결됨 \n",
    "    new_node = Node(f'child_{i}', parent=root, data=0)\n",
    "    ## child가 추가되면 data를 변경하도록 세팅 \n",
    "    root.data+=1\n",
    "    all_node_set.append(new_node)\n",
    "Node(\"child_child_1\", parent=root.children[0], data=0)\n",
    "\n",
    "print(\"==\"*20)\n",
    "## text상에서, tree를 예쁘게 볼 수 있음. \n",
    "for row in RenderTree(root):\n",
    "    pre, fill, node = row\n",
    "    print(f\"{pre}{node.name}, data: {node.data}\")\n",
    "print(\"==\"*20)\n",
    "## 기본적인 tree method를 지원\n",
    "print(f\"children: { [c.name for c in root.children] }\")\n",
    "print(f\"parent: {root.children[0].parent}\")\n",
    "print(f\"is_root: {root.is_root}\")\n",
    "print(f\"is_leaf: {root.is_leaf}\")\n",
    "## path ==> root부터 target_Node까지의 길을 말함. \n",
    "target_node = root.children[0].children[0]\n",
    "print(f\"path: {target_node.path}\")\n",
    "print(f\"ancestors: {target_node.ancestors}\")\n",
    "print(\"==\"*20)\n",
    "\n",
    "\n"
   ]
  },
  {
   "cell_type": "code",
   "execution_count": 206,
   "metadata": {},
   "outputs": [
    {
     "name": "stdout",
     "output_type": "stream",
     "text": [
      "root\n",
      "└── mother\n",
      "    ├── brother\n",
      "    └── me\n",
      "========================================\n",
      "me.ancestors: (root, mother)\n",
      "mother.children: (brother, me)\n"
     ]
    }
   ],
   "source": [
    "## with node mixin\n",
    "\n",
    "from anytree import NodeMixin, RenderTree\n",
    "class MyBaseClass(object):\n",
    "    pass\n",
    "\n",
    "## MyBaseClass 대신에 object를 넣어도 상관없을 것이라고 생각했는데, 안됨. \n",
    "class MyClass(MyBaseClass, NodeMixin):\n",
    "    def __init__(self, name, gender, parent=None):\n",
    "        self.name=name\n",
    "        self.gender=gender\n",
    "        self.parent=parent## 이 부분만 유의해서 넣어주면 됨. \n",
    "    def __repr__(self):\n",
    "        return self.name\n",
    "        \n",
    "root = MyClass(name='root', gender=None, parent=None)\n",
    "mother = MyClass(name='mother', gender='female', parent=root)\n",
    "brother = MyClass(name='brother', gender='male', parent=mother)\n",
    "me = MyClass(name='me', gender='male', parent=mother)\n",
    "\n",
    "for row in RenderTree(root):\n",
    "    pre, fill, node = row\n",
    "    print(f\"{pre}{node}\")\n",
    "print(\"==\"*20)\n",
    "## 기존 Node에서 쓰던 method를 그대로 사용할 수 있음. \n",
    "print(f\"me.ancestors: {me.ancestors}\")\n",
    "print(f\"mother.children: {mother.children}\")"
   ]
  },
  {
   "cell_type": "code",
   "execution_count": 197,
   "metadata": {},
   "outputs": [],
   "source": [
    "class aa(): pass"
   ]
  },
  {
   "cell_type": "code",
   "execution_count": null,
   "metadata": {},
   "outputs": [],
   "source": []
  }
 ],
 "metadata": {
  "kernelspec": {
   "display_name": "Python 3",
   "language": "python",
   "name": "python3"
  },
  "language_info": {
   "codemirror_mode": {
    "name": "ipython",
    "version": 3
   },
   "file_extension": ".py",
   "mimetype": "text/x-python",
   "name": "python",
   "nbconvert_exporter": "python",
   "pygments_lexer": "ipython3",
   "version": "3.6.5"
  }
 },
 "nbformat": 4,
 "nbformat_minor": 2
}
