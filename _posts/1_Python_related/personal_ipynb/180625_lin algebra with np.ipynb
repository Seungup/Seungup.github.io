{
 "cells": [
  {
   "cell_type": "code",
   "execution_count": 39,
   "metadata": {},
   "outputs": [
    {
     "name": "stdout",
     "output_type": "stream",
     "text": [
      "--------------------\n",
      "triangular upper: \n",
      "[[1 2 3]\n",
      " [0 5 6]\n",
      " [0 0 9]]\n",
      "triangular lower: \n",
      "[[1 0 0]\n",
      " [4 5 0]\n",
      " [7 8 9]]\n",
      "--------------------\n",
      "inverse array: \n",
      "[[  3.15251974e+15  -6.30503948e+15   3.15251974e+15]\n",
      " [ -6.30503948e+15   1.26100790e+16  -6.30503948e+15]\n",
      " [  3.15251974e+15  -6.30503948e+15   3.15251974e+15]]\n",
      "--------------------\n",
      "p l u factorization: \n",
      "[[ 0.  1.  0.]\n",
      " [ 0.  0.  1.]\n",
      " [ 1.  0.  0.]], \n",
      "[[ 1.          0.          0.        ]\n",
      " [ 0.14285714  1.          0.        ]\n",
      " [ 0.57142857  0.5         1.        ]], \n",
      "[[  7.00000000e+00   8.00000000e+00   9.00000000e+00]\n",
      " [  0.00000000e+00   8.57142857e-01   1.71428571e+00]\n",
      " [  0.00000000e+00   0.00000000e+00  -1.58603289e-16]]\n",
      "--------------------\n",
      "p.dot(l).dot(u): \n",
      "[[ 1.  2.  3.]\n",
      " [ 4.  5.  6.]\n",
      " [ 7.  8.  9.]]\n",
      "--------------------\n",
      "singular value decomposition: \n",
      "[[-0.21483724  0.88723069  0.40824829]\n",
      " [-0.52058739  0.24964395 -0.81649658]\n",
      " [-0.82633754 -0.38794278  0.40824829]], \n",
      "[  1.68481034e+01   1.06836951e+00   3.33475287e-16], \n",
      "[[-0.47967118 -0.57236779 -0.66506441]\n",
      " [-0.77669099 -0.07568647  0.62531805]\n",
      " [-0.40824829  0.81649658 -0.40824829]]\n"
     ]
    }
   ],
   "source": [
    "\"\"\"\n",
    "\n",
    "\"\"\"\n",
    "import numpy as np \n",
    "from scipy.linalg import lu, inv, svd, cholesky\n",
    "## decomposition \n",
    "\n",
    "a = np.arange(1, 10).reshape(3, 3)\n",
    "print(\"--------------------\")\n",
    "print(\"triangular upper: \\n{}\".format(np.triu(a)))\n",
    "print(\"triangular lower: \\n{}\".format(np.tril(a)))\n",
    "print(\"--------------------\")\n",
    "print(\"inverse array: \\n{}\".format(inv(a)))\n",
    "print(\"--------------------\")\n",
    "p, l, u = lu(a)\n",
    "print('p l u factorization: \\n{}, \\n{}, \\n{}'.format(p, l, u))\n",
    "print(\"--------------------\")\n",
    "print(\"p.dot(l).dot(u): \\n{}\".format(p.dot(l).dot(u)))\n",
    "print(\"--------------------\")\n",
    "U, s, V = svd(a)\n",
    "print(\"singular value decomposition: \\n{}, \\n{}, \\n{}\".format(U, s, V))"
   ]
  },
  {
   "cell_type": "code",
   "execution_count": 26,
   "metadata": {},
   "outputs": [
    {
     "data": {
      "text/plain": [
       "(array([[ 0.,  1.,  0.],\n",
       "        [ 0.,  0.,  1.],\n",
       "        [ 1.,  0.,  0.]]), array([[ 1.        ,  0.        ,  0.        ],\n",
       "        [ 0.14285714,  1.        ,  0.        ],\n",
       "        [ 0.57142857,  0.5       ,  1.        ]]), array([[  7.00000000e+00,   8.00000000e+00,   9.00000000e+00],\n",
       "        [  0.00000000e+00,   8.57142857e-01,   1.71428571e+00],\n",
       "        [  0.00000000e+00,   0.00000000e+00,  -1.58603289e-16]]))"
      ]
     },
     "execution_count": 26,
     "metadata": {},
     "output_type": "execute_result"
    }
   ],
   "source": [
    "lu(a)"
   ]
  },
  {
   "cell_type": "code",
   "execution_count": null,
   "metadata": {
    "collapsed": true
   },
   "outputs": [],
   "source": []
  }
 ],
 "metadata": {
  "kernelspec": {
   "display_name": "Python 3",
   "language": "python",
   "name": "python3"
  },
  "language_info": {
   "codemirror_mode": {
    "name": "ipython",
    "version": 3
   },
   "file_extension": ".py",
   "mimetype": "text/x-python",
   "name": "python",
   "nbconvert_exporter": "python",
   "pygments_lexer": "ipython3",
   "version": "3.6.2"
  }
 },
 "nbformat": 4,
 "nbformat_minor": 2
}
