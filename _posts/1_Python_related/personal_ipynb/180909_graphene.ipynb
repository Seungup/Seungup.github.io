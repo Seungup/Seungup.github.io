{
 "cells": [
  {
   "cell_type": "code",
   "execution_count": 24,
   "metadata": {},
   "outputs": [
    {
     "name": "stdout",
     "output_type": "stream",
     "text": [
      "OrderedDict([('hello', 'resolved stranger'), ('v1', 'resolved stranger')])\n",
      "key: hello, value: resolved stranger\n",
      "==============================\n",
      "key: v1, value: resolved stranger\n",
      "==============================\n"
     ]
    }
   ],
   "source": [
    "import graphene\n",
    "\n",
    "class Query(graphene.ObjectType):\n",
    "    hello = graphene.String(name=graphene.String(default_value=\"stranger\"))\n",
    "    v1 = graphene.String(name=graphene.String(default_value=\"stranger\"))\n",
    "\n",
    "    def resolve_hello(self, info, name):\n",
    "        return 'resolved '+ name\n",
    "    def resolve_v1(self, info, name):\n",
    "        return \"resolved \" + name\n",
    "    \n",
    "\n",
    "schema = graphene.Schema(query=Query)\n",
    "\n",
    "result = schema.execute('query { hello v1}')## execute query \n",
    "## result.datas는 OrderedDict임. suck.\n",
    "for k, v in result.data.items():\n",
    "    print(f\"key: {k}, value: {v}\")\n",
    "    print(\"=\"*30)\n",
    "#print(result.data['hello']) # \"Hello stranger\""
   ]
  },
  {
   "cell_type": "code",
   "execution_count": 31,
   "metadata": {},
   "outputs": [],
   "source": [
    "import graphene\n",
    "\n",
    "class Author(graphene.ObjectType):\n",
    "    id = graphene.Int()\n",
    "    first_name = graphene.String()\n",
    "    last_name = graphene.String()\n",
    "    age = graphene.Int()\n",
    "    books = graphene.List(lambda: Book)\n",
    "\n",
    "class Book(graphene.ObjectType):\n",
    "    id = graphene.Int(description='The primary key in the database')\n",
    "    title = graphene.String(description='The title of the book')\n",
    "    published = graphene.String(description='The date it was published')\n",
    "    author = graphene.Field(Author)"
   ]
  },
  {
   "cell_type": "code",
   "execution_count": 26,
   "metadata": {},
   "outputs": [
    {
     "ename": "AttributeError",
     "evalue": "module 'graphene' has no attribute 'In'",
     "output_type": "error",
     "traceback": [
      "\u001b[0;31m---------------------------------------------------------------------------\u001b[0m",
      "\u001b[0;31mAttributeError\u001b[0m                            Traceback (most recent call last)",
      "\u001b[0;32m<ipython-input-26-88d5c60635a5>\u001b[0m in \u001b[0;36m<module>\u001b[0;34m()\u001b[0m\n\u001b[1;32m      1\u001b[0m \u001b[0;32mimport\u001b[0m \u001b[0mgraphene\u001b[0m\u001b[0;34m\u001b[0m\u001b[0m\n\u001b[1;32m      2\u001b[0m \u001b[0;34m\u001b[0m\u001b[0m\n\u001b[0;32m----> 3\u001b[0;31m \u001b[0;32mclass\u001b[0m \u001b[0mAuthor\u001b[0m\u001b[0;34m(\u001b[0m\u001b[0mgraphene\u001b[0m\u001b[0;34m.\u001b[0m\u001b[0mObjectType\u001b[0m\u001b[0;34m)\u001b[0m\u001b[0;34m:\u001b[0m\u001b[0;34m\u001b[0m\u001b[0m\n\u001b[0m\u001b[1;32m      4\u001b[0m     \u001b[0mid\u001b[0m \u001b[0;34m=\u001b[0m \u001b[0mgraphene\u001b[0m\u001b[0;34m.\u001b[0m\u001b[0mIn\u001b[0m\u001b[0;34m\u001b[0m\u001b[0m\n\u001b[1;32m      5\u001b[0m     \u001b[0mid\u001b[0m \u001b[0;34m=\u001b[0m \u001b[0mg\u001b[0m\u001b[0;34m.\u001b[0m\u001b[0mInt\u001b[0m\u001b[0;34m(\u001b[0m\u001b[0mdescription\u001b[0m\u001b[0;34m=\u001b[0m\u001b[0;34m'The primary key in the database'\u001b[0m\u001b[0;34m)\u001b[0m\u001b[0;34m\u001b[0m\u001b[0m\n",
      "\u001b[0;32m<ipython-input-26-88d5c60635a5>\u001b[0m in \u001b[0;36mAuthor\u001b[0;34m()\u001b[0m\n\u001b[1;32m      2\u001b[0m \u001b[0;34m\u001b[0m\u001b[0m\n\u001b[1;32m      3\u001b[0m \u001b[0;32mclass\u001b[0m \u001b[0mAuthor\u001b[0m\u001b[0;34m(\u001b[0m\u001b[0mgraphene\u001b[0m\u001b[0;34m.\u001b[0m\u001b[0mObjectType\u001b[0m\u001b[0;34m)\u001b[0m\u001b[0;34m:\u001b[0m\u001b[0;34m\u001b[0m\u001b[0m\n\u001b[0;32m----> 4\u001b[0;31m     \u001b[0mid\u001b[0m \u001b[0;34m=\u001b[0m \u001b[0mgraphene\u001b[0m\u001b[0;34m.\u001b[0m\u001b[0mIn\u001b[0m\u001b[0;34m\u001b[0m\u001b[0m\n\u001b[0m\u001b[1;32m      5\u001b[0m     \u001b[0mid\u001b[0m \u001b[0;34m=\u001b[0m \u001b[0mg\u001b[0m\u001b[0;34m.\u001b[0m\u001b[0mInt\u001b[0m\u001b[0;34m(\u001b[0m\u001b[0mdescription\u001b[0m\u001b[0;34m=\u001b[0m\u001b[0;34m'The primary key in the database'\u001b[0m\u001b[0;34m)\u001b[0m\u001b[0;34m\u001b[0m\u001b[0m\n\u001b[1;32m      6\u001b[0m     \u001b[0mfirst_name\u001b[0m \u001b[0;34m=\u001b[0m \u001b[0mg\u001b[0m\u001b[0;34m.\u001b[0m\u001b[0mString\u001b[0m\u001b[0;34m(\u001b[0m\u001b[0;34m)\u001b[0m\u001b[0;34m\u001b[0m\u001b[0m\n",
      "\u001b[0;31mAttributeError\u001b[0m: module 'graphene' has no attribute 'In'"
     ]
    }
   ],
   "source": []
  },
  {
   "cell_type": "code",
   "execution_count": null,
   "metadata": {},
   "outputs": [],
   "source": []
  }
 ],
 "metadata": {
  "kernelspec": {
   "display_name": "Python 3",
   "language": "python",
   "name": "python3"
  },
  "language_info": {
   "codemirror_mode": {
    "name": "ipython",
    "version": 3
   },
   "file_extension": ".py",
   "mimetype": "text/x-python",
   "name": "python",
   "nbconvert_exporter": "python",
   "pygments_lexer": "ipython3",
   "version": "3.6.5"
  }
 },
 "nbformat": 4,
 "nbformat_minor": 2
}
