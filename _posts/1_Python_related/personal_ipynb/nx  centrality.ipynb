{
 "cells": [
  {
   "cell_type": "code",
   "execution_count": 48,
   "metadata": {},
   "outputs": [
    {
     "name": "stdout",
     "output_type": "stream",
     "text": [
      "weighted_deg: {'a': 120.0, 'b': 11.0, 'c': 101.0, 'd': 10.0}\n",
      "closeness_cent: {'a': 14.285714285714285, 'b': 7.317073170731707, 'c': 13.043478260869566, 'd': 7.317073170731707}\n",
      "betweeness_cent: {'a': 0.6666666666666666, 'b': 0.6666666666666666, 'c': 0.0, 'd': 0.0}\n",
      "pagerank: {'a': 0.4748970800683251, 'b': 0.07433357154696582, 'c': 0.3796306755336949, 'd': 0.0711386728510143}\n"
     ]
    }
   ],
   "source": [
    "import networkx as nx\n",
    "import matplotlib.pyplot as plt\n",
    "\n",
    "\"\"\"\n",
    "- graph로부터 다음 세 가지 centrality와 pagerank를 계산하여 딕셔너리로 리턴해주는 함수\n",
    "    - weighted degree centrality\n",
    "    - closeness centrality\n",
    "    - betweenness centrality\n",
    "    - pagerank\n",
    "\"\"\"\n",
    "\n",
    "def return_centralities_as_dict(input_g):\n",
    "    # weighted degree centrality를 딕셔너리로 리턴\n",
    "    def return_weighted_degree_centrality(input_g, normalized=False):\n",
    "        w_d_centrality = {n:0.0 for n in input_g.nodes()}\n",
    "        for u, v, d in input_g.edges(data=True):\n",
    "            w_d_centrality[u]+=d['weight']\n",
    "            w_d_centrality[v]+=d['weight']\n",
    "        if normalized==True:\n",
    "            weighted_sum = sum(w_d_centrality.values())\n",
    "            return {k:v/weighted_sum for k, v in w_d_centrality.items()}\n",
    "        else:\n",
    "            return w_d_centrality\n",
    "    def return_closeness_centrality(input_g):\n",
    "        new_g_with_distance = input_g.copy()\n",
    "        for u,v,d in new_g_with_distance.edges(data=True):\n",
    "            if 'distance' not in d:\n",
    "                d['distance'] = 1.0/d['weight']\n",
    "        return nx.closeness_centrality(new_g_with_distance, distance='distance')\n",
    "    def return_betweenness_centrality(input_g):\n",
    "        return nx.betweenness_centrality(input_g, weight='weight')\n",
    "    def return_pagerank(input_g):\n",
    "        return nx.pagerank(input_g, weight='weight')\n",
    "    return {\n",
    "        'weighted_deg':return_weighted_degree_centrality(input_g),\n",
    "        'closeness_cent':return_closeness_centrality(input_g), \n",
    "        'betweeness_cent':return_betweenness_centrality(input_g),\n",
    "        'pagerank':return_pagerank(input_g)\n",
    "    }\n",
    "\n",
    "\"\"\"\n",
    "main code, 나중에 사용할 때 아래 부분은 삭제하는 것이 좋음. \n",
    "\"\"\"\n",
    "G = nx.Graph()\n",
    "G.add_weighted_edges_from(\n",
    "    [\n",
    "        ('a', 'b', 10.0), ('b', 'c', 1.0), ('a', 'c', 100.0), ('a', 'd', 10.0)\n",
    "    ]\n",
    ")\n",
    "nx.draw_networkx(G)\n",
    "plt.axis('off')\n",
    "plt.savefig('../../assets/images/markdown_img/sample_graph_for_centrality.svg')\n",
    "for k, v in return_centralities_as_dict(G).items():\n",
    "    print(\"{}: {}\".format(k, v))"
   ]
  },
  {
   "cell_type": "code",
   "execution_count": null,
   "metadata": {
    "collapsed": true
   },
   "outputs": [],
   "source": []
  }
 ],
 "metadata": {
  "kernelspec": {
   "display_name": "Python 3",
   "language": "python",
   "name": "python3"
  },
  "language_info": {
   "codemirror_mode": {
    "name": "ipython",
    "version": 3
   },
   "file_extension": ".py",
   "mimetype": "text/x-python",
   "name": "python",
   "nbconvert_exporter": "python",
   "pygments_lexer": "ipython3",
   "version": "3.6.2"
  }
 },
 "nbformat": 4,
 "nbformat_minor": 2
}
