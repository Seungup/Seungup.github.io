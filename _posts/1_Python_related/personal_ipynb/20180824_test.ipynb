{
 "cells": [
  {
   "cell_type": "code",
   "execution_count": 25,
   "metadata": {},
   "outputs": [
    {
     "name": "stdout",
     "output_type": "stream",
     "text": [
      "<class 'numpy.ndarray'>\n",
      "True\n"
     ]
    }
   ],
   "source": [
    "## pickle test\n",
    "import numpy as np \n",
    "import pickle\n",
    "## read, write binary file \n",
    "\n",
    "orig_data = np.random.normal(0, 1, 1000)\n",
    "## pickling: serialization \n",
    "with open('test.aa', 'wb') as f:\n",
    "    pickle.dump(orig_data, f)\n",
    "## unpickling: de-serialization \n",
    "with open('test.aa', 'rb') as f:\n",
    "    new_data = pickle.load(f)\n",
    "print(type(new_data))\n",
    "print(all(orig_data == new_data))\n",
    "    "
   ]
  },
  {
   "cell_type": "code",
   "execution_count": 29,
   "metadata": {},
   "outputs": [],
   "source": []
  },
  {
   "cell_type": "code",
   "execution_count": 33,
   "metadata": {},
   "outputs": [
    {
     "name": "stdout",
     "output_type": "stream",
     "text": [
      "10\n"
     ]
    }
   ],
   "source": [
    "def test_function(inputA):\n",
    "    print(inputA)\n",
    "    \n",
    "with open('test_func.aa', 'wb') as f:\n",
    "    pickle.dump(test_function, f)\n",
    "with open('test_func.aa', 'rb') as f:\n",
    "    new_function = pickle.load(f)\n",
    "new_function(10)"
   ]
  },
  {
   "cell_type": "code",
   "execution_count": null,
   "metadata": {},
   "outputs": [],
   "source": []
  }
 ],
 "metadata": {
  "kernelspec": {
   "display_name": "Python 3",
   "language": "python",
   "name": "python3"
  },
  "language_info": {
   "codemirror_mode": {
    "name": "ipython",
    "version": 3
   },
   "file_extension": ".py",
   "mimetype": "text/x-python",
   "name": "python",
   "nbconvert_exporter": "python",
   "pygments_lexer": "ipython3",
   "version": "3.6.5"
  }
 },
 "nbformat": 4,
 "nbformat_minor": 2
}
