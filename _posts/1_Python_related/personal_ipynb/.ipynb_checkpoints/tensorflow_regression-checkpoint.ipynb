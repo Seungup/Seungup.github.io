{
 "cells": [
  {
   "cell_type": "markdown",
   "metadata": {},
   "source": [
    "---\n",
    "title: tensorflow로 regression하기 \n",
    "category: python-lib\n",
    "tags: python-lib tensorflow regression\n",
    "\n",
    "---\n",
    "\n",
    "## tensorflow basic \n",
    "\n",
    "- 사실 아주 간단하게 regression을 돌려봅니다. 물론 그냥 `sklearn`을 쓰면 되는데 왜 tensorflow를 쓰냐고 물어보신다면 할말이 없습니다만...그저 이렇게도 할 수 있다 tensor101 느낌이라고 생각해주셔도 좋을 것 같아요. \n",
    "- 일반적으로는 변수에 값을 할당하고 값을 더하면 바로 계산해주지만, tensorflow 에서는 값을 느리게 연산합니다. tf.session()에서 running을 한 뒤에야 그 값을 알 수 있습니다. \n",
    "- 아래 코드의 결과를 보면 세션에 넣어서 돌릴 때와 세션에 넣지 않고 그냥 출력했을 때 결과가 다른 것을 알 수 있습니다. tensorflow는 이런 식으로 computation graph를 그린 다음, 그 이후에 session에서 돌려주어 그 값을 계산합니다. 미리 계산할 필요가 없다는 거죠. "
   ]
  },
  {
   "cell_type": "code",
   "execution_count": 4,
   "metadata": {},
   "outputs": [
    {
     "name": "stdout",
     "output_type": "stream",
     "text": [
      "Tensor(\"Const_4:0\", shape=(), dtype=string)\n",
      "b'Hello, TensorFlow!'\n"
     ]
    }
   ],
   "source": [
    "import tensorflow as tf \n",
    "\n",
    "hello = tf.constant(\"Hello, TensorFlow!\")\n",
    "print(hello)\n",
    "sess = tf.Session()\n",
    "print(sess.run(hello))"
   ]
  },
  {
   "cell_type": "markdown",
   "metadata": {},
   "source": [
    "### Tensorflow mechanics\n",
    "\n",
    "1. build graph using tensorflow operations\n",
    "2. feed data and run graph(operation)\n",
    "3. update variables in the graph\n",
    "\n",
    "- 또한 보통 placeholder, 데이터를 위한 빈자리를 생성해두고 여기에 값을 딕셔너리로 넘겨주는 방식으로 진행합니다.  "
   ]
  },
  {
   "cell_type": "code",
   "execution_count": 8,
   "metadata": {},
   "outputs": [
    {
     "name": "stdout",
     "output_type": "stream",
     "text": [
      "7.0\n",
      "[ 3.  7.]\n"
     ]
    }
   ],
   "source": [
    "a = tf.placeholder(tf.float32)\n",
    "b = tf.placeholder(tf.float32)\n",
    "\n",
    "operation = tf.add(a, b)\n",
    "\n",
    "with tf.Session() as sess:\n",
    "    print( sess.run(operation, feed_dict={a:3, b:4}))\n",
    "    print( sess.run(operation, feed_dict={a:[1,3], b:[2,4]}))"
   ]
  },
  {
   "cell_type": "markdown",
   "metadata": {},
   "source": [
    "## linear regression \n",
    "\n"
   ]
  }
 ],
 "metadata": {
  "kernelspec": {
   "display_name": "Python 3",
   "language": "python",
   "name": "python3"
  },
  "language_info": {
   "codemirror_mode": {
    "name": "ipython",
    "version": 3
   },
   "file_extension": ".py",
   "mimetype": "text/x-python",
   "name": "python",
   "nbconvert_exporter": "python",
   "pygments_lexer": "ipython3",
   "version": "3.6.2"
  }
 },
 "nbformat": 4,
 "nbformat_minor": 2
}
