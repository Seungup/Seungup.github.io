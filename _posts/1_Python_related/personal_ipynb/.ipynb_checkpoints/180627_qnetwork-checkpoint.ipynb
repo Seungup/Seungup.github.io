{
 "cells": [
  {
   "cell_type": "code",
   "execution_count": 3,
   "metadata": {},
   "outputs": [
    {
     "name": "stderr",
     "output_type": "stream",
     "text": [
      "/Users/frhyme/anaconda3/lib/python3.6/site-packages/h5py/__init__.py:36: FutureWarning: Conversion of the second argument of issubdtype from `float` to `np.floating` is deprecated. In future, it will be treated as `np.float64 == np.dtype(float).type`.\n",
      "  from ._conv import register_converters as _register_converters\n"
     ]
    }
   ],
   "source": []
  },
  {
   "cell_type": "code",
   "execution_count": null,
   "metadata": {},
   "outputs": [],
   "source": [
    "\"\"\"\n",
    "- 우리는 좀전까지 Frozen world를 대상으로 강화학습을 수행했습니다. 그리고 Q(quality) table을 만들어서, 매 스텝이 reward에 얼마나 기여하는지를 측정했죠. \n",
    "- 이것이 가능했던 것은, action_space는 4이고, observation_space는 16(4 by 4)이기 때문입니다. 큐테이블이 16 by 4면 되니까요. \n",
    "- 하지만, 바둑, 아니 오목의 예를 들어봅시다. action_space와 obser_space가 너무 많아집니다.\n",
    "    - 간단하게, 바둑판을 4*4로 두고, math.factorial(16)*2로만 계산해도, 41845579776000의 값이 나옵니다. 표현되는 observation_space가 너무 많다는 생각이 듭니다. \n",
    "- 실제로 강화학습을 적용해야 하는 경우는 아주 많은 관찰 가지수와, 액션 스페이스로 구성되는데, 이를 큐테이블로 적용할 수는 없어요. \n",
    "- 그래요. 좋습니다. 그럼 이제 어떻게 해야 하는지 알려주시죠? \n",
    "- a....Approximation!!. \n",
    "- 예측합시다 하하하핫\n",
    "\n",
    "\"\"\"\n",
    "print(\"dd\")"
   ]
  },
  {
   "cell_type": "code",
   "execution_count": 104,
   "metadata": {},
   "outputs": [
    {
     "name": "stdout",
     "output_type": "stream",
     "text": [
      "998.0\n"
     ]
    }
   ],
   "source": [
    "import gym\n",
    "import numpy as np \n",
    "import tensorflow as tf\n",
    "import matplotlib.pyplot as plt\n",
    "\n",
    "def one_hot(x):\n",
    "    return np.identity(16)[x:x+1]\n",
    "\n",
    "env = gym.make('FrozenLake-v0')\n",
    "\"\"\"\n",
    "- obervation(현재 상황)을 입력받아서, 적절한 action을 내뱉는 네트워크를 구성합니다. \n",
    "- 사실, 이건 히든 레이어가 없는 네트워크라서 그냥 linear regression이라고 해도 상관없긴 합니다. \n",
    "\n",
    "- 그래요. 다 알겠는데 뭐가 X ,Y 인가요? \n",
    "X: observation \n",
    "Y: action 별 Quality \n",
    "\"\"\"\n",
    "input_size = env.observation_space.n\n",
    "output_size = env.action_space.n\n",
    "\n",
    "learning_rate = 0.1\n",
    "decay_rate = 0.99\n",
    "num_episodes = 2000\n",
    "\n",
    "X = tf.placeholder(shape=[1, input_size], dtype=tf.float32)\n",
    "W = tf.Variable(tf.random_uniform([input_size, output_size], 0, 0.01))\n",
    "\n",
    "Qpred = tf.matmul(X, W)\n",
    "Y = tf.placeholder(shape=[1, output_size], dtype=tf.float32)\n",
    "\n",
    "loss = tf.reduce_sum(tf.square(Y - Qpred))\n",
    "train = tf.train.GradientDescentOptimizer(learning_rate=learning_rate).minimize(loss)\n",
    "\n",
    "rList = []\n",
    "with tf.Session() as sess:\n",
    "    sess.run(tf.global_variables_initializer())\n",
    "    for i in range(0, num_episodes):\n",
    "        ### episode start\n",
    "        state = env.reset()\n",
    "        e = 1. / ((i/50)+10)\n",
    "        rAll, done, local_loss = 0.0, False, []\n",
    "        # q network training\n",
    "        while not done:\n",
    "            Qs = sess.run(Qpred, feed_dict={X: one_hot(state)})\n",
    "            action = env.action_space.sample() if np.random.rand(1) < e else np.argmax(Qs)\n",
    "            new_state, reward, done, _ = env.step(action)\n",
    "            \n",
    "            if done: # terminal \n",
    "                Qs[0, action] = reward\n",
    "            else: # non-terminal \n",
    "                Qs[0, action] = reward + decay_rate*np.max(sess.run(Qpred, feed_dict={X:one_hot(new_state)}))\n",
    "            sess.run(train, feed_dict={X: one_hot(state), Y: Qs})\n",
    "            rAll += reward\n",
    "            state = new_state\n",
    "        ### episode end \n",
    "        rList.append(rAll)\n",
    "print(sum(rList)/len(rList))"
   ]
  },
  {
   "cell_type": "code",
   "execution_count": 90,
   "metadata": {},
   "outputs": [
    {
     "data": {
      "text/plain": [
       "'aa'"
      ]
     },
     "execution_count": 90,
     "metadata": {},
     "output_type": "execute_result"
    }
   ],
   "source": [
    "b = 'aa' if np.random.rand(1)> 0.5 else 'bb'\n",
    "b"
   ]
  },
  {
   "cell_type": "code",
   "execution_count": 97,
   "metadata": {},
   "outputs": [
    {
     "data": {
      "text/plain": [
       "0"
      ]
     },
     "execution_count": 97,
     "metadata": {},
     "output_type": "execute_result"
    }
   ],
   "source": [
    "np.argmax([0, 0, 0])"
   ]
  },
  {
   "cell_type": "code",
   "execution_count": null,
   "metadata": {},
   "outputs": [],
   "source": []
  },
  {
   "cell_type": "code",
   "execution_count": null,
   "metadata": {},
   "outputs": [],
   "source": []
  }
 ],
 "metadata": {
  "kernelspec": {
   "display_name": "Python 3",
   "language": "python",
   "name": "python3"
  },
  "language_info": {
   "codemirror_mode": {
    "name": "ipython",
    "version": 3
   },
   "file_extension": ".py",
   "mimetype": "text/x-python",
   "name": "python",
   "nbconvert_exporter": "python",
   "pygments_lexer": "ipython3",
   "version": "3.6.5"
  }
 },
 "nbformat": 4,
 "nbformat_minor": 2
}
