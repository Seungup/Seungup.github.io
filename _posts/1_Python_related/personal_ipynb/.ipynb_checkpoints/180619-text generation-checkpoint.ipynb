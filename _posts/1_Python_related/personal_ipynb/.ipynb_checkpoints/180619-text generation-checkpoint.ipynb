{
 "cells": [
  {
   "cell_type": "code",
   "execution_count": 1,
   "metadata": {},
   "outputs": [
    {
     "name": "stdout",
     "output_type": "stream",
     "text": [
      "[nltk_data] Downloading package movie_reviews to\n",
      "[nltk_data]     /Users/frhyme/nltk_data...\n",
      "[nltk_data]   Package movie_reviews is already up-to-date!\n",
      "[nltk_data] Downloading package punkt to /Users/frhyme/nltk_data...\n",
      "[nltk_data]   Package punkt is already up-to-date!\n"
     ]
    },
    {
     "data": {
      "text/plain": [
       "True"
      ]
     },
     "execution_count": 1,
     "metadata": {},
     "output_type": "execute_result"
    }
   ],
   "source": [
    "import nltk\n",
    "nltk.download('movie_reviews')\n",
    "nltk.download('punkt')"
   ]
  },
  {
   "cell_type": "code",
   "execution_count": 135,
   "metadata": {},
   "outputs": [
    {
     "name": "stdout",
     "output_type": "stream",
     "text": [
      "--------------------\n",
      "SENT 0:\n",
      "It just as in his home , cole sear ( occupying gabriel byrnes ( especially the first seem forced , and he ' randy newman ( sid james cameron would drive - blair witch ..\n",
      "--------------------\n",
      "SENT 1:\n",
      "The legendary cinematographer stephen king ..\n",
      "--------------------\n",
      "SENT 2:\n",
      "The people in aladdin -- john carpenter ' s dreamcatcher ..\n",
      "--------------------\n",
      "SENT 3:\n",
      "There is the joker , only has something far more importantly , who maintains its water \" and william \" does ..\n",
      "--------------------\n",
      "SENT 4:\n",
      "The forest , and writes a priest best way to put a little differently , drab picture is ready to sign the right combination ..\n",
      "--------------------\n"
     ]
    }
   ],
   "source": [
    "import numpy as np \n",
    "from nltk.corpus import movie_reviews\n",
    "from collections import Counter\n",
    "\"\"\"\n",
    "- sentence의 앞에는 SS(setence start), 뒤에는 SE(sentence end)를 넣어준다. \n",
    "- 단어의 수가 4개 이상인 경우에 대해서만 고려\n",
    "\"\"\"\n",
    "sentences = map(lambda w_lst: ['SS']+w_lst+['SE'], movie_reviews.sents())\n",
    "sentences = filter(lambda w_lst: True if len(w_lst) >= 5 else False, sentences)\n",
    "sentences = list(sentences)\n",
    "\n",
    "def calculate_bigram(sentence_lst):\n",
    "    \"\"\"\n",
    "    - bigram을 만들고, 단어가 나왔을 때, 그 다음에 어떤 단어가 나올 condition prob을 만든다\n",
    "    - Counter말고 dictionary로 만들어도 되는데, most_common이 있기 때문에 Counter을 사용함\n",
    "    - 만약 tri-gram을 만들 경우에는 nested Counter가 3개가 나오게 된다. k1, k2, k3\n",
    "    \"\"\"\n",
    "    bigram_dict = Counter()\n",
    "    for w_lst in sentence_lst:\n",
    "        bigram_in_s = [(w_lst[i], w_lst[i+1]) for i in range(0, len(w_lst)-1)]\n",
    "        for bigram in bigram_in_s:\n",
    "            w1, w2 = bigram\n",
    "            if w1 not in bigram_dict.keys():\n",
    "                bigram_dict[w1] = Counter({w2:1})\n",
    "            else:\n",
    "                if w2 not in bigram_dict[w1].keys():\n",
    "                    bigram_dict[w1][w2] = 1\n",
    "                else:\n",
    "                    bigram_dict[w1][w2] += 1\n",
    "    for context in bigram_dict.keys():\n",
    "        sum_v_in_context = sum(bigram_dict[context].values())\n",
    "        for k in bigram_dict[context].keys():\n",
    "            bigram_dict[context][k] /= sum_v_in_context\n",
    "    return bigram_dict\n",
    "def sentence_score(w_lst):\n",
    "    \"\"\"\n",
    "    - 그냥 p를 모두 곱해진 것과 값은 같음\n",
    "    - np.log로 변환하고, 더해준다음, np.exp로 하는게 더 좋음 \n",
    "    \"\"\"\n",
    "    bigram_prob = np.array([bigram[w_lst[i]][w_lst[i+1]] for i in range(len(w_lst) - 1)])\n",
    "    bigram_prob = np.log(bigram_prob).sum()\n",
    "    return np.exp(bigram_prob)\n",
    "def generate_sentence(seed=None):\n",
    "    if seed is not None:\n",
    "        np.random.seed(seed)\n",
    "    context = \"SS\"\n",
    "    sentence = []\n",
    "    while context in bigram.keys():\n",
    "        \"\"\"\n",
    "        - random하게 적합한 w를 확률에 따라서 생성한다. \n",
    "        - np.random.choice(words, probs)와 방식이 같은데, np.random.choice의 경우 크기가 32가 넘어가면 안됨\n",
    "        \"\"\"\n",
    "        words, probs = list(bigram[context].keys()), list(bigram[context].values())\n",
    "        idx = np.argmax( np.random.multinomial(n=1, pvals=probs) )\n",
    "        w = words[idx]\n",
    "        if w == \"SE\": # 선정한 word가 문장의 끝이라는 말이므로, 종결함 \n",
    "            break\n",
    "        else:\n",
    "            # 결과로 나온 문장을 보면 특수문자도 많고, 문제가 많은데, 이러한 부분은 여기서 if를 사용해서 조절해주는 것이 필요함. \n",
    "            # 나는 귀찮아서 하지 않았습니다. 하하하하핫\n",
    "            sentence.append(' '+w)\n",
    "        context = w # context update \n",
    "    return \"\".join(sentence+['.']).strip().capitalize()\n",
    "\n",
    "### main function \n",
    "bigram = calculate_bigram(sentences) # bigram의 확률을 학습하여 정리\n",
    "print(\"--------------------\")\n",
    "for i in range(0, 5):\n",
    "    print(\"sentence {}:\".format(i).upper())\n",
    "    print(generate_sentence())\n",
    "    print(\"--------------------\")"
   ]
  }
 ],
 "metadata": {
  "kernelspec": {
   "display_name": "Python 3",
   "language": "python",
   "name": "python3"
  },
  "language_info": {
   "codemirror_mode": {
    "name": "ipython",
    "version": 3
   },
   "file_extension": ".py",
   "mimetype": "text/x-python",
   "name": "python",
   "nbconvert_exporter": "python",
   "pygments_lexer": "ipython3",
   "version": "3.6.2"
  }
 },
 "nbformat": 4,
 "nbformat_minor": 2
}
