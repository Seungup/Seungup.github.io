{
 "cells": [
  {
   "cell_type": "code",
   "execution_count": 205,
   "metadata": {},
   "outputs": [],
   "source": [
    "import hashlib\n",
    "import datetime as dt \n",
    "\n",
    "class Block(object):\n",
    "    def __init__(self, index, timestamp, data, previous_hash):\n",
    "        self.index = index\n",
    "        self.timestamp = timestamp\n",
    "        self.data = data ## can be anything, this is important\n",
    "        self.previous_hash = previous_hash\n",
    "        self.hash = self.hash_block()## 값을 넣고, init하면 자동으로 해쉬값이 만들어짐. \n",
    "    def hash_block(self):\n",
    "        ## 아래 hash 함수를 보면 이전 block의 hash를 가져와서 다시 hash함수를 만듬 \n",
    "        ## 즉, 새롭게 hash 값을 만들 때 이전 블록의 hash값을 참고해서 만들기 때문에 이를 활용해서 무결성이 확보될 수 있음\n",
    "        sha = hashlib.sha256()\n",
    "        new_str_bin = str(self.index) + str(self.timestamp) + str(self.data) + str(self.previous_hash)\n",
    "        sha.update(new_str_bin.encode())\n",
    "        return sha.hexdigest()\n",
    "\n",
    "def create_genesis_block():## 창세기 블록 만들기. \n",
    "    return Block(0, dt.datetime.now(), data='genesis block', previous_hash=\"0\")\n",
    "\n",
    "def next_block(last_block):\n",
    "    ## 지난번에 생성된 last_block에 이어붙일 새로운 블록을 만들어서 리턴한다.\n",
    "    return Block(index = last_block.index+1, \n",
    "                 timestamp = dt.datetime.now(), \n",
    "                 data = f\"Hey, I am block {last_block.index+1}\",\n",
    "                 previous_hash = last_block.hash)\n",
    "\n",
    "## 블록체인이기는 한데, linear 한 linked structure라고 생각해도 됨. \n",
    "## 따라서 각 주소값을 리스트에 넣어서 관리해도 편함. \n",
    "blockchain = [create_genesis_block()]\n",
    "previous_block = blockchain[-1]\n",
    "\n",
    "num_of_block_to_add = 10\n",
    "for i in range(0, num_of_block_to_add):\n",
    "    ## 이전 블록에 이어서(이전 hash 값을 이용해서 새로운 hash값을 생성) 새로운 블록을 생성 \n",
    "    block_to_add = next_block(previous_block) \n",
    "    blockchain.append(block_to_add)\n",
    "    previous_block = blockchain[-1]\n",
    "    print(f\"Block {previous_block.index:2d} has been added to blockchain\")\n",
    "    print(f\"hash value: {previous_block.hash}\")"
   ]
  },
  {
   "cell_type": "code",
   "execution_count": null,
   "metadata": {},
   "outputs": [],
   "source": []
  },
  {
   "cell_type": "code",
   "execution_count": 391,
   "metadata": {},
   "outputs": [
    {
     "name": "stdout",
     "output_type": "stream",
     "text": [
      "There are 0 class instance\n",
      "fibonacci number of 30: 832040\n",
      " 1 class generated\n",
      " 2 class generated\n",
      " 3 class generated\n"
     ]
    },
    {
     "ename": "TypeError",
     "evalue": "print_class_count_static() missing 1 required positional argument: 'cls'",
     "output_type": "error",
     "traceback": [
      "\u001b[0;31m---------------------------------------------------------------------------\u001b[0m",
      "\u001b[0;31mTypeError\u001b[0m                                 Traceback (most recent call last)",
      "\u001b[0;32m<ipython-input-391-24c6c8b0efdf>\u001b[0m in \u001b[0;36m<module>\u001b[0;34m()\u001b[0m\n\u001b[1;32m     27\u001b[0m \u001b[0;32mfor\u001b[0m \u001b[0mi\u001b[0m \u001b[0;32min\u001b[0m \u001b[0mrange\u001b[0m\u001b[0;34m(\u001b[0m\u001b[0;36m0\u001b[0m\u001b[0;34m,\u001b[0m \u001b[0;36m3\u001b[0m\u001b[0;34m)\u001b[0m\u001b[0;34m:\u001b[0m\u001b[0;34m\u001b[0m\u001b[0m\n\u001b[1;32m     28\u001b[0m     \u001b[0mAAA\u001b[0m\u001b[0;34m(\u001b[0m\u001b[0;34mf\"n{i}\"\u001b[0m\u001b[0;34m)\u001b[0m\u001b[0;34m\u001b[0m\u001b[0m\n\u001b[0;32m---> 29\u001b[0;31m \u001b[0mAAA\u001b[0m\u001b[0;34m.\u001b[0m\u001b[0mprint_class_count_static\u001b[0m\u001b[0;34m(\u001b[0m\u001b[0;34m)\u001b[0m\u001b[0;34m\u001b[0m\u001b[0m\n\u001b[0m",
      "\u001b[0;31mTypeError\u001b[0m: print_class_count_static() missing 1 required positional argument: 'cls'"
     ]
    }
   ],
   "source": [
    "class AAA(object):\n",
    "    cls_count = 0 ## class variable \n",
    "    def __init__(self, name):\n",
    "        AAA.cls_count+=1\n",
    "        self.name = name\n",
    "        print(f\"{AAA.cls_count:2d} class generated\")\n",
    "    @classmethod## classmethod\n",
    "    def print_class_count(cls):\n",
    "        print(f\"There are {cls.cls_count} class instance\")\n",
    "    @staticmethod\n",
    "    @functools.lru_cache(25)## 이렇게 여러개 decorator를 동시에 사용할 수도 있음. \n",
    "    def print_fibonacci(n):\n",
    "        def fibonacci(n):\n",
    "            if n==1 or n==2:\n",
    "                return 1\n",
    "            else:\n",
    "                return fibonacci(n-2) + fibonacci(n-1)\n",
    "        print(f\"fibonacci number of {n}: {fibonacci(n)}\")\n",
    "    @staticmethod\n",
    "    def print_class_count_static(cls):\n",
    "        ## staticmethod이므로 class parameter에 접근할 수 없음, 따라서 실행하면 에러 \n",
    "        print(AAA.cls_count)\n",
    "\n",
    "## class instance가 있기 전에도 static/class method는 사용되어질 수 있음. \n",
    "AAA.print_class_count()\n",
    "AAA.print_fibonacci(30)## 진짜 뜬금없는 \n",
    "for i in range(0, 3):\n",
    "    AAA(f\"n{i}\")\n",
    "AAA.print_class_count_static()"
   ]
  },
  {
   "cell_type": "code",
   "execution_count": 390,
   "metadata": {},
   "outputs": [
    {
     "name": "stdout",
     "output_type": "stream",
     "text": [
      "There are 0 class instance\n",
      "fibonacci number of 30: 832040\n",
      " 1 class generated\n",
      " 2 class generated\n",
      " 3 class generated\n"
     ]
    },
    {
     "ename": "TypeError",
     "evalue": "print_class_count_static() missing 1 required positional argument: 'cls'",
     "output_type": "error",
     "traceback": [
      "\u001b[0;31m---------------------------------------------------------------------------\u001b[0m",
      "\u001b[0;31mTypeError\u001b[0m                                 Traceback (most recent call last)",
      "\u001b[0;32m<ipython-input-390-9b105d74bd91>\u001b[0m in \u001b[0;36m<module>\u001b[0;34m()\u001b[0m\n\u001b[1;32m      4\u001b[0m \u001b[0;32mfor\u001b[0m \u001b[0mi\u001b[0m \u001b[0;32min\u001b[0m \u001b[0mrange\u001b[0m\u001b[0;34m(\u001b[0m\u001b[0;36m0\u001b[0m\u001b[0;34m,\u001b[0m \u001b[0;36m3\u001b[0m\u001b[0;34m)\u001b[0m\u001b[0;34m:\u001b[0m\u001b[0;34m\u001b[0m\u001b[0m\n\u001b[1;32m      5\u001b[0m     \u001b[0mAAA\u001b[0m\u001b[0;34m(\u001b[0m\u001b[0;34mf\"n{i}\"\u001b[0m\u001b[0;34m)\u001b[0m\u001b[0;34m\u001b[0m\u001b[0m\n\u001b[0;32m----> 6\u001b[0;31m \u001b[0mAAA\u001b[0m\u001b[0;34m.\u001b[0m\u001b[0mprint_class_count_static\u001b[0m\u001b[0;34m(\u001b[0m\u001b[0;34m)\u001b[0m\u001b[0;34m\u001b[0m\u001b[0m\n\u001b[0m",
      "\u001b[0;31mTypeError\u001b[0m: print_class_count_static() missing 1 required positional argument: 'cls'"
     ]
    }
   ],
   "source": []
  },
  {
   "cell_type": "code",
   "execution_count": 399,
   "metadata": {},
   "outputs": [],
   "source": [
    "class AAA(object):\n",
    "    def __init__(self, x, y):\n",
    "        self.x = x\n",
    "        self.y = y"
   ]
  },
  {
   "cell_type": "code",
   "execution_count": 403,
   "metadata": {},
   "outputs": [
    {
     "name": "stdout",
     "output_type": "stream",
     "text": [
      "1 2\n"
     ]
    }
   ],
   "source": [
    "a1 = AAA(1, 2)\n",
    "print(a1.x, a1.y)"
   ]
  },
  {
   "cell_type": "code",
   "execution_count": 417,
   "metadata": {},
   "outputs": [
    {
     "name": "stdout",
     "output_type": "stream",
     "text": [
      "1 2\n",
      "10 11\n"
     ]
    }
   ],
   "source": [
    "class AAA(object):\n",
    "    def __init__(self, x, y):\n",
    "        self.__x = x\n",
    "        self.__y = y\n",
    "    def get_x(self):\n",
    "        return self.__x\n",
    "    def get_y(self):\n",
    "        return self.__y\n",
    "    def set_x(self, x):\n",
    "        self.__x = x\n",
    "    def set_y(self, y):\n",
    "        self.__y = y\n",
    "a1 = AAA(1, 2)\n",
    "print(a1.get_x(), a1.get_y())\n",
    "a1.set_x(10), a1.set_y(11)\n",
    "print(a1.get_x(), a1.get_y())"
   ]
  },
  {
   "cell_type": "code",
   "execution_count": 429,
   "metadata": {},
   "outputs": [
    {
     "name": "stdout",
     "output_type": "stream",
     "text": [
      "frhyme\n",
      "33\n",
      "frhyme obtained 33 marks\n",
      "====================\n",
      "freerhein\n",
      "33\n",
      "frhyme obtained 33 marks\n"
     ]
    }
   ],
   "source": [
    "## 경우에 따라서, __init__를 이용할 때 몇가지 argument를 넘기고, 다시 새로운 argument를 만들어주는 경우들이 있습니다. \n",
    "## 아래에서는 name, marks를 argument로 받고, 그걸 이용해서 gotmarks라는 새로운 변수를 만들어주죠. \n",
    "\n",
    "class Student:\n",
    "    def __init__(self, name, marks):\n",
    "        self.name = name\n",
    "        self.marks = marks\n",
    "        self.gotmarks = self.name + ' obtained ' + self.marks + ' marks'\n",
    "\n",
    "\n",
    "st = Student(\"frhyme\", \"33\")\n",
    "\n",
    "print(st.name)\n",
    "print(st.marks)\n",
    "print(st.gotmarks)\n",
    "print(\"=\"*20)\n",
    "## gotmarks는 name, marks에 의해 생성된 attribute인데 ㅏ나만 바뀐다고 다른 property도 바뀌지는 않음. \n",
    "st.name = \"freerhein\" \n",
    "print(st.name)\n",
    "print(st.marks)\n",
    "print(st.gotmarks)\n"
   ]
  },
  {
   "cell_type": "code",
   "execution_count": 433,
   "metadata": {},
   "outputs": [
    {
     "name": "stdout",
     "output_type": "stream",
     "text": [
      "frhyme\n",
      "33\n",
      "frhyme obtained 33 marks\n",
      "====================\n",
      "freerhein\n",
      "33\n",
      "freerhein obtained 33 marks\n"
     ]
    }
   ],
   "source": [
    "## 아래처럼 값을 저장하지 않고, 함수로 만들어서 필요할 때 직접 생성하는 형태로 수행할 수도 있습니다. \n",
    "## 그런데, 이 경우에는 attribute가 있는게 아니라 함수잖아요, 좀 별로네요. \n",
    "class Student:\n",
    "    def __init__(self, name, marks):\n",
    "        self.name = name\n",
    "        self.marks = marks\n",
    "        # self.gotmarks = self.name + ' obtained ' + self.marks + ' marks'\n",
    "\n",
    "    def gotmarks(self):\n",
    "        return self.name + ' obtained ' + self.marks + ' marks'\n",
    "\n",
    "st = Student(\"frhyme\", \"33\")\n",
    "\n",
    "print(st.name)\n",
    "print(st.marks)\n",
    "print(st.gotmarks())\n",
    "print(\"=\"*20)\n",
    "st.name = \"freerhein\" \n",
    "print(st.name)\n",
    "print(st.marks)\n",
    "print(st.gotmarks())"
   ]
  },
  {
   "cell_type": "code",
   "execution_count": 437,
   "metadata": {},
   "outputs": [
    {
     "name": "stdout",
     "output_type": "stream",
     "text": [
      "frhyme\n",
      "33\n",
      "frhyme obtained 33 marks\n",
      "##################\n",
      "freerhein\n",
      "33\n",
      "freerhein obtained 33 marks\n",
      "##################\n"
     ]
    },
    {
     "ename": "AttributeError",
     "evalue": "can't set attribute",
     "output_type": "error",
     "traceback": [
      "\u001b[0;31m---------------------------------------------------------------------------\u001b[0m",
      "\u001b[0;31mAttributeError\u001b[0m                            Traceback (most recent call last)",
      "\u001b[0;32m<ipython-input-437-3f566499f91e>\u001b[0m in \u001b[0;36m<module>\u001b[0;34m()\u001b[0m\n\u001b[1;32m     21\u001b[0m \u001b[0mprint\u001b[0m\u001b[0;34m(\u001b[0m\u001b[0;34m\"##################\"\u001b[0m\u001b[0;34m)\u001b[0m\u001b[0;34m\u001b[0m\u001b[0m\n\u001b[1;32m     22\u001b[0m \u001b[0;34m\u001b[0m\u001b[0m\n\u001b[0;32m---> 23\u001b[0;31m \u001b[0mst\u001b[0m\u001b[0;34m.\u001b[0m\u001b[0mgotmarks\u001b[0m \u001b[0;34m=\u001b[0m \u001b[0;34m'Golam obtained 36'\u001b[0m\u001b[0;34m\u001b[0m\u001b[0m\n\u001b[0m",
      "\u001b[0;31mAttributeError\u001b[0m: can't set attribute"
     ]
    }
   ],
   "source": [
    "class Student:\n",
    "    def __init__(self, name, marks):\n",
    "        self.name = name\n",
    "        self.marks = marks\n",
    "        # self.gotmarks = self.name + ' obtained ' + self.marks + ' marks'\n",
    "\n",
    "    @property #똑같이 메소드를 정의해주고, 여기 앞에 @property를 붙여주면 됨미다. \n",
    "    def gotmarks(self):#\n",
    "        return self.name + ' obtained ' + self.marks + ' marks'\n",
    "\n",
    "\n",
    "st = Student(\"frhyme\", \"33\")\n",
    "print(st.name)\n",
    "print(st.marks)\n",
    "print(st.gotmarks)## 함수인데, 마치 attribute인 것처럼 접근할 수 있음. \n",
    "print(\"##################\")\n",
    "st.name = \"freerhein\" ##바뀌어도 알아서 잘 바뀜. \n",
    "print(st.name)\n",
    "print(st.marks)\n",
    "print(st.gotmarks)\n",
    "print(\"##################\")\n",
    "\n",
    "## 그러나, assignment에 대해서는 따로 정의되어 있지 않으므로 에러가 발생함. \n",
    "st.gotmarks = 'Golam obtained 36'\n"
   ]
  },
  {
   "cell_type": "code",
   "execution_count": 439,
   "metadata": {},
   "outputs": [
    {
     "name": "stdout",
     "output_type": "stream",
     "text": [
      "frhyme\n",
      "25\n",
      "frhyme obtained 25 marks\n",
      "##################\n",
      "freerhein\n",
      "freerhein obtained 25 marks\n",
      "##################\n",
      "frhyme obtained 1000 marks\n",
      "frhyme\n",
      "1000\n"
     ]
    }
   ],
   "source": [
    "class Student:\n",
    "    def __init__(self, name, marks):\n",
    "        self.name = name\n",
    "        self.marks = marks\n",
    "        # self.gotmarks = self.name + ' obtained ' + self.marks + ' marks'\n",
    "\n",
    "    @property ##이건 기본적으로 getter\n",
    "    def gotmarks(self):\n",
    "        return self.name + ' obtained ' + self.marks + ' marks'\n",
    "    ## 이건 setter, assignment로 값을 변경하고 싶을 때. \n",
    "    @gotmarks.setter\n",
    "    def gotmarks(self, sentence):\n",
    "        name, rand, marks = sentence.split(' ')\n",
    "        self.name = name\n",
    "        self.marks = marks\n",
    "\n",
    "\n",
    "st = Student(\"frhyme\", \"25\")\n",
    "print(st.name)\n",
    "print(st.marks)\n",
    "print(st.gotmarks)## 함수인데, 마치 attribute인 것처럼 접근할 수 있음. \n",
    "print(\"##################\")\n",
    "st.name = \"freerhein\" ##바뀌어도 알아서 잘 바뀜. \n",
    "print(st.name)\n",
    "print(st.gotmarks)\n",
    "print(\"##################\")\n",
    "st.gotmarks = 'frhyme obtained 1000'\n",
    "print(st.gotmarks)\n",
    "print(st.name)\n",
    "print(st.marks)"
   ]
  },
  {
   "cell_type": "code",
   "execution_count": null,
   "metadata": {},
   "outputs": [],
   "source": [
    "## and with information hiding?? "
   ]
  }
 ],
 "metadata": {
  "kernelspec": {
   "display_name": "Python 3",
   "language": "python",
   "name": "python3"
  },
  "language_info": {
   "codemirror_mode": {
    "name": "ipython",
    "version": 3
   },
   "file_extension": ".py",
   "mimetype": "text/x-python",
   "name": "python",
   "nbconvert_exporter": "python",
   "pygments_lexer": "ipython3",
   "version": "3.6.5"
  }
 },
 "nbformat": 4,
 "nbformat_minor": 2
}
