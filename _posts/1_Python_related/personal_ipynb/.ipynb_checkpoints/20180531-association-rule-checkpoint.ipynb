{
 "cells": [
  {
   "cell_type": "code",
   "execution_count": 4,
   "metadata": {},
   "outputs": [
    {
     "data": {
      "text/plain": [
       "(1361, 255)"
      ]
     },
     "execution_count": 4,
     "metadata": {},
     "output_type": "execute_result"
    }
   ],
   "source": [
    "import pandas as pd\n",
    "\n",
    "df = pd.read_csv(\"http://csci.viu.ca/~barskym/teaching/DM2012/labs/LAB7/marketbasket.csv\")\n",
    "df.shape"
   ]
  },
  {
   "cell_type": "code",
   "execution_count": 132,
   "metadata": {},
   "outputs": [
    {
     "name": "stdout",
     "output_type": "stream",
     "text": [
      "over support list\n",
      "[[' 98pct. Fat Free Hamburger'], [' Onions'], [' Potato Chips'], [' Hot Dogs'], [' 2pct. Milk'], [' Eggs'], [' White Bread'], [' Cola'], [' Toothpaste'], [' Hamburger Buns'], [' Wheat Bread'], [' Sweet Relish'], [' Toilet Paper']]\n",
      "-----------------\n",
      "over confidence list\n",
      "[' Hamburger Buns'] => [' 98pct. Fat Free Hamburger']: 0.6804123711340206\n",
      "[' Toothpaste'] => [' White Bread']: 0.6018518518518519\n",
      "[' Toothpaste'] => [' Eggs']: 0.5648148148148148\n",
      "[' Wheat Bread'] => [' White Bread']: 0.5619047619047619\n",
      "[' Wheat Bread'] => [' 2pct. Milk']: 0.5523809523809524\n",
      "[' Sweet Relish'] => [' Hot Dogs']: 0.5517241379310344\n",
      "[' Toothpaste'] => [' 2pct. Milk']: 0.5462962962962963\n",
      "[' Onions'] => [' White Bread']: 0.5321100917431193\n",
      "-----------------\n",
      "over lift list\n",
      "[' Hamburger Buns'] => [' 98pct. Fat Free Hamburger']: 7.291663284357497\n",
      "[' 98pct. Fat Free Hamburger'] => [' Hamburger Buns']: 7.291663284357496\n",
      "[' Hot Dogs'] => [' Sweet Relish']: 5.9594964422550625\n",
      "[' Sweet Relish'] => [' Hot Dogs']: 5.959496442255062\n",
      "[' Toothpaste'] => [' Wheat Bread']: 5.640828924162257\n",
      "[' Wheat Bread'] => [' Toothpaste']: 5.640828924162257\n",
      "-----------------\n"
     ]
    }
   ],
   "source": [
    "\"\"\"\n",
    "- 일단, 일정 support를 넘는 모든 set을 찾고, 1개 짜리를 찾은 다음 컴비네이션으로 확장해가면서 찾음. 더 업을 경우 스톱. \n",
    "- 일정 support 를 넘는 모든 set combination에 대해서만 confidence, lift를 계산한다. \n",
    "\"\"\"\n",
    "import itertools \n",
    "\n",
    "def support(df, item_lst):\n",
    "    return (df[list(item_lst)].sum(axis=1)==len(item_lst)).mean()\n",
    "\n",
    "def make_all_set_over_support(df, support_threshold):\n",
    "    items = []\n",
    "    single_items = [col for col in df.columns if support(df, [col]) > support_threshold] # size 1 items\n",
    "    \n",
    "    size = 2\n",
    "    while True:\n",
    "        new_items = []\n",
    "        for item_cand in itertools.combinations(single_items, size):\n",
    "            #print(item_cand, (df[list(item_cand)].sum(axis=1)==size).mean())\n",
    "            if support(df, list(item_cand)) > support_threshold:\n",
    "                new_items.append(list(item_cand))\n",
    "        if len(new_items)==0:\n",
    "            break\n",
    "        else:\n",
    "            items+=new_items\n",
    "            size+=1\n",
    "    items += [ [s] for s in single_items]# 이렇게 해줘야 모든 type이 list가 됨\n",
    "    return items\n",
    "\n",
    "def make_confidence_lst(df, item_set_over_support, confidence_threshold):\n",
    "    r_lst = []\n",
    "    for item1 in item_set_over_support:\n",
    "        for item2 in item_set_over_support:\n",
    "            if len(set(item1).intersection(set(item2)))==0:\n",
    "                conf = support(df, list(set(item1).union(set(item2))))/ support(df, item1)\n",
    "                if conf > confidence_threshold:\n",
    "                    r_lst.append((item1, item2, conf))\n",
    "            else:\n",
    "                continue\n",
    "    return sorted(r_lst, key=lambda x: x[2], reverse=True)\n",
    "\n",
    "def make_lift_lst(df, item_set_over_support, lift_threhsold):\n",
    "    r_lst = []\n",
    "    for item1 in item_set_over_support:\n",
    "        for item2 in item_set_over_support:\n",
    "            if len(set(item1).intersection(set(item2)))==0:\n",
    "                lift = support(df, list(set(item1).union(set(item2))))\n",
    "                lift /= support(df, item1)\n",
    "                lift /= support(df, item2)\n",
    "                if lift > lift_threhsold:\n",
    "                    r_lst.append((item1, item2, lift))\n",
    "            else:\n",
    "                continue\n",
    "    return sorted(r_lst, key=lambda x: x[2], reverse=True)\n",
    "\n",
    "over_support_lst = make_all_set_over_support(df, 0.07)# 0.05로 하면 두 개짜리도 나옴. 로 하면 3개 짜리도 나옴\n",
    "print(\"over support list\")\n",
    "print(over_support_lst)\n",
    "print(\"-----------------\")\n",
    "print(\"over confidence list\")\n",
    "for a, b, conf in  make_confidence_lst(df, over_support_lst, 0.53):\n",
    "    print(\"{} => {}: {}\".format(a, b, conf))\n",
    "print(\"-----------------\")\n",
    "print(\"over lift list\")\n",
    "for a, b, lift in  make_lift_lst(df, over_support_lst, 5.6):\n",
    "    print(\"{} => {}: {}\".format(a, b, lift))\n",
    "print(\"-----------------\")"
   ]
  },
  {
   "cell_type": "code",
   "execution_count": 71,
   "metadata": {},
   "outputs": [
    {
     "name": "stdout",
     "output_type": "stream",
     "text": [
      "<class 'tuple'>\n"
     ]
    },
    {
     "data": {
      "text/plain": [
       "0.030124908155767818"
      ]
     },
     "execution_count": 71,
     "metadata": {},
     "output_type": "execute_result"
    }
   ],
   "source": [
    "\n"
   ]
  },
  {
   "cell_type": "code",
   "execution_count": 91,
   "metadata": {},
   "outputs": [
    {
     "data": {
      "text/plain": [
       "['dd']"
      ]
     },
     "execution_count": 91,
     "metadata": {},
     "output_type": "execute_result"
    }
   ],
   "source": [
    "[\"dd\"]"
   ]
  },
  {
   "cell_type": "code",
   "execution_count": 102,
   "metadata": {},
   "outputs": [
    {
     "data": {
      "text/plain": [
       "[['a', 'b'], ['a', 'c'], ['b', 'c'], ['a', 'b', 'c'], ['a'], ['b'], ['c']]"
      ]
     },
     "execution_count": 102,
     "metadata": {},
     "output_type": "execute_result"
    }
   ],
   "source": [
    "temp_df = pd.DataFrame(\n",
    "    {'a':[0,1,1], 'b':[1,1,0], 'c':[1,1,1]}\n",
    ")\n",
    "make_all_set_over_support(temp_df, 0.03)"
   ]
  },
  {
   "cell_type": "code",
   "execution_count": null,
   "metadata": {
    "collapsed": true
   },
   "outputs": [],
   "source": []
  }
 ],
 "metadata": {
  "kernelspec": {
   "display_name": "Python 3",
   "language": "python",
   "name": "python3"
  },
  "language_info": {
   "codemirror_mode": {
    "name": "ipython",
    "version": 3
   },
   "file_extension": ".py",
   "mimetype": "text/x-python",
   "name": "python",
   "nbconvert_exporter": "python",
   "pygments_lexer": "ipython3",
   "version": "3.6.2"
  }
 },
 "nbformat": 4,
 "nbformat_minor": 2
}
