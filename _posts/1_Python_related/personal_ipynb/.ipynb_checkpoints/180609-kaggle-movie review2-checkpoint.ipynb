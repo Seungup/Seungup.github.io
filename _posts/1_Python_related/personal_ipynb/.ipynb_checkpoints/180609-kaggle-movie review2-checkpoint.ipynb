{
 "cells": [
  {
   "cell_type": "code",
   "execution_count": 1,
   "metadata": {
    "collapsed": true
   },
   "outputs": [],
   "source": [
    "import warnings\n",
    "warnings.filterwarnings('ignore')\n",
    "\n",
    "import pandas as pd\n",
    "import numpy as np \n",
    "import matplotlib.pyplot as plt\n",
    "import re \n",
    "from bs4 import BeautifulSoup \n",
    "import nltk\n",
    "import itertools\n",
    "\n",
    "train_url = '/Users/frhyme/Downloads/labeledTrainData.tsv'\n",
    "train_df = pd.read_csv(train_url, delimiter='\\t', header=0, quoting=3)\n",
    "\n",
    "unlabeled_train_url = '/Users/frhyme/Downloads/unlabeledTrainData.tsv'\n",
    "unlabeled_train_df = pd.read_csv(unlabeled_train_url, delimiter='\\t', header=0, quoting=3)\n",
    "\n",
    "test_url = '/Users/frhyme/Downloads/testData.tsv'\n",
    "test_df = pd.read_csv(test_url, delimiter='\\t', header=0, quoting=3)\n",
    "print(\"----reading tsv over----\")"
   ]
  },
  {
   "cell_type": "code",
   "execution_count": 12,
   "metadata": {},
   "outputs": [
    {
     "name": "stdout",
     "output_type": "stream",
     "text": [
      "----cleaning sentence over----\n"
     ]
    },
    {
     "ename": "KeyboardInterrupt",
     "evalue": "",
     "output_type": "error",
     "traceback": [
      "\u001b[0;31m---------------------------------------------------------------------------\u001b[0m",
      "\u001b[0;31mKeyboardInterrupt\u001b[0m                         Traceback (most recent call last)",
      "\u001b[0;32m<ipython-input-12-6909721c16d5>\u001b[0m in \u001b[0;36m<module>\u001b[0;34m()\u001b[0m\n\u001b[1;32m     25\u001b[0m \u001b[0mprint\u001b[0m\u001b[0;34m(\u001b[0m\u001b[0;34m\"----cleaning sentence over----\"\u001b[0m\u001b[0;34m)\u001b[0m\u001b[0;34m\u001b[0m\u001b[0m\n\u001b[1;32m     26\u001b[0m \u001b[0;32mfor\u001b[0m \u001b[0mdf\u001b[0m \u001b[0;32min\u001b[0m \u001b[0;34m[\u001b[0m\u001b[0mtrain_df\u001b[0m\u001b[0;34m,\u001b[0m \u001b[0mtest_df\u001b[0m\u001b[0;34m,\u001b[0m \u001b[0munlabeled_train_df\u001b[0m\u001b[0;34m]\u001b[0m\u001b[0;34m:\u001b[0m\u001b[0;34m\u001b[0m\u001b[0m\n\u001b[0;32m---> 27\u001b[0;31m     \u001b[0mdf\u001b[0m\u001b[0;34m[\u001b[0m\u001b[0;34m'sentences'\u001b[0m\u001b[0;34m]\u001b[0m \u001b[0;34m=\u001b[0m \u001b[0mdf\u001b[0m\u001b[0;34m[\u001b[0m\u001b[0;34m'review'\u001b[0m\u001b[0;34m]\u001b[0m\u001b[0;34m.\u001b[0m\u001b[0mapply\u001b[0m\u001b[0;34m(\u001b[0m\u001b[0mreview_to_sentences\u001b[0m\u001b[0;34m)\u001b[0m\u001b[0;34m\u001b[0m\u001b[0m\n\u001b[0m\u001b[1;32m     28\u001b[0m \u001b[0mprint\u001b[0m\u001b[0;34m(\u001b[0m\u001b[0;34m\"----make sentence over----\"\u001b[0m\u001b[0;34m)\u001b[0m\u001b[0;34m\u001b[0m\u001b[0m\n",
      "\u001b[0;32m~/anaconda3/lib/python3.6/site-packages/pandas/core/series.py\u001b[0m in \u001b[0;36mapply\u001b[0;34m(self, func, convert_dtype, args, **kwds)\u001b[0m\n\u001b[1;32m   2353\u001b[0m             \u001b[0;32melse\u001b[0m\u001b[0;34m:\u001b[0m\u001b[0;34m\u001b[0m\u001b[0m\n\u001b[1;32m   2354\u001b[0m                 \u001b[0mvalues\u001b[0m \u001b[0;34m=\u001b[0m \u001b[0mself\u001b[0m\u001b[0;34m.\u001b[0m\u001b[0masobject\u001b[0m\u001b[0;34m\u001b[0m\u001b[0m\n\u001b[0;32m-> 2355\u001b[0;31m                 \u001b[0mmapped\u001b[0m \u001b[0;34m=\u001b[0m \u001b[0mlib\u001b[0m\u001b[0;34m.\u001b[0m\u001b[0mmap_infer\u001b[0m\u001b[0;34m(\u001b[0m\u001b[0mvalues\u001b[0m\u001b[0;34m,\u001b[0m \u001b[0mf\u001b[0m\u001b[0;34m,\u001b[0m \u001b[0mconvert\u001b[0m\u001b[0;34m=\u001b[0m\u001b[0mconvert_dtype\u001b[0m\u001b[0;34m)\u001b[0m\u001b[0;34m\u001b[0m\u001b[0m\n\u001b[0m\u001b[1;32m   2356\u001b[0m \u001b[0;34m\u001b[0m\u001b[0m\n\u001b[1;32m   2357\u001b[0m         \u001b[0;32mif\u001b[0m \u001b[0mlen\u001b[0m\u001b[0;34m(\u001b[0m\u001b[0mmapped\u001b[0m\u001b[0;34m)\u001b[0m \u001b[0;32mand\u001b[0m \u001b[0misinstance\u001b[0m\u001b[0;34m(\u001b[0m\u001b[0mmapped\u001b[0m\u001b[0;34m[\u001b[0m\u001b[0;36m0\u001b[0m\u001b[0;34m]\u001b[0m\u001b[0;34m,\u001b[0m \u001b[0mSeries\u001b[0m\u001b[0;34m)\u001b[0m\u001b[0;34m:\u001b[0m\u001b[0;34m\u001b[0m\u001b[0m\n",
      "\u001b[0;32mpandas/_libs/src/inference.pyx\u001b[0m in \u001b[0;36mpandas._libs.lib.map_infer\u001b[0;34m()\u001b[0m\n",
      "\u001b[0;32m<ipython-input-12-6909721c16d5>\u001b[0m in \u001b[0;36mreview_to_sentences\u001b[0;34m(review, tokenizer, remove_stopwords)\u001b[0m\n\u001b[1;32m     18\u001b[0m         \u001b[0;32mif\u001b[0m \u001b[0mlen\u001b[0m\u001b[0;34m(\u001b[0m\u001b[0mraw_sentence\u001b[0m\u001b[0;34m)\u001b[0m \u001b[0;34m>\u001b[0m \u001b[0;36m0\u001b[0m\u001b[0;34m:\u001b[0m\u001b[0;34m\u001b[0m\u001b[0m\n\u001b[1;32m     19\u001b[0m             \u001b[0;31m# Otherwise, call review_to_wordlist to get a list of words\u001b[0m\u001b[0;34m\u001b[0m\u001b[0;34m\u001b[0m\u001b[0m\n\u001b[0;32m---> 20\u001b[0;31m             \u001b[0msentences\u001b[0m\u001b[0;34m.\u001b[0m\u001b[0mappend\u001b[0m\u001b[0;34m(\u001b[0m \u001b[0mreview_to_wordlist\u001b[0m\u001b[0;34m(\u001b[0m\u001b[0mraw_sentence\u001b[0m\u001b[0;34m)\u001b[0m \u001b[0;34m)\u001b[0m\u001b[0;34m\u001b[0m\u001b[0m\n\u001b[0m\u001b[1;32m     21\u001b[0m     \u001b[0;32mreturn\u001b[0m \u001b[0msentences\u001b[0m\u001b[0;34m\u001b[0m\u001b[0m\n\u001b[1;32m     22\u001b[0m \u001b[0;34m\u001b[0m\u001b[0m\n",
      "\u001b[0;32m<ipython-input-12-6909721c16d5>\u001b[0m in \u001b[0;36mreview_to_wordlist\u001b[0;34m(review, remove_stopwords)\u001b[0m\n\u001b[1;32m      2\u001b[0m \"\"\"\n\u001b[1;32m      3\u001b[0m \u001b[0;32mdef\u001b[0m \u001b[0mreview_to_wordlist\u001b[0m\u001b[0;34m(\u001b[0m \u001b[0mreview\u001b[0m\u001b[0;34m,\u001b[0m \u001b[0mremove_stopwords\u001b[0m\u001b[0;34m=\u001b[0m\u001b[0;32mFalse\u001b[0m\u001b[0;34m)\u001b[0m\u001b[0;34m:\u001b[0m\u001b[0;34m\u001b[0m\u001b[0m\n\u001b[0;32m----> 4\u001b[0;31m     \u001b[0mreview_text\u001b[0m \u001b[0;34m=\u001b[0m \u001b[0mBeautifulSoup\u001b[0m\u001b[0;34m(\u001b[0m\u001b[0mreview\u001b[0m\u001b[0;34m)\u001b[0m\u001b[0;34m.\u001b[0m\u001b[0mget_text\u001b[0m\u001b[0;34m(\u001b[0m\u001b[0;34m)\u001b[0m\u001b[0;34m\u001b[0m\u001b[0m\n\u001b[0m\u001b[1;32m      5\u001b[0m     \u001b[0mreview_text\u001b[0m \u001b[0;34m=\u001b[0m \u001b[0mre\u001b[0m\u001b[0;34m.\u001b[0m\u001b[0msub\u001b[0m\u001b[0;34m(\u001b[0m\u001b[0;34m\"[^a-zA-Z]\"\u001b[0m\u001b[0;34m,\u001b[0m\u001b[0;34m\" \"\u001b[0m\u001b[0;34m,\u001b[0m \u001b[0mreview_text\u001b[0m\u001b[0;34m)\u001b[0m\u001b[0;34m\u001b[0m\u001b[0m\n\u001b[1;32m      6\u001b[0m     \u001b[0mwords\u001b[0m \u001b[0;34m=\u001b[0m \u001b[0mreview_text\u001b[0m\u001b[0;34m.\u001b[0m\u001b[0mlower\u001b[0m\u001b[0;34m(\u001b[0m\u001b[0;34m)\u001b[0m\u001b[0;34m.\u001b[0m\u001b[0msplit\u001b[0m\u001b[0;34m(\u001b[0m\u001b[0;34m)\u001b[0m\u001b[0;34m\u001b[0m\u001b[0m\n",
      "\u001b[0;32m~/anaconda3/lib/python3.6/site-packages/bs4/__init__.py\u001b[0m in \u001b[0;36m__init__\u001b[0;34m(self, markup, features, builder, parse_only, from_encoding, exclude_encodings, **kwargs)\u001b[0m\n\u001b[1;32m    226\u001b[0m             \u001b[0mself\u001b[0m\u001b[0;34m.\u001b[0m\u001b[0mreset\u001b[0m\u001b[0;34m(\u001b[0m\u001b[0;34m)\u001b[0m\u001b[0;34m\u001b[0m\u001b[0m\n\u001b[1;32m    227\u001b[0m             \u001b[0;32mtry\u001b[0m\u001b[0;34m:\u001b[0m\u001b[0;34m\u001b[0m\u001b[0m\n\u001b[0;32m--> 228\u001b[0;31m                 \u001b[0mself\u001b[0m\u001b[0;34m.\u001b[0m\u001b[0m_feed\u001b[0m\u001b[0;34m(\u001b[0m\u001b[0;34m)\u001b[0m\u001b[0;34m\u001b[0m\u001b[0m\n\u001b[0m\u001b[1;32m    229\u001b[0m                 \u001b[0;32mbreak\u001b[0m\u001b[0;34m\u001b[0m\u001b[0m\n\u001b[1;32m    230\u001b[0m             \u001b[0;32mexcept\u001b[0m \u001b[0mParserRejectedMarkup\u001b[0m\u001b[0;34m:\u001b[0m\u001b[0;34m\u001b[0m\u001b[0m\n",
      "\u001b[0;32m~/anaconda3/lib/python3.6/site-packages/bs4/__init__.py\u001b[0m in \u001b[0;36m_feed\u001b[0;34m(self)\u001b[0m\n\u001b[1;32m    287\u001b[0m         \u001b[0mself\u001b[0m\u001b[0;34m.\u001b[0m\u001b[0mbuilder\u001b[0m\u001b[0;34m.\u001b[0m\u001b[0mreset\u001b[0m\u001b[0;34m(\u001b[0m\u001b[0;34m)\u001b[0m\u001b[0;34m\u001b[0m\u001b[0m\n\u001b[1;32m    288\u001b[0m \u001b[0;34m\u001b[0m\u001b[0m\n\u001b[0;32m--> 289\u001b[0;31m         \u001b[0mself\u001b[0m\u001b[0;34m.\u001b[0m\u001b[0mbuilder\u001b[0m\u001b[0;34m.\u001b[0m\u001b[0mfeed\u001b[0m\u001b[0;34m(\u001b[0m\u001b[0mself\u001b[0m\u001b[0;34m.\u001b[0m\u001b[0mmarkup\u001b[0m\u001b[0;34m)\u001b[0m\u001b[0;34m\u001b[0m\u001b[0m\n\u001b[0m\u001b[1;32m    290\u001b[0m         \u001b[0;31m# Close out any unfinished strings and close all the open tags.\u001b[0m\u001b[0;34m\u001b[0m\u001b[0;34m\u001b[0m\u001b[0m\n\u001b[1;32m    291\u001b[0m         \u001b[0mself\u001b[0m\u001b[0;34m.\u001b[0m\u001b[0mendData\u001b[0m\u001b[0;34m(\u001b[0m\u001b[0;34m)\u001b[0m\u001b[0;34m\u001b[0m\u001b[0m\n",
      "\u001b[0;32m~/anaconda3/lib/python3.6/site-packages/bs4/builder/_lxml.py\u001b[0m in \u001b[0;36mfeed\u001b[0;34m(self, markup)\u001b[0m\n\u001b[1;32m    249\u001b[0m             \u001b[0mself\u001b[0m\u001b[0;34m.\u001b[0m\u001b[0mparser\u001b[0m \u001b[0;34m=\u001b[0m \u001b[0mself\u001b[0m\u001b[0;34m.\u001b[0m\u001b[0mparser_for\u001b[0m\u001b[0;34m(\u001b[0m\u001b[0mencoding\u001b[0m\u001b[0;34m)\u001b[0m\u001b[0;34m\u001b[0m\u001b[0m\n\u001b[1;32m    250\u001b[0m             \u001b[0mself\u001b[0m\u001b[0;34m.\u001b[0m\u001b[0mparser\u001b[0m\u001b[0;34m.\u001b[0m\u001b[0mfeed\u001b[0m\u001b[0;34m(\u001b[0m\u001b[0mmarkup\u001b[0m\u001b[0;34m)\u001b[0m\u001b[0;34m\u001b[0m\u001b[0m\n\u001b[0;32m--> 251\u001b[0;31m             \u001b[0mself\u001b[0m\u001b[0;34m.\u001b[0m\u001b[0mparser\u001b[0m\u001b[0;34m.\u001b[0m\u001b[0mclose\u001b[0m\u001b[0;34m(\u001b[0m\u001b[0;34m)\u001b[0m\u001b[0;34m\u001b[0m\u001b[0m\n\u001b[0m\u001b[1;32m    252\u001b[0m         \u001b[0;32mexcept\u001b[0m \u001b[0;34m(\u001b[0m\u001b[0mUnicodeDecodeError\u001b[0m\u001b[0;34m,\u001b[0m \u001b[0mLookupError\u001b[0m\u001b[0;34m,\u001b[0m \u001b[0metree\u001b[0m\u001b[0;34m.\u001b[0m\u001b[0mParserError\u001b[0m\u001b[0;34m)\u001b[0m \u001b[0;32mas\u001b[0m \u001b[0me\u001b[0m\u001b[0;34m:\u001b[0m\u001b[0;34m\u001b[0m\u001b[0m\n\u001b[1;32m    253\u001b[0m             \u001b[0;32mraise\u001b[0m \u001b[0mParserRejectedMarkup\u001b[0m\u001b[0;34m(\u001b[0m\u001b[0mstr\u001b[0m\u001b[0;34m(\u001b[0m\u001b[0me\u001b[0m\u001b[0;34m)\u001b[0m\u001b[0;34m)\u001b[0m\u001b[0;34m\u001b[0m\u001b[0m\n",
      "\u001b[0;32msrc/lxml/parser.pxi\u001b[0m in \u001b[0;36mlxml.etree._FeedParser.close (src/lxml/lxml.etree.c:115068)\u001b[0;34m()\u001b[0m\n",
      "\u001b[0;32msrc/lxml/parser.pxi\u001b[0m in \u001b[0;36mlxml.etree._FeedParser.close (src/lxml/lxml.etree.c:114903)\u001b[0;34m()\u001b[0m\n",
      "\u001b[0;32msrc/lxml/parsertarget.pxi\u001b[0m in \u001b[0;36mlxml.etree._TargetParserContext._handleParseResult (src/lxml/lxml.etree.c:131282)\u001b[0;34m()\u001b[0m\n",
      "\u001b[0;32msrc/lxml/parsertarget.pxi\u001b[0m in \u001b[0;36mlxml.etree._TargetParserContext._handleParseResult (src/lxml/lxml.etree.c:131025)\u001b[0;34m()\u001b[0m\n",
      "\u001b[0;32msrc/lxml/lxml.etree.pyx\u001b[0m in \u001b[0;36mlxml.etree._ExceptionContext._raise_if_stored (src/lxml/lxml.etree.c:12167)\u001b[0;34m()\u001b[0m\n",
      "\u001b[0;32msrc/lxml/saxparser.pxi\u001b[0m in \u001b[0;36mlxml.etree._handleSaxTargetStartNoNs (src/lxml/lxml.etree.c:123503)\u001b[0;34m()\u001b[0m\n",
      "\u001b[0;32msrc/lxml/saxparser.pxi\u001b[0m in \u001b[0;36mlxml.etree._callTargetSaxStart (src/lxml/lxml.etree.c:123700)\u001b[0;34m()\u001b[0m\n",
      "\u001b[0;32msrc/lxml/parsertarget.pxi\u001b[0m in \u001b[0;36mlxml.etree._PythonSaxParserTarget._handleSaxStart (src/lxml/lxml.etree.c:130022)\u001b[0;34m()\u001b[0m\n",
      "\u001b[0;32m~/anaconda3/lib/python3.6/site-packages/bs4/builder/_lxml.py\u001b[0m in \u001b[0;36mstart\u001b[0;34m(self, name, attrs, nsmap)\u001b[0m\n\u001b[1;32m    181\u001b[0m         \u001b[0mnamespace\u001b[0m\u001b[0;34m,\u001b[0m \u001b[0mname\u001b[0m \u001b[0;34m=\u001b[0m \u001b[0mself\u001b[0m\u001b[0;34m.\u001b[0m\u001b[0m_getNsTag\u001b[0m\u001b[0;34m(\u001b[0m\u001b[0mname\u001b[0m\u001b[0;34m)\u001b[0m\u001b[0;34m\u001b[0m\u001b[0m\n\u001b[1;32m    182\u001b[0m         \u001b[0mnsprefix\u001b[0m \u001b[0;34m=\u001b[0m \u001b[0mself\u001b[0m\u001b[0;34m.\u001b[0m\u001b[0m_prefix_for_namespace\u001b[0m\u001b[0;34m(\u001b[0m\u001b[0mnamespace\u001b[0m\u001b[0;34m)\u001b[0m\u001b[0;34m\u001b[0m\u001b[0m\n\u001b[0;32m--> 183\u001b[0;31m         \u001b[0mself\u001b[0m\u001b[0;34m.\u001b[0m\u001b[0msoup\u001b[0m\u001b[0;34m.\u001b[0m\u001b[0mhandle_starttag\u001b[0m\u001b[0;34m(\u001b[0m\u001b[0mname\u001b[0m\u001b[0;34m,\u001b[0m \u001b[0mnamespace\u001b[0m\u001b[0;34m,\u001b[0m \u001b[0mnsprefix\u001b[0m\u001b[0;34m,\u001b[0m \u001b[0mattrs\u001b[0m\u001b[0;34m)\u001b[0m\u001b[0;34m\u001b[0m\u001b[0m\n\u001b[0m\u001b[1;32m    184\u001b[0m \u001b[0;34m\u001b[0m\u001b[0m\n\u001b[1;32m    185\u001b[0m     \u001b[0;32mdef\u001b[0m \u001b[0m_prefix_for_namespace\u001b[0m\u001b[0;34m(\u001b[0m\u001b[0mself\u001b[0m\u001b[0;34m,\u001b[0m \u001b[0mnamespace\u001b[0m\u001b[0;34m)\u001b[0m\u001b[0;34m:\u001b[0m\u001b[0;34m\u001b[0m\u001b[0m\n",
      "\u001b[0;32m~/anaconda3/lib/python3.6/site-packages/bs4/__init__.py\u001b[0m in \u001b[0;36mhandle_starttag\u001b[0;34m(self, name, namespace, nsprefix, attrs)\u001b[0m\n\u001b[1;32m    466\u001b[0m         \u001b[0;32mif\u001b[0m \u001b[0mtag\u001b[0m \u001b[0;32mis\u001b[0m \u001b[0;32mNone\u001b[0m\u001b[0;34m:\u001b[0m\u001b[0;34m\u001b[0m\u001b[0m\n\u001b[1;32m    467\u001b[0m             \u001b[0;32mreturn\u001b[0m \u001b[0mtag\u001b[0m\u001b[0;34m\u001b[0m\u001b[0m\n\u001b[0;32m--> 468\u001b[0;31m         \u001b[0;32mif\u001b[0m \u001b[0mself\u001b[0m\u001b[0;34m.\u001b[0m\u001b[0m_most_recent_element\u001b[0m\u001b[0;34m:\u001b[0m\u001b[0;34m\u001b[0m\u001b[0m\n\u001b[0m\u001b[1;32m    469\u001b[0m             \u001b[0mself\u001b[0m\u001b[0;34m.\u001b[0m\u001b[0m_most_recent_element\u001b[0m\u001b[0;34m.\u001b[0m\u001b[0mnext_element\u001b[0m \u001b[0;34m=\u001b[0m \u001b[0mtag\u001b[0m\u001b[0;34m\u001b[0m\u001b[0m\n\u001b[1;32m    470\u001b[0m         \u001b[0mself\u001b[0m\u001b[0;34m.\u001b[0m\u001b[0m_most_recent_element\u001b[0m \u001b[0;34m=\u001b[0m \u001b[0mtag\u001b[0m\u001b[0;34m\u001b[0m\u001b[0m\n",
      "\u001b[0;32m~/anaconda3/lib/python3.6/site-packages/bs4/element.py\u001b[0m in \u001b[0;36m__getattr__\u001b[0;34m(self, tag)\u001b[0m\n\u001b[1;32m   1052\u001b[0m         \u001b[0;31m# We special case contents to avoid recursion.\u001b[0m\u001b[0;34m\u001b[0m\u001b[0;34m\u001b[0m\u001b[0m\n\u001b[1;32m   1053\u001b[0m         \u001b[0;32melif\u001b[0m \u001b[0;32mnot\u001b[0m \u001b[0mtag\u001b[0m\u001b[0;34m.\u001b[0m\u001b[0mstartswith\u001b[0m\u001b[0;34m(\u001b[0m\u001b[0;34m\"__\"\u001b[0m\u001b[0;34m)\u001b[0m \u001b[0;32mand\u001b[0m \u001b[0;32mnot\u001b[0m \u001b[0mtag\u001b[0m \u001b[0;34m==\u001b[0m \u001b[0;34m\"contents\"\u001b[0m\u001b[0;34m:\u001b[0m\u001b[0;34m\u001b[0m\u001b[0m\n\u001b[0;32m-> 1054\u001b[0;31m             \u001b[0;32mreturn\u001b[0m \u001b[0mself\u001b[0m\u001b[0;34m.\u001b[0m\u001b[0mfind\u001b[0m\u001b[0;34m(\u001b[0m\u001b[0mtag\u001b[0m\u001b[0;34m)\u001b[0m\u001b[0;34m\u001b[0m\u001b[0m\n\u001b[0m\u001b[1;32m   1055\u001b[0m         raise AttributeError(\n\u001b[1;32m   1056\u001b[0m             \"'%s' object has no attribute '%s'\" % (self.__class__, tag))\n",
      "\u001b[0;32m~/anaconda3/lib/python3.6/site-packages/bs4/element.py\u001b[0m in \u001b[0;36mfind\u001b[0;34m(self, name, attrs, recursive, text, **kwargs)\u001b[0m\n\u001b[1;32m   1290\u001b[0m         criteria.\"\"\"\n\u001b[1;32m   1291\u001b[0m         \u001b[0mr\u001b[0m \u001b[0;34m=\u001b[0m \u001b[0;32mNone\u001b[0m\u001b[0;34m\u001b[0m\u001b[0m\n\u001b[0;32m-> 1292\u001b[0;31m         \u001b[0ml\u001b[0m \u001b[0;34m=\u001b[0m \u001b[0mself\u001b[0m\u001b[0;34m.\u001b[0m\u001b[0mfind_all\u001b[0m\u001b[0;34m(\u001b[0m\u001b[0mname\u001b[0m\u001b[0;34m,\u001b[0m \u001b[0mattrs\u001b[0m\u001b[0;34m,\u001b[0m \u001b[0mrecursive\u001b[0m\u001b[0;34m,\u001b[0m \u001b[0mtext\u001b[0m\u001b[0;34m,\u001b[0m \u001b[0;36m1\u001b[0m\u001b[0;34m,\u001b[0m \u001b[0;34m**\u001b[0m\u001b[0mkwargs\u001b[0m\u001b[0;34m)\u001b[0m\u001b[0;34m\u001b[0m\u001b[0m\n\u001b[0m\u001b[1;32m   1293\u001b[0m         \u001b[0;32mif\u001b[0m \u001b[0ml\u001b[0m\u001b[0;34m:\u001b[0m\u001b[0;34m\u001b[0m\u001b[0m\n\u001b[1;32m   1294\u001b[0m             \u001b[0mr\u001b[0m \u001b[0;34m=\u001b[0m \u001b[0ml\u001b[0m\u001b[0;34m[\u001b[0m\u001b[0;36m0\u001b[0m\u001b[0;34m]\u001b[0m\u001b[0;34m\u001b[0m\u001b[0m\n",
      "\u001b[0;32m~/anaconda3/lib/python3.6/site-packages/bs4/element.py\u001b[0m in \u001b[0;36mfind_all\u001b[0;34m(self, name, attrs, recursive, text, limit, **kwargs)\u001b[0m\n\u001b[1;32m   1311\u001b[0m         \u001b[0;32mif\u001b[0m \u001b[0;32mnot\u001b[0m \u001b[0mrecursive\u001b[0m\u001b[0;34m:\u001b[0m\u001b[0;34m\u001b[0m\u001b[0m\n\u001b[1;32m   1312\u001b[0m             \u001b[0mgenerator\u001b[0m \u001b[0;34m=\u001b[0m \u001b[0mself\u001b[0m\u001b[0;34m.\u001b[0m\u001b[0mchildren\u001b[0m\u001b[0;34m\u001b[0m\u001b[0m\n\u001b[0;32m-> 1313\u001b[0;31m         \u001b[0;32mreturn\u001b[0m \u001b[0mself\u001b[0m\u001b[0;34m.\u001b[0m\u001b[0m_find_all\u001b[0m\u001b[0;34m(\u001b[0m\u001b[0mname\u001b[0m\u001b[0;34m,\u001b[0m \u001b[0mattrs\u001b[0m\u001b[0;34m,\u001b[0m \u001b[0mtext\u001b[0m\u001b[0;34m,\u001b[0m \u001b[0mlimit\u001b[0m\u001b[0;34m,\u001b[0m \u001b[0mgenerator\u001b[0m\u001b[0;34m,\u001b[0m \u001b[0;34m**\u001b[0m\u001b[0mkwargs\u001b[0m\u001b[0;34m)\u001b[0m\u001b[0;34m\u001b[0m\u001b[0m\n\u001b[0m\u001b[1;32m   1314\u001b[0m     \u001b[0mfindAll\u001b[0m \u001b[0;34m=\u001b[0m \u001b[0mfind_all\u001b[0m       \u001b[0;31m# BS3\u001b[0m\u001b[0;34m\u001b[0m\u001b[0m\n\u001b[1;32m   1315\u001b[0m     \u001b[0mfindChildren\u001b[0m \u001b[0;34m=\u001b[0m \u001b[0mfind_all\u001b[0m  \u001b[0;31m# BS2\u001b[0m\u001b[0;34m\u001b[0m\u001b[0m\n",
      "\u001b[0;32m~/anaconda3/lib/python3.6/site-packages/bs4/element.py\u001b[0m in \u001b[0;36m_find_all\u001b[0;34m(self, name, attrs, text, limit, generator, **kwargs)\u001b[0m\n\u001b[1;32m    547\u001b[0m                 )\n\u001b[1;32m    548\u001b[0m                 \u001b[0;32mreturn\u001b[0m \u001b[0mResultSet\u001b[0m\u001b[0;34m(\u001b[0m\u001b[0mstrainer\u001b[0m\u001b[0;34m,\u001b[0m \u001b[0mresult\u001b[0m\u001b[0;34m)\u001b[0m\u001b[0;34m\u001b[0m\u001b[0m\n\u001b[0;32m--> 549\u001b[0;31m         \u001b[0mresults\u001b[0m \u001b[0;34m=\u001b[0m \u001b[0mResultSet\u001b[0m\u001b[0;34m(\u001b[0m\u001b[0mstrainer\u001b[0m\u001b[0;34m)\u001b[0m\u001b[0;34m\u001b[0m\u001b[0m\n\u001b[0m\u001b[1;32m    550\u001b[0m         \u001b[0;32mwhile\u001b[0m \u001b[0;32mTrue\u001b[0m\u001b[0;34m:\u001b[0m\u001b[0;34m\u001b[0m\u001b[0m\n\u001b[1;32m    551\u001b[0m             \u001b[0;32mtry\u001b[0m\u001b[0;34m:\u001b[0m\u001b[0;34m\u001b[0m\u001b[0m\n",
      "\u001b[0;32m~/anaconda3/lib/python3.6/site-packages/bs4/element.py\u001b[0m in \u001b[0;36m__init__\u001b[0;34m(self, source, result)\u001b[0m\n\u001b[1;32m   1800\u001b[0m     that created it.\"\"\"\n\u001b[1;32m   1801\u001b[0m     \u001b[0;32mdef\u001b[0m \u001b[0m__init__\u001b[0m\u001b[0;34m(\u001b[0m\u001b[0mself\u001b[0m\u001b[0;34m,\u001b[0m \u001b[0msource\u001b[0m\u001b[0;34m,\u001b[0m \u001b[0mresult\u001b[0m\u001b[0;34m=\u001b[0m\u001b[0;34m(\u001b[0m\u001b[0;34m)\u001b[0m\u001b[0;34m)\u001b[0m\u001b[0;34m:\u001b[0m\u001b[0;34m\u001b[0m\u001b[0m\n\u001b[0;32m-> 1802\u001b[0;31m         \u001b[0msuper\u001b[0m\u001b[0;34m(\u001b[0m\u001b[0mResultSet\u001b[0m\u001b[0;34m,\u001b[0m \u001b[0mself\u001b[0m\u001b[0;34m)\u001b[0m\u001b[0;34m.\u001b[0m\u001b[0m__init__\u001b[0m\u001b[0;34m(\u001b[0m\u001b[0mresult\u001b[0m\u001b[0;34m)\u001b[0m\u001b[0;34m\u001b[0m\u001b[0m\n\u001b[0m\u001b[1;32m   1803\u001b[0m         \u001b[0mself\u001b[0m\u001b[0;34m.\u001b[0m\u001b[0msource\u001b[0m \u001b[0;34m=\u001b[0m \u001b[0msource\u001b[0m\u001b[0;34m\u001b[0m\u001b[0m\n\u001b[1;32m   1804\u001b[0m \u001b[0;34m\u001b[0m\u001b[0m\n",
      "\u001b[0;31mKeyboardInterrupt\u001b[0m: "
     ]
    }
   ],
   "source": [
    "\"\"\"\n",
    "\"\"\"\n",
    "def review_to_wordlist( review, remove_stopwords=False):\n",
    "    review_text = BeautifulSoup(review).get_text()\n",
    "    review_text = re.sub(\"[^a-zA-Z]\",\" \", review_text)\n",
    "    words = review_text.lower().split()\n",
    "    if remove_stopwords:\n",
    "        stops = set(stopwords.words(\"english\"))\n",
    "        words = [w for w in words if not w in stops]\n",
    "    return(words)\n",
    "def review_to_sentences(review, tokenizer=nltk.data.load('tokenizers/punkt/english.pickle'), remove_stopwords=False):\n",
    "    # sentence tokenizer가 밑에서 선언되는데, 그냥 여기서 디폴트로 만들어주는 게 더 좋을 수 있다. \n",
    "    # 흠...이 tokenizer는 점도 없는데 어떻게 이렇게 잘 잘라주는거지. \n",
    "    raw_sentences = tokenizer.tokenize(review.strip())\n",
    "    sentences = []\n",
    "    for raw_sentence in raw_sentences:\n",
    "        # If a sentence is empty, skip it\n",
    "        if len(raw_sentence) > 0:\n",
    "            # Otherwise, call review_to_wordlist to get a list of words\n",
    "            sentences.append( review_to_wordlist(raw_sentence) )\n",
    "    return sentences\n",
    "\n"
   ]
  },
  {
   "cell_type": "code",
   "execution_count": null,
   "metadata": {
    "collapsed": true
   },
   "outputs": [],
   "source": []
  },
  {
   "cell_type": "code",
   "execution_count": null,
   "metadata": {
    "collapsed": true
   },
   "outputs": [],
   "source": [
    "\"\"\"\n",
    "- word-embedding을 하려면 일단 존재하는 모든 Review를 활용해서\n",
    "\"\"\"\n",
    "for df in [train_df, test_df, unlabeled_train_df]:\n",
    "    df['cleaned_review'] = df['review'].apply(review_to_wordlist)\n",
    "print(\"----cleaning sentence over----\")\n",
    "for df in [train_df, test_df, unlabeled_train_df]:\n",
    "    df['sentences'] = df['review'].apply(review_to_sentences)\n",
    "print(\"----make sentence over----\")\n",
    "\n",
    "sentences = []\n",
    "for df in [train_df, test_df, unlabeled_train_df]:\n",
    "    sentences+=list(itertools.chain.from_iterable(df['cleaned_review']))\n",
    "len(sentences)"
   ]
  },
  {
   "cell_type": "code",
   "execution_count": 6,
   "metadata": {},
   "outputs": [
    {
     "data": {
      "text/plain": [
       "0        [watching, time, chasers, it, obvious, that, i...\n",
       "1        [i, saw, this, film, about, years, ago, and, r...\n",
       "2        [minor, spoilersin, new, york, joan, barnard, ...\n",
       "3        [i, went, to, see, this, film, with, a, great,...\n",
       "4        [yes, i, agree, with, everyone, on, this, site...\n",
       "5        [jennifer, ehle, was, sparkling, in, pride, an...\n",
       "6        [amy, poehler, is, a, terrific, comedian, on, ...\n",
       "7        [a, plane, carrying, employees, of, a, large, ...\n",
       "8        [a, well, made, gritty, science, fiction, movi...\n",
       "9        [incredibly, dumb, and, utterly, predictable, ...\n",
       "10       [after, reading, the, comments, for, this, mov...\n",
       "11       [it, s, hard, to, describe, elfen, lied, to, s...\n",
       "12       [of, all, the, bile, inducing, vomitoriums, to...\n",
       "13       [this, is, quite, an, underrated, hitchcock, m...\n",
       "14       [being, a, huge, gary, oldman, fan, i, had, hi...\n",
       "15       [for, the, most, part, the, acting, was, poorl...\n",
       "16       [ram, gopal, varma, does, it, again, yet, anot...\n",
       "17       [i, gave, it, for, some, attempt, at, historic...\n",
       "18       [i, wanted, to, watch, this, one, sense, i, am...\n",
       "19       [che, is, a, good, film, for, chronicling, the...\n",
       "20       [this, film, is, very, disturbing, it, reminde...\n",
       "21       [let, me, put, it, this, way, i, love, bad, mo...\n",
       "22       [from, the, combined, ministries, of, jack, an...\n",
       "23       [ghost, world, is, one, of, the, better, teen,...\n",
       "24       [outstanding, film, dealing, with, a, year, ol...\n",
       "25       [this, movie, did, play, like, a, dream, or, m...\n",
       "26       [this, film, is, supposedly, based, on, the, t...\n",
       "27       [i, know, that, cartoons, aimed, towards, adul...\n",
       "28       [but, what, a, disappointment, the, acting, wa...\n",
       "29       [as, a, long, time, holmes, fan, and, particul...\n",
       "                               ...                        \n",
       "49970    [wouldn, t, suit, all, tastes, but, if, you, l...\n",
       "49971    [as, a, great, fan, of, dwight, yoakam, s, mus...\n",
       "49972    [i, m, a, huge, fan, of, whoopi, and, have, se...\n",
       "49973    [it, not, very, often, that, i, go, to, the, s...\n",
       "49974    [i, like, most, worried, that, it, would, degr...\n",
       "49975    [this, movie, makes, no, bones, about, what, i...\n",
       "49976    [the, eyebrow, wagging, lionel, q, deveraux, g...\n",
       "49977    [there, maybe, spoilers, in, the, following, i...\n",
       "49978    [this, is, one, of, my, favorite, films, terri...\n",
       "49979    [a, novelist, who, could, find, a, funny, side...\n",
       "49980    [this, is, the, worst, drivel, i, ve, ever, se...\n",
       "49981    [jaguar, lives, is, very, slow, and, plodding,...\n",
       "49982    [this, should, have, been, better, much, bette...\n",
       "49983    [look, at, the, number, of, film, festival, aw...\n",
       "49984    [this, movie, is, one, of, the, best, of, all,...\n",
       "49985    [the, earliest, episodes, with, john, amos, as...\n",
       "49986    [i, ve, been, looking, for, this, movie, since...\n",
       "49987    [ok, this, isn, t, a, good, film, by, any, str...\n",
       "49988    [it, is, arguably, the, most, boring, film, i,...\n",
       "49989    [oh, joy, another, foreign, torture, bloody, m...\n",
       "49990    [in, a, year, that, gave, us, forrest, gump, p...\n",
       "49991    [http, eattheblinds, blogspot, com, if, you, e...\n",
       "49992    [taste, the, blood, of, dracula, marks, a, fir...\n",
       "49993    [there, were, some, aspects, of, this, movie, ...\n",
       "49994    [look, i, don, t, know, what, people, have, ag...\n",
       "49995    [the, original, man, eater, by, joe, d, amato,...\n",
       "49996    [when, home, box, office, was, in, it, s, earl...\n",
       "49997    [griffin, dunne, was, born, into, a, cultural,...\n",
       "49998    [not, a, bad, story, but, the, low, budget, re...\n",
       "49999    [this, not, very, good, mummy, alien, flick, d...\n",
       "Name: cleaned_review, Length: 50000, dtype: object"
      ]
     },
     "execution_count": 6,
     "metadata": {},
     "output_type": "execute_result"
    }
   ],
   "source": [
    "from gensim.models import word2vec\n",
    "print(\"----word embedding model Training----\")\n",
    "sentences = list(train_df['cleaned_review']\n",
    "model = word2vec.Word2Vec(sentences, \n",
    "                          workers = 4,# Number of threads to run in parallel\n",
    "                          size = 500, # Word vector dimensionality                      \n",
    "                          min_count = 40, # Minimum word count\n",
    "                          window = 10, # Context window size\n",
    "                          sample = 1e-3, # Downsample setting for frequent words\n",
    "                         )\n",
    "# If you don't plan to train the model any further, calling \n",
    "# init_sims will make the model much more memory-efficient.\n",
    "model.init_sims(replace=True)\n",
    "# It can be helpful to create a meaningful model name and \n",
    "# save the model for later use. You can load it later using Word2Vec.load()\n",
    "model_name = \"500features_40minwords_10context\"\n",
    "# 저장해뒀기 때문에, model = Word2Vec.load(\"500features_40minwords_10context\") 의 형식으로 로드해서 사용할 수 있다. \n",
    "model.save(model_name)\n",
    "print(\"----word embedding model complete----\")"
   ]
  },
  {
   "cell_type": "code",
   "execution_count": 7,
   "metadata": {},
   "outputs": [
    {
     "data": {
      "text/plain": [
       "(25000,)"
      ]
     },
     "execution_count": 7,
     "metadata": {},
     "output_type": "execute_result"
    }
   ],
   "source": [
    "train_df['cleaned_review'].shape"
   ]
  },
  {
   "cell_type": "code",
   "execution_count": 10,
   "metadata": {},
   "outputs": [
    {
     "data": {
      "text/plain": [
       "array([ list(['with', 'all', 'this', 'stuff', 'going', 'down', 'at', 'the', 'moment', 'with', 'mj', 'i', 've', 'started', 'listening', 'to', 'his', 'music', 'watching', 'the', 'odd', 'documentary', 'here', 'and', 'there', 'watched', 'the', 'wiz', 'and', 'watched', 'moonwalker', 'again', 'maybe', 'i', 'just', 'want', 'to', 'get', 'a', 'certain', 'insight', 'into', 'this', 'guy', 'who', 'i', 'thought', 'was', 'really', 'cool', 'in', 'the', 'eighties', 'just', 'to', 'maybe', 'make', 'up', 'my', 'mind', 'whether', 'he', 'is', 'guilty', 'or', 'innocent', 'moonwalker', 'is', 'part', 'biography', 'part', 'feature', 'film', 'which', 'i', 'remember', 'going', 'to', 'see', 'at', 'the', 'cinema', 'when', 'it', 'was', 'originally', 'released', 'some', 'of', 'it', 'has', 'subtle', 'messages', 'about', 'mj', 's', 'feeling', 'towards', 'the', 'press', 'and', 'also', 'the', 'obvious', 'message', 'of', 'drugs', 'are', 'bad', 'm', 'kay', 'visually', 'impressive', 'but', 'of', 'course', 'this', 'is', 'all', 'about', 'michael', 'jackson', 'so', 'unless', 'you', 'remotely', 'like', 'mj', 'in', 'anyway', 'then', 'you', 'are', 'going', 'to', 'hate', 'this', 'and', 'find', 'it', 'boring', 'some', 'may', 'call', 'mj', 'an', 'egotist', 'for', 'consenting', 'to', 'the', 'making', 'of', 'this', 'movie', 'but', 'mj', 'and', 'most', 'of', 'his', 'fans', 'would', 'say', 'that', 'he', 'made', 'it', 'for', 'the', 'fans', 'which', 'if', 'true', 'is', 'really', 'nice', 'of', 'him', 'the', 'actual', 'feature', 'film', 'bit', 'when', 'it', 'finally', 'starts', 'is', 'only', 'on', 'for', 'minutes', 'or', 'so', 'excluding', 'the', 'smooth', 'criminal', 'sequence', 'and', 'joe', 'pesci', 'is', 'convincing', 'as', 'a', 'psychopathic', 'all', 'powerful', 'drug', 'lord', 'why', 'he', 'wants', 'mj', 'dead', 'so', 'bad', 'is', 'beyond', 'me', 'because', 'mj', 'overheard', 'his', 'plans', 'nah', 'joe', 'pesci', 's', 'character', 'ranted', 'that', 'he', 'wanted', 'people', 'to', 'know', 'it', 'is', 'he', 'who', 'is', 'supplying', 'drugs', 'etc', 'so', 'i', 'dunno', 'maybe', 'he', 'just', 'hates', 'mj', 's', 'music', 'lots', 'of', 'cool', 'things', 'in', 'this', 'like', 'mj', 'turning', 'into', 'a', 'car', 'and', 'a', 'robot', 'and', 'the', 'whole', 'speed', 'demon', 'sequence', 'also', 'the', 'director', 'must', 'have', 'had', 'the', 'patience', 'of', 'a', 'saint', 'when', 'it', 'came', 'to', 'filming', 'the', 'kiddy', 'bad', 'sequence', 'as', 'usually', 'directors', 'hate', 'working', 'with', 'one', 'kid', 'let', 'alone', 'a', 'whole', 'bunch', 'of', 'them', 'performing', 'a', 'complex', 'dance', 'scene', 'bottom', 'line', 'this', 'movie', 'is', 'for', 'people', 'who', 'like', 'mj', 'on', 'one', 'level', 'or', 'another', 'which', 'i', 'think', 'is', 'most', 'people', 'if', 'not', 'then', 'stay', 'away', 'it', 'does', 'try', 'and', 'give', 'off', 'a', 'wholesome', 'message', 'and', 'ironically', 'mj', 's', 'bestest', 'buddy', 'in', 'this', 'movie', 'is', 'a', 'girl', 'michael', 'jackson', 'is', 'truly', 'one', 'of', 'the', 'most', 'talented', 'people', 'ever', 'to', 'grace', 'this', 'planet', 'but', 'is', 'he', 'guilty', 'well', 'with', 'all', 'the', 'attention', 'i', 've', 'gave', 'this', 'subject', 'hmmm', 'well', 'i', 'don', 't', 'know', 'because', 'people', 'can', 'be', 'different', 'behind', 'closed', 'doors', 'i', 'know', 'this', 'for', 'a', 'fact', 'he', 'is', 'either', 'an', 'extremely', 'nice', 'but', 'stupid', 'guy', 'or', 'one', 'of', 'the', 'most', 'sickest', 'liars', 'i', 'hope', 'he', 'is', 'not', 'the', 'latter']),\n",
       "       list(['the', 'classic', 'war', 'of', 'the', 'worlds', 'by', 'timothy', 'hines', 'is', 'a', 'very', 'entertaining', 'film', 'that', 'obviously', 'goes', 'to', 'great', 'effort', 'and', 'lengths', 'to', 'faithfully', 'recreate', 'h', 'g', 'wells', 'classic', 'book', 'mr', 'hines', 'succeeds', 'in', 'doing', 'so', 'i', 'and', 'those', 'who', 'watched', 'his', 'film', 'with', 'me', 'appreciated', 'the', 'fact', 'that', 'it', 'was', 'not', 'the', 'standard', 'predictable', 'hollywood', 'fare', 'that', 'comes', 'out', 'every', 'year', 'e', 'g', 'the', 'spielberg', 'version', 'with', 'tom', 'cruise', 'that', 'had', 'only', 'the', 'slightest', 'resemblance', 'to', 'the', 'book', 'obviously', 'everyone', 'looks', 'for', 'different', 'things', 'in', 'a', 'movie', 'those', 'who', 'envision', 'themselves', 'as', 'amateur', 'critics', 'look', 'only', 'to', 'criticize', 'everything', 'they', 'can', 'others', 'rate', 'a', 'movie', 'on', 'more', 'important', 'bases', 'like', 'being', 'entertained', 'which', 'is', 'why', 'most', 'people', 'never', 'agree', 'with', 'the', 'critics', 'we', 'enjoyed', 'the', 'effort', 'mr', 'hines', 'put', 'into', 'being', 'faithful', 'to', 'h', 'g', 'wells', 'classic', 'novel', 'and', 'we', 'found', 'it', 'to', 'be', 'very', 'entertaining', 'this', 'made', 'it', 'easy', 'to', 'overlook', 'what', 'the', 'critics', 'perceive', 'to', 'be', 'its', 'shortcomings']),\n",
       "       list(['the', 'film', 'starts', 'with', 'a', 'manager', 'nicholas', 'bell', 'giving', 'welcome', 'investors', 'robert', 'carradine', 'to', 'primal', 'park', 'a', 'secret', 'project', 'mutating', 'a', 'primal', 'animal', 'using', 'fossilized', 'dna', 'like', 'jurassik', 'park', 'and', 'some', 'scientists', 'resurrect', 'one', 'of', 'nature', 's', 'most', 'fearsome', 'predators', 'the', 'sabretooth', 'tiger', 'or', 'smilodon', 'scientific', 'ambition', 'turns', 'deadly', 'however', 'and', 'when', 'the', 'high', 'voltage', 'fence', 'is', 'opened', 'the', 'creature', 'escape', 'and', 'begins', 'savagely', 'stalking', 'its', 'prey', 'the', 'human', 'visitors', 'tourists', 'and', 'scientific', 'meanwhile', 'some', 'youngsters', 'enter', 'in', 'the', 'restricted', 'area', 'of', 'the', 'security', 'center', 'and', 'are', 'attacked', 'by', 'a', 'pack', 'of', 'large', 'pre', 'historical', 'animals', 'which', 'are', 'deadlier', 'and', 'bigger', 'in', 'addition', 'a', 'security', 'agent', 'stacy', 'haiduk', 'and', 'her', 'mate', 'brian', 'wimmer', 'fight', 'hardly', 'against', 'the', 'carnivorous', 'smilodons', 'the', 'sabretooths', 'themselves', 'of', 'course', 'are', 'the', 'real', 'star', 'stars', 'and', 'they', 'are', 'astounding', 'terrifyingly', 'though', 'not', 'convincing', 'the', 'giant', 'animals', 'savagely', 'are', 'stalking', 'its', 'prey', 'and', 'the', 'group', 'run', 'afoul', 'and', 'fight', 'against', 'one', 'nature', 's', 'most', 'fearsome', 'predators', 'furthermore', 'a', 'third', 'sabretooth', 'more', 'dangerous', 'and', 'slow', 'stalks', 'its', 'victims', 'the', 'movie', 'delivers', 'the', 'goods', 'with', 'lots', 'of', 'blood', 'and', 'gore', 'as', 'beheading', 'hair', 'raising', 'chills', 'full', 'of', 'scares', 'when', 'the', 'sabretooths', 'appear', 'with', 'mediocre', 'special', 'effects', 'the', 'story', 'provides', 'exciting', 'and', 'stirring', 'entertainment', 'but', 'it', 'results', 'to', 'be', 'quite', 'boring', 'the', 'giant', 'animals', 'are', 'majority', 'made', 'by', 'computer', 'generator', 'and', 'seem', 'totally', 'lousy', 'middling', 'performances', 'though', 'the', 'players', 'reacting', 'appropriately', 'to', 'becoming', 'food', 'actors', 'give', 'vigorously', 'physical', 'performances', 'dodging', 'the', 'beasts', 'running', 'bound', 'and', 'leaps', 'or', 'dangling', 'over', 'walls', 'and', 'it', 'packs', 'a', 'ridiculous', 'final', 'deadly', 'scene', 'no', 'for', 'small', 'kids', 'by', 'realistic', 'gory', 'and', 'violent', 'attack', 'scenes', 'other', 'films', 'about', 'sabretooths', 'or', 'smilodon', 'are', 'the', 'following', 'sabretooth', 'by', 'james', 'r', 'hickox', 'with', 'vanessa', 'angel', 'david', 'keith', 'and', 'john', 'rhys', 'davies', 'and', 'the', 'much', 'better', 'bc', 'by', 'roland', 'emmerich', 'with', 'with', 'steven', 'strait', 'cliff', 'curtis', 'and', 'camilla', 'belle', 'this', 'motion', 'picture', 'filled', 'with', 'bloody', 'moments', 'is', 'badly', 'directed', 'by', 'george', 'miller', 'and', 'with', 'no', 'originality', 'because', 'takes', 'too', 'many', 'elements', 'from', 'previous', 'films', 'miller', 'is', 'an', 'australian', 'director', 'usually', 'working', 'for', 'television', 'tidal', 'wave', 'journey', 'to', 'the', 'center', 'of', 'the', 'earth', 'and', 'many', 'others', 'and', 'occasionally', 'for', 'cinema', 'the', 'man', 'from', 'snowy', 'river', 'zeus', 'and', 'roxanne', 'robinson', 'crusoe', 'rating', 'below', 'average', 'bottom', 'of', 'barrel']),\n",
       "       ...,\n",
       "       list(['guy', 'is', 'a', 'loser', 'can', 't', 'get', 'girls', 'needs', 'to', 'build', 'up', 'is', 'picked', 'on', 'by', 'stronger', 'more', 'successful', 'guys', 'etc', 'seen', 'it', 'saw', 'it', 'moved', 'on', 'i', 'd', 'have', 'to', 'say', 'that', 'rob', 'needs', 'to', 'move', 'past', 'the', 'adam', 'sandler', 'part', 'of', 'his', 'life', 'and', 'get', 'out', 'of', 'the', 'adam', 'sandler', 'plots', 'there', 'are', 'two', 'funny', 'parts', 'in', 'the', 'whole', 'movie', 'i', 'couldn', 't', 'even', 'finish', 'the', 'last', 'minutes', 'i', 'was', 'getting', 'bored', 'the', 'animal', 'is', 'an', 'alright', 'film', 'i', 'do', 'usually', 'enjoy', 'adam', 'sandler', 'films', 'that', 'have', 'the', 'same', 'plot', 'but', 'this', 'was', 'trying', 'too', 'hard', 'to', 'impress', 'the', 'jokes', 'are', 'very', 'old', 'so', 'trust', 'me', 'this', 'is', 'not', 'a', 'film', 'that', 'most', 'people', 'could', 'really', 'get', 'into', 'but', 'some', 'did', 'so', 'i', 'll', 'be', 'nice']),\n",
       "       list(['this', 'minute', 'documentary', 'bu', 'uel', 'made', 'in', 'the', 'early', 's', 'about', 'one', 'of', 'spain', 's', 'poorest', 'regions', 'is', 'in', 'my', 'opinion', 'one', 'of', 'his', 'weakest', 'films', 'first', 'let', 's', 'admit', 'that', 'years', 'later', 'spain', 'is', 'much', 'richer', 'than', 'it', 'was', 'then', 'and', 'when', 'i', 'say', 'this', 'i', 'fully', 'admit', 'that', 'wealth', 'can', 'bring', 'problems', 'of', 'its', 'own', 'like', 'excessive', 'individualism', 'and', 'consumerism', 'though', 'all', 'in', 'all', 'wealth', 'it', 's', 'a', 'far', 'better', 'condition', 'than', 'the', 'extreme', 'poverty', 'portrayed', 'here', 'and', 'if', 'poverty', 'receded', 'in', 'spain', 'it', 'was', 'not', 'exactly', 'with', 'the', 'sort', 'of', 'socialism', 'that', 'bu', 'uel', 'favored', 'but', 'with', 'western', 'european', 'style', 'capitalism', 'but', 'one', 'of', 'the', 'most', 'shocking', 'things', 'about', 'the', 'movie', 'is', 'this', 'in', 'one', 'scene', 'the', 'narrator', 'chides', 'that', 'in', 'school', 'children', 'are', 'taught', 'the', 'value', 'of', 'pi', 'teaching', 'math', 'to', 'poor', 'people', 'the', 'horror', 'bu', 'uel', 'shortsightedness', 'is', 'at', 'its', 'most', 'glaring', 'here', 'not', 'realizing', 'that', 'it', 'is', 'access', 'to', 'the', 'latest', 'knowledge', 'and', 'technology', 'what', 'will', 'help', 'the', 'poor', 'overcome', 'their', 'situation', 'what', 'is', 'he', 'proposing', 'that', 'children', 'are', 'taught', 'exactly', 'what', 'at', 'school', 'doesn', 't', 'bu', 'uel', 'understand', 'that', 'it', 'is', 'the', 'lack', 'of', 'modern', 'technology', 'that', 'has', 'made', 'them', 'poor', 'in', 'comparison', 'with', 'other', 'people']),\n",
       "       list(['i', 'saw', 'this', 'movie', 'as', 'a', 'child', 'and', 'it', 'broke', 'my', 'heart', 'no', 'other', 'story', 'had', 'such', 'a', 'unfinished', 'ending', 'i', 'grew', 'up', 'on', 'many', 'great', 'anime', 'movies', 'and', 'this', 'was', 'one', 'of', 'my', 'favourites', 'because', 'it', 'was', 'so', 'unusual', 'a', 'story', 'about', 'unfairness', 'and', 'cruelty', 'and', 'loneliness', 'and', 'life', 'and', 'choices', 'that', 'can', 't', 'be', 'undone', 'and', 'the', 'need', 'for', 'others', 'chirin', 'is', 'made', 'alone', 'when', 'the', 'wolf', 'kills', 'his', 'mother', 'but', 'the', 'wolf', 'is', 'alone', 'too', 'when', 'chirin', 'follows', 'him', 'into', 'the', 'mountain', 'the', 'wolf', 'doesn', 't', 'kill', 'the', 'lamb', 'even', 'though', 'each', 'night', 'he', 'says', 'maybe', 'i', 'll', 'eat', 'you', 'tomorrow', 'the', 'tape', 'of', 'it', 'i', 'have', 'is', 'broken', 'and', 'degraded', 'from', 'age', 'and', 'use', 'i', 'will', 'repair', 'it', 'and', 'watch', 'the', 'movie', 'again', 'someday', 'and', 'cry', 'just', 'as', 'hard', 'as', 'i', 'did', 'as', 'a', 'child', 'stories', 'like', 'this', 'with', 'this', 'depth', 'and', 'feeling', 'and', 'this', 'intricacy', 'of', 'meaning', 'are', 'very', 'rare', 'it', 'is', 'a', 'sad', 'story', 'but', 'i', 've', 'never', 'encountered', 'any', 'catharsis', 'more', 'beautifully', 'made', 'i', 'am', 'glad', 'i', 'have', 'seen', 'this', 'movie', 'and', 'i', 'm', 'glad', 'i', 'saw', 'it', 'as', 'a', 'child'])], dtype=object)"
      ]
     },
     "execution_count": 10,
     "metadata": {},
     "output_type": "execute_result"
    }
   ],
   "source": [
    "train_df['cleaned_review'].values"
   ]
  },
  {
   "cell_type": "code",
   "execution_count": null,
   "metadata": {
    "collapsed": true
   },
   "outputs": [],
   "source": []
  }
 ],
 "metadata": {
  "kernelspec": {
   "display_name": "Python 3",
   "language": "python",
   "name": "python3"
  },
  "language_info": {
   "codemirror_mode": {
    "name": "ipython",
    "version": 3
   },
   "file_extension": ".py",
   "mimetype": "text/x-python",
   "name": "python",
   "nbconvert_exporter": "python",
   "pygments_lexer": "ipython3",
   "version": "3.6.2"
  }
 },
 "nbformat": 4,
 "nbformat_minor": 2
}
