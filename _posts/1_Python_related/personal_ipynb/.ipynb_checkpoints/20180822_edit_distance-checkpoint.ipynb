{
 "cells": [
  {
   "cell_type": "code",
   "execution_count": 12,
   "metadata": {},
   "outputs": [
    {
     "name": "stdout",
     "output_type": "stream",
     "text": [
      "edit distance of <abc>: 0\n",
      "edit distance of <abcd>: 1\n",
      "edit distance of <a bcd>: 2\n",
      "edit distance of <lsh>: 3\n",
      "edit distance of <lsha>: 4\n"
     ]
    }
   ],
   "source": [
    "from nltk import edit_distance\n",
    "\n",
    "## 대소문자 다르게 인식, \n",
    "## insertion, deletion, substitution 각 하나에 1씩 추가 됨(물론 minimum distance)\n",
    "example_word = 'abc'\n",
    "target_words = ['abc', 'abcd', 'a bcd', 'lsh', 'lsha']\n",
    "for w in target_words:\n",
    "    print(\"edit distance of <{}>: {}\".format(w, edit_distance(\"abc\", w)))"
   ]
  },
  {
   "cell_type": "code",
   "execution_count": null,
   "metadata": {},
   "outputs": [],
   "source": [
    "## 그렇다면 graph에 대한 edit-distance는 어떻게 계산하나??\n",
    "## or tree edit distance ??\n"
   ]
  }
 ],
 "metadata": {
  "kernelspec": {
   "display_name": "Python 3",
   "language": "python",
   "name": "python3"
  },
  "language_info": {
   "codemirror_mode": {
    "name": "ipython",
    "version": 3
   },
   "file_extension": ".py",
   "mimetype": "text/x-python",
   "name": "python",
   "nbconvert_exporter": "python",
   "pygments_lexer": "ipython3",
   "version": "3.6.5"
  }
 },
 "nbformat": 4,
 "nbformat_minor": 2
}
