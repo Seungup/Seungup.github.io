{
 "cells": [
  {
   "cell_type": "code",
   "execution_count": 3,
   "metadata": {},
   "outputs": [],
   "source": [
    "import Crypto\n",
    "from Crypto.PublicKey import RSA\n",
    "from Crypto import Random\n",
    "import ast"
   ]
  },
  {
   "cell_type": "code",
   "execution_count": 5,
   "metadata": {},
   "outputs": [],
   "source": [
    "import numpy as np \n"
   ]
  },
  {
   "cell_type": "code",
   "execution_count": 21,
   "metadata": {},
   "outputs": [
    {
     "data": {
      "text/plain": [
       "<_RSAobj @0x103810240 n(1024),e>"
      ]
     },
     "execution_count": 21,
     "metadata": {},
     "output_type": "execute_result"
    }
   ],
   "source": [
    "## 일단 random_generator를 만들어서 넘겨주어야 합니다. \n",
    "random_generator = Crypto.Random.new().read\n",
    "\n",
    "## key를 만들어줍니다. \n",
    "key = Crypto.PublicKey.RSA.generate(1024, random_generator)\n",
    "\n",
    "publickey = key.publickey()#.exportKey(\"PEM\") \n",
    "publickey"
   ]
  },
  {
   "cell_type": "code",
   "execution_count": 20,
   "metadata": {},
   "outputs": [
    {
     "ename": "AttributeError",
     "evalue": "'bytes' object has no attribute 'encrypt'",
     "output_type": "error",
     "traceback": [
      "\u001b[0;31m---------------------------------------------------------------------------\u001b[0m",
      "\u001b[0;31mAttributeError\u001b[0m                            Traceback (most recent call last)",
      "\u001b[0;32m<ipython-input-20-8a242a8121d6>\u001b[0m in \u001b[0;36m<module>\u001b[0;34m()\u001b[0m\n\u001b[1;32m      1\u001b[0m \u001b[0;31m## string이라서 안됨.\u001b[0m\u001b[0;34m\u001b[0m\u001b[0;34m\u001b[0m\u001b[0m\n\u001b[0;32m----> 2\u001b[0;31m \u001b[0mpublickey\u001b[0m\u001b[0;34m.\u001b[0m\u001b[0mencrypt\u001b[0m\u001b[0;34m(\u001b[0m\u001b[0;34m\"I am a boy\"\u001b[0m\u001b[0;34m,\u001b[0m \u001b[0;36m32\u001b[0m\u001b[0;34m)\u001b[0m\u001b[0;34m\u001b[0m\u001b[0m\n\u001b[0m",
      "\u001b[0;31mAttributeError\u001b[0m: 'bytes' object has no attribute 'encrypt'"
     ]
    }
   ],
   "source": [
    "## string이라서 안됨. \n",
    "publickey.encrypt(\"I am a boy\", 32)"
   ]
  },
  {
   "cell_type": "code",
   "execution_count": 60,
   "metadata": {},
   "outputs": [
    {
     "name": "stdout",
     "output_type": "stream",
     "text": [
      "b'\\x9b\\x8c\\x12\\x15&=}[\\x991V/\\xcfp\\x90\\xda'\n",
      "b'I am a boy      '\n"
     ]
    }
   ],
   "source": [
    "## 대칭 키 알고리즘 \n",
    "from Crypto.Cipher import AES\n",
    "\n",
    "key = Crypto.Random.new().read(16)\n",
    "iv = Crypto.Random.new().read(16)\n",
    "\n",
    "cipher_ = Crypto.Cipher.AES.new(key, Crypto.Cipher.AES.MODE_CBC, iv)\n",
    "## original message의 length가 16의 배수여야함 \n",
    "original_message = \"I am a boy\"\n",
    "## 들어오는 string의 길이가 16의 배수여야 함\n",
    "if len(original_message)%16!=0:\n",
    "    original_message+= \" \"*(16 - len(original_message)%16)\n",
    "ciphered_message = cipher_.encrypt(original_message)\n",
    "\n",
    "## 새롭게 세팅해줘야함 \n",
    "cipher_ = Crypto.Cipher.AES.new(key, Crypto.Cipher.AES.MODE_CBC, iv)\n",
    "deciphered_message = cipher_.decrypt(ciphered_message)\n",
    "print(ciphered_message)\n",
    "print(deciphered_message)\n",
    "#deciphered_message"
   ]
  },
  {
   "cell_type": "code",
   "execution_count": 55,
   "metadata": {},
   "outputs": [
    {
     "name": "stdout",
     "output_type": "stream",
     "text": [
      "b'\\xbb'\n",
      "b'7'\n",
      "b'\\xd2'\n",
      "b'\\x16'\n",
      "b'\\x8e'\n",
      "b'\\x8e'\n",
      "b'_'\n",
      "b'\\xf2'\n",
      "b'\\x82'\n",
      "b'k'\n"
     ]
    }
   ],
   "source": [
    "for i in range(0, 10):\n",
    "    a = Random.new().read(1)\n",
    "    print(a)"
   ]
  },
  {
   "cell_type": "code",
   "execution_count": null,
   "metadata": {},
   "outputs": [],
   "source": [
    "random_generator = Random.new().read\n",
    "key = RSA.generate(1024, random_generator) #generate pub and priv key\n",
    "\n",
    "publickey = key.publickey() # pub key export for exchange\n",
    "\n",
    "encrypted = publickey.encrypt('encrypt this message', 32)\n",
    "#message to encrypt is in the above line 'encrypt this message'\n",
    "\n",
    "print 'encrypted message:', encrypted #ciphertext\n",
    "f = open ('encryption.txt', 'w')\n",
    "f.write(str(encrypted)) #write ciphertext to file\n",
    "f.close()\n",
    "\n",
    "#decrypted code below\n",
    "\n",
    "f = open('encryption.txt', 'r')\n",
    "message = f.read()\n",
    "\n",
    "\n",
    "decrypted = key.decrypt(ast.literal_eval(str(encrypted)))\n",
    "\n",
    "print 'decrypted', decrypted\n",
    "\n",
    "f = open ('encryption.txt', 'w')\n",
    "f.write(str(message))\n",
    "f.write(str(decrypted))\n",
    "f.close()"
   ]
  }
 ],
 "metadata": {
  "kernelspec": {
   "display_name": "Python 3",
   "language": "python",
   "name": "python3"
  },
  "language_info": {
   "codemirror_mode": {
    "name": "ipython",
    "version": 3
   },
   "file_extension": ".py",
   "mimetype": "text/x-python",
   "name": "python",
   "nbconvert_exporter": "python",
   "pygments_lexer": "ipython3",
   "version": "3.6.5"
  }
 },
 "nbformat": 4,
 "nbformat_minor": 2
}
