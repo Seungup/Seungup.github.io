{
 "cells": [
  {
   "cell_type": "code",
   "execution_count": 25,
   "metadata": {},
   "outputs": [
    {
     "name": "stdout",
     "output_type": "stream",
     "text": [
      "b'\\x07&\\xf9\\xf8\\x8b\\xc3\\xdc\\x7f\\xcb\\xd9N\\xaeMa\\x94\\x16\\xa1\\x10\\xc2\\x98\\xb3U\\xb9\\xcc\\xaa\\xbc\\xb4\\x98Q\\x99W\\x99'\n",
      "====================\n",
      "0726f9f88bc3dc7fcbd94eae4d619416a110c298b355b9ccaabcb49851995799\n",
      "====================\n",
      "\n",
      "b'\\'\"1\\x1b\\t\\xff[.\\xe6H\\xe8\\xb5~3wQ\\x8cd/\\x88\\x91\\x94\"06=\\xa9\\xaa\\xdd:\\xec\\xcd'\n",
      "====================\n",
      "2722311b09ff5b2ee648e8b57e3377518c642f8891942230363da9aadd3aeccd\n",
      "====================\n"
     ]
    }
   ],
   "source": [
    "import hashlib\n",
    "\n",
    "msg = \"I am a boy\"\n",
    "bin_msg = msg.encode()\n",
    "\n",
    "print(hashlib.sha256(bin_msg).digest())\n",
    "print(\"=\"*20)\n",
    "\n",
    "print(hashlib.sha256(bin_msg).hexdigest())\n",
    "print(\"=\"*20)\n",
    "##########################\n",
    "print()\n",
    "msg = \"I am a boy \"\n",
    "bin_msg = msg.encode()\n",
    "\n",
    "print(hashlib.sha256(bin_msg).digest())\n",
    "print(\"=\"*20)\n",
    "\n",
    "print(hashlib.sha256(bin_msg).hexdigest())\n",
    "print(\"=\"*20)"
   ]
  },
  {
   "cell_type": "code",
   "execution_count": null,
   "metadata": {},
   "outputs": [],
   "source": []
  }
 ],
 "metadata": {
  "kernelspec": {
   "display_name": "Python 3",
   "language": "python",
   "name": "python3"
  },
  "language_info": {
   "codemirror_mode": {
    "name": "ipython",
    "version": 3
   },
   "file_extension": ".py",
   "mimetype": "text/x-python",
   "name": "python",
   "nbconvert_exporter": "python",
   "pygments_lexer": "ipython3",
   "version": "3.6.5"
  }
 },
 "nbformat": 4,
 "nbformat_minor": 2
}
